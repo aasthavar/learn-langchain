{
 "cells": [
  {
   "cell_type": "markdown",
   "metadata": {},
   "source": [
    "### 1. WebSearchRetriever"
   ]
  },
  {
   "cell_type": "markdown",
   "metadata": {},
   "source": [
    "Code: https://api.python.langchain.com/en/latest/_modules/langchain/retrievers/web_research.html#WebResearchRetriever\n",
    "\n",
    "[Requirements]\n",
    "- llm\n",
    "- search_api\n",
    "- vectorstore"
   ]
  },
  {
   "cell_type": "code",
   "execution_count": 59,
   "metadata": {},
   "outputs": [],
   "source": [
    "from langchain_community.vectorstores import Chroma\n",
    "from langchain_community.embeddings import CohereEmbeddings\n",
    "from langchain_community.chat_models import BedrockChat\n",
    "import boto3\n",
    "from langchain.retrievers.web_research import WebResearchRetriever\n",
    "from langchain.chains import RetrievalQAWithSourcesChain\n",
    "\n",
    "import os, json\n",
    "with open(\"/home/ubuntu/config.json\") as f:\n",
    "    config = json.loads(f.read())\n",
    "os.environ[\"COHERE_API_KEY\"] = config[\"cohere_api_key\"]\n",
    "\n",
    "import logging\n",
    "logging.basicConfig()\n",
    "logging.getLogger(\"langchain.retrievers.web_research\").setLevel(logging.INFO)\n"
   ]
  },
  {
   "cell_type": "code",
   "execution_count": 60,
   "metadata": {},
   "outputs": [
    {
     "name": "stdout",
     "output_type": "stream",
     "text": [
      "\u001b[33mWARNING: Ignoring invalid distribution -ackaging (/opt/conda/envs/pytorch/lib/python3.10/site-packages)\u001b[0m\u001b[33m\n",
      "\u001b[0m\u001b[33mWARNING: Ignoring invalid distribution -ackaging (/opt/conda/envs/pytorch/lib/python3.10/site-packages)\u001b[0m\u001b[33m\n",
      "\u001b[0m"
     ]
    }
   ],
   "source": [
    "# WebResearchRetriever's code makes it compulsory to use GoogleSearchAPIWrapper\n",
    "\n",
    "! pip install google-api-python-client>=2.100.0 --quiet\n",
    "\n",
    "from langchain_community.utilities import GoogleSearchAPIWrapper\n",
    "os.environ[\"GOOGLE_API_KEY\"] = config[\"google_api_key\"]\n",
    "os.environ[\"GOOGLE_CSE_ID\"] = config[\"google_cse_id\"]\n",
    "\n",
    "# from langchain_community.utilities import GoogleSerperAPIWrapper\n",
    "# os.environ[\"SERPER_API_KEY\"] = config[\"serper_api_key\"]"
   ]
  },
  {
   "cell_type": "code",
   "execution_count": 61,
   "metadata": {},
   "outputs": [
    {
     "name": "stdout",
     "output_type": "stream",
     "text": [
      "\u001b[33mWARNING: Ignoring invalid distribution -ackaging (/opt/conda/envs/pytorch/lib/python3.10/site-packages)\u001b[0m\u001b[33m\n",
      "\u001b[0m\u001b[33mWARNING: Ignoring invalid distribution -ackaging (/opt/conda/envs/pytorch/lib/python3.10/site-packages)\u001b[0m\u001b[33m\n",
      "\u001b[0m"
     ]
    }
   ],
   "source": [
    "# install for AsyncHtml, HTML to text\n",
    "! pip install html2text --quiet"
   ]
  },
  {
   "cell_type": "code",
   "execution_count": 62,
   "metadata": {},
   "outputs": [],
   "source": [
    "vectorstore = Chroma(embedding_function=CohereEmbeddings())\n",
    "\n",
    "llm = BedrockChat(\n",
    "    # model_id=\"anthropic.claude-3-haiku-20240307-v1:0\",\n",
    "    model_id=\"anthropic.claude-3-sonnet-20240229-v1:0\",\n",
    "    client=boto3.client(\"bedrock-runtime\"),\n",
    "    model_kwargs={\"temperature\": 0.0, \"max_tokens\":512}\n",
    ")\n",
    "\n",
    "search = GoogleSearchAPIWrapper()\n",
    "\n",
    "web_research_retriever = WebResearchRetriever.from_llm(\n",
    "    vectorstore=vectorstore, llm=llm, search=search\n",
    ")\n",
    "\n",
    "qa_chain = RetrievalQAWithSourcesChain.from_chain_type(\n",
    "    llm, retriever=web_research_retriever\n",
    ")"
   ]
  },
  {
   "cell_type": "code",
   "execution_count": 63,
   "metadata": {},
   "outputs": [
    {
     "name": "stderr",
     "output_type": "stream",
     "text": [
      "INFO:langchain.retrievers.web_research:Generating questions for Google Search ...\n",
      "INFO:langchain.retrievers.web_research:Questions for Google Search (raw): {'question': 'How do LLM Powered Autonomous Agents work ?', 'text': ['1. What is the mechanism behind Large Language Model-based Autonomous Agents?\\n', '2. How do AI systems powered by LLMs operate autonomously?\\n', '3. Can you explain the working principle of LLM-driven Autonomous Agents?']}\n",
      "INFO:langchain.retrievers.web_research:Questions for Google Search: ['1. What is the mechanism behind Large Language Model-based Autonomous Agents?\\n', '2. How do AI systems powered by LLMs operate autonomously?\\n', '3. Can you explain the working principle of LLM-driven Autonomous Agents?']\n",
      "INFO:langchain.retrievers.web_research:Searching for relevant urls...\n",
      "INFO:langchain.retrievers.web_research:Searching for relevant urls...\n",
      "INFO:langchain.retrievers.web_research:Search results: [{'title': 'A Survey on Large Language Model based Autonomous Agents ...', 'link': 'https://arxiv.org/pdf/2308.11432.pdf%EF%BC%89', 'snippet': 'Mar 12, 2024 ... For the agent construction, we focus on two problems, that is, (1) how to design the agent architecture to better leverage LLMs, and (2) how to\\xa0...'}]\n",
      "INFO:langchain.retrievers.web_research:Searching for relevant urls...\n",
      "INFO:langchain.retrievers.web_research:Search results: [{'title': \"LLM Powered Autonomous Agents | Lil'Log\", 'link': 'https://lilianweng.github.io/posts/2023-06-23-agent/', 'snippet': 'Jun 23, 2023 ... ... use few-shot examples to guide LLM to do task parsing and planning. Instruction: The AI assistant can ... (2) Model selection: LLM distributes the\\xa0...'}]\n",
      "INFO:langchain.retrievers.web_research:Searching for relevant urls...\n",
      "INFO:langchain.retrievers.web_research:Search results: [{'title': \"LLM Powered Autonomous Agents | Lil'Log\", 'link': 'https://lilianweng.github.io/posts/2023-06-23-agent/', 'snippet': 'Jun 23, 2023 ... An agent needs to know what they are and plan ahead. ... Memory can be defined as the processes used ... The results highlight when the external\\xa0...'}]\n",
      "INFO:langchain.retrievers.web_research:New URLs to load: ['https://arxiv.org/pdf/2308.11432.pdf%EF%BC%89', 'https://lilianweng.github.io/posts/2023-06-23-agent/']\n",
      "INFO:langchain.retrievers.web_research:Indexing new urls...\n",
      "Fetching pages:   0%|          | 0/2 [00:00<?, ?it/s]ERROR:langchain_community.document_loaders.async_html:Failed to decode content from https://arxiv.org/pdf/2308.11432.pdf%EF%BC%89\n",
      "Fetching pages: 100%|##########| 2/2 [00:00<00:00,  9.29it/s]\n",
      "INFO:langchain.retrievers.web_research:Grabbing most relevant splits from urls...\n"
     ]
    },
    {
     "name": "stdout",
     "output_type": "stream",
     "text": [
      "CPU times: user 1.51 s, sys: 526 ms, total: 2.04 s\n",
      "Wall time: 14.7 s\n"
     ]
    }
   ],
   "source": [
    "%%time\n",
    "\n",
    "question = \"How do LLM Powered Autonomous Agents work ?\"\n",
    "response = qa_chain.invoke({\"question\": question})"
   ]
  },
  {
   "cell_type": "code",
   "execution_count": 65,
   "metadata": {},
   "outputs": [
    {
     "name": "stdout",
     "output_type": "stream",
     "text": [
      "LLM Powered Autonomous Agents work by combining a large language model (LLM) with several key components:\n",
      "\n",
      "1. Planning:\n",
      "   - Task Decomposition: The agent breaks down complex tasks into smaller subgoals, enabling efficient handling of large tasks.\n",
      "   - Self-Reflection: The agent can self-critique and learn from past actions, refining its approach for future steps.\n",
      "\n",
      "2. Memory:\n",
      "   - Short-term Memory: Utilizing in-context learning to remember recent information.\n",
      "   - Long-term Memory: Leveraging external vector stores and fast retrieval to retain and recall large amounts of information over extended periods.\n",
      "\n",
      "3. Tool Use: \n",
      "   - The agent can call external APIs to access information missing from the model weights, such as current data, code execution capabilities, and proprietary information sources.\n",
      "\n",
      "The LLM acts as the \"brain\" of the agent, complemented by these components for planning, memory management, and tool utilization. This allows the agent to handle complex tasks, learn from experience, and access external resources as needed.\n",
      "\n",
      "\n"
     ]
    }
   ],
   "source": [
    "print(response[\"answer\"])"
   ]
  },
  {
   "cell_type": "code",
   "execution_count": 66,
   "metadata": {},
   "outputs": [
    {
     "name": "stdout",
     "output_type": "stream",
     "text": [
      "https://lilianweng.github.io/posts/2023-06-23-agent/\n"
     ]
    }
   ],
   "source": [
    "print(response[\"sources\"])"
   ]
  },
  {
   "cell_type": "markdown",
   "metadata": {},
   "source": [
    "### 2. Custom approach"
   ]
  },
  {
   "cell_type": "markdown",
   "metadata": {},
   "source": [
    "[Steps]\n",
    "- Search: query -> url\n",
    "    - GoogleSearchAPIWrapper\n",
    "    - GoogelSerperAPIWrapper\n",
    "- Loader: url -> html\n",
    "    - AsyncHtmlLoader\n",
    "    - AsyncChromiumLoader\n",
    "- Transformer: html -> formatted text\n",
    "    - HTML2Text\n",
    "    - BeautifulSoup"
   ]
  },
  {
   "cell_type": "markdown",
   "metadata": {},
   "source": [
    "#### search"
   ]
  },
  {
   "cell_type": "code",
   "execution_count": 1,
   "metadata": {},
   "outputs": [],
   "source": [
    "import os, json\n",
    "with open(\"/home/ubuntu/config.json\") as f:\n",
    "    config = json.loads(f.read())"
   ]
  },
  {
   "cell_type": "code",
   "execution_count": 2,
   "metadata": {},
   "outputs": [
    {
     "data": {
      "text/plain": [
       "[{'title': 'How I Built an Autonomous AI Agent for Online Research | by Assaf ...',\n",
       "  'link': 'https://betterprogramming.pub/how-i-built-an-autonomous-ai-agent-for-online-research-93435a97c6c',\n",
       "  'snippet': 'Jul 24, 2023 ... Another issue with AutoGPT is that it works synchronously. The main idea of it is to create a list of tasks and then execute them one by one. So\\xa0...'},\n",
       " {'title': 'Automating Web Research',\n",
       "  'link': 'https://blog.langchain.dev/automating-web-research/',\n",
       "  'snippet': 'Jul 26, 2023 ... What started as an attempt to build an autonomous web research agent, evolved into a fairly simple / efficient and customizable retriever.'},\n",
       " {'title': 'Autonomous AI Agents | Taskade Help Center',\n",
       "  'link': 'https://help.taskade.com/en/articles/8958458-autonomous-ai-agents',\n",
       "  'snippet': 'Conduct in-depth web research automatically. Generate creative writing pieces or articles. Answer complex questions on various topics. Assist with coding and\\xa0...'}]"
      ]
     },
     "execution_count": 2,
     "metadata": {},
     "output_type": "execute_result"
    }
   ],
   "source": [
    "from langchain_community.utilities import GoogleSearchAPIWrapper\n",
    "os.environ[\"GOOGLE_API_KEY\"] = config[\"google_api_key\"]\n",
    "os.environ[\"GOOGLE_CSE_ID\"] = config[\"google_cse_id\"]\n",
    "\n",
    "search = GoogleSearchAPIWrapper()\n",
    "question = \"How to build autonomous web research agent ?\"\n",
    "response = search.results(query=question, num_results=3)\n",
    "response"
   ]
  },
  {
   "cell_type": "code",
   "execution_count": 3,
   "metadata": {},
   "outputs": [
    {
     "data": {
      "text/plain": [
       "{'searchParameters': {'q': 'How to build autonomous web research agent ?',\n",
       "  'gl': 'us',\n",
       "  'hl': 'en',\n",
       "  'type': 'search',\n",
       "  'num': 3,\n",
       "  'engine': 'google'},\n",
       " 'organic': [{'title': 'How I Built an Autonomous AI Agent for Online Research',\n",
       "   'link': 'https://betterprogramming.pub/how-i-built-an-autonomous-ai-agent-for-online-research-93435a97c6c',\n",
       "   'snippet': 'Generate an outline of research questions that form an objective opinion on any given task. For each research question, trigger a crawler agent ...',\n",
       "   'date': 'Jul 24, 2023',\n",
       "   'position': 1},\n",
       "  {'title': 'Automating Web Research - LangChain Blog',\n",
       "   'link': 'https://blog.langchain.dev/automating-web-research/',\n",
       "   'snippet': 'What started as an attempt to build an autonomous web research agent, evolved into a fairly simple / efficient and customizable retriever.',\n",
       "   'date': 'Jul 26, 2023',\n",
       "   'position': 2},\n",
       "  {'title': 'Build an Autonomous Researcher - AI Jason',\n",
       "   'link': 'https://www.ai-jason.com/learning-ai/how-to-build-an-autonomous-researcher-using-gpt-a-step-by-step-guide',\n",
       "   'snippet': 'The first practical step in building our autonomous researcher involves using a service called SERP. SERP allows us to search the internet for relevant articles ...',\n",
       "   'attributes': {'Missing': 'web | Show results with:web'},\n",
       "   'sitelinks': [{'title': 'Step 1: Conceiving The Idea',\n",
       "     'link': 'https://www.ai-jason.com/learning-ai/how-to-build-an-autonomous-researcher-using-gpt-a-step-by-step-guide#:~:text=Step%201%3A%20Conceiving%20the%20Idea'},\n",
       "    {'title': 'Step 2: Choosing The Right...',\n",
       "     'link': 'https://www.ai-jason.com/learning-ai/how-to-build-an-autonomous-researcher-using-gpt-a-step-by-step-guide#:~:text=Step%202%3A%20Choosing%20the%20Right%20Tools'},\n",
       "    {'title': 'Step 3: Gathering Relevant...',\n",
       "     'link': 'https://www.ai-jason.com/learning-ai/how-to-build-an-autonomous-researcher-using-gpt-a-step-by-step-guide#:~:text=Step%203%3A%20Gathering%20Relevant%20Articles'}],\n",
       "   'position': 3}],\n",
       " 'relatedSearches': [{'query': 'How to build autonomous web research agent online'},\n",
       "  {'query': 'How to build autonomous web research agent github'},\n",
       "  {'query': 'Langchain web search agent'},\n",
       "  {'query': 'LangChain Web Research Retriever'},\n",
       "  {'query': 'Agent gpt GitHub'},\n",
       "  {'query': 'AutoGPT agents'},\n",
       "  {'query': 'GPT Researcher'},\n",
       "  {'query': 'AutoGen'}]}"
      ]
     },
     "execution_count": 3,
     "metadata": {},
     "output_type": "execute_result"
    }
   ],
   "source": [
    "from langchain_community.utilities import GoogleSerperAPIWrapper\n",
    "os.environ[\"SERPER_API_KEY\"] = config[\"serper_api_key\"]\n",
    "\n",
    "# search = GoogleSerperAPIWrapper(type=\"news\", k=3)\n",
    "search = GoogleSerperAPIWrapper(type=\"search\", k=3)\n",
    "question = \"How to build autonomous web research agent ?\"\n",
    "response = search.results(query=question)\n",
    "response"
   ]
  },
  {
   "cell_type": "code",
   "execution_count": 4,
   "metadata": {},
   "outputs": [
    {
     "name": "stdout",
     "output_type": "stream",
     "text": [
      "{'organic': [{'date': 'Jul 24, 2023',\n",
      "              'link': 'https://betterprogramming.pub/how-i-built-an-autonomous-ai-agent-for-online-research-93435a97c6c',\n",
      "              'position': 1,\n",
      "              'snippet': 'Generate an outline of research questions that form '\n",
      "                         'an objective opinion on any given task. For each '\n",
      "                         'research question, trigger a crawler agent ...',\n",
      "              'title': 'How I Built an Autonomous AI Agent for Online '\n",
      "                       'Research'},\n",
      "             {'date': 'Jul 26, 2023',\n",
      "              'link': 'https://blog.langchain.dev/automating-web-research/',\n",
      "              'position': 2,\n",
      "              'snippet': 'What started as an attempt to build an autonomous '\n",
      "                         'web research agent, evolved into a fairly simple / '\n",
      "                         'efficient and customizable retriever.',\n",
      "              'title': 'Automating Web Research - LangChain Blog'},\n",
      "             {'attributes': {'Missing': 'web | Show results with:web'},\n",
      "              'link': 'https://www.ai-jason.com/learning-ai/how-to-build-an-autonomous-researcher-using-gpt-a-step-by-step-guide',\n",
      "              'position': 3,\n",
      "              'sitelinks': [{'link': 'https://www.ai-jason.com/learning-ai/how-to-build-an-autonomous-researcher-using-gpt-a-step-by-step-guide#:~:text=Step%201%3A%20Conceiving%20the%20Idea',\n",
      "                             'title': 'Step 1: Conceiving The Idea'},\n",
      "                            {'link': 'https://www.ai-jason.com/learning-ai/how-to-build-an-autonomous-researcher-using-gpt-a-step-by-step-guide#:~:text=Step%202%3A%20Choosing%20the%20Right%20Tools',\n",
      "                             'title': 'Step 2: Choosing The Right...'},\n",
      "                            {'link': 'https://www.ai-jason.com/learning-ai/how-to-build-an-autonomous-researcher-using-gpt-a-step-by-step-guide#:~:text=Step%203%3A%20Gathering%20Relevant%20Articles',\n",
      "                             'title': 'Step 3: Gathering Relevant...'}],\n",
      "              'snippet': 'The first practical step in building our autonomous '\n",
      "                         'researcher involves using a service called SERP. '\n",
      "                         'SERP allows us to search the internet for relevant '\n",
      "                         'articles ...',\n",
      "              'title': 'Build an Autonomous Researcher - AI Jason'}],\n",
      " 'relatedSearches': [{'query': 'How to build autonomous web research agent '\n",
      "                               'online'},\n",
      "                     {'query': 'How to build autonomous web research agent '\n",
      "                               'github'},\n",
      "                     {'query': 'Langchain web search agent'},\n",
      "                     {'query': 'LangChain Web Research Retriever'},\n",
      "                     {'query': 'Agent gpt GitHub'},\n",
      "                     {'query': 'AutoGPT agents'},\n",
      "                     {'query': 'GPT Researcher'},\n",
      "                     {'query': 'AutoGen'}],\n",
      " 'searchParameters': {'engine': 'google',\n",
      "                      'gl': 'us',\n",
      "                      'hl': 'en',\n",
      "                      'num': 3,\n",
      "                      'q': 'How to build autonomous web research agent ?',\n",
      "                      'type': 'search'}}\n"
     ]
    }
   ],
   "source": [
    "from pprint import pprint\n",
    "\n",
    "pprint(response)"
   ]
  },
  {
   "cell_type": "code",
   "execution_count": 5,
   "metadata": {},
   "outputs": [
    {
     "data": {
      "text/plain": [
       "['https://betterprogramming.pub/how-i-built-an-autonomous-ai-agent-for-online-research-93435a97c6c',\n",
       " 'https://blog.langchain.dev/automating-web-research/',\n",
       " 'https://www.ai-jason.com/learning-ai/how-to-build-an-autonomous-researcher-using-gpt-a-step-by-step-guide']"
      ]
     },
     "execution_count": 5,
     "metadata": {},
     "output_type": "execute_result"
    }
   ],
   "source": [
    "urls = [x[\"link\"] for x in response[\"organic\"]]\n",
    "urls"
   ]
  },
  {
   "cell_type": "markdown",
   "metadata": {},
   "source": [
    "#### loader"
   ]
  },
  {
   "cell_type": "code",
   "execution_count": 19,
   "metadata": {},
   "outputs": [
    {
     "name": "stderr",
     "output_type": "stream",
     "text": [
      "Fetching pages: 100%|##########| 3/3 [00:00<00:00,  5.25it/s]\n"
     ]
    },
    {
     "name": "stdout",
     "output_type": "stream",
     "text": [
      "CPU times: user 145 ms, sys: 4.86 ms, total: 150 ms\n",
      "Wall time: 1.47 s\n"
     ]
    },
    {
     "data": {
      "text/plain": [
       "[Document(page_content='<!doctype html><html lang=\"en\"><head><title data-rh=\"true\">How I Built an Autonomous AI Agent for Online Research | by Assaf Elovic | Better Programming</title><meta data-rh=\"true\" charset=\"utf-8\"/><meta data-rh=\"true\" name=\"viewport\" content=\"width=device-width,minimum-scale=1,initial-scale=1,maximum-scale=1\"/><meta data-rh=\"true\" name=\"theme-color\" content=\"#000000\"/><meta data-rh=\"true\" name=\"twitter:app:name:iphone\" content=\"Medium\"/><meta data-rh=\"true\" name=\"twitter:app:id:iphone\" content=\"828256236\"/><meta data-rh=\"true\" property=\"al:ios:app_name\" content=\"Medium\"/><meta data-rh=\"true\" property=\"al:ios:app_store_id\" content=\"828256236\"/><meta data-rh=\"true\" property=\"al:android:package\" content=\"com.medium.reader\"/><meta data-rh=\"true\" property=\"fb:app_id\" content=\"542599432471018\"/><meta data-rh=\"true\" property=\"og:site_name\" content=\"Medium\"/><meta data-rh=\"true\" property=\"og:type\" content=\"article\"/><meta data-rh=\"true\" property=\"article:published_time\" content=\"2023-07-25T06:49:41.061Z\"/><meta data-rh=\"true\" name=\"title\" content=\"How I Built an Autonomous AI Agent for Online Research | by Assaf Elovic | Better Programming\"/><meta data-rh=\"true\" property=\"og:title\" content=\"How I Built an Autonomous AI Agent for Online Research\"/><meta data-rh=\"true\" property=\"al:android:url\" content=\"medium://p/93435a97c6c\"/><meta data-rh=\"true\" property=\"al:ios:url\" content=\"medium://p/93435a97c6c\"/><meta data-rh=\"true\" property=\"al:android:app_name\" content=\"Medium\"/><meta data-rh=\"true\" name=\"description\" content=\"After AutoGPT was published, I immediately took it for a spin. The first use case that came to mind was autonomous online research. Forming objective conclusions for manual research tasks can take…\"/><meta data-rh=\"true\" property=\"og:description\" content=\"GPT Researcher: the future of comprehensive online research\"/><meta data-rh=\"true\" property=\"og:url\" content=\"https://betterprogramming.pub/how-i-built-an-autonomous-ai-agent-for-online-research-93435a97c6c\"/><meta data-rh=\"true\" property=\"al:web:url\" content=\"https://betterprogramming.pub/how-i-built-an-autonomous-ai-agent-for-online-research-93435a97c6c\"/><meta data-rh=\"true\" property=\"og:image\" content=\"https://miro.medium.com/v2/resize:fit:1200/1*f2XEZvAV7D4OQWlmqGBo9g.png\"/><meta data-rh=\"true\" property=\"article:author\" content=\"https://medium.com/@assafelovic\"/><meta data-rh=\"true\" name=\"author\" content=\"Assaf Elovic\"/><meta data-rh=\"true\" name=\"robots\" content=\"index,follow,max-image-preview:large\"/><meta data-rh=\"true\" name=\"referrer\" content=\"unsafe-url\"/><meta data-rh=\"true\" property=\"twitter:title\" content=\"How I Built an Autonomous AI Agent for Online Research\"/><meta data-rh=\"true\" name=\"twitter:site\" content=\"@BttrProgramming\"/><meta data-rh=\"true\" name=\"twitter:app:url:iphone\" content=\"medium://p/93435a97c6c\"/><meta data-rh=\"true\" property=\"twitter:description\" content=\"GPT Researcher: the future of comprehensive online research\"/><meta data-rh=\"true\" name=\"twitter:image:src\" content=\"https://miro.medium.com/v2/resize:fit:1200/1*f2XEZvAV7D4OQWlmqGBo9g.png\"/><meta data-rh=\"true\" name=\"twitter:card\" content=\"summary_large_image\"/><meta data-rh=\"true\" name=\"twitter:creator\" content=\"@assaf_elovic\"/><meta data-rh=\"true\" name=\"twitter:label1\" content=\"Reading time\"/><meta data-rh=\"true\" name=\"twitter:data1\" content=\"6 min read\"/><link data-rh=\"true\" rel=\"icon\" href=\"https://miro.medium.com/v2/1*m-R_BkNf1Qjr1YbyOIJY2w.png\"/><link data-rh=\"true\" rel=\"search\" type=\"application/opensearchdescription+xml\" title=\"Medium\" href=\"/osd.xml\"/><link data-rh=\"true\" rel=\"apple-touch-icon\" sizes=\"152x152\" href=\"https://miro.medium.com/v2/resize:fill:152:152/1*sHhtYhaCe2Uc3IU0IgKwIQ.png\"/><link data-rh=\"true\" rel=\"apple-touch-icon\" sizes=\"120x120\" href=\"https://miro.medium.com/v2/resize:fill:120:120/1*sHhtYhaCe2Uc3IU0IgKwIQ.png\"/><link data-rh=\"true\" rel=\"apple-touch-icon\" sizes=\"76x76\" href=\"https://miro.medium.com/v2/resize:fill:76:76/1*sHhtYhaCe2Uc3IU0IgKwIQ.png\"/><link data-rh=\"true\" rel=\"apple-touch-icon\" sizes=\"60x60\" href=\"https://miro.medium.com/v2/resize:fill:60:60/1*sHhtYhaCe2Uc3IU0IgKwIQ.png\"/><link data-rh=\"true\" rel=\"mask-icon\" href=\"https://cdn-static-1.medium.com/_/fp/icons/Medium-Avatar-500x500.svg\" color=\"#171717\"/><link data-rh=\"true\" id=\"glyph_preload_link\" rel=\"preload\" as=\"style\" type=\"text/css\" href=\"https://glyph.medium.com/css/unbound.css\"/><link data-rh=\"true\" id=\"glyph_link\" rel=\"stylesheet\" type=\"text/css\" href=\"https://glyph.medium.com/css/unbound.css\"/><link data-rh=\"true\" rel=\"author\" href=\"https://medium.com/@assafelovic\"/><link data-rh=\"true\" rel=\"canonical\" href=\"https://betterprogramming.pub/how-i-built-an-autonomous-ai-agent-for-online-research-93435a97c6c\"/><link data-rh=\"true\" rel=\"alternate\" href=\"android-app://com.medium.reader/https/medium.com/p/93435a97c6c\"/><script data-rh=\"true\" type=\"application/ld+json\">{\"@context\":\"http:\\\\u002F\\\\u002Fschema.org\",\"@type\":\"NewsArticle\",\"image\":[\"https:\\\\u002F\\\\u002Fmiro.medium.com\\\\u002Fv2\\\\u002Fresize:fit:1200\\\\u002F1*f2XEZvAV7D4OQWlmqGBo9g.png\"],\"url\":\"https:\\\\u002F\\\\u002Fbetterprogramming.pub\\\\u002Fhow-i-built-an-autonomous-ai-agent-for-online-research-93435a97c6c\",\"dateCreated\":\"2023-07-24T16:18:47.263Z\",\"datePublished\":\"2023-07-24T16:18:47.263Z\",\"dateModified\":\"2023-08-09T11:17:56.896Z\",\"headline\":\"How I Built an Autonomous AI Agent for Online Research\",\"name\":\"How I Built an Autonomous AI Agent for Online Research\",\"description\":\"After AutoGPT was published, I immediately took it for a spin. The first use case that came to mind was autonomous online research. Forming objective conclusions for manual research tasks can take…\",\"identifier\":\"93435a97c6c\",\"author\":{\"@type\":\"Person\",\"name\":\"Assaf Elovic\",\"url\":\"https:\\\\u002F\\\\u002Fbetterprogramming.pub\\\\u002F@assafelovic\"},\"creator\":[\"Assaf Elovic\"],\"publisher\":{\"@type\":\"Organization\",\"name\":\"Better Programming\",\"url\":\"betterprogramming.pub\",\"logo\":{\"@type\":\"ImageObject\",\"width\":440,\"height\":60,\"url\":\"https:\\\\u002F\\\\u002Fmiro.medium.com\\\\u002Fv2\\\\u002Fresize:fit:880\\\\u002F1*S6X0W_XVeBUPe2Mz0hrufA.png\"}},\"mainEntityOfPage\":\"https:\\\\u002F\\\\u002Fbetterprogramming.pub\\\\u002Fhow-i-built-an-autonomous-ai-agent-for-online-research-93435a97c6c\",\"isAccessibleForFree\":\"False\",\"hasPart\":{\"@type\":\"WebPageElement\",\"isAccessibleForFree\":\"False\",\"cssSelector\":\".meteredContent\"}}</script><style type=\"text/css\" data-fela-rehydration=\"507\" data-fela-type=\"STATIC\">html{box-sizing:border-box;-webkit-text-size-adjust:100%}*, *:before, *:after{box-sizing:inherit}body{margin:0;padding:0;text-rendering:optimizeLegibility;-webkit-font-smoothing:antialiased;color:rgba(0,0,0,0.8);position:relative;min-height:100vh}h1, h2, h3, h4, h5, h6, dl, dd, ol, ul, menu, figure, blockquote, p, pre, form{margin:0}menu, ol, ul{padding:0;list-style:none;list-style-image:none}main{display:block}a{color:inherit;text-decoration:none}a, button, input{-webkit-tap-highlight-color:transparent}img, svg{vertical-align:middle}button{background:transparent;overflow:visible}button, input, optgroup, select, textarea{margin:0}:root{--reach-tabs:1;--reach-menu-button:1}#speechify-root{font-family:Sohne, sans-serif}div[data-popper-reference-hidden=\"true\"]{visibility:hidden;pointer-events:none}\\n/*XCode style (c) Angel Garcia <angelgarcia.mail@gmail.com>*/.hljs {background: #fff;color: black;\\n}/* Gray DOCTYPE selectors like WebKit */\\n.xml .hljs-meta {color: #c0c0c0;\\n}.hljs-comment,\\n.hljs-quote {color: #007400;\\n}.hljs-tag,\\n.hljs-attribute,\\n.hljs-keyword,\\n.hljs-selector-tag,\\n.hljs-literal,\\n.hljs-name {color: #aa0d91;\\n}.hljs-variable,\\n.hljs-template-variable {color: #3F6E74;\\n}.hljs-code,\\n.hljs-string,\\n.hljs-meta .hljs-string {color: #c41a16;\\n}.hljs-regexp,\\n.hljs-link {color: #0E0EFF;\\n}.hljs-title,\\n.hljs-symbol,\\n.hljs-bullet,\\n.hljs-number {color: #1c00cf;\\n}.hljs-section,\\n.hljs-meta {color: #643820;\\n}.hljs-title.class_,\\n.hljs-class .hljs-title,\\n.hljs-type,\\n.hljs-built_in,\\n.hljs-params {color: #5c2699;\\n}.hljs-attr {color: #836C28;\\n}.hljs-subst {color: #000;\\n}.hljs-formula {background-color: #eee;font-style: italic;\\n}.hljs-addition {background-color: #baeeba;\\n}.hljs-deletion {background-color: #ffc8bd;\\n}.hljs-selector-id,\\n.hljs-selector-class {color: #9b703f;\\n}.hljs-doctag,\\n.hljs-strong {font-weight: bold;\\n}.hljs-emphasis {font-style: italic;\\n}\\n</style><style type=\"text/css\" data-fela-rehydration=\"507\" data-fela-type=\"KEYFRAME\">@-webkit-keyframes k1{0%{opacity:0.8}50%{opacity:0.5}100%{opacity:0.8}}@-moz-keyframes k1{0%{opacity:0.8}50%{opacity:0.5}100%{opacity:0.8}}@keyframes k1{0%{opacity:0.8}50%{opacity:0.5}100%{opacity:0.8}}</style><style type=\"text/css\" data-fela-rehydration=\"507\" data-fela-type=\"RULE\">.a{font-family:medium-content-sans-serif-font, -apple-system, BlinkMacSystemFont, \"Segoe UI\", Roboto, Oxygen, Ubuntu, Cantarell, \"Open Sans\", \"Helvetica Neue\", sans-serif}.b{font-weight:400}.c{background-color:rgba(255, 255, 255, 1)}.l{display:block}.m{position:sticky}.n{top:0}.o{z-index:500}.p{padding:0 24px}.q{align-items:center}.r{border-bottom:solid 1px #F2F2F2}.y{height:41px}.z{line-height:20px}.ab{display:flex}.ac{height:57px}.ae{flex:1 0 auto}.af{color:inherit}.ag{fill:inherit}.ah{font-size:inherit}.ai{border:inherit}.aj{font-family:inherit}.ak{letter-spacing:inherit}.al{font-weight:inherit}.am{padding:0}.an{margin:0}.ao{cursor:pointer}.ap:disabled{cursor:not-allowed}.aq:disabled{color:#6B6B6B}.ar:disabled{fill:#6B6B6B}.au{fill:rgba(0, 0, 0, 1)}.av{height:22px}.aw{margin-left:16px}.ax{border:none}.ay{border-radius:20px}.az{width:240px}.ba{background:#F9F9F9}.bb path{fill:#6B6B6B}.bd{outline:none}.be{font-family:sohne, \"Helvetica Neue\", Helvetica, Arial, sans-serif}.bf{font-size:14px}.bg{width:100%}.bh{padding:10px 20px 10px 0}.bi{background-color:transparent}.bj{color:#242424}.bk::placeholder{color:#6B6B6B}.bl{display:inline-block}.bm{margin-left:12px}.bn{margin-right:12px}.bo{border-radius:4px}.bp{margin-left:24px}.bq{height:24px}.bw{background-color:#F9F9F9}.bx{border-radius:50%}.by{height:32px}.bz{width:32px}.ca{justify-content:center}.cg{max-width:680px}.ch{min-width:0}.ci{animation:k1 1.2s ease-in-out infinite}.cj{height:100vh}.ck{margin-bottom:16px}.cl{margin-top:48px}.cm{align-items:flex-start}.cn{flex-direction:column}.co{justify-content:space-between}.cp{margin-bottom:24px}.cv{width:80%}.cw{background-color:#F2F2F2}.dc{height:44px}.dd{width:44px}.de{margin:auto 0}.df{margin-bottom:4px}.dg{height:16px}.dh{width:120px}.di{width:80px}.do{margin-bottom:8px}.dp{width:96%}.dq{width:98%}.dr{width:81%}.ds{margin-left:8px}.dt{color:#6B6B6B}.du{font-size:13px}.dv{height:100%}.eo{color:#FFFFFF}.ep{fill:#FFFFFF}.eq{background:rgba(26, 137, 23, 1)}.er{border-color:rgba(26, 137, 23, 1)}.ev:disabled{cursor:inherit !important}.ew:disabled{opacity:0.3}.ex:disabled:hover{background:rgba(26, 137, 23, 1)}.ey:disabled:hover{border-color:rgba(26, 137, 23, 1)}.ez{border-radius:99em}.fa{border-width:1px}.fb{border-style:solid}.fc{box-sizing:border-box}.fd{text-decoration:none}.fe{text-align:center}.fh{margin-right:32px}.fi{position:relative}.fj{fill:#6B6B6B}.fm{background:transparent}.fn svg{margin-left:4px}.fo svg{fill:#6B6B6B}.fq{box-shadow:inset 0 0 0 1px rgba(0, 0, 0, 0.05)}.fr{position:absolute}.fy{margin:0 24px}.gc{background:rgba(255, 255, 255, 1)}.gd{border:1px solid #F2F2F2}.ge{box-shadow:0 1px 4px #F2F2F2}.gf{max-height:100vh}.gg{overflow-y:auto}.gh{left:0}.gi{top:calc(100vh + 100px)}.gj{bottom:calc(100vh + 100px)}.gk{width:10px}.gl{pointer-events:none}.gm{word-break:break-word}.gn{word-wrap:break-word}.go:after{display:block}.gp:after{content:\"\"}.gq:after{clear:both}.gr{margin-left:auto}.gs{margin-right:auto}.gt{max-width:1200px}.gz{clear:both}.hb{cursor:zoom-in}.hc{z-index:auto}.he{max-width:100%}.hf{height:auto}.hg{margin-right:4px}.hh{margin-top:2px}.hi{box-sizing:content-box}.hj{line-height:1.23}.hk{letter-spacing:0}.hl{font-style:normal}.hm{font-weight:700}.ic{margin-top:0px}.id{margin-bottom:-0.27em}.ie{line-height:1.394}.iu{@media all and (max-width: 551.98px):8px}.iv{@media all and (min-width: 552px) and (max-width: 727.98px):8px}.iw{@media all and (min-width: 728px) and (max-width: 903.98px):16px}.ix{@media all and (min-width: 904px) and (max-width: 1079.98px):16px}.iy{@media all and (min-width: 1080px):16px}.je{align-items:baseline}.jf{width:48px}.jg{height:48px}.jh{border:2px solid rgba(255, 255, 255, 1)}.ji{z-index:0}.jj{box-shadow:none}.jk{border:1px solid rgba(0, 0, 0, 0.05)}.jl{margin-left:-12px}.jm{width:28px}.jn{height:28px}.jo{z-index:1}.jp{width:24px}.jq{margin-bottom:2px}.jr{flex-wrap:nowrap}.js{font-size:16px}.jt{line-height:24px}.jv{margin:0 8px}.jw{display:inline}.jx{color:rgba(26, 137, 23, 1)}.jy{fill:rgba(26, 137, 23, 1)}.kb{flex:0 0 auto}.ke{flex-wrap:wrap}.kh{white-space:pre-wrap}.ki{overflow:hidden}.kj{max-height:20px}.kk{text-overflow:ellipsis}.kl{display:-webkit-box}.km{-webkit-line-clamp:1}.kn{-webkit-box-orient:vertical}.ko{word-break:break-all}.kq{padding-left:8px}.kr{padding-right:8px}.ls> *{flex-shrink:0}.lt{overflow-x:scroll}.lu::-webkit-scrollbar{display:none}.lv{scrollbar-width:none}.lw{-ms-overflow-style:none}.lx{width:74px}.ly{flex-direction:row}.mb{-webkit-user-select:none}.mc{border:0}.md{fill:rgba(117, 117, 117, 1)}.mg{outline:0}.mh{user-select:none}.mi> svg{pointer-events:none}.mr{cursor:progress}.ms{margin-left:4px}.mt{opacity:1}.mu{padding:4px 0}.mx{width:16px}.mz{display:inline-flex}.nf{padding:8px 2px}.ng svg{color:#6B6B6B}.nx{line-height:1.58}.ny{letter-spacing:-0.004em}.nz{font-family:source-serif-pro, Georgia, Cambria, \"Times New Roman\", Times, serif}.os{margin-bottom:-0.46em}.ot{text-decoration:underline}.ou{line-height:1.18}.ov{letter-spacing:-0.022em}.ow{font-weight:600}.pm{margin-bottom:-0.31em}.ps{max-width:687px}.py{margin-top:10px}.pz{max-width:728px}.qc{border-top:none}.qi{height:52px}.qj{max-height:52px}.qk{position:static}.qm{max-width:155px}.qs{margin-right:20px}.qy{align-items:flex-end}.qz{width:76px}.ra{height:76px}.rb{border:2px solid #F9F9F9}.rc{height:72px}.rd{width:72px}.re{margin-left:-16px}.rf{width:36px}.rg{height:36px}.rh{color:rgba(255, 255, 255, 1)}.ri{padding:8px 16px}.rj{fill:rgba(255, 255, 255, 1)}.rk{background:rgba(25, 25, 25, 1)}.rl{border-color:rgba(25, 25, 25, 1)}.ro:disabled{opacity:0.1}.rp:disabled:hover{background:rgba(25, 25, 25, 1)}.rq:disabled:hover{border-color:rgba(25, 25, 25, 1)}.rr{width:auto}.rs{stroke:#F2F2F2}.rt{color:#F2F2F2}.ru{fill:#F2F2F2}.rv{background:#F2F2F2}.rw{border-color:#F2F2F2}.sc{font-weight:500}.sd{font-size:24px}.se{line-height:30px}.sf{letter-spacing:-0.016em}.sg{margin-top:8px}.sh{margin-top:16px}.si{height:0px}.sj{border-bottom:solid 1px #E5E5E5}.sk{margin-top:72px}.sl{padding:24px 0}.sm{margin-bottom:0px}.sn{margin-right:16px}.as:hover:not(:disabled){color:rgba(25, 25, 25, 1)}.at:hover:not(:disabled){fill:rgba(25, 25, 25, 1)}.es:hover{background:rgba(15, 115, 12, 1)}.et:hover{border-color:rgba(15, 115, 12, 1)}.eu:hover{cursor:pointer}.fk:hover{color:#242424}.fl:hover{fill:#242424}.fp:hover svg{fill:#242424}.fs:hover{background-color:rgba(0, 0, 0, 0.1)}.ju:hover{text-decoration:underline}.jz:hover:not(:disabled){color:rgba(15, 115, 12, 1)}.ka:hover:not(:disabled){fill:rgba(15, 115, 12, 1)}.mf:hover{fill:rgba(8, 8, 8, 1)}.mv:hover{fill:#000000}.mw:hover p{color:#000000}.my:hover{color:#000000}.nh:hover svg{color:#000000}.rm:hover{background:#000000}.rn:hover{border-color:#242424}.rx:hover{background:#F2F2F2}.ry:hover{border-color:#F2F2F2}.rz:hover{cursor:wait}.sa:hover{color:#F2F2F2}.sb:hover{fill:#F2F2F2}.bc:focus-within path{fill:#242424}.hd:focus{transform:scale(1.01)}.me:focus{fill:rgba(8, 8, 8, 1)}.ni:focus svg{color:#000000}.mj:active{border-style:none}</style><style type=\"text/css\" data-fela-rehydration=\"507\" data-fela-type=\"RULE\" media=\"all and (min-width: 1080px)\">.d{display:none}.bv{width:64px}.cf{margin:0 64px}.cu{height:48px}.db{margin-bottom:52px}.dn{margin-bottom:48px}.ee{font-size:14px}.ef{line-height:20px}.el{font-size:13px}.em{padding:5px 12px}.fg{display:flex}.fx{margin-bottom:68px}.gb{max-width:680px}.gy{margin-top:40px}.hz{font-size:42px}.ia{line-height:52px}.ib{letter-spacing:-0.011em}.ir{font-size:22px}.is{margin-top:0.92em}.it{line-height:28px}.jd{align-items:center}.le{border-top:solid 1px #F2F2F2}.lf{border-bottom:solid 1px #F2F2F2}.lg{margin:32px 0 0}.lh{padding:3px 8px}.lq> *{margin-right:24px}.lr> :last-child{margin-right:0}.mq{margin-top:0px}.ne{margin:0}.oo{font-size:20px}.op{margin-top:2.14em}.oq{line-height:32px}.or{letter-spacing:-0.003em}.pj{margin-top:1.72em}.pk{line-height:24px}.pl{letter-spacing:0}.pr{margin-top:0.94em}.px{margin-top:56px}.qh{margin-bottom:88px}.qr{display:inline-block}.qx{padding-top:72px}</style><style type=\"text/css\" data-fela-rehydration=\"507\" data-fela-type=\"RULE\" media=\"all and (max-width: 1079.98px)\">.e{display:none}.mp{margin-top:0px}.qa{margin-left:auto}.qb{text-align:center}.qq{display:inline-block}</style><style type=\"text/css\" data-fela-rehydration=\"507\" data-fela-type=\"RULE\" media=\"all and (max-width: 903.98px)\">.f{display:none}.mo{margin-top:0px}.qp{display:inline-block}</style><style type=\"text/css\" data-fela-rehydration=\"507\" data-fela-type=\"RULE\" media=\"all and (max-width: 727.98px)\">.g{display:none}.mm{margin-top:0px}.mn{margin-right:0px}.qo{display:inline-block}</style><style type=\"text/css\" data-fela-rehydration=\"507\" data-fela-type=\"RULE\" media=\"all and (max-width: 551.98px)\">.h{display:none}.s{display:flex}.t{justify-content:space-between}.br{width:24px}.cb{margin:0 24px}.cq{height:40px}.cx{margin-bottom:44px}.dj{margin-bottom:32px}.dw{font-size:13px}.dx{line-height:20px}.eg{padding:0px 8px 1px}.ft{margin-bottom:4px}.gu{margin-top:32px}.hn{font-size:32px}.ho{line-height:38px}.hp{letter-spacing:-0.014em}.if{font-size:18px}.ig{margin-top:0.79em}.ih{line-height:24px}.iz{align-items:flex-start}.kc{flex-direction:column}.kf{margin-bottom:2px}.ks{margin:24px -24px 0}.kt{padding:0}.li> *{margin-right:8px}.lj> :last-child{margin-right:24px}.lz{margin-left:0px}.mk{margin-top:0px}.ml{margin-right:0px}.na{margin:0}.nj{border:1px solid #F2F2F2}.nk{border-radius:99em}.nl{padding:0px 16px 0px 12px}.nm{height:38px}.nn{align-items:center}.np svg{margin-right:8px}.oa{margin-top:1.56em}.ob{line-height:28px}.oc{letter-spacing:-0.003em}.ox{font-size:16px}.oy{margin-top:1.23em}.oz{letter-spacing:0}.pn{margin-top:0.67em}.pt{margin-top:40px}.qd{margin-bottom:80px}.qn{display:inline-block}.qt{padding-top:48px}.no:hover{border-color:#E5E5E5}</style><style type=\"text/css\" data-fela-rehydration=\"507\" data-fela-type=\"RULE\" media=\"all and (min-width: 904px) and (max-width: 1079.98px)\">.i{display:none}.bu{width:64px}.ce{margin:0 64px}.ct{height:48px}.da{margin-bottom:52px}.dm{margin-bottom:48px}.ec{font-size:14px}.ed{line-height:20px}.ej{font-size:13px}.ek{padding:5px 12px}.ff{display:flex}.fw{margin-bottom:68px}.ga{max-width:680px}.gx{margin-top:40px}.hw{font-size:42px}.hx{line-height:52px}.hy{letter-spacing:-0.011em}.io{font-size:22px}.ip{margin-top:0.92em}.iq{line-height:28px}.jc{align-items:center}.la{border-top:solid 1px #F2F2F2}.lb{border-bottom:solid 1px #F2F2F2}.lc{margin:32px 0 0}.ld{padding:3px 8px}.lo> *{margin-right:24px}.lp> :last-child{margin-right:0}.nd{margin:0}.ok{font-size:20px}.ol{margin-top:2.14em}.om{line-height:32px}.on{letter-spacing:-0.003em}.pg{margin-top:1.72em}.ph{line-height:24px}.pi{letter-spacing:0}.pq{margin-top:0.94em}.pw{margin-top:56px}.qg{margin-bottom:88px}.qw{padding-top:72px}</style><style type=\"text/css\" data-fela-rehydration=\"507\" data-fela-type=\"RULE\" media=\"all and (min-width: 728px) and (max-width: 903.98px)\">.j{display:none}.w{display:flex}.x{justify-content:space-between}.bt{width:64px}.cd{margin:0 48px}.cs{height:48px}.cz{margin-bottom:52px}.dl{margin-bottom:48px}.ea{font-size:13px}.eb{line-height:20px}.ei{padding:0px 8px 1px}.fv{margin-bottom:68px}.fz{max-width:680px}.gw{margin-top:40px}.ht{font-size:42px}.hu{line-height:52px}.hv{letter-spacing:-0.011em}.il{font-size:22px}.im{margin-top:0.92em}.in{line-height:28px}.jb{align-items:center}.kw{border-top:solid 1px #F2F2F2}.kx{border-bottom:solid 1px #F2F2F2}.ky{margin:32px 0 0}.kz{padding:3px 8px}.lm> *{margin-right:24px}.ln> :last-child{margin-right:0}.nc{margin:0}.og{font-size:20px}.oh{margin-top:2.14em}.oi{line-height:32px}.oj{letter-spacing:-0.003em}.pd{margin-top:1.72em}.pe{line-height:24px}.pf{letter-spacing:0}.pp{margin-top:0.94em}.pv{margin-top:56px}.qf{margin-bottom:88px}.qv{padding-top:72px}</style><style type=\"text/css\" data-fela-rehydration=\"507\" data-fela-type=\"RULE\" media=\"all and (min-width: 552px) and (max-width: 727.98px)\">.k{display:none}.u{display:flex}.v{justify-content:space-between}.bs{width:24px}.cc{margin:0 24px}.cr{height:40px}.cy{margin-bottom:44px}.dk{margin-bottom:32px}.dy{font-size:13px}.dz{line-height:20px}.eh{padding:0px 8px 1px}.fu{margin-bottom:4px}.gv{margin-top:32px}.hq{font-size:32px}.hr{line-height:38px}.hs{letter-spacing:-0.014em}.ii{font-size:18px}.ij{margin-top:0.79em}.ik{line-height:24px}.ja{align-items:flex-start}.kd{flex-direction:column}.kg{margin-bottom:2px}.ku{margin:24px 0 0}.kv{padding:0}.lk> *{margin-right:8px}.ll> :last-child{margin-right:8px}.ma{margin-left:0px}.nb{margin:0}.nq{border:1px solid #F2F2F2}.nr{border-radius:99em}.ns{padding:0px 16px 0px 12px}.nt{height:38px}.nu{align-items:center}.nw svg{margin-right:8px}.od{margin-top:1.56em}.oe{line-height:28px}.of{letter-spacing:-0.003em}.pa{font-size:16px}.pb{margin-top:1.23em}.pc{letter-spacing:0}.po{margin-top:0.67em}.pu{margin-top:40px}.qe{margin-bottom:80px}.qu{padding-top:48px}.nv:hover{border-color:#E5E5E5}</style><style type=\"text/css\" data-fela-rehydration=\"507\" data-fela-type=\"RULE\" media=\"print\">.ql{display:none}</style><style type=\"text/css\" data-fela-rehydration=\"507\" data-fela-type=\"RULE\" media=\"(prefers-reduced-motion: no-preference)\">.ha{transition:transform 300ms cubic-bezier(0.2, 0, 0.2, 1)}</style><style type=\"text/css\" data-fela-rehydration=\"507\" data-fela-type=\"RULE\" media=\"(orientation: landscape) and (max-width: 903.98px)\">.kp{max-height:none}</style></head><body><div id=\"root\"><div class=\"a b c\"><div class=\"d e f g h i j k\"></div><script>document.domain = document.domain;</script><div class=\"l c\"><div class=\"l m n o c\"><div class=\"p q r s t u v w x i d y z\"><a class=\"dt ag du be ak b am an ao ap aq ar as at s u w i d q dv z\" href=\"https://rsci.app.link/?%24canonical_url=https%3A%2F%2Fmedium.com%2Fp%2F93435a97c6c&amp;%7Efeature=LoOpenInAppButton&amp;%7Echannel=ShowPostUnderCollection&amp;source=---two_column_layout_nav----------------------------------\" rel=\"noopener follow\">Open in app<svg width=\"10\" height=\"10\" viewBox=\"0 0 10 10\" fill=\"none\" class=\"ds\"><path d=\"M.98 8.48a.37.37 0 1 0 .54.54l-.54-.54zm7.77-7.23h.38c0-.2-.17-.38-.38-.38v.38zM8.37 6.5a.37.37 0 1 0 .76 0h-.76zM3.5.87a.37.37 0 1 0 0 .76V.88zM1.52 9.03l7.5-7.5-.54-.54-7.5 7.5.54.54zm6.86-7.77V6.5h.74V1.25h-.74zm-4.88.38h5.25V.88H3.5v.74z\" fill=\"currentColor\"></path></svg></a><div class=\"ab q\"><p class=\"be b dw dx dy dz ea eb ec ed ee ef dt\"><span><a class=\"be b dw dx eg dy dz eh ea eb ei ej ed ek el ef em eo ep eq er es et eu ev ew ex ey ez fa fb fc bl fd fe\" data-testid=\"headerSignUpButton\" href=\"https://medium.com/m/signin?operation=register&amp;redirect=https%3A%2F%2Fbetterprogramming.pub%2Fhow-i-built-an-autonomous-ai-agent-for-online-research-93435a97c6c&amp;source=post_page---two_column_layout_nav-----------------------global_nav-----------\" rel=\"noopener follow\">Sign up</a></span></p><div class=\"aw l\"><p class=\"be b dw dx dy dz ea eb ec ed ee ef dt\"><span><a class=\"af ag ah ai aj ak al am an ao ap aq ar as at\" data-testid=\"headerSignInButton\" href=\"https://medium.com/m/signin?operation=login&amp;redirect=https%3A%2F%2Fbetterprogramming.pub%2Fhow-i-built-an-autonomous-ai-agent-for-online-research-93435a97c6c&amp;source=post_page---two_column_layout_nav-----------------------global_nav-----------\" rel=\"noopener follow\">Sign in</a></span></p></div></div></div><div class=\"p q r ab ac\"><div class=\"ab q ae\"><a class=\"af ag ah ai aj ak al am an ao ap aq ar as at ab\" aria-label=\"Homepage\" data-testid=\"headerMediumLogo\" href=\"https://medium.com/?source=---two_column_layout_nav----------------------------------\" rel=\"noopener follow\"><svg viewBox=\"0 0 3940 610\" class=\"au av\"><path d=\"M594.79 308.2c0 163.76-131.85 296.52-294.5 296.52S5.8 472 5.8 308.2 137.65 11.69 300.29 11.69s294.5 132.75 294.5 296.51M917.86 308.2c0 154.16-65.93 279.12-147.25 279.12s-147.25-125-147.25-279.12S689.29 29.08 770.61 29.08s147.25 125 147.25 279.12M1050 308.2c0 138.12-23.19 250.08-51.79 250.08s-51.79-112-51.79-250.08 23.19-250.08 51.8-250.08S1050 170.09 1050 308.2M1862.77 37.4l.82-.18v-6.35h-167.48l-155.51 365.5-155.51-365.5h-180.48v6.35l.81.18c30.57 6.9 46.09 17.19 46.09 54.3v434.45c0 37.11-15.58 47.4-46.15 54.3l-.81.18V587H1327v-6.35l-.81-.18c-30.57-6.9-46.09-17.19-46.09-54.3V116.9L1479.87 587h11.33l205.59-483.21V536.9c-2.62 29.31-18 38.36-45.68 44.61l-.82.19v6.3h213.3v-6.3l-.82-.19c-27.71-6.25-43.46-15.3-46.08-44.61l-.14-445.2h.14c0-37.11 15.52-47.4 46.08-54.3m97.43 287.8c3.49-78.06 31.52-134.4 78.56-135.37 14.51.24 26.68 5 36.14 14.16 20.1 19.51 29.55 60.28 28.09 121.21zm-2.11 22h250v-1.05c-.71-59.69-18-106.12-51.34-138-28.82-27.55-71.49-42.71-116.31-42.71h-1c-23.26 0-51.79 5.64-72.09 15.86-23.11 10.7-43.49 26.7-60.45 47.7-27.3 33.83-43.84 79.55-47.86 130.93-.13 1.54-.24 3.08-.35 4.62s-.18 2.92-.25 4.39a332.64 332.64 0 0 0-.36 21.69C1860.79 507 1923.65 600 2035.3 600c98 0 155.07-71.64 169.3-167.8l-7.19-2.53c-25 51.68-69.9 83-121 79.18-69.76-5.22-123.2-75.95-118.35-161.63m532.69 157.68c-8.2 19.45-25.31 30.15-48.24 30.15s-43.89-15.74-58.78-44.34c-16-30.7-24.42-74.1-24.42-125.51 0-107 33.28-176.21 84.79-176.21 21.57 0 38.55 10.7 46.65 29.37zm165.84 76.28c-30.57-7.23-46.09-18-46.09-57V5.28L2424.77 60v6.7l1.14-.09c25.62-2.07 43 1.47 53.09 10.79 7.9 7.3 11.75 18.5 11.75 34.26v71.14c-18.31-11.69-40.09-17.38-66.52-17.38-53.6 0-102.59 22.57-137.92 63.56-36.83 42.72-56.3 101.1-56.3 168.81C2230 518.72 2289.53 600 2378.13 600c51.83 0 93.53-28.4 112.62-76.3V588h166.65v-6.66zm159.29-505.33c0-37.76-28.47-66.24-66.24-66.24-37.59 0-67 29.1-67 66.24s29.44 66.24 67 66.24c37.77 0 66.24-28.48 66.24-66.24m43.84 505.33c-30.57-7.23-46.09-18-46.09-57h-.13V166.65l-166.66 47.85v6.5l1 .09c36.06 3.21 45.93 15.63 45.93 57.77V588h166.8v-6.66zm427.05 0c-30.57-7.23-46.09-18-46.09-57V166.65L3082 212.92v6.52l.94.1c29.48 3.1 38 16.23 38 58.56v226c-9.83 19.45-28.27 31-50.61 31.78-36.23 0-56.18-24.47-56.18-68.9V166.66l-166.66 47.85V221l1 .09c36.06 3.2 45.94 15.62 45.94 57.77v191.27a214.48 214.48 0 0 0 3.47 39.82l3 13.05c14.11 50.56 51.08 77 109 77 49.06 0 92.06-30.37 111-77.89v66h166.66v-6.66zM3934.2 588v-6.67l-.81-.19c-33.17-7.65-46.09-22.07-46.09-51.43v-243.2c0-75.83-42.59-121.09-113.93-121.09-52 0-95.85 30.05-112.73 76.86-13.41-49.6-52-76.86-109.06-76.86-50.12 0-89.4 26.45-106.25 71.13v-69.87l-166.66 45.89v6.54l1 .09c35.63 3.16 45.93 15.94 45.93 57V588h155.5v-6.66l-.82-.2c-26.46-6.22-35-17.56-35-46.66V255.72c7-16.35 21.11-35.72 49-35.72 34.64 0 52.2 24 52.2 71.28V588h155.54v-6.66l-.82-.2c-26.46-6.22-35-17.56-35-46.66v-248a160.45 160.45 0 0 0-2.2-27.68c7.42-17.77 22.34-38.8 51.37-38.8 35.13 0 52.2 23.31 52.2 71.28V588z\"></path></svg></a><div class=\"aw h\"><div class=\"ab ax ay az ba q bb bc\"><div class=\"bl\" aria-hidden=\"false\" aria-describedby=\"searchResults\" aria-labelledby=\"searchResults\"></div><div class=\"bm bn ab\"><svg width=\"24\" height=\"24\" viewBox=\"0 0 24 24\" fill=\"none\"><path fill-rule=\"evenodd\" clip-rule=\"evenodd\" d=\"M4.1 11.06a6.95 6.95 0 1 1 13.9 0 6.95 6.95 0 0 1-13.9 0zm6.94-8.05a8.05 8.05 0 1 0 5.13 14.26l3.75 3.75a.56.56 0 1 0 .8-.79l-3.74-3.73A8.05 8.05 0 0 0 11.04 3v.01z\" fill=\"currentColor\"></path></svg></div><input role=\"combobox\" aria-controls=\"searchResults\" aria-expanded=\"false\" aria-label=\"search\" data-testid=\"headerSearchInput\" tabindex=\"0\" class=\"ax bd be bf z bg bh bi bj bk\" placeholder=\"Search\" value=\"\"/></div></div></div><div class=\"h k w ff fg\"><div class=\"fh ab\"><span><a class=\"af ag ah ai aj ak al am an ao ap aq ar as at\" data-testid=\"headerWriteButton\" href=\"https://medium.com/m/signin?operation=register&amp;redirect=https%3A%2F%2Fmedium.com%2Fnew-story&amp;source=---two_column_layout_nav-----------------------new_post_topnav-----------\" rel=\"noopener follow\"><div class=\"be b bf z dt fi fj ab q fk fl\"><svg width=\"24\" height=\"24\" viewBox=\"0 0 24 24\" fill=\"none\" aria-label=\"Write\"><path d=\"M14 4a.5.5 0 0 0 0-1v1zm7 6a.5.5 0 0 0-1 0h1zm-7-7H4v1h10V3zM3 4v16h1V4H3zm1 17h16v-1H4v1zm17-1V10h-1v10h1zm-1 1a1 1 0 0 0 1-1h-1v1zM3 20a1 1 0 0 0 1 1v-1H3zM4 3a1 1 0 0 0-1 1h1V3z\" fill=\"currentColor\"></path><path d=\"M17.5 4.5l-8.46 8.46a.25.25 0 0 0-.06.1l-.82 2.47c-.07.2.12.38.31.31l2.47-.82a.25.25 0 0 0 .1-.06L19.5 6.5m-2-2l2.32-2.32c.1-.1.26-.1.36 0l1.64 1.64c.1.1.1.26 0 .36L19.5 6.5m-2-2l2 2\" stroke=\"currentColor\"></path></svg><div class=\"ds l\">Write</div></div></a></span></div></div><div class=\"k j i d\"><div class=\"fh ab\"><a class=\"af ag ah ai aj ak al am an ao ap aq ar as at\" data-testid=\"headerSearchButton\" href=\"https://medium.com/search?source=---two_column_layout_nav----------------------------------\" rel=\"noopener follow\"><div class=\"be b bf z dt fi fj ab q fk fl\"><svg width=\"24\" height=\"24\" viewBox=\"0 0 24 24\" fill=\"none\" aria-label=\"Search\"><path fill-rule=\"evenodd\" clip-rule=\"evenodd\" d=\"M4.1 11.06a6.95 6.95 0 1 1 13.9 0 6.95 6.95 0 0 1-13.9 0zm6.94-8.05a8.05 8.05 0 1 0 5.13 14.26l3.75 3.75a.56.56 0 1 0 .8-.79l-3.74-3.73A8.05 8.05 0 0 0 11.04 3v.01z\" fill=\"currentColor\"></path></svg></div></a></div></div><div class=\"fh h k j\"><div class=\"ab q\"><p class=\"be b dw dx dy dz ea eb ec ed ee ef dt\"><span><a class=\"be b dw dx eg dy dz eh ea eb ei ej ed ek el ef em eo ep eq er es et eu ev ew ex ey ez fa fb fc bl fd fe\" data-testid=\"headerSignUpButton\" href=\"https://medium.com/m/signin?operation=register&amp;redirect=https%3A%2F%2Fbetterprogramming.pub%2Fhow-i-built-an-autonomous-ai-agent-for-online-research-93435a97c6c&amp;source=post_page---two_column_layout_nav-----------------------global_nav-----------\" rel=\"noopener follow\">Sign up</a></span></p><div class=\"aw l\"><p class=\"be b dw dx dy dz ea eb ec ed ee ef dt\"><span><a class=\"af ag ah ai aj ak al am an ao ap aq ar as at\" data-testid=\"headerSignInButton\" href=\"https://medium.com/m/signin?operation=login&amp;redirect=https%3A%2F%2Fbetterprogramming.pub%2Fhow-i-built-an-autonomous-ai-agent-for-online-research-93435a97c6c&amp;source=post_page---two_column_layout_nav-----------------------global_nav-----------\" rel=\"noopener follow\">Sign in</a></span></p></div></div></div><div class=\"l\" aria-hidden=\"false\"><button class=\"ax fm am ab q ao fn fo fp\" aria-label=\"user options menu\" data-testid=\"headerUserIcon\"><div class=\"l fi\"><img alt=\"\" class=\"l fc bx by bz cw\" src=\"https://miro.medium.com/v2/resize:fill:64:64/1*dmbNkD5D-u45r44go_cf0g.png\" width=\"32\" height=\"32\" loading=\"lazy\" role=\"presentation\"/><div class=\"fq bx l by bz fr n ax fs\"></div></div></button></div></div></div><div class=\"l\"><div class=\"ft fu fv fw fx l\"><div class=\"ab ca\"><div class=\"ch bg fy fz ga gb\"></div></div><article class=\"meteredContent\"><div class=\"l\"><div class=\"l\"><span class=\"l\"></span><section><div><div class=\"fr gh gi gj gk gl\"></div><div class=\"gm gn go gp gq\"><div class=\"ab ca\"><div class=\"ch bg fy fz ga gb\"><figure class=\"gu gv gw gx gy gz gr gs paragraph-image\"><div role=\"button\" tabindex=\"0\" class=\"ha hb fi hc bg hd\"><div class=\"gr gs gt\"><picture><source srcSet=\"https://miro.medium.com/v2/resize:fit:640/format:webp/1*f2XEZvAV7D4OQWlmqGBo9g.png 640w, https://miro.medium.com/v2/resize:fit:720/format:webp/1*f2XEZvAV7D4OQWlmqGBo9g.png 720w, https://miro.medium.com/v2/resize:fit:750/format:webp/1*f2XEZvAV7D4OQWlmqGBo9g.png 750w, https://miro.medium.com/v2/resize:fit:786/format:webp/1*f2XEZvAV7D4OQWlmqGBo9g.png 786w, https://miro.medium.com/v2/resize:fit:828/format:webp/1*f2XEZvAV7D4OQWlmqGBo9g.png 828w, https://miro.medium.com/v2/resize:fit:1100/format:webp/1*f2XEZvAV7D4OQWlmqGBo9g.png 1100w, https://miro.medium.com/v2/resize:fit:1400/format:webp/1*f2XEZvAV7D4OQWlmqGBo9g.png 1400w\" sizes=\"(min-resolution: 4dppx) and (max-width: 700px) 50vw, (-webkit-min-device-pixel-ratio: 4) and (max-width: 700px) 50vw, (min-resolution: 3dppx) and (max-width: 700px) 67vw, (-webkit-min-device-pixel-ratio: 3) and (max-width: 700px) 65vw, (min-resolution: 2.5dppx) and (max-width: 700px) 80vw, (-webkit-min-device-pixel-ratio: 2.5) and (max-width: 700px) 80vw, (min-resolution: 2dppx) and (max-width: 700px) 100vw, (-webkit-min-device-pixel-ratio: 2) and (max-width: 700px) 100vw, 700px\" type=\"image/webp\"/><source data-testid=\"og\" srcSet=\"https://miro.medium.com/v2/resize:fit:640/1*f2XEZvAV7D4OQWlmqGBo9g.png 640w, https://miro.medium.com/v2/resize:fit:720/1*f2XEZvAV7D4OQWlmqGBo9g.png 720w, https://miro.medium.com/v2/resize:fit:750/1*f2XEZvAV7D4OQWlmqGBo9g.png 750w, https://miro.medium.com/v2/resize:fit:786/1*f2XEZvAV7D4OQWlmqGBo9g.png 786w, https://miro.medium.com/v2/resize:fit:828/1*f2XEZvAV7D4OQWlmqGBo9g.png 828w, https://miro.medium.com/v2/resize:fit:1100/1*f2XEZvAV7D4OQWlmqGBo9g.png 1100w, https://miro.medium.com/v2/resize:fit:1400/1*f2XEZvAV7D4OQWlmqGBo9g.png 1400w\" sizes=\"(min-resolution: 4dppx) and (max-width: 700px) 50vw, (-webkit-min-device-pixel-ratio: 4) and (max-width: 700px) 50vw, (min-resolution: 3dppx) and (max-width: 700px) 67vw, (-webkit-min-device-pixel-ratio: 3) and (max-width: 700px) 65vw, (min-resolution: 2.5dppx) and (max-width: 700px) 80vw, (-webkit-min-device-pixel-ratio: 2.5) and (max-width: 700px) 80vw, (min-resolution: 2dppx) and (max-width: 700px) 100vw, (-webkit-min-device-pixel-ratio: 2) and (max-width: 700px) 100vw, 700px\"/><img alt=\"\" class=\"bg he hf c\" width=\"700\" height=\"360\" loading=\"eager\" role=\"presentation\"/></picture></div></div></figure><div><div class=\"speechify-ignore l\"><div class=\"gu gv gw gx gy l\"></div><div class=\"ck l\"><div class=\"hi ab\"><div class=\"bl\" aria-hidden=\"false\"><button class=\"l ax ao am\" aria-label=\"Member-only story\"><div class=\"h k j i d\"><div><div class=\"bl\" aria-hidden=\"false\"><svg width=\"16\" height=\"16\" viewBox=\"0 0 64 64\" fill=\"none\"><path d=\"M39.64 40.83L33.87 56.7a1.99 1.99 0 0 1-3.74 0l-5.77-15.87a2.02 2.02 0 0 0-1.2-1.2L7.3 33.88a1.99 1.99 0 0 1 0-3.74l15.87-5.77a2.02 2.02 0 0 0 1.2-1.2L30.12 7.3a1.99 1.99 0 0 1 3.74 0l5.77 15.87a2.02 2.02 0 0 0 1.2 1.2l15.86 5.76a1.99 1.99 0 0 1 0 3.74l-15.87 5.77a2.02 2.02 0 0 0-1.2 1.2z\" fill=\"#FFC017\"></path></svg></div></div></div><div class=\"s u w ff fg q\"><svg width=\"16\" height=\"16\" viewBox=\"0 0 64 64\" fill=\"none\" class=\"hg hh\"><path d=\"M39.64 40.83L33.87 56.7a1.99 1.99 0 0 1-3.74 0l-5.77-15.87a2.02 2.02 0 0 0-1.2-1.2L7.3 33.88a1.99 1.99 0 0 1 0-3.74l15.87-5.77a2.02 2.02 0 0 0 1.2-1.2L30.12 7.3a1.99 1.99 0 0 1 3.74 0l5.77 15.87a2.02 2.02 0 0 0 1.2 1.2l15.86 5.76a1.99 1.99 0 0 1 0 3.74l-15.87 5.77a2.02 2.02 0 0 0-1.2 1.2z\" fill=\"#FFC017\"></path></svg><p class=\"be b bf z dt\">Member-only story</p></div></button></div></div></div></div><h1 id=\"eee3\" class=\"pw-post-title hj hk hl be hm hn ho hp hq hr hs ht hu hv hw hx hy hz ia ib ic id bj\" data-testid=\"storyTitle\">How I Built an Autonomous AI Agent for Online Research</h1></div><div><h2 id=\"f93b\" class=\"pw-subtitle-paragraph ie hk hl be b if ig ih ii ij ik il im in io ip iq ir is it cp dt\">GPT Researcher: the future of comprehensive online research</h2><div class=\"iu iv iw ix iy\"><div class=\"speechify-ignore ab co\"><div class=\"speechify-ignore bg l\"><div class=\"iz ja jb jc jd ab\"><div><div class=\"ab je\"><a href=\"https://medium.com/@assafelovic?source=post_page-----93435a97c6c--------------------------------\" rel=\"noopener follow\"><div><div class=\"bl\" aria-hidden=\"false\"><div class=\"l jf jg bx jh ji\"><div class=\"l fi\"><img alt=\"Assaf Elovic\" class=\"l fc bx dc dd cw\" src=\"https://miro.medium.com/v2/resize:fill:88:88/1*I6aJfpHMF__sQUmbPOMCOg.jpeg\" width=\"44\" height=\"44\" loading=\"lazy\" data-testid=\"authorPhoto\"/><div class=\"jj bx l dc dd fr n jk fs\"></div></div></div></div></div></a><a href=\"https://betterprogramming.pub/?source=post_page-----93435a97c6c--------------------------------\" rel=\"noopener  ugc nofollow\"><div class=\"jl ab fi\"><div><div class=\"bl\" aria-hidden=\"false\"><div class=\"l jm jn bx jh jo\"><div class=\"l fi\"><img alt=\"Better Programming\" class=\"l fc bx bq jp cw\" src=\"https://miro.medium.com/v2/resize:fill:48:48/1*QNoA3XlXLHz22zQazc0syg.png\" width=\"24\" height=\"24\" loading=\"lazy\" data-testid=\"publicationPhoto\"/><div class=\"jj bx l bq jp fr n jk fs\"></div></div></div></div></div></div></a></div></div><div class=\"bm bg l\"><div class=\"ab\"><div style=\"flex:1\"><span class=\"be b bf z bj\"><div class=\"jq ab q\"><div class=\"ab q jr\"><div class=\"ab q\"><div><div class=\"bl\" aria-hidden=\"false\"><p class=\"be b js jt bj\"><a class=\"af ag ah ai aj ak al am an ao ap aq ar ju\" data-testid=\"authorName\" href=\"https://medium.com/@assafelovic?source=post_page-----93435a97c6c--------------------------------\" rel=\"noopener follow\">Assaf Elovic</a></p></div></div></div><span class=\"jv jw\" aria-hidden=\"true\"><span class=\"be b bf z dt\">·</span></span><p class=\"be b js jt dt\"><span><a class=\"jx jy ah ai aj ak al am an ao ap aq ar ew jz ka\" href=\"https://medium.com/m/signin?actionUrl=https%3A%2F%2Fmedium.com%2F_%2Fsubscribe%2Fuser%2Fbf912a8da233&amp;operation=register&amp;redirect=https%3A%2F%2Fbetterprogramming.pub%2Fhow-i-built-an-autonomous-ai-agent-for-online-research-93435a97c6c&amp;user=Assaf+Elovic&amp;userId=bf912a8da233&amp;source=post_page-bf912a8da233----93435a97c6c---------------------post_header-----------\" rel=\"noopener follow\">Follow</a></span></p></div></div></span></div></div><div class=\"l kb\"><span class=\"be b bf z dt\"><div class=\"ab cm kc kd ke\"><div class=\"kf kg ab\"><div class=\"be b bf z dt ab kh\"><span class=\"hg l kb\">Published in</span><div><div class=\"bl\" aria-hidden=\"false\"><a class=\"af ag ah ai aj ak al am an ao ap aq ar ju ab q\" data-testid=\"publicationName\" href=\"https://betterprogramming.pub/?source=post_page-----93435a97c6c--------------------------------\" rel=\"noopener  ugc nofollow\"><p class=\"be b bf z ki kj kk kl km kn ko kp bj\">Better Programming</p></a></div></div></div><div class=\"h k\"><span class=\"jv jw\" aria-hidden=\"true\"><span class=\"be b bf z dt\">·</span></span></div></div><span class=\"be b bf z dt\"><div class=\"ab ae\"><span data-testid=\"storyReadTime\">6 min read</span><div class=\"kq kr l\" aria-hidden=\"true\"><span class=\"l\" aria-hidden=\"true\"><span class=\"be b bf z dt\">·</span></span></div><span data-testid=\"storyPublishDate\">Jul 24, 2023</span></div></span></div></span></div></div></div><div class=\"ab co ks kt ku kv kw kx ky kz la lb lc ld le lf lg lh\"><div class=\"h k w ff fg q\"><div class=\"lx l\"><div class=\"ab q ly\"><div class=\"pw-multi-vote-icon fi hg lz ma mb\"><span><a class=\"af ag ah ai aj ak al am an ao ap aq ar as at\" data-testid=\"headerClapButton\" href=\"https://medium.com/m/signin?actionUrl=https%3A%2F%2Fmedium.com%2F_%2Fvote%2Fbetter-programming%2F93435a97c6c&amp;operation=register&amp;redirect=https%3A%2F%2Fbetterprogramming.pub%2Fhow-i-built-an-autonomous-ai-agent-for-online-research-93435a97c6c&amp;user=Assaf+Elovic&amp;userId=bf912a8da233&amp;source=-----93435a97c6c---------------------clap_footer-----------\" rel=\"noopener follow\"><div><div class=\"bl\" aria-hidden=\"false\"><div class=\"mc ao md me mf mg am mh mi mj mb\"><svg width=\"24\" height=\"24\" viewBox=\"0 0 24 24\" aria-label=\"clap\"><path fill-rule=\"evenodd\" clip-rule=\"evenodd\" d=\"M11.37.83L12 3.28l.63-2.45h-1.26zM13.92 3.95l1.52-2.1-1.18-.4-.34 2.5zM8.59 1.84l1.52 2.11-.34-2.5-1.18.4zM18.52 18.92a4.23 4.23 0 0 1-2.62 1.33l.41-.37c2.39-2.4 2.86-4.95 1.4-7.63l-.91-1.6-.8-1.67c-.25-.56-.19-.98.21-1.29a.7.7 0 0 1 .55-.13c.28.05.54.23.72.5l2.37 4.16c.97 1.62 1.14 4.23-1.33 6.7zm-11-.44l-4.15-4.15a.83.83 0 0 1 1.17-1.17l2.16 2.16a.37.37 0 0 0 .51-.52l-2.15-2.16L3.6 11.2a.83.83 0 0 1 1.17-1.17l3.43 3.44a.36.36 0 0 0 .52 0 .36.36 0 0 0 0-.52L5.29 9.51l-.97-.97a.83.83 0 0 1 0-1.16.84.84 0 0 1 1.17 0l.97.97 3.44 3.43a.36.36 0 0 0 .51 0 .37.37 0 0 0 0-.52L6.98 7.83a.82.82 0 0 1-.18-.9.82.82 0 0 1 .76-.51c.22 0 .43.09.58.24l5.8 5.79a.37.37 0 0 0 .58-.42L13.4 9.67c-.26-.56-.2-.98.2-1.29a.7.7 0 0 1 .55-.13c.28.05.55.23.73.5l2.2 3.86c1.3 2.38.87 4.59-1.29 6.75a4.65 4.65 0 0 1-4.19 1.37 7.73 7.73 0 0 1-4.07-2.25zm3.23-12.5l2.12 2.11c-.41.5-.47 1.17-.13 1.9l.22.46-3.52-3.53a.81.81 0 0 1-.1-.36c0-.23.09-.43.24-.59a.85.85 0 0 1 1.17 0zm7.36 1.7a1.86 1.86 0 0 0-1.23-.84 1.44 1.44 0 0 0-1.12.27c-.3.24-.5.55-.58.89-.25-.25-.57-.4-.91-.47-.28-.04-.56 0-.82.1l-2.18-2.18a1.56 1.56 0 0 0-2.2 0c-.2.2-.33.44-.4.7a1.56 1.56 0 0 0-2.63.75 1.6 1.6 0 0 0-2.23-.04 1.56 1.56 0 0 0 0 2.2c-.24.1-.5.24-.72.45a1.56 1.56 0 0 0 0 2.2l.52.52a1.56 1.56 0 0 0-.75 2.61L7 19a8.46 8.46 0 0 0 4.48 2.45 5.18 5.18 0 0 0 3.36-.5 4.89 4.89 0 0 0 4.2-1.51c2.75-2.77 2.54-5.74 1.43-7.59L18.1 7.68z\"></path></svg></div></div></div></a></span></div><div class=\"pw-multi-vote-count l mk ml mm mn mo mp mq\"><p class=\"be b du z dt\"><span class=\"mr\">--</span></p></div></div></div><div><div class=\"bl\" aria-hidden=\"false\"><button class=\"ao mc mt mu ab q fj mv mw\" aria-label=\"responses\"><svg width=\"24\" height=\"24\" viewBox=\"0 0 24 24\" class=\"ic\"><path d=\"M18 16.8a7.14 7.14 0 0 0 2.24-5.32c0-4.12-3.53-7.48-8.05-7.48C7.67 4 4 7.36 4 11.48c0 4.13 3.67 7.48 8.2 7.48a8.9 8.9 0 0 0 2.38-.32c.23.2.48.39.75.56 1.06.69 2.2 1.04 3.4 1.04.22 0 .4-.11.48-.29a.5.5 0 0 0-.04-.52 6.4 6.4 0 0 1-1.16-2.65v.02zm-3.12 1.06l-.06-.22-.32.1a8 8 0 0 1-2.3.33c-4.03 0-7.3-2.96-7.3-6.59S8.17 4.9 12.2 4.9c4 0 7.1 2.96 7.1 6.6 0 1.8-.6 3.47-2.02 4.72l-.2.16v.26l.02.3a6.74 6.74 0 0 0 .88 2.4 5.27 5.27 0 0 1-2.17-.86c-.28-.17-.72-.38-.94-.59l.01-.02z\"></path></svg><p class=\"be b du z dt\"><span class=\"pw-responses-count ms ic\">10</span></p></button></div></div></div><div class=\"ab q li lj lk ll lm ln lo lp lq lr ls lt lu lv lw\"><div class=\"mx k j i d\"></div><div class=\"h k\"><div><div class=\"bl\" aria-hidden=\"false\"><span><a class=\"af ag ah ai aj ak al am an ao ap aq ar as at\" data-testid=\"headerBookmarkButton\" href=\"https://medium.com/m/signin?actionUrl=https%3A%2F%2Fmedium.com%2F_%2Fbookmark%2Fp%2F93435a97c6c&amp;operation=register&amp;redirect=https%3A%2F%2Fbetterprogramming.pub%2Fhow-i-built-an-autonomous-ai-agent-for-online-research-93435a97c6c&amp;source=-----93435a97c6c---------------------bookmark_footer-----------\" rel=\"noopener follow\"><svg width=\"25\" height=\"25\" viewBox=\"0 0 25 25\" fill=\"none\" class=\"dt my\" aria-label=\"Add to list bookmark button\"><path d=\"M18 2.5a.5.5 0 0 1 1 0V5h2.5a.5.5 0 0 1 0 1H19v2.5a.5.5 0 1 1-1 0V6h-2.5a.5.5 0 0 1 0-1H18V2.5zM7 7a1 1 0 0 1 1-1h3.5a.5.5 0 0 0 0-1H8a2 2 0 0 0-2 2v14a.5.5 0 0 0 .8.4l5.7-4.4 5.7 4.4a.5.5 0 0 0 .8-.4v-8.5a.5.5 0 0 0-1 0v7.48l-5.2-4a.5.5 0 0 0-.6 0l-5.2 4V7z\" fill=\"currentColor\"></path></svg></a></span></div></div></div><div class=\"fc mz cm\"><div class=\"l ae\"><div class=\"ab ca\"><div class=\"na nb nc nd ne he ch bg\"><div class=\"ab\"></div></div></div></div></div><div class=\"bl\" aria-hidden=\"false\" aria-describedby=\"postFooterSocialMenu\" aria-labelledby=\"postFooterSocialMenu\"><div><div class=\"bl\" aria-hidden=\"false\"><button aria-controls=\"postFooterSocialMenu\" aria-expanded=\"false\" aria-label=\"Share Post\" data-testid=\"headerSocialShareButton\" class=\"af fj ah ai aj ak al nf an ao ap ew ng nh mw ni nj nk nl nm s nn no np nq nr ns nt u nu nv nw\"><svg width=\"24\" height=\"24\" viewBox=\"0 0 24 24\" fill=\"none\"><path fill-rule=\"evenodd\" clip-rule=\"evenodd\" d=\"M15.22 4.93a.42.42 0 0 1-.12.13h.01a.45.45 0 0 1-.29.08.52.52 0 0 1-.3-.13L12.5 3v7.07a.5.5 0 0 1-.5.5.5.5 0 0 1-.5-.5V3.02l-2 2a.45.45 0 0 1-.57.04h-.02a.4.4 0 0 1-.16-.3.4.4 0 0 1 .1-.32l2.8-2.8a.5.5 0 0 1 .7 0l2.8 2.8a.42.42 0 0 1 .07.5zm-.1.14zm.88 2h1.5a2 2 0 0 1 2 2v10a2 2 0 0 1-2 2h-11a2 2 0 0 1-2-2v-10a2 2 0 0 1 2-2H8a.5.5 0 0 1 .35.14c.1.1.15.22.15.35a.5.5 0 0 1-.15.35.5.5 0 0 1-.35.15H6.4c-.5 0-.9.4-.9.9v10.2a.9.9 0 0 0 .9.9h11.2c.5 0 .9-.4.9-.9V8.96c0-.5-.4-.9-.9-.9H16a.5.5 0 0 1 0-1z\" fill=\"currentColor\"></path></svg><div class=\"j i d\"><p class=\"be b bf z dt\">Share</p></div></button></div></div></div></div></div></div></div></div></div><p id=\"27cc\" class=\"pw-post-body-paragraph nx ny hl nz b if oa ob oc ii od oe of og oh oi oj ok ol om on oo op oq or os gm bj\">After <a class=\"af ot\" href=\"https://en.wikipedia.org/wiki/Auto-GPT\" rel=\"noopener ugc nofollow\" target=\"_blank\">AutoGPT</a> was published, I immediately took it for a spin. The first use case that came to mind was autonomous online research. Forming objective conclusions for manual research tasks can take time, sometimes weeks, to find the right resources and information. Seeing how well AutoGPT created tasks and executed them got me thinking about the great potential of using AI to conduct comprehensive research and what it meant for the future of online research.</p><p id=\"9678\" class=\"pw-post-body-paragraph nx ny hl nz b if oa ob oc ii od oe of og oh oi oj ok ol om on oo op oq or os gm bj\">But the problem with AutoGPT was that it usually ran into never-ending loops, required human interference for almost every step, constantly lost track of its progress, and almost never actually completed the task.</p><p id=\"cc98\" class=\"pw-post-body-paragraph nx ny hl nz b if oa ob oc ii od oe of og oh oi oj ok ol om on oo op oq or os gm bj\">Nonetheless, the information and context gathered during the research task were lost (such as keeping track of sources), and sometimes hallucinated.</p><p id=\"9a0a\" class=\"pw-post-body-paragraph nx ny hl nz b if oa ob oc ii od oe of og oh oi oj ok ol om on oo op oq or os gm bj\">The passion for leveraging AI for online research and the limitations I found put me on a mission to try and solve it while sharing my work with the world. This is when I created <a class=\"af ot\" href=\"https://github.com/assafelovic/gpt-researcher\" rel=\"noopener ugc nofollow\" target=\"_blank\">GPT Researcher</a> — an open source autonomous agent for online comprehensive research.</p><p id=\"36f1\" class=\"pw-post-body-paragraph nx ny hl nz b if oa ob oc ii od oe of og oh oi oj ok ol om on oo op oq or os gm bj\">In this article, I will share the steps that guided me toward the proposed solution.</p><h2 id=\"36f3\" class=\"ou ov hl be ow ox oy dx oz pa pb dz pc og pd pe pf ok pg ph pi oo pj pk pl pm bj\">Moving from infinite loops to deterministic results</h2><p id=\"4f99\" class=\"pw-post-body-paragraph nx ny hl nz b if pn ob oc ii po oe of og pp oi oj ok pq om on oo pr oq or os gm bj\">The first step in solving these issues was to seek a more deterministic solution that could ultimately guarantee completing any research task within a fixed time frame, without human interference.</p><p id=\"f827\" class=\"pw-post-body-paragraph nx ny hl nz b if oa ob oc ii od oe of og oh oi oj ok ol om on oo op oq or os gm bj\">This is when I stumbled upon the recent paper <a class=\"af ot\" href=\"https://arxiv.org/abs/2305.04091\" rel=\"noopener ugc nofollow\" target=\"_blank\">Plan and Solve</a>. The paper aims to provide a better solution for the challenges stated above. The idea is quite simple and consists of two components: first, devising a plan to divide the entire task into smaller subtasks and then carrying out the subtasks according to the plan.</p><figure class=\"pt pu pv pw px gz gr gs paragraph-image\"><div class=\"gr gs ps\"><picture><source srcSet=\"https://miro.medium.com/v2/resize:fit:640/format:webp/1*ZRAW7whLfMW9ppSiYoHgBw.png 640w, https://miro.medium.com/v2/resize:fit:720/format:webp/1*ZRAW7whLfMW9ppSiYoHgBw.png 720w, https://miro.medium.com/v2/resize:fit:750/format:webp/1*ZRAW7whLfMW9ppSiYoHgBw.png 750w, https://miro.medium.com/v2/resize:fit:786/format:webp/1*ZRAW7whLfMW9ppSiYoHgBw.png 786w, https://miro.medium.com/v2/resize:fit:828/format:webp/1*ZRAW7whLfMW9ppSiYoHgBw.png 828w, https://miro.medium.com/v2/resize:fit:1100/format:webp/1*ZRAW7whLfMW9ppSiYoHgBw.png 1100w, https://miro.medium.com/v2/resize:fit:1374/format:webp/1*ZRAW7whLfMW9ppSiYoHgBw.png 1374w\" sizes=\"(min-resolution: 4dppx) and (max-width: 700px) 50vw, (-webkit-min-device-pixel-ratio: 4) and (max-width: 700px) 50vw, (min-resolution: 3dppx) and (max-width: 700px) 67vw, (-webkit-min-device-pixel-ratio: 3) and (max-width: 700px) 65vw, (min-resolution: 2.5dppx) and (max-width: 700px) 80vw, (-webkit-min-device-pixel-ratio: 2.5) and (max-width: 700px) 80vw, (min-resolution: 2dppx) and (max-width: 700px) 100vw, (-webkit-min-device-pixel-ratio: 2) and (max-width: 700px) 100vw, 687px\" type=\"image/webp\"/><source data-testid=\"og\" srcSet=\"https://miro.medium.com/v2/resize:fit:640/1*ZRAW7whLfMW9ppSiYoHgBw.png 640w, https://miro.medium.com/v2/resize:fit:720/1*ZRAW7whLfMW9ppSiYoHgBw.png 720w, https://miro.medium.com/v2/resize:fit:750/1*ZRAW7whLfMW9ppSiYoHgBw.png 750w, https://miro.medium.com/v2/resize:fit:786/1*ZRAW7whLfMW9ppSiYoHgBw.png 786w, https://miro.medium.com/v2/resize:fit:828/1*ZRAW7whLfMW9ppSiYoHgBw.png 828w, https://miro.medium.com/v2/resize:fit:1100/1*ZRAW7whLfMW9ppSiYoHgBw.png 1100w, https://miro.medium.com/v2/resize:fit:1374/1*ZRAW7whLfMW9ppSiYoHgBw.png 1374w\" sizes=\"(min-resolution: 4dppx) and (max-width: 700px) 50vw, (-webkit-min-device-pixel-ratio: 4) and (max-width: 700px) 50vw, (min-resolution: 3dppx) and (max-width: 700px) 67vw, (-webkit-min-device-pixel-ratio: 3) and (max-width: 700px) 65vw, (min-resolution: 2.5dppx) and (max-width: 700px) 80vw, (-webkit-min-device-pixel-ratio: 2.5) and (max-width: 700px) 80vw, (min-resolution: 2dppx) and (max-width: 700px) 100vw, (-webkit-min-device-pixel-ratio: 2) and (max-width: 700px) 100vw, 687px\"/><img alt=\"\" class=\"bg he hf c\" width=\"687\" height=\"516\" loading=\"lazy\" role=\"presentation\"/></picture></div><figcaption class=\"py fe pz gr gs qa qb be b bf z dt\">Example inputs and outputs of GPT-3 with (a) Zero-shot-CoT prompting, (b) Plan-and-Solve (PS) prompting</figcaption></figure><p id=\"e4a0\" class=\"pw-post-body-paragraph nx ny hl nz b if oa ob oc ii od oe of og oh oi oj ok ol om on oo op oq or os gm bj\">As it relates to research, first create an outline of questions to research related to the task, and then…</p></div></div></div></div></section></div></div></article><div class=\"ab ca\"><div class=\"ch bg fy fz ga gb\"></div></div></div><div class=\"l\"></div><footer class=\"qc qd qe qf qg qh qi qj hi ab q qk jo c\"><div class=\"l ae\"><div class=\"ab ca\"><div class=\"ch bg fy fz ga gb\"><div class=\"ab co ql\"><div class=\"ab q ly\"><div class=\"qm l\"><span class=\"l qn qo qp e d\"><div class=\"ab q ly\"><div class=\"pw-multi-vote-icon fi hg lz ma mb\"><span><a class=\"af ag ah ai aj ak al am an ao ap aq ar as at\" data-testid=\"footerClapButton\" href=\"https://medium.com/m/signin?actionUrl=https%3A%2F%2Fmedium.com%2F_%2Fvote%2Fbetter-programming%2F93435a97c6c&amp;operation=register&amp;redirect=https%3A%2F%2Fbetterprogramming.pub%2Fhow-i-built-an-autonomous-ai-agent-for-online-research-93435a97c6c&amp;user=Assaf+Elovic&amp;userId=bf912a8da233&amp;source=-----93435a97c6c---------------------clap_footer-----------\" rel=\"noopener follow\"><div><div class=\"bl\" aria-hidden=\"false\"><div class=\"mc ao md me mf mg am mh mi mj mb\"><svg width=\"24\" height=\"24\" viewBox=\"0 0 24 24\" aria-label=\"clap\"><path fill-rule=\"evenodd\" clip-rule=\"evenodd\" d=\"M11.37.83L12 3.28l.63-2.45h-1.26zM13.92 3.95l1.52-2.1-1.18-.4-.34 2.5zM8.59 1.84l1.52 2.11-.34-2.5-1.18.4zM18.52 18.92a4.23 4.23 0 0 1-2.62 1.33l.41-.37c2.39-2.4 2.86-4.95 1.4-7.63l-.91-1.6-.8-1.67c-.25-.56-.19-.98.21-1.29a.7.7 0 0 1 .55-.13c.28.05.54.23.72.5l2.37 4.16c.97 1.62 1.14 4.23-1.33 6.7zm-11-.44l-4.15-4.15a.83.83 0 0 1 1.17-1.17l2.16 2.16a.37.37 0 0 0 .51-.52l-2.15-2.16L3.6 11.2a.83.83 0 0 1 1.17-1.17l3.43 3.44a.36.36 0 0 0 .52 0 .36.36 0 0 0 0-.52L5.29 9.51l-.97-.97a.83.83 0 0 1 0-1.16.84.84 0 0 1 1.17 0l.97.97 3.44 3.43a.36.36 0 0 0 .51 0 .37.37 0 0 0 0-.52L6.98 7.83a.82.82 0 0 1-.18-.9.82.82 0 0 1 .76-.51c.22 0 .43.09.58.24l5.8 5.79a.37.37 0 0 0 .58-.42L13.4 9.67c-.26-.56-.2-.98.2-1.29a.7.7 0 0 1 .55-.13c.28.05.55.23.73.5l2.2 3.86c1.3 2.38.87 4.59-1.29 6.75a4.65 4.65 0 0 1-4.19 1.37 7.73 7.73 0 0 1-4.07-2.25zm3.23-12.5l2.12 2.11c-.41.5-.47 1.17-.13 1.9l.22.46-3.52-3.53a.81.81 0 0 1-.1-.36c0-.23.09-.43.24-.59a.85.85 0 0 1 1.17 0zm7.36 1.7a1.86 1.86 0 0 0-1.23-.84 1.44 1.44 0 0 0-1.12.27c-.3.24-.5.55-.58.89-.25-.25-.57-.4-.91-.47-.28-.04-.56 0-.82.1l-2.18-2.18a1.56 1.56 0 0 0-2.2 0c-.2.2-.33.44-.4.7a1.56 1.56 0 0 0-2.63.75 1.6 1.6 0 0 0-2.23-.04 1.56 1.56 0 0 0 0 2.2c-.24.1-.5.24-.72.45a1.56 1.56 0 0 0 0 2.2l.52.52a1.56 1.56 0 0 0-.75 2.61L7 19a8.46 8.46 0 0 0 4.48 2.45 5.18 5.18 0 0 0 3.36-.5 4.89 4.89 0 0 0 4.2-1.51c2.75-2.77 2.54-5.74 1.43-7.59L18.1 7.68z\"></path></svg></div></div></div></a></span></div><div class=\"pw-multi-vote-count l mk ml mm mn mo mp mq\"><p class=\"be b du z dt\"><span class=\"mr\">--</span></p></div></div></span><span class=\"l h g f qq qr\"><div class=\"ab q ly\"><div class=\"pw-multi-vote-icon fi hg lz ma mb\"><span><a class=\"af ag ah ai aj ak al am an ao ap aq ar as at\" data-testid=\"footerClapButton\" href=\"https://medium.com/m/signin?actionUrl=https%3A%2F%2Fmedium.com%2F_%2Fvote%2Fbetter-programming%2F93435a97c6c&amp;operation=register&amp;redirect=https%3A%2F%2Fbetterprogramming.pub%2Fhow-i-built-an-autonomous-ai-agent-for-online-research-93435a97c6c&amp;user=Assaf+Elovic&amp;userId=bf912a8da233&amp;source=-----93435a97c6c---------------------clap_footer-----------\" rel=\"noopener follow\"><div><div class=\"bl\" aria-hidden=\"false\"><div class=\"mc ao md me mf mg am mh mi mj mb\"><svg width=\"24\" height=\"24\" viewBox=\"0 0 24 24\" aria-label=\"clap\"><path fill-rule=\"evenodd\" clip-rule=\"evenodd\" d=\"M11.37.83L12 3.28l.63-2.45h-1.26zM13.92 3.95l1.52-2.1-1.18-.4-.34 2.5zM8.59 1.84l1.52 2.11-.34-2.5-1.18.4zM18.52 18.92a4.23 4.23 0 0 1-2.62 1.33l.41-.37c2.39-2.4 2.86-4.95 1.4-7.63l-.91-1.6-.8-1.67c-.25-.56-.19-.98.21-1.29a.7.7 0 0 1 .55-.13c.28.05.54.23.72.5l2.37 4.16c.97 1.62 1.14 4.23-1.33 6.7zm-11-.44l-4.15-4.15a.83.83 0 0 1 1.17-1.17l2.16 2.16a.37.37 0 0 0 .51-.52l-2.15-2.16L3.6 11.2a.83.83 0 0 1 1.17-1.17l3.43 3.44a.36.36 0 0 0 .52 0 .36.36 0 0 0 0-.52L5.29 9.51l-.97-.97a.83.83 0 0 1 0-1.16.84.84 0 0 1 1.17 0l.97.97 3.44 3.43a.36.36 0 0 0 .51 0 .37.37 0 0 0 0-.52L6.98 7.83a.82.82 0 0 1-.18-.9.82.82 0 0 1 .76-.51c.22 0 .43.09.58.24l5.8 5.79a.37.37 0 0 0 .58-.42L13.4 9.67c-.26-.56-.2-.98.2-1.29a.7.7 0 0 1 .55-.13c.28.05.55.23.73.5l2.2 3.86c1.3 2.38.87 4.59-1.29 6.75a4.65 4.65 0 0 1-4.19 1.37 7.73 7.73 0 0 1-4.07-2.25zm3.23-12.5l2.12 2.11c-.41.5-.47 1.17-.13 1.9l.22.46-3.52-3.53a.81.81 0 0 1-.1-.36c0-.23.09-.43.24-.59a.85.85 0 0 1 1.17 0zm7.36 1.7a1.86 1.86 0 0 0-1.23-.84 1.44 1.44 0 0 0-1.12.27c-.3.24-.5.55-.58.89-.25-.25-.57-.4-.91-.47-.28-.04-.56 0-.82.1l-2.18-2.18a1.56 1.56 0 0 0-2.2 0c-.2.2-.33.44-.4.7a1.56 1.56 0 0 0-2.63.75 1.6 1.6 0 0 0-2.23-.04 1.56 1.56 0 0 0 0 2.2c-.24.1-.5.24-.72.45a1.56 1.56 0 0 0 0 2.2l.52.52a1.56 1.56 0 0 0-.75 2.61L7 19a8.46 8.46 0 0 0 4.48 2.45 5.18 5.18 0 0 0 3.36-.5 4.89 4.89 0 0 0 4.2-1.51c2.75-2.77 2.54-5.74 1.43-7.59L18.1 7.68z\"></path></svg></div></div></div></a></span></div><div class=\"pw-multi-vote-count l mk ml mm mn mo mp mq\"><p class=\"be b du z dt\"><span class=\"mr\">--</span></p></div></div></span></div><div class=\"bp ab\"><div><div class=\"bl\" aria-hidden=\"false\"><button class=\"ao mc mt mu ab q fj mv mw\" aria-label=\"responses\"><svg width=\"24\" height=\"24\" viewBox=\"0 0 24 24\" class=\"ic\"><path d=\"M18 16.8a7.14 7.14 0 0 0 2.24-5.32c0-4.12-3.53-7.48-8.05-7.48C7.67 4 4 7.36 4 11.48c0 4.13 3.67 7.48 8.2 7.48a8.9 8.9 0 0 0 2.38-.32c.23.2.48.39.75.56 1.06.69 2.2 1.04 3.4 1.04.22 0 .4-.11.48-.29a.5.5 0 0 0-.04-.52 6.4 6.4 0 0 1-1.16-2.65v.02zm-3.12 1.06l-.06-.22-.32.1a8 8 0 0 1-2.3.33c-4.03 0-7.3-2.96-7.3-6.59S8.17 4.9 12.2 4.9c4 0 7.1 2.96 7.1 6.6 0 1.8-.6 3.47-2.02 4.72l-.2.16v.26l.02.3a6.74 6.74 0 0 0 .88 2.4 5.27 5.27 0 0 1-2.17-.86c-.28-.17-.72-.38-.94-.59l.01-.02z\"></path></svg><p class=\"be b bf z dt\"><span class=\"pw-responses-count ms ic\">10</span></p></button></div></div></div></div><div class=\"ab q\"><div class=\"qs l kb\"><div><div class=\"bl\" aria-hidden=\"false\"><span><a class=\"af ag ah ai aj ak al am an ao ap aq ar as at\" data-testid=\"footerBookmarkButton\" href=\"https://medium.com/m/signin?actionUrl=https%3A%2F%2Fmedium.com%2F_%2Fbookmark%2Fp%2F93435a97c6c&amp;operation=register&amp;redirect=https%3A%2F%2Fbetterprogramming.pub%2Fhow-i-built-an-autonomous-ai-agent-for-online-research-93435a97c6c&amp;source=--------------------------bookmark_footer-----------\" rel=\"noopener follow\"><svg width=\"25\" height=\"25\" viewBox=\"0 0 25 25\" fill=\"none\" class=\"dt my\" aria-label=\"Add to list bookmark button\"><path d=\"M18 2.5a.5.5 0 0 1 1 0V5h2.5a.5.5 0 0 1 0 1H19v2.5a.5.5 0 1 1-1 0V6h-2.5a.5.5 0 0 1 0-1H18V2.5zM7 7a1 1 0 0 1 1-1h3.5a.5.5 0 0 0 0-1H8a2 2 0 0 0-2 2v14a.5.5 0 0 0 .8.4l5.7-4.4 5.7 4.4a.5.5 0 0 0 .8-.4v-8.5a.5.5 0 0 0-1 0v7.48l-5.2-4a.5.5 0 0 0-.6 0l-5.2 4V7z\" fill=\"currentColor\"></path></svg></a></span></div></div></div><div class=\"qs l kb\"><div class=\"bl\" aria-hidden=\"false\" aria-describedby=\"postFooterSocialMenu\" aria-labelledby=\"postFooterSocialMenu\"><div><div class=\"bl\" aria-hidden=\"false\"><button aria-controls=\"postFooterSocialMenu\" aria-expanded=\"false\" aria-label=\"Share Post\" data-testid=\"footerSocialShareButton\" class=\"af fj ah ai aj ak al nf an ao ap ew ng nh mw ni\"><svg width=\"24\" height=\"24\" viewBox=\"0 0 24 24\" fill=\"none\"><path fill-rule=\"evenodd\" clip-rule=\"evenodd\" d=\"M15.22 4.93a.42.42 0 0 1-.12.13h.01a.45.45 0 0 1-.29.08.52.52 0 0 1-.3-.13L12.5 3v7.07a.5.5 0 0 1-.5.5.5.5 0 0 1-.5-.5V3.02l-2 2a.45.45 0 0 1-.57.04h-.02a.4.4 0 0 1-.16-.3.4.4 0 0 1 .1-.32l2.8-2.8a.5.5 0 0 1 .7 0l2.8 2.8a.42.42 0 0 1 .07.5zm-.1.14zm.88 2h1.5a2 2 0 0 1 2 2v10a2 2 0 0 1-2 2h-11a2 2 0 0 1-2-2v-10a2 2 0 0 1 2-2H8a.5.5 0 0 1 .35.14c.1.1.15.22.15.35a.5.5 0 0 1-.15.35.5.5 0 0 1-.35.15H6.4c-.5 0-.9.4-.9.9v10.2a.9.9 0 0 0 .9.9h11.2c.5 0 .9-.4.9-.9V8.96c0-.5-.4-.9-.9-.9H16a.5.5 0 0 1 0-1z\" fill=\"currentColor\"></path></svg></button></div></div></div></div></div></div></div></div></div></footer><div class=\"qt qu qv qw qx l bw\"><div class=\"ab ca\"><div class=\"ch bg fy fz ga gb\"><div class=\"ck ab qy co\"><div class=\"ab je\"><a href=\"https://medium.com/@assafelovic?source=post_page-----93435a97c6c--------------------------------\" rel=\"noopener follow\"><div class=\"l qz ra bx rb ji\"><div class=\"l fi\"><img alt=\"Assaf Elovic\" class=\"l fc bx rc rd cw\" src=\"https://miro.medium.com/v2/resize:fill:144:144/1*I6aJfpHMF__sQUmbPOMCOg.jpeg\" width=\"72\" height=\"72\" loading=\"lazy\"/><div class=\"jj bx l rc rd fr n jk fs\"></div></div></div></a><a href=\"https://betterprogramming.pub/?source=post_page-----93435a97c6c--------------------------------\" rel=\"noopener follow\"><div class=\"re ab fi\"><div><div class=\"bl\" aria-hidden=\"false\"><div class=\"l rf rg bx rb jo\"><div class=\"l fi\"><img alt=\"Better Programming\" class=\"l fc bx by bz cw\" src=\"https://miro.medium.com/v2/resize:fill:64:64/1*QNoA3XlXLHz22zQazc0syg.png\" width=\"32\" height=\"32\" loading=\"lazy\"/><div class=\"jj bx l by bz fr n jk fs\"></div></div></div></div></div></div></a></div><div class=\"j i d\"><div class=\"ab\"><span><a class=\"be b bf z rh ri rj rk rl rm rn eu ev ro rp rq ez rr fa fb fc bl fd fe\" href=\"https://medium.com/m/signin?actionUrl=https%3A%2F%2Fmedium.com%2F_%2Fsubscribe%2Fuser%2Fbf912a8da233&amp;operation=register&amp;redirect=https%3A%2F%2Fbetterprogramming.pub%2Fhow-i-built-an-autonomous-ai-agent-for-online-research-93435a97c6c&amp;user=Assaf+Elovic&amp;userId=bf912a8da233&amp;source=post_page-bf912a8da233----93435a97c6c---------------------follow_profile-----------\" rel=\"noopener follow\">Follow</a></span><div class=\"ds l\"><div><div><div class=\"bl\" aria-hidden=\"false\"><div class=\"l\"><span><a class=\"af ag ah ai aj ak al am an ao ap aq ar as at\" href=\"https://medium.com/m/signin?actionUrl=%2F_%2Fapi%2Fsubscriptions%2Fnewsletters%2F4e7a32e238f2&amp;operation=register&amp;redirect=https%3A%2F%2Fbetterprogramming.pub%2Fhow-i-built-an-autonomous-ai-agent-for-online-research-93435a97c6c&amp;newsletterV3=bf912a8da233&amp;newsletterV3Id=4e7a32e238f2&amp;user=Assaf+Elovic&amp;userId=bf912a8da233&amp;source=-----93435a97c6c---------------------subscribe_user-----------\" rel=\"noopener follow\"><button class=\"be b bf z rt am ru rv rw rx ry rz sa sb ev ro rp rq ez fa fb fc bl fd fe\" aria-label=\"Subscribe\"><svg width=\"38\" height=\"38\" viewBox=\"0 0 38 38\" fill=\"none\" class=\"rs rg rf\"><rect x=\"26.25\" y=\"9.25\" width=\"0.5\" height=\"6.5\" rx=\"0.25\"></rect><rect x=\"29.75\" y=\"12.25\" width=\"0.5\" height=\"6.5\" rx=\"0.25\" transform=\"rotate(90 29.75 12.25)\"></rect><path d=\"M19.5 12.5h-7a1 1 0 0 0-1 1v11a1 1 0 0 0 1 1h13a1 1 0 0 0 1-1v-5\"></path><path d=\"M11.5 14.5L19 20l4-3\"></path></svg></button></a></span></div></div></div></div></div></div></div></div><div class=\"ab cm co\"><div class=\"l\"><div class=\"ab q\"><a class=\"af ag ah ai aj ak al am an ao ap aq ar as at ab q\" href=\"https://medium.com/@assafelovic?source=post_page-----93435a97c6c--------------------------------\" rel=\"noopener follow\"><h2 class=\"pw-author-name be sc sd se sf bj\"><span class=\"gm\">Written by <!-- -->Assaf Elovic</span></h2></a></div><div class=\"sg ab\"><div class=\"l kb\"><span class=\"pw-follower-count be b bf z bj\"><a class=\"af ag ah ai aj ak al am an ao ap aq ar ju\" href=\"https://medium.com/@assafelovic/followers?source=post_page-----93435a97c6c--------------------------------\" rel=\"noopener follow\">1.98K Followers</a></span></div><div class=\"be b bf z ki kj kk ab km kn ko kp dt kh\"><span class=\"jv l\" aria-hidden=\"true\"><span class=\"be b bf z dt\">·</span></span><span class=\"l kb\">Writer for </span><div><div class=\"bl\" aria-hidden=\"false\"><a class=\"af ag ah ai aj ak al am an ao ap aq ar ju ab q\" href=\"https://betterprogramming.pub/?source=post_page-----93435a97c6c--------------------------------\" rel=\"noopener follow\"><p class=\"be b bf z ki kj kk kl km kn ko kp bj\">Better Programming</p></a></div></div></div></div><div class=\"sh l\"><p class=\"be b bf z bj\">software engineer | entrepreneur | <a class=\"af ag ah ai aj ak al am an ao ap aq ar ot gn\" href=\"http://assafelovic.com\" rel=\"noopener  ugc nofollow\">assafelovic.com</a></p></div></div><div class=\"h k\"><div class=\"ab\"><span><a class=\"be b bf z rh ri rj rk rl rm rn eu ev ro rp rq ez rr fa fb fc bl fd fe\" href=\"https://medium.com/m/signin?actionUrl=https%3A%2F%2Fmedium.com%2F_%2Fsubscribe%2Fuser%2Fbf912a8da233&amp;operation=register&amp;redirect=https%3A%2F%2Fbetterprogramming.pub%2Fhow-i-built-an-autonomous-ai-agent-for-online-research-93435a97c6c&amp;user=Assaf+Elovic&amp;userId=bf912a8da233&amp;source=post_page-bf912a8da233----93435a97c6c---------------------follow_profile-----------\" rel=\"noopener follow\">Follow</a></span><div class=\"ds l\"><div><div><div class=\"bl\" aria-hidden=\"false\"><div class=\"l\"><span><a class=\"af ag ah ai aj ak al am an ao ap aq ar as at\" href=\"https://medium.com/m/signin?actionUrl=%2F_%2Fapi%2Fsubscriptions%2Fnewsletters%2F4e7a32e238f2&amp;operation=register&amp;redirect=https%3A%2F%2Fbetterprogramming.pub%2Fhow-i-built-an-autonomous-ai-agent-for-online-research-93435a97c6c&amp;newsletterV3=bf912a8da233&amp;newsletterV3Id=4e7a32e238f2&amp;user=Assaf+Elovic&amp;userId=bf912a8da233&amp;source=-----93435a97c6c---------------------subscribe_user-----------\" rel=\"noopener follow\"><button class=\"be b bf z rt am ru rv rw rx ry rz sa sb ev ro rp rq ez fa fb fc bl fd fe\" aria-label=\"Subscribe\"><svg width=\"38\" height=\"38\" viewBox=\"0 0 38 38\" fill=\"none\" class=\"rs rg rf\"><rect x=\"26.25\" y=\"9.25\" width=\"0.5\" height=\"6.5\" rx=\"0.25\"></rect><rect x=\"29.75\" y=\"12.25\" width=\"0.5\" height=\"6.5\" rx=\"0.25\" transform=\"rotate(90 29.75 12.25)\"></rect><path d=\"M19.5 12.5h-7a1 1 0 0 0-1 1v11a1 1 0 0 0 1 1h13a1 1 0 0 0 1-1v-5\"></path><path d=\"M11.5 14.5L19 20l4-3\"></path></svg></button></a></span></div></div></div></div></div></div></div></div><div class=\"si bg sj gu gv gw gx gy\"></div></div></div><div class=\"h k j\"><div class=\"si bg sj sk\"></div><div class=\"ab ca\"><div class=\"ch bg fy fz ga gb\"><div class=\"sl ab ly ke\"><div class=\"sm sn l\"><a class=\"af ag ah ai aj ak al am an ao ap aq ar as at\" href=\"https://help.medium.com/hc/en-us?source=post_page-----93435a97c6c--------------------------------\" rel=\"noopener follow\"><p class=\"be b du z dt\">Help</p></a></div><div class=\"sm sn l\"><a class=\"af ag ah ai aj ak al am an ao ap aq ar as at\" href=\"https://medium.statuspage.io/?source=post_page-----93435a97c6c--------------------------------\" rel=\"noopener follow\"><p class=\"be b du z dt\">Status</p></a></div><div class=\"sm sn l\"><a class=\"af ag ah ai aj ak al am an ao ap aq ar as at\" href=\"https://medium.com/about?autoplay=1&amp;source=post_page-----93435a97c6c--------------------------------\" rel=\"noopener follow\"><p class=\"be b du z dt\">About</p></a></div><div class=\"sm sn l\"><a class=\"af ag ah ai aj ak al am an ao ap aq ar as at\" href=\"https://medium.com/jobs-at-medium/work-at-medium-959d1a85284e?source=post_page-----93435a97c6c--------------------------------\" rel=\"noopener follow\"><p class=\"be b du z dt\">Careers</p></a></div><div class=\"sm sn l\"><a class=\"af ag ah ai aj ak al am an ao ap aq ar as at\" href=\"https://blog.medium.com/?source=post_page-----93435a97c6c--------------------------------\" rel=\"noopener follow\"><p class=\"be b du z dt\">Blog</p></a></div><div class=\"sm sn l\"><a class=\"af ag ah ai aj ak al am an ao ap aq ar as at\" href=\"https://policy.medium.com/medium-privacy-policy-f03bf92035c9?source=post_page-----93435a97c6c--------------------------------\" rel=\"noopener follow\"><p class=\"be b du z dt\">Privacy</p></a></div><div class=\"sm sn l\"><a class=\"af ag ah ai aj ak al am an ao ap aq ar as at\" href=\"https://policy.medium.com/medium-terms-of-service-9db0094a1e0f?source=post_page-----93435a97c6c--------------------------------\" rel=\"noopener follow\"><p class=\"be b du z dt\">Terms</p></a></div><div class=\"sm sn l\"><a class=\"af ag ah ai aj ak al am an ao ap aq ar as at\" href=\"https://speechify.com/medium?source=post_page-----93435a97c6c--------------------------------\" rel=\"noopener follow\"><p class=\"be b du z dt\">Text to speech</p></a></div><div class=\"sm l\"><a class=\"af ag ah ai aj ak al am an ao ap aq ar as at\" href=\"https://medium.com/business?source=post_page-----93435a97c6c--------------------------------\" rel=\"noopener follow\"><p class=\"be b du z dt\">Teams</p></a></div></div></div></div></div></div></div></div></div></div><script>window.__BUILD_ID__=\"main-20240320-210336-a9af6a3812\"</script><script>window.__GRAPHQL_URI__ = \"https://betterprogramming.pub/_/graphql\"</script><script>window.__PRELOADED_STATE__ = {\"algolia\":{\"queries\":{}},\"cache\":{\"experimentGroupSet\":true,\"reason\":\"This request is not using the cache middleware worker\",\"group\":\"disabled\",\"tags\":[\"group-edgeCachePosts\",\"post-93435a97c6c\",\"user-bf912a8da233\",\"collection-d0b105d10f0a\"],\"serverVariantState\":\"\",\"middlewareEnabled\":false,\"cacheStatus\":\"DYNAMIC\",\"shouldUseCache\":false,\"vary\":[],\"loHomepageEnabled\":false,\"updatedPostPreviewsEnabled\":false,\"customMocPreviewWeightThreshold\":\"control\",\"lohpBgColorGroup\":\"control\",\"lohpCopyGroup\":\"control\"},\"client\":{\"hydrated\":false,\"isUs\":false,\"isNativeMedium\":false,\"isSafariMobile\":false,\"isSafari\":false,\"isFirefox\":false,\"routingEntity\":{\"type\":\"COLLECTION\",\"id\":\"d0b105d10f0a\",\"explicit\":true},\"viewerIsBot\":false},\"debug\":{\"requestId\":\"99527263-6302-455e-8b70-b6bdff9b76dd\",\"hybridDevServices\":[],\"originalSpanCarrier\":{\"ot-tracer-spanid\":\"728ac495561d1143\",\"ot-tracer-traceid\":\"51c89ec5120a7b35\",\"ot-tracer-sampled\":\"true\"}},\"multiVote\":{\"clapsPerPost\":{}},\"navigation\":{\"branch\":{\"show\":null,\"hasRendered\":null,\"blockedByCTA\":false},\"hideGoogleOneTap\":false,\"hasRenderedAlternateUserBanner\":null,\"currentLocation\":\"https:\\\\u002F\\\\u002Fbetterprogramming.pub\\\\u002Fhow-i-built-an-autonomous-ai-agent-for-online-research-93435a97c6c\",\"host\":\"betterprogramming.pub\",\"hostname\":\"betterprogramming.pub\",\"referrer\":\"https:\\\\u002F\\\\u002Fwww.google.com\\\\u002F\",\"hasSetReferrer\":false,\"susiModal\":{\"step\":null,\"operation\":\"register\"},\"postRead\":false},\"config\":{\"nodeEnv\":\"production\",\"version\":\"main-20240320-210336-a9af6a3812\",\"target\":\"production\",\"productName\":\"Medium\",\"publicUrl\":\"https:\\\\u002F\\\\u002Fcdn-client.medium.com\\\\u002Flite\",\"authDomain\":\"medium.com\",\"authGoogleClientId\":\"216296035834-k1k6qe060s2tp2a2jam4ljdcms00sttg.apps.googleusercontent.com\",\"favicon\":\"production\",\"glyphUrl\":\"https:\\\\u002F\\\\u002Fglyph.medium.com\",\"branchKey\":\"key_live_ofxXr2qTrrU9NqURK8ZwEhknBxiI6KBm\",\"algolia\":{\"appId\":\"MQ57UUUQZ2\",\"apiKeySearch\":\"394474ced050e3911ae2249ecc774921\",\"indexPrefix\":\"medium_\",\"host\":\"-dsn.algolia.net\"},\"recaptchaKey\":\"6Lfc37IUAAAAAKGGtC6rLS13R1Hrw_BqADfS1LRk\",\"recaptcha3Key\":\"6Lf8R9wUAAAAABMI_85Wb8melS7Zj6ziuf99Yot5\",\"recaptchaEnterpriseKeyId\":\"6Le-uGgpAAAAAPprRaokM8AKthQ9KNGdoxaGUvVp\",\"datadog\":{\"applicationId\":\"6702d87d-a7e0-42fe-bbcb-95b469547ea0\",\"clientToken\":\"pub853ea8d17ad6821d9f8f11861d23dfed\",\"rumToken\":\"pubf9cc52896502b9413b68ba36fc0c7162\",\"context\":{\"deployment\":{\"target\":\"production\",\"tag\":\"main-20240320-210336-a9af6a3812\",\"commit\":\"a9af6a3812803fc22159ddaf63aed22e0c943f45\"}},\"datacenter\":\"us\"},\"googleAnalyticsCode\":\"G-7JY7T788PK\",\"googlePay\":{\"apiVersion\":\"2\",\"apiVersionMinor\":\"0\",\"merchantId\":\"BCR2DN6TV7EMTGBM\",\"merchantName\":\"Medium\",\"instanceMerchantId\":\"13685562959212738550\"},\"applePay\":{\"version\":3},\"signInWallCustomDomainCollectionIds\":[\"3a8144eabfe3\",\"336d898217ee\",\"61061eb0c96b\",\"138adf9c44c\",\"819cc2aaeee0\"],\"mediumMastodonDomainName\":\"me.dm\",\"mediumOwnedAndOperatedCollectionIds\":[\"8a9336e5bb4\",\"b7e45b22fec3\",\"193b68bd4fba\",\"8d6b8a439e32\",\"54c98c43354d\",\"3f6ecf56618\",\"d944778ce714\",\"92d2092dc598\",\"ae2a65f35510\",\"1285ba81cada\",\"544c7006046e\",\"fc8964313712\",\"40187e704f1c\",\"88d9857e584e\",\"7b6769f2748b\",\"bcc38c8f6edf\",\"cef6983b292\",\"cb8577c9149e\",\"444d13b52878\",\"713d7dbc99b0\",\"ef8e90590e66\",\"191186aaafa0\",\"55760f21cdc5\",\"9dc80918cc93\",\"bdc4052bbdba\",\"8ccfed20cbb2\"],\"tierOneDomains\":[\"medium.com\",\"thebolditalic.com\",\"arcdigital.media\",\"towardsdatascience.com\",\"uxdesign.cc\",\"codeburst.io\",\"psiloveyou.xyz\",\"writingcooperative.com\",\"entrepreneurshandbook.co\",\"prototypr.io\",\"betterhumans.coach.me\",\"theascent.pub\"],\"topicsToFollow\":[\"d61cf867d93f\",\"8a146bc21b28\",\"1eca0103fff3\",\"4d562ee63426\",\"aef1078a3ef5\",\"e15e46793f8d\",\"6158eb913466\",\"55f1c20aba7a\",\"3d18b94f6858\",\"4861fee224fd\",\"63c6f1f93ee\",\"1d98b3a9a871\",\"decb52b64abf\",\"ae5d4995e225\",\"830cded25262\"],\"topicToTagMappings\":{\"accessibility\":\"accessibility\",\"addiction\":\"addiction\",\"android-development\":\"android-development\",\"art\":\"art\",\"artificial-intelligence\":\"artificial-intelligence\",\"astrology\":\"astrology\",\"basic-income\":\"basic-income\",\"beauty\":\"beauty\",\"biotech\":\"biotech\",\"blockchain\":\"blockchain\",\"books\":\"books\",\"business\":\"business\",\"cannabis\":\"cannabis\",\"cities\":\"cities\",\"climate-change\":\"climate-change\",\"comics\":\"comics\",\"coronavirus\":\"coronavirus\",\"creativity\":\"creativity\",\"cryptocurrency\":\"cryptocurrency\",\"culture\":\"culture\",\"cybersecurity\":\"cybersecurity\",\"data-science\":\"data-science\",\"design\":\"design\",\"digital-life\":\"digital-life\",\"disability\":\"disability\",\"economy\":\"economy\",\"education\":\"education\",\"equality\":\"equality\",\"family\":\"family\",\"feminism\":\"feminism\",\"fiction\":\"fiction\",\"film\":\"film\",\"fitness\":\"fitness\",\"food\":\"food\",\"freelancing\":\"freelancing\",\"future\":\"future\",\"gadgets\":\"gadgets\",\"gaming\":\"gaming\",\"gun-control\":\"gun-control\",\"health\":\"health\",\"history\":\"history\",\"humor\":\"humor\",\"immigration\":\"immigration\",\"ios-development\":\"ios-development\",\"javascript\":\"javascript\",\"justice\":\"justice\",\"language\":\"language\",\"leadership\":\"leadership\",\"lgbtqia\":\"lgbtqia\",\"lifestyle\":\"lifestyle\",\"machine-learning\":\"machine-learning\",\"makers\":\"makers\",\"marketing\":\"marketing\",\"math\":\"math\",\"media\":\"media\",\"mental-health\":\"mental-health\",\"mindfulness\":\"mindfulness\",\"money\":\"money\",\"music\":\"music\",\"neuroscience\":\"neuroscience\",\"nonfiction\":\"nonfiction\",\"outdoors\":\"outdoors\",\"parenting\":\"parenting\",\"pets\":\"pets\",\"philosophy\":\"philosophy\",\"photography\":\"photography\",\"podcasts\":\"podcast\",\"poetry\":\"poetry\",\"politics\":\"politics\",\"privacy\":\"privacy\",\"product-management\":\"product-management\",\"productivity\":\"productivity\",\"programming\":\"programming\",\"psychedelics\":\"psychedelics\",\"psychology\":\"psychology\",\"race\":\"race\",\"relationships\":\"relationships\",\"religion\":\"religion\",\"remote-work\":\"remote-work\",\"san-francisco\":\"san-francisco\",\"science\":\"science\",\"self\":\"self\",\"self-driving-cars\":\"self-driving-cars\",\"sexuality\":\"sexuality\",\"social-media\":\"social-media\",\"society\":\"society\",\"software-engineering\":\"software-engineering\",\"space\":\"space\",\"spirituality\":\"spirituality\",\"sports\":\"sports\",\"startups\":\"startup\",\"style\":\"style\",\"technology\":\"technology\",\"transportation\":\"transportation\",\"travel\":\"travel\",\"true-crime\":\"true-crime\",\"tv\":\"tv\",\"ux\":\"ux\",\"venture-capital\":\"venture-capital\",\"visual-design\":\"visual-design\",\"work\":\"work\",\"world\":\"world\",\"writing\":\"writing\"},\"defaultImages\":{\"avatar\":{\"imageId\":\"1*dmbNkD5D-u45r44go_cf0g.png\",\"height\":150,\"width\":150},\"orgLogo\":{\"imageId\":\"1*OMF3fSqH8t4xBJ9-6oZDZw.png\",\"height\":106,\"width\":545},\"postLogo\":{\"imageId\":\"1*kFrc4tBFM_tCis-2Ic87WA.png\",\"height\":810,\"width\":1440},\"postPreviewImage\":{\"imageId\":\"1*hn4v1tCaJy7cWMyb0bpNpQ.png\",\"height\":386,\"width\":579}},\"collectionStructuredData\":{\"8d6b8a439e32\":{\"name\":\"Elemental\",\"data\":{\"@type\":\"NewsMediaOrganization\",\"ethicsPolicy\":\"https:\\\\u002F\\\\u002Fhelp.medium.com\\\\u002Fhc\\\\u002Fen-us\\\\u002Farticles\\\\u002F360043290473\",\"logo\":{\"@type\":\"ImageObject\",\"url\":\"https:\\\\u002F\\\\u002Fcdn-images-1.medium.com\\\\u002Fmax\\\\u002F980\\\\u002F1*9ygdqoKprhwuTVKUM0DLPA@2x.png\",\"width\":980,\"height\":159}}},\"3f6ecf56618\":{\"name\":\"Forge\",\"data\":{\"@type\":\"NewsMediaOrganization\",\"ethicsPolicy\":\"https:\\\\u002F\\\\u002Fhelp.medium.com\\\\u002Fhc\\\\u002Fen-us\\\\u002Farticles\\\\u002F360043290473\",\"logo\":{\"@type\":\"ImageObject\",\"url\":\"https:\\\\u002F\\\\u002Fcdn-images-1.medium.com\\\\u002Fmax\\\\u002F596\\\\u002F1*uULpIlImcO5TDuBZ6lm7Lg@2x.png\",\"width\":596,\"height\":183}}},\"ae2a65f35510\":{\"name\":\"GEN\",\"data\":{\"@type\":\"NewsMediaOrganization\",\"ethicsPolicy\":\"https:\\\\u002F\\\\u002Fhelp.medium.com\\\\u002Fhc\\\\u002Fen-us\\\\u002Farticles\\\\u002F360043290473\",\"logo\":{\"@type\":\"ImageObject\",\"url\":\"https:\\\\u002F\\\\u002Fmiro.medium.com\\\\u002Fmax\\\\u002F264\\\\u002F1*RdVZMdvfV3YiZTw6mX7yWA.png\",\"width\":264,\"height\":140}}},\"88d9857e584e\":{\"name\":\"LEVEL\",\"data\":{\"@type\":\"NewsMediaOrganization\",\"ethicsPolicy\":\"https:\\\\u002F\\\\u002Fhelp.medium.com\\\\u002Fhc\\\\u002Fen-us\\\\u002Farticles\\\\u002F360043290473\",\"logo\":{\"@type\":\"ImageObject\",\"url\":\"https:\\\\u002F\\\\u002Fmiro.medium.com\\\\u002Fmax\\\\u002F540\\\\u002F1*JqYMhNX6KNNb2UlqGqO2WQ.png\",\"width\":540,\"height\":108}}},\"7b6769f2748b\":{\"name\":\"Marker\",\"data\":{\"@type\":\"NewsMediaOrganization\",\"ethicsPolicy\":\"https:\\\\u002F\\\\u002Fhelp.medium.com\\\\u002Fhc\\\\u002Fen-us\\\\u002Farticles\\\\u002F360043290473\",\"logo\":{\"@type\":\"ImageObject\",\"url\":\"https:\\\\u002F\\\\u002Fcdn-images-1.medium.com\\\\u002Fmax\\\\u002F383\\\\u002F1*haCUs0wF6TgOOvfoY-jEoQ@2x.png\",\"width\":383,\"height\":92}}},\"444d13b52878\":{\"name\":\"OneZero\",\"data\":{\"@type\":\"NewsMediaOrganization\",\"ethicsPolicy\":\"https:\\\\u002F\\\\u002Fhelp.medium.com\\\\u002Fhc\\\\u002Fen-us\\\\u002Farticles\\\\u002F360043290473\",\"logo\":{\"@type\":\"ImageObject\",\"url\":\"https:\\\\u002F\\\\u002Fmiro.medium.com\\\\u002Fmax\\\\u002F540\\\\u002F1*cw32fIqCbRWzwJaoQw6BUg.png\",\"width\":540,\"height\":123}}},\"8ccfed20cbb2\":{\"name\":\"Zora\",\"data\":{\"@type\":\"NewsMediaOrganization\",\"ethicsPolicy\":\"https:\\\\u002F\\\\u002Fhelp.medium.com\\\\u002Fhc\\\\u002Fen-us\\\\u002Farticles\\\\u002F360043290473\",\"logo\":{\"@type\":\"ImageObject\",\"url\":\"https:\\\\u002F\\\\u002Fmiro.medium.com\\\\u002Fmax\\\\u002F540\\\\u002F1*tZUQqRcCCZDXjjiZ4bDvgQ.png\",\"width\":540,\"height\":106}}}},\"embeddedPostIds\":{\"coronavirus\":\"cd3010f9d81f\"},\"sharedCdcMessaging\":{\"COVID_APPLICABLE_TAG_SLUGS\":[],\"COVID_APPLICABLE_TOPIC_NAMES\":[],\"COVID_APPLICABLE_TOPIC_NAMES_FOR_TOPIC_PAGE\":[],\"COVID_MESSAGES\":{\"tierA\":{\"text\":\"For more information on the novel coronavirus and Covid-19, visit cdc.gov.\",\"markups\":[{\"start\":66,\"end\":73,\"href\":\"https:\\\\u002F\\\\u002Fwww.cdc.gov\\\\u002Fcoronavirus\\\\u002F2019-nCoV\"}]},\"tierB\":{\"text\":\"Anyone can publish on Medium per our Policies, but we don’t fact-check every story. For more info about the coronavirus, see cdc.gov.\",\"markups\":[{\"start\":37,\"end\":45,\"href\":\"https:\\\\u002F\\\\u002Fhelp.medium.com\\\\u002Fhc\\\\u002Fen-us\\\\u002Fcategories\\\\u002F201931128-Policies-Safety\"},{\"start\":125,\"end\":132,\"href\":\"https:\\\\u002F\\\\u002Fwww.cdc.gov\\\\u002Fcoronavirus\\\\u002F2019-nCoV\"}]},\"paywall\":{\"text\":\"This article has been made free for everyone, thanks to Medium Members. For more information on the novel coronavirus and Covid-19, visit cdc.gov.\",\"markups\":[{\"start\":56,\"end\":70,\"href\":\"https:\\\\u002F\\\\u002Fmedium.com\\\\u002Fmembership\"},{\"start\":138,\"end\":145,\"href\":\"https:\\\\u002F\\\\u002Fwww.cdc.gov\\\\u002Fcoronavirus\\\\u002F2019-nCoV\"}]},\"unbound\":{\"text\":\"This article is free for everyone, thanks to Medium Members. For more information on the novel coronavirus and Covid-19, visit cdc.gov.\",\"markups\":[{\"start\":45,\"end\":59,\"href\":\"https:\\\\u002F\\\\u002Fmedium.com\\\\u002Fmembership\"},{\"start\":127,\"end\":134,\"href\":\"https:\\\\u002F\\\\u002Fwww.cdc.gov\\\\u002Fcoronavirus\\\\u002F2019-nCoV\"}]}},\"COVID_BANNER_POST_ID_OVERRIDE_WHITELIST\":[\"3b31a67bff4a\"]},\"sharedVoteMessaging\":{\"TAGS\":[\"politics\",\"election-2020\",\"government\",\"us-politics\",\"election\",\"2020-presidential-race\",\"trump\",\"donald-trump\",\"democrats\",\"republicans\",\"congress\",\"republican-party\",\"democratic-party\",\"biden\",\"joe-biden\",\"maga\"],\"TOPICS\":[\"politics\",\"election\"],\"MESSAGE\":{\"text\":\"Find out more about the U.S. election results here.\",\"markups\":[{\"start\":46,\"end\":50,\"href\":\"https:\\\\u002F\\\\u002Fcookpolitical.com\\\\u002F2020-national-popular-vote-tracker\"}]},\"EXCLUDE_POSTS\":[\"397ef29e3ca5\"]},\"embedPostRules\":[],\"recircOptions\":{\"v1\":{\"limit\":3},\"v2\":{\"limit\":8}},\"braintreeClientKey\":\"production_zjkj96jm_m56f8fqpf7ngnrd4\",\"braintree\":{\"enabled\":true,\"merchantId\":\"m56f8fqpf7ngnrd4\",\"merchantAccountId\":{\"usd\":\"AMediumCorporation_instant\",\"eur\":\"amediumcorporation_EUR\",\"cad\":\"amediumcorporation_CAD\"},\"publicKey\":\"ds2nn34bg2z7j5gd\",\"braintreeEnvironment\":\"production\",\"dashboardUrl\":\"https:\\\\u002F\\\\u002Fwww.braintreegateway.com\\\\u002Fmerchants\",\"gracePeriodDurationInDays\":14,\"mediumMembershipPlanId\":{\"monthly\":\"ce105f8c57a3\",\"monthlyWithTrial\":\"d5ee3dbe3db8\",\"monthlyPremium\":\"fa741a9b47a2\",\"yearly\":\"a40ad4a43185\",\"yearlyStaff\":\"d74fb811198a\",\"yearlyWithTrial\":\"b3bc7350e5c7\",\"yearlyPremium\":\"e21bd2c12166\",\"monthlyCad\":\"p52orjkaceei\",\"yearlyCad\":\"h4q9g2up9ktt\"},\"braintreeDiscountId\":{\"oneMonthFree\":\"MONTHS_FREE_01\",\"threeMonthsFree\":\"MONTHS_FREE_03\",\"sixMonthsFree\":\"MONTHS_FREE_06\",\"fiftyPercentOffOneYear\":\"FIFTY_PERCENT_OFF_ONE_YEAR\"},\"3DSecureVersion\":\"2\",\"defaultCurrency\":\"usd\",\"providerPlanIdCurrency\":{\"4ycw\":\"usd\",\"rz3b\":\"usd\",\"3kqm\":\"usd\",\"jzw6\":\"usd\",\"c2q2\":\"usd\",\"nnsw\":\"usd\",\"q8qw\":\"usd\",\"d9y6\":\"usd\",\"fx7w\":\"cad\",\"nwf2\":\"cad\"}},\"paypalClientId\":\"AXj1G4fotC2GE8KzWX9mSxCH1wmPE3nJglf4Z2ig_amnhvlMVX87otaq58niAg9iuLktVNF_1WCMnN7v\",\"paypal\":{\"host\":\"https:\\\\u002F\\\\u002Fapi.paypal.com:443\",\"clientMode\":\"production\",\"serverMode\":\"live\",\"webhookId\":\"4G466076A0294510S\",\"monthlyPlan\":{\"planId\":\"P-9WR0658853113943TMU5FDQA\",\"name\":\"Medium Membership (Monthly) with setup fee\",\"description\":\"Unlimited access to the best and brightest stories on Medium. Membership billed monthly.\"},\"yearlyPlan\":{\"planId\":\"P-7N8963881P8875835MU5JOPQ\",\"name\":\"Medium Membership (Annual) with setup fee\",\"description\":\"Unlimited access to the best and brightest stories on Medium. Membership billed annually.\"},\"oneYearGift\":{\"name\":\"Medium Membership (1 Year, Digital Gift Code)\",\"description\":\"Unlimited access to the best and brightest stories on Medium. Gift codes can be redeemed at medium.com\\\\u002Fredeem.\",\"price\":\"50.00\",\"currency\":\"USD\",\"sku\":\"membership-gift-1-yr\"},\"oldMonthlyPlan\":{\"planId\":\"P-96U02458LM656772MJZUVH2Y\",\"name\":\"Medium Membership (Monthly)\",\"description\":\"Unlimited access to the best and brightest stories on Medium. Membership billed monthly.\"},\"oldYearlyPlan\":{\"planId\":\"P-59P80963JF186412JJZU3SMI\",\"name\":\"Medium Membership (Annual)\",\"description\":\"Unlimited access to the best and brightest stories on Medium. Membership billed annually.\"},\"monthlyPlanWithTrial\":{\"planId\":\"P-66C21969LR178604GJPVKUKY\",\"name\":\"Medium Membership (Monthly) with setup fee\",\"description\":\"Unlimited access to the best and brightest stories on Medium. Membership billed monthly.\"},\"yearlyPlanWithTrial\":{\"planId\":\"P-6XW32684EX226940VKCT2MFA\",\"name\":\"Medium Membership (Annual) with setup fee\",\"description\":\"Unlimited access to the best and brightest stories on Medium. Membership billed annually.\"},\"oldMonthlyPlanNoSetupFee\":{\"planId\":\"P-4N046520HR188054PCJC7LJI\",\"name\":\"Medium Membership (Monthly)\",\"description\":\"Unlimited access to the best and brightest stories on Medium. Membership billed monthly.\"},\"oldYearlyPlanNoSetupFee\":{\"planId\":\"P-7A4913502Y5181304CJEJMXQ\",\"name\":\"Medium Membership (Annual)\",\"description\":\"Unlimited access to the best and brightest stories on Medium. Membership billed annually.\"},\"sdkUrl\":\"https:\\\\u002F\\\\u002Fwww.paypal.com\\\\u002Fsdk\\\\u002Fjs\"},\"stripePublishableKey\":\"pk_live_7FReX44VnNIInZwrIIx6ghjl\",\"log\":{\"json\":true,\"level\":\"info\"},\"imageUploadMaxSizeMb\":25,\"staffPicks\":{\"title\":\"Staff Picks\",\"catalogId\":\"c7bc6e1ee00f\"}},\"session\":{\"xsrf\":\"\"}}</script><script>window.__APOLLO_STATE__ = {\"ROOT_QUERY\":{\"__typename\":\"Query\",\"isLoggedIn\":false,\"viewer\":null,\"variantFlags\":[{\"__typename\":\"VariantFlag\",\"name\":\"enable_iceland_forced_android\",\"valueType\":{\"__typename\":\"VariantFlagBoolean\",\"value\":true}},{\"__typename\":\"VariantFlag\",\"name\":\"android_enable_topic_portals\",\"valueType\":{\"__typename\":\"VariantFlagBoolean\",\"value\":true}},{\"__typename\":\"VariantFlag\",\"name\":\"enable_ios_offline_reading\",\"valueType\":{\"__typename\":\"VariantFlagBoolean\",\"value\":true}},{\"__typename\":\"VariantFlag\",\"name\":\"ios_enable_verified_book_author\",\"valueType\":{\"__typename\":\"VariantFlagBoolean\",\"value\":true}},{\"__typename\":\"VariantFlag\",\"name\":\"enable_footer_app_buttons\",\"valueType\":{\"__typename\":\"VariantFlagBoolean\",\"value\":true}},{\"__typename\":\"VariantFlag\",\"name\":\"limit_user_follows\",\"valueType\":{\"__typename\":\"VariantFlagBoolean\",\"value\":true}},{\"__typename\":\"VariantFlag\",\"name\":\"enable_lite_server_upstream_deadlines\",\"valueType\":{\"__typename\":\"VariantFlagBoolean\",\"value\":true}},{\"__typename\":\"VariantFlag\",\"name\":\"enable_cache_less_following_feed\",\"valueType\":{\"__typename\":\"VariantFlagBoolean\",\"value\":true}},{\"__typename\":\"VariantFlag\",\"name\":\"enable_group_gifting\",\"valueType\":{\"__typename\":\"VariantFlagBoolean\",\"value\":true}},{\"__typename\":\"VariantFlag\",\"name\":\"enable_eventstats_event_processing\",\"valueType\":{\"__typename\":\"VariantFlagBoolean\",\"value\":true}},{\"__typename\":\"VariantFlag\",\"name\":\"enable_tag_recs\",\"valueType\":{\"__typename\":\"VariantFlagBoolean\",\"value\":true}},{\"__typename\":\"VariantFlag\",\"name\":\"android_enable_syntax_highlight\",\"valueType\":{\"__typename\":\"VariantFlagBoolean\",\"value\":true}},{\"__typename\":\"VariantFlag\",\"name\":\"enable_ios_dynamic_paywall_aspiriational\",\"valueType\":{\"__typename\":\"VariantFlagBoolean\",\"value\":true}},{\"__typename\":\"VariantFlag\",\"name\":\"enable_pre_pp_v4\",\"valueType\":{\"__typename\":\"VariantFlagBoolean\",\"value\":true}},{\"__typename\":\"VariantFlag\",\"name\":\"ios_display_paywall_after_onboarding\",\"valueType\":{\"__typename\":\"VariantFlagBoolean\",\"value\":true}},{\"__typename\":\"VariantFlag\",\"name\":\"price_smoke_test_monthly\",\"valueType\":{\"__typename\":\"VariantFlagString\",\"value\":\"\"}},{\"__typename\":\"VariantFlag\",\"name\":\"enable_maim_the_meter\",\"valueType\":{\"__typename\":\"VariantFlagBoolean\",\"value\":true}},{\"__typename\":\"VariantFlag\",\"name\":\"enable_deprecate_legacy_providers_v3\",\"valueType\":{\"__typename\":\"VariantFlagBoolean\",\"value\":true}},{\"__typename\":\"VariantFlag\",\"name\":\"enable_google_play_purchase_on_backend\",\"valueType\":{\"__typename\":\"VariantFlagBoolean\",\"value\":true}},{\"__typename\":\"VariantFlag\",\"name\":\"enable_branch_io\",\"valueType\":{\"__typename\":\"VariantFlagBoolean\",\"value\":true}},{\"__typename\":\"VariantFlag\",\"name\":\"enable_braintree_integration\",\"valueType\":{\"__typename\":\"VariantFlagBoolean\",\"value\":true}},{\"__typename\":\"VariantFlag\",\"name\":\"web_enable_syntax_highlighting\",\"valueType\":{\"__typename\":\"VariantFlagBoolean\",\"value\":true}},{\"__typename\":\"VariantFlag\",\"name\":\"enable_rex_new_push_notification_endpoint\",\"valueType\":{\"__typename\":\"VariantFlagBoolean\",\"value\":true}},{\"__typename\":\"VariantFlag\",\"name\":\"enable_braintree_client\",\"valueType\":{\"__typename\":\"VariantFlagBoolean\",\"value\":true}},{\"__typename\":\"VariantFlag\",\"name\":\"enable_custom_moc_preview_weight_threshold\",\"valueType\":{\"__typename\":\"VariantFlagString\",\"value\":\"control\"}},{\"__typename\":\"VariantFlag\",\"name\":\"android_enable_lists_v2\",\"valueType\":{\"__typename\":\"VariantFlagBoolean\",\"value\":true}},{\"__typename\":\"VariantFlag\",\"name\":\"enable_android_offline_reading\",\"valueType\":{\"__typename\":\"VariantFlagBoolean\",\"value\":true}},{\"__typename\":\"VariantFlag\",\"name\":\"onboarding_tags_from_top_views\",\"valueType\":{\"__typename\":\"VariantFlagBoolean\",\"value\":true}},{\"__typename\":\"VariantFlag\",\"name\":\"enable_entities_to_follow_v2\",\"valueType\":{\"__typename\":\"VariantFlagBoolean\",\"value\":true}},{\"__typename\":\"VariantFlag\",\"name\":\"enable_ios_autorefresh\",\"valueType\":{\"__typename\":\"VariantFlagBoolean\",\"value\":true}},{\"__typename\":\"VariantFlag\",\"name\":\"enable_medium2_kbfd\",\"valueType\":{\"__typename\":\"VariantFlagBoolean\",\"value\":true}},{\"__typename\":\"VariantFlag\",\"name\":\"ios_in_app_free_trial\",\"valueType\":{\"__typename\":\"VariantFlagBoolean\",\"value\":true}},{\"__typename\":\"VariantFlag\",\"name\":\"android_enable_editor_new_publishing_flow\",\"valueType\":{\"__typename\":\"VariantFlagBoolean\",\"value\":true}},{\"__typename\":\"VariantFlag\",\"name\":\"enable_rex_reading_history\",\"valueType\":{\"__typename\":\"VariantFlagBoolean\",\"value\":true}},{\"__typename\":\"VariantFlag\",\"name\":\"enable_susi_redesign_android\",\"valueType\":{\"__typename\":\"VariantFlagBoolean\",\"value\":true}},{\"__typename\":\"VariantFlag\",\"name\":\"ios_enable_friend_links_creation\",\"valueType\":{\"__typename\":\"VariantFlagBoolean\",\"value\":true}},{\"__typename\":\"VariantFlag\",\"name\":\"enable_aurora_pub_follower_page\",\"valueType\":{\"__typename\":\"VariantFlagBoolean\",\"value\":true}},{\"__typename\":\"VariantFlag\",\"name\":\"enable_pp_v4\",\"valueType\":{\"__typename\":\"VariantFlagBoolean\",\"value\":true}},{\"__typename\":\"VariantFlag\",\"name\":\"enable_sprig\",\"valueType\":{\"__typename\":\"VariantFlagBoolean\",\"value\":true}},{\"__typename\":\"VariantFlag\",\"name\":\"allow_signup\",\"valueType\":{\"__typename\":\"VariantFlagBoolean\",\"value\":true}},{\"__typename\":\"VariantFlag\",\"name\":\"enable_verifications_service\",\"valueType\":{\"__typename\":\"VariantFlagBoolean\",\"value\":true}},{\"__typename\":\"VariantFlag\",\"name\":\"android_two_hour_refresh\",\"valueType\":{\"__typename\":\"VariantFlagBoolean\",\"value\":true}},{\"__typename\":\"VariantFlag\",\"name\":\"covid_19_cdc_banner\",\"valueType\":{\"__typename\":\"VariantFlagBoolean\",\"value\":true}},{\"__typename\":\"VariantFlag\",\"name\":\"enable_simplified_digest_v2_b\",\"valueType\":{\"__typename\":\"VariantFlagBoolean\",\"value\":true}},{\"__typename\":\"VariantFlag\",\"name\":\"ios_enable_home_post_menu\",\"valueType\":{\"__typename\":\"VariantFlagBoolean\",\"value\":true}},{\"__typename\":\"VariantFlag\",\"name\":\"enable_legacy_feed_in_iceland\",\"valueType\":{\"__typename\":\"VariantFlagBoolean\",\"value\":true}},{\"__typename\":\"VariantFlag\",\"name\":\"enable_ml_rank_rex_anno\",\"valueType\":{\"__typename\":\"VariantFlagBoolean\",\"value\":true}},{\"__typename\":\"VariantFlag\",\"name\":\"enable_marketing_emails\",\"valueType\":{\"__typename\":\"VariantFlagBoolean\",\"value\":true}},{\"__typename\":\"VariantFlag\",\"name\":\"disable_partner_program_enrollment\",\"valueType\":{\"__typename\":\"VariantFlagBoolean\",\"value\":true}},{\"__typename\":\"VariantFlag\",\"name\":\"enable_rito_upstream_deadlines\",\"valueType\":{\"__typename\":\"VariantFlagBoolean\",\"value\":true}},{\"__typename\":\"VariantFlag\",\"name\":\"available_annual_premium_plan\",\"valueType\":{\"__typename\":\"VariantFlagString\",\"value\":\"4a442ace1476\"}},{\"__typename\":\"VariantFlag\",\"name\":\"enable_automod\",\"valueType\":{\"__typename\":\"VariantFlagBoolean\",\"value\":true}},{\"__typename\":\"VariantFlag\",\"name\":\"price_smoke_test_yearly\",\"valueType\":{\"__typename\":\"VariantFlagString\",\"value\":\"\"}},{\"__typename\":\"VariantFlag\",\"name\":\"enable_members_only_audio\",\"valueType\":{\"__typename\":\"VariantFlagBoolean\",\"value\":true}},{\"__typename\":\"VariantFlag\",\"name\":\"browsable_stream_config_bucket\",\"valueType\":{\"__typename\":\"VariantFlagString\",\"value\":\"curated\"}},{\"__typename\":\"VariantFlag\",\"name\":\"enable_custom_moc_preview_weight_threshold_li\",\"valueType\":{\"__typename\":\"VariantFlagString\",\"value\":\"control\"}},{\"__typename\":\"VariantFlag\",\"name\":\"enable_updated_new_user_onboarding\",\"valueType\":{\"__typename\":\"VariantFlagBoolean\",\"value\":true}},{\"__typename\":\"VariantFlag\",\"name\":\"limit_post_referrers\",\"valueType\":{\"__typename\":\"VariantFlagBoolean\",\"value\":true}},{\"__typename\":\"VariantFlag\",\"name\":\"available_annual_plan\",\"valueType\":{\"__typename\":\"VariantFlagString\",\"value\":\"2c754bcc2995\"}},{\"__typename\":\"VariantFlag\",\"name\":\"enable_braintree_trial_membership\",\"valueType\":{\"__typename\":\"VariantFlagBoolean\",\"value\":true}},{\"__typename\":\"VariantFlag\",\"name\":\"enable_speechify_widget\",\"valueType\":{\"__typename\":\"VariantFlagBoolean\",\"value\":true}},{\"__typename\":\"VariantFlag\",\"name\":\"ios_enable_friend_links_postpage_banners\",\"valueType\":{\"__typename\":\"VariantFlagBoolean\",\"value\":true}},{\"__typename\":\"VariantFlag\",\"name\":\"enable_google_webhook\",\"valueType\":{\"__typename\":\"VariantFlagBoolean\",\"value\":true}},{\"__typename\":\"VariantFlag\",\"name\":\"enable_recaptcha_enterprise\",\"valueType\":{\"__typename\":\"VariantFlagBoolean\",\"value\":true}},{\"__typename\":\"VariantFlag\",\"name\":\"enable_sharer_validate_post_share_key\",\"valueType\":{\"__typename\":\"VariantFlagBoolean\",\"value\":true}},{\"__typename\":\"VariantFlag\",\"name\":\"ios_remove_twitter_onboarding_step\",\"valueType\":{\"__typename\":\"VariantFlagBoolean\",\"value\":true}},{\"__typename\":\"VariantFlag\",\"name\":\"enable_braintree_apple_pay\",\"valueType\":{\"__typename\":\"VariantFlagBoolean\",\"value\":true}},{\"__typename\":\"VariantFlag\",\"name\":\"enable_braintree_webhook\",\"valueType\":{\"__typename\":\"VariantFlagBoolean\",\"value\":true}},{\"__typename\":\"VariantFlag\",\"name\":\"signup_services\",\"valueType\":{\"__typename\":\"VariantFlagString\",\"value\":\"twitter,facebook,google,email,google-fastidv,google-one-tap,apple\"}},{\"__typename\":\"VariantFlag\",\"name\":\"android_enable_friend_links_creation\",\"valueType\":{\"__typename\":\"VariantFlagBoolean\",\"value\":true}},{\"__typename\":\"VariantFlag\",\"name\":\"enable_tick_landing_page\",\"valueType\":{\"__typename\":\"VariantFlagBoolean\",\"value\":true}},{\"__typename\":\"VariantFlag\",\"name\":\"enable_apple_webhook\",\"valueType\":{\"__typename\":\"VariantFlagBoolean\",\"value\":true}},{\"__typename\":\"VariantFlag\",\"name\":\"enable_tribute_landing_page\",\"valueType\":{\"__typename\":\"VariantFlagBoolean\",\"value\":true}},{\"__typename\":\"VariantFlag\",\"name\":\"android_enable_friend_links_postpage_banners\",\"valueType\":{\"__typename\":\"VariantFlagBoolean\",\"value\":true}},{\"__typename\":\"VariantFlag\",\"name\":\"available_monthly_premium_plan\",\"valueType\":{\"__typename\":\"VariantFlagString\",\"value\":\"12a660186432\"}},{\"__typename\":\"VariantFlag\",\"name\":\"enable_ios_dynamic_paywall_programming\",\"valueType\":{\"__typename\":\"VariantFlagBoolean\",\"value\":true}},{\"__typename\":\"VariantFlag\",\"name\":\"enable_seamless_social_sharing\",\"valueType\":{\"__typename\":\"VariantFlagBoolean\",\"value\":true}},{\"__typename\":\"VariantFlag\",\"name\":\"enable_lite_continue_this_thread\",\"valueType\":{\"__typename\":\"VariantFlagBoolean\",\"value\":true}},{\"__typename\":\"VariantFlag\",\"name\":\"ios_iceland_nux\",\"valueType\":{\"__typename\":\"VariantFlagBoolean\",\"value\":true}},{\"__typename\":\"VariantFlag\",\"name\":\"ios_social_share_sheet\",\"valueType\":{\"__typename\":\"VariantFlagBoolean\",\"value\":true}},{\"__typename\":\"VariantFlag\",\"name\":\"enable_monthly_default_plans_web\",\"valueType\":{\"__typename\":\"VariantFlagBoolean\",\"value\":true}},{\"__typename\":\"VariantFlag\",\"name\":\"enable_tipping_v0_android\",\"valueType\":{\"__typename\":\"VariantFlagBoolean\",\"value\":true}},{\"__typename\":\"VariantFlag\",\"name\":\"enable_android_verified_author\",\"valueType\":{\"__typename\":\"VariantFlagBoolean\",\"value\":true}},{\"__typename\":\"VariantFlag\",\"name\":\"enable_mastodon_avatar_upload\",\"valueType\":{\"__typename\":\"VariantFlagBoolean\",\"value\":true}},{\"__typename\":\"VariantFlag\",\"name\":\"enable_apple_sign_in\",\"valueType\":{\"__typename\":\"VariantFlagBoolean\",\"value\":true}},{\"__typename\":\"VariantFlag\",\"name\":\"enable_mastodon_for_members\",\"valueType\":{\"__typename\":\"VariantFlagBoolean\",\"value\":true}},{\"__typename\":\"VariantFlag\",\"name\":\"enable_mastodon_for_members_username_selection\",\"valueType\":{\"__typename\":\"VariantFlagBoolean\",\"value\":true}},{\"__typename\":\"VariantFlag\",\"name\":\"coronavirus_topic_recirc\",\"valueType\":{\"__typename\":\"VariantFlagBoolean\",\"value\":true}},{\"__typename\":\"VariantFlag\",\"name\":\"enable_braintree_google_pay\",\"valueType\":{\"__typename\":\"VariantFlagBoolean\",\"value\":true}},{\"__typename\":\"VariantFlag\",\"name\":\"enable_digest_tagline\",\"valueType\":{\"__typename\":\"VariantFlagBoolean\",\"value\":true}},{\"__typename\":\"VariantFlag\",\"name\":\"textshots_userid\",\"valueType\":{\"__typename\":\"VariantFlagString\",\"value\":\"\"}},{\"__typename\":\"VariantFlag\",\"name\":\"enable_lohp_copy\",\"valueType\":{\"__typename\":\"VariantFlagString\",\"value\":\"control\"}},{\"__typename\":\"VariantFlag\",\"name\":\"reader_fair_distribution_non_qp\",\"valueType\":{\"__typename\":\"VariantFlagBoolean\",\"value\":true}},{\"__typename\":\"VariantFlag\",\"name\":\"enable_app_flirty_thirty\",\"valueType\":{\"__typename\":\"VariantFlagBoolean\",\"value\":true}},{\"__typename\":\"VariantFlag\",\"name\":\"enable_lite_archive_page\",\"valueType\":{\"__typename\":\"VariantFlagBoolean\",\"value\":true}},{\"__typename\":\"VariantFlag\",\"name\":\"enable_pill_based_home_feed\",\"valueType\":{\"__typename\":\"VariantFlagBoolean\",\"value\":true}},{\"__typename\":\"VariantFlag\",\"name\":\"allow_access\",\"valueType\":{\"__typename\":\"VariantFlagBoolean\",\"value\":true}},{\"__typename\":\"VariantFlag\",\"name\":\"can_send_tips_v0\",\"valueType\":{\"__typename\":\"VariantFlagBoolean\",\"value\":true}},{\"__typename\":\"VariantFlag\",\"name\":\"enable_google_one_tap\",\"valueType\":{\"__typename\":\"VariantFlagBoolean\",\"value\":true}},{\"__typename\":\"VariantFlag\",\"name\":\"can_receive_tips_v0\",\"valueType\":{\"__typename\":\"VariantFlagBoolean\",\"value\":true}},{\"__typename\":\"VariantFlag\",\"name\":\"enable_import\",\"valueType\":{\"__typename\":\"VariantFlagBoolean\",\"value\":true}},{\"__typename\":\"VariantFlag\",\"name\":\"android_enable_image_sharer\",\"valueType\":{\"__typename\":\"VariantFlagBoolean\",\"value\":true}},{\"__typename\":\"VariantFlag\",\"name\":\"enable_android_dynamic_aspirational_paywall\",\"valueType\":{\"__typename\":\"VariantFlagBoolean\",\"value\":true}},{\"__typename\":\"VariantFlag\",\"name\":\"enable_recirc_model\",\"valueType\":{\"__typename\":\"VariantFlagBoolean\",\"value\":true}},{\"__typename\":\"VariantFlag\",\"name\":\"enable_speechify_ios\",\"valueType\":{\"__typename\":\"VariantFlagBoolean\",\"value\":true}},{\"__typename\":\"VariantFlag\",\"name\":\"allow_test_auth\",\"valueType\":{\"__typename\":\"VariantFlagString\",\"value\":\"disallow\"}},{\"__typename\":\"VariantFlag\",\"name\":\"enable_auto_follow_on_subscribe\",\"valueType\":{\"__typename\":\"VariantFlagBoolean\",\"value\":true}},{\"__typename\":\"VariantFlag\",\"name\":\"enable_android_miro_v2\",\"valueType\":{\"__typename\":\"VariantFlagBoolean\",\"value\":true}},{\"__typename\":\"VariantFlag\",\"name\":\"signin_services\",\"valueType\":{\"__typename\":\"VariantFlagString\",\"value\":\"twitter,facebook,google,email,google-fastidv,google-one-tap,apple\"}},{\"__typename\":\"VariantFlag\",\"name\":\"enable_sharer_create_post_share_key\",\"valueType\":{\"__typename\":\"VariantFlagBoolean\",\"value\":true}},{\"__typename\":\"VariantFlag\",\"name\":\"enable_starspace\",\"valueType\":{\"__typename\":\"VariantFlagBoolean\",\"value\":true}},{\"__typename\":\"VariantFlag\",\"name\":\"enable_android_dynamic_programming_paywall\",\"valueType\":{\"__typename\":\"VariantFlagBoolean\",\"value\":true}},{\"__typename\":\"VariantFlag\",\"name\":\"enable_moc_load_processor_c\",\"valueType\":{\"__typename\":\"VariantFlagBoolean\",\"value\":true}},{\"__typename\":\"VariantFlag\",\"name\":\"enable_author_cards\",\"valueType\":{\"__typename\":\"VariantFlagBoolean\",\"value\":true}},{\"__typename\":\"VariantFlag\",\"name\":\"enable_lohp_bg_color\",\"valueType\":{\"__typename\":\"VariantFlagString\",\"value\":\"group_2\"}},{\"__typename\":\"VariantFlag\",\"name\":\"enable_braintree_paypal\",\"valueType\":{\"__typename\":\"VariantFlagBoolean\",\"value\":true}},{\"__typename\":\"VariantFlag\",\"name\":\"enable_creator_welcome_email\",\"valueType\":{\"__typename\":\"VariantFlagBoolean\",\"value\":true}},{\"__typename\":\"VariantFlag\",\"name\":\"skip_fs_cache_user_vals\",\"valueType\":{\"__typename\":\"VariantFlagBoolean\",\"value\":true}},{\"__typename\":\"VariantFlag\",\"name\":\"enable_ios_easy_resubscribe\",\"valueType\":{\"__typename\":\"VariantFlagBoolean\",\"value\":true}},{\"__typename\":\"VariantFlag\",\"name\":\"enable_newsletter_lo_flow_custom_domains\",\"valueType\":{\"__typename\":\"VariantFlagBoolean\",\"value\":true}},{\"__typename\":\"VariantFlag\",\"name\":\"enable_tipping_v0_ios\",\"valueType\":{\"__typename\":\"VariantFlagBoolean\",\"value\":true}},{\"__typename\":\"VariantFlag\",\"name\":\"ios_enable_lock_responses\",\"valueType\":{\"__typename\":\"VariantFlagBoolean\",\"value\":true}},{\"__typename\":\"VariantFlag\",\"name\":\"enable_lite_response_markup\",\"valueType\":{\"__typename\":\"VariantFlagBoolean\",\"value\":true}},{\"__typename\":\"VariantFlag\",\"name\":\"crm_send_contact_to_sendgrid\",\"valueType\":{\"__typename\":\"VariantFlagBoolean\",\"value\":true}},{\"__typename\":\"VariantFlag\",\"name\":\"available_monthly_plan\",\"valueType\":{\"__typename\":\"VariantFlagString\",\"value\":\"60e220181034\"}},{\"__typename\":\"VariantFlag\",\"name\":\"enable_author_cards_byline\",\"valueType\":{\"__typename\":\"VariantFlagBoolean\",\"value\":true}},{\"__typename\":\"VariantFlag\",\"name\":\"enable_susi_redesign_ios\",\"valueType\":{\"__typename\":\"VariantFlagBoolean\",\"value\":true}},{\"__typename\":\"VariantFlag\",\"name\":\"enable_pp_dashboard_referred_earnings\",\"valueType\":{\"__typename\":\"VariantFlagBoolean\",\"value\":true}},{\"__typename\":\"VariantFlag\",\"name\":\"enable_rex_aggregator_v2\",\"valueType\":{\"__typename\":\"VariantFlagBoolean\",\"value\":true}},{\"__typename\":\"VariantFlag\",\"name\":\"glyph_font_set\",\"valueType\":{\"__typename\":\"VariantFlagString\",\"value\":\"m2-unbound-source-serif-pro\"}},{\"__typename\":\"VariantFlag\",\"name\":\"redefined_top_posts\",\"valueType\":{\"__typename\":\"VariantFlagBoolean\",\"value\":true}},{\"__typename\":\"VariantFlag\",\"name\":\"enable_lite_homepage\",\"valueType\":{\"__typename\":\"VariantFlagBoolean\",\"value\":true}}],\"collectionByDomainOrSlug({\\\\\"domainOrSlug\\\\\":\\\\\"betterprogramming.pub\\\\\"})\":{\"__ref\":\"Collection:d0b105d10f0a\"},\"postResult({\\\\\"id\\\\\":\\\\\"93435a97c6c\\\\\"})\":{\"__ref\":\"Post:93435a97c6c\"}},\"ImageMetadata:\":{\"__typename\":\"ImageMetadata\",\"id\":\"\"},\"Collection:d0b105d10f0a\":{\"__typename\":\"Collection\",\"id\":\"d0b105d10f0a\",\"favicon\":{\"__ref\":\"ImageMetadata:\"},\"customStyleSheet\":null,\"colorPalette\":{\"__typename\":\"ColorPalette\",\"highlightSpectrum\":{\"__typename\":\"ColorSpectrum\",\"backgroundColor\":\"#FFFFFFFF\",\"colorPoints\":[{\"__typename\":\"ColorPoint\",\"color\":\"#FFFFFFFF\",\"point\":0},{\"__typename\":\"ColorPoint\",\"color\":\"#FFE8F3E8\",\"point\":0.1},{\"__typename\":\"ColorPoint\",\"color\":\"#FFE8F3E8\",\"point\":0.2},{\"__typename\":\"ColorPoint\",\"color\":\"#FFD1E7D1\",\"point\":0.6},{\"__typename\":\"ColorPoint\",\"color\":\"#FFA3D0A2\",\"point\":1}]},\"defaultBackgroundSpectrum\":{\"__typename\":\"ColorSpectrum\",\"backgroundColor\":\"#FFFFFFFF\",\"colorPoints\":[{\"__typename\":\"ColorPoint\",\"color\":\"#FF1A8917\",\"point\":0},{\"__typename\":\"ColorPoint\",\"color\":\"#FF11800E\",\"point\":0.1},{\"__typename\":\"ColorPoint\",\"color\":\"#FF0F730C\",\"point\":0.2},{\"__typename\":\"ColorPoint\",\"color\":\"#FF095407\",\"point\":1}]},\"tintBackgroundSpectrum\":null},\"googleAnalyticsId\":null,\"editors\":[{\"__typename\":\"CollectionMastheadUserItem\",\"user\":{\"__ref\":\"User:adeddd83f452\"}}],\"name\":\"Better Programming\",\"avatar\":{\"__ref\":\"ImageMetadata:1*QNoA3XlXLHz22zQazc0syg.png\"},\"domain\":\"betterprogramming.pub\",\"slug\":\"better-programming\",\"description\":\"Advice for programmers.\",\"subscriberCount\":218993,\"viewerEdge\":{\"__ref\":\"CollectionViewerEdge:collectionId:d0b105d10f0a-viewerId:lo_a11a47ecc4d6\"},\"twitterUsername\":\"BttrProgramming\",\"facebookPageId\":null,\"logo\":{\"__ref\":\"ImageMetadata:1*S6X0W_XVeBUPe2Mz0hrufA.png\"}},\"User:adeddd83f452\":{\"__typename\":\"User\",\"id\":\"adeddd83f452\"},\"ImageMetadata:1*QNoA3XlXLHz22zQazc0syg.png\":{\"__typename\":\"ImageMetadata\",\"id\":\"1*QNoA3XlXLHz22zQazc0syg.png\"},\"LinkedAccounts:bf912a8da233\":{\"__typename\":\"LinkedAccounts\",\"mastodon\":null,\"id\":\"bf912a8da233\"},\"UserViewerEdge:userId:bf912a8da233-viewerId:lo_a11a47ecc4d6\":{\"__typename\":\"UserViewerEdge\",\"id\":\"userId:bf912a8da233-viewerId:lo_a11a47ecc4d6\",\"isFollowing\":false,\"isUser\":false,\"isMuting\":false},\"NewsletterV3:4e7a32e238f2\":{\"__typename\":\"NewsletterV3\",\"id\":\"4e7a32e238f2\",\"type\":\"NEWSLETTER_TYPE_AUTHOR\",\"slug\":\"bf912a8da233\",\"name\":\"bf912a8da233\",\"collection\":null,\"user\":{\"__ref\":\"User:bf912a8da233\"}},\"User:bf912a8da233\":{\"__typename\":\"User\",\"id\":\"bf912a8da233\",\"name\":\"Assaf Elovic\",\"username\":\"assafelovic\",\"newsletterV3\":{\"__ref\":\"NewsletterV3:4e7a32e238f2\"},\"linkedAccounts\":{\"__ref\":\"LinkedAccounts:bf912a8da233\"},\"isSuspended\":false,\"imageId\":\"1*I6aJfpHMF__sQUmbPOMCOg.jpeg\",\"mediumMemberAt\":1547048895726,\"verifications\":{\"__typename\":\"VerifiedInfo\",\"isBookAuthor\":false},\"socialStats\":{\"__typename\":\"SocialStats\",\"followerCount\":1982},\"customDomainState\":null,\"hasSubdomain\":false,\"bio\":\"software engineer | entrepreneur | assafelovic.com\",\"isPartnerProgramEnrolled\":true,\"viewerEdge\":{\"__ref\":\"UserViewerEdge:userId:bf912a8da233-viewerId:lo_a11a47ecc4d6\"},\"viewerIsUser\":false,\"postSubscribeMembershipUpsellShownAt\":0,\"allowNotes\":true,\"membership\":{\"__ref\":\"Membership:4261b8197f72\"},\"twitterScreenName\":\"assaf_elovic\"},\"ImageMetadata:1*f2XEZvAV7D4OQWlmqGBo9g.png\":{\"__typename\":\"ImageMetadata\",\"id\":\"1*f2XEZvAV7D4OQWlmqGBo9g.png\",\"originalHeight\":617,\"originalWidth\":1200,\"focusPercentX\":null,\"focusPercentY\":null,\"alt\":null},\"Paragraph:c812d5ada58_0\":{\"__typename\":\"Paragraph\",\"id\":\"c812d5ada58_0\",\"name\":\"d4c6\",\"type\":\"IMG\",\"href\":null,\"layout\":\"INSET_CENTER\",\"metadata\":{\"__ref\":\"ImageMetadata:1*f2XEZvAV7D4OQWlmqGBo9g.png\"},\"text\":\"\",\"hasDropCap\":null,\"dropCapImage\":null,\"markups\":[],\"codeBlockMetadata\":null,\"iframe\":null,\"mixtapeMetadata\":null},\"Paragraph:c812d5ada58_1\":{\"__typename\":\"Paragraph\",\"id\":\"c812d5ada58_1\",\"name\":\"eee3\",\"type\":\"H3\",\"href\":null,\"layout\":null,\"metadata\":null,\"text\":\"How I Built an Autonomous AI Agent for Online Research\",\"hasDropCap\":null,\"dropCapImage\":null,\"markups\":[],\"codeBlockMetadata\":null,\"iframe\":null,\"mixtapeMetadata\":null},\"Paragraph:c812d5ada58_2\":{\"__typename\":\"Paragraph\",\"id\":\"c812d5ada58_2\",\"name\":\"f93b\",\"type\":\"H4\",\"href\":null,\"layout\":null,\"metadata\":null,\"text\":\"GPT Researcher: the future of comprehensive online research\",\"hasDropCap\":null,\"dropCapImage\":null,\"markups\":[],\"codeBlockMetadata\":null,\"iframe\":null,\"mixtapeMetadata\":null},\"Paragraph:c812d5ada58_3\":{\"__typename\":\"Paragraph\",\"id\":\"c812d5ada58_3\",\"name\":\"27cc\",\"type\":\"P\",\"href\":null,\"layout\":null,\"metadata\":null,\"text\":\"After AutoGPT was published, I immediately took it for a spin. The first use case that came to mind was autonomous online research. Forming objective conclusions for manual research tasks can take time, sometimes weeks, to find the right resources and information. Seeing how well AutoGPT created tasks and executed them got me thinking about the great potential of using AI to conduct comprehensive research and what it meant for the future of online research.\",\"hasDropCap\":null,\"dropCapImage\":null,\"markups\":[{\"__typename\":\"Markup\",\"type\":\"A\",\"start\":6,\"end\":13,\"href\":\"https:\\\\u002F\\\\u002Fen.wikipedia.org\\\\u002Fwiki\\\\u002FAuto-GPT\",\"anchorType\":\"LINK\",\"userId\":null,\"linkMetadata\":null}],\"codeBlockMetadata\":null,\"iframe\":null,\"mixtapeMetadata\":null},\"Paragraph:c812d5ada58_4\":{\"__typename\":\"Paragraph\",\"id\":\"c812d5ada58_4\",\"name\":\"9678\",\"type\":\"P\",\"href\":null,\"layout\":null,\"metadata\":null,\"text\":\"But the problem with AutoGPT was that it usually ran into never-ending loops, required human interference for almost every step, constantly lost track of its progress, and almost never actually completed the task.\",\"hasDropCap\":null,\"dropCapImage\":null,\"markups\":[],\"codeBlockMetadata\":null,\"iframe\":null,\"mixtapeMetadata\":null},\"Paragraph:c812d5ada58_5\":{\"__typename\":\"Paragraph\",\"id\":\"c812d5ada58_5\",\"name\":\"cc98\",\"type\":\"P\",\"href\":null,\"layout\":null,\"metadata\":null,\"text\":\"Nonetheless, the information and context gathered during the research task were lost (such as keeping track of sources), and sometimes hallucinated.\",\"hasDropCap\":null,\"dropCapImage\":null,\"markups\":[],\"codeBlockMetadata\":null,\"iframe\":null,\"mixtapeMetadata\":null},\"Paragraph:c812d5ada58_6\":{\"__typename\":\"Paragraph\",\"id\":\"c812d5ada58_6\",\"name\":\"9a0a\",\"type\":\"P\",\"href\":null,\"layout\":null,\"metadata\":null,\"text\":\"The passion for leveraging AI for online research and the limitations I found put me on a mission to try and solve it while sharing my work with the world. This is when I created GPT Researcher — an open source autonomous agent for online comprehensive research.\",\"hasDropCap\":null,\"dropCapImage\":null,\"markups\":[{\"__typename\":\"Markup\",\"type\":\"A\",\"start\":179,\"end\":193,\"href\":\"https:\\\\u002F\\\\u002Fgithub.com\\\\u002Fassafelovic\\\\u002Fgpt-researcher\",\"anchorType\":\"LINK\",\"userId\":null,\"linkMetadata\":null}],\"codeBlockMetadata\":null,\"iframe\":null,\"mixtapeMetadata\":null},\"Paragraph:c812d5ada58_7\":{\"__typename\":\"Paragraph\",\"id\":\"c812d5ada58_7\",\"name\":\"36f1\",\"type\":\"P\",\"href\":null,\"layout\":null,\"metadata\":null,\"text\":\"In this article, I will share the steps that guided me toward the proposed solution.\",\"hasDropCap\":null,\"dropCapImage\":null,\"markups\":[],\"codeBlockMetadata\":null,\"iframe\":null,\"mixtapeMetadata\":null},\"Paragraph:c812d5ada58_8\":{\"__typename\":\"Paragraph\",\"id\":\"c812d5ada58_8\",\"name\":\"36f3\",\"type\":\"H4\",\"href\":null,\"layout\":null,\"metadata\":null,\"text\":\"Moving from infinite loops to deterministic results\",\"hasDropCap\":null,\"dropCapImage\":null,\"markups\":[],\"codeBlockMetadata\":null,\"iframe\":null,\"mixtapeMetadata\":null},\"Paragraph:c812d5ada58_9\":{\"__typename\":\"Paragraph\",\"id\":\"c812d5ada58_9\",\"name\":\"4f99\",\"type\":\"P\",\"href\":null,\"layout\":null,\"metadata\":null,\"text\":\"The first step in solving these issues was to seek a more deterministic solution that could ultimately guarantee completing any research task within a fixed time frame, without human interference.\",\"hasDropCap\":null,\"dropCapImage\":null,\"markups\":[],\"codeBlockMetadata\":null,\"iframe\":null,\"mixtapeMetadata\":null},\"Paragraph:c812d5ada58_10\":{\"__typename\":\"Paragraph\",\"id\":\"c812d5ada58_10\",\"name\":\"f827\",\"type\":\"P\",\"href\":null,\"layout\":null,\"metadata\":null,\"text\":\"This is when I stumbled upon the recent paper Plan and Solve. The paper aims to provide a better solution for the challenges stated above. The idea is quite simple and consists of two components: first, devising a plan to divide the entire task into smaller subtasks and then carrying out the subtasks according to the plan.\",\"hasDropCap\":null,\"dropCapImage\":null,\"markups\":[{\"__typename\":\"Markup\",\"type\":\"A\",\"start\":46,\"end\":60,\"href\":\"https:\\\\u002F\\\\u002Farxiv.org\\\\u002Fabs\\\\u002F2305.04091\",\"anchorType\":\"LINK\",\"userId\":null,\"linkMetadata\":null}],\"codeBlockMetadata\":null,\"iframe\":null,\"mixtapeMetadata\":null},\"ImageMetadata:1*ZRAW7whLfMW9ppSiYoHgBw.png\":{\"__typename\":\"ImageMetadata\",\"id\":\"1*ZRAW7whLfMW9ppSiYoHgBw.png\",\"originalHeight\":516,\"originalWidth\":687,\"focusPercentX\":null,\"focusPercentY\":null,\"alt\":null},\"Paragraph:c812d5ada58_11\":{\"__typename\":\"Paragraph\",\"id\":\"c812d5ada58_11\",\"name\":\"33bb\",\"type\":\"IMG\",\"href\":null,\"layout\":\"INSET_CENTER\",\"metadata\":{\"__ref\":\"ImageMetadata:1*ZRAW7whLfMW9ppSiYoHgBw.png\"},\"text\":\"Example inputs and outputs of GPT-3 with (a) Zero-shot-CoT prompting, (b) Plan-and-Solve (PS) prompting\",\"hasDropCap\":null,\"dropCapImage\":null,\"markups\":[],\"codeBlockMetadata\":null,\"iframe\":null,\"mixtapeMetadata\":null},\"Paragraph:c812d5ada58_12\":{\"__typename\":\"Paragraph\",\"id\":\"c812d5ada58_12\",\"name\":\"e4a0\",\"type\":\"P\",\"href\":null,\"layout\":null,\"metadata\":null,\"text\":\"As it relates to research, first create an outline of questions to research related to the task, and then…\",\"hasDropCap\":null,\"dropCapImage\":null,\"markups\":[],\"codeBlockMetadata\":null,\"iframe\":null,\"mixtapeMetadata\":null},\"CollectionViewerEdge:collectionId:d0b105d10f0a-viewerId:lo_a11a47ecc4d6\":{\"__typename\":\"CollectionViewerEdge\",\"id\":\"collectionId:d0b105d10f0a-viewerId:lo_a11a47ecc4d6\",\"isEditor\":false,\"isMuting\":false},\"Membership:4261b8197f72\":{\"__typename\":\"Membership\",\"tier\":\"MEMBER\",\"id\":\"4261b8197f72\"},\"ImageMetadata:1*S6X0W_XVeBUPe2Mz0hrufA.png\":{\"__typename\":\"ImageMetadata\",\"id\":\"1*S6X0W_XVeBUPe2Mz0hrufA.png\",\"originalWidth\":3807,\"originalHeight\":519},\"Tag:artificial-intelligence\":{\"__typename\":\"Tag\",\"id\":\"artificial-intelligence\",\"displayTitle\":\"Artificial Intelligence\",\"normalizedTagSlug\":\"artificial-intelligence\"},\"Tag:software-development\":{\"__typename\":\"Tag\",\"id\":\"software-development\",\"displayTitle\":\"Software Development\",\"normalizedTagSlug\":\"software-development\"},\"Tag:open-source\":{\"__typename\":\"Tag\",\"id\":\"open-source\",\"displayTitle\":\"Open Source\",\"normalizedTagSlug\":\"open-source\"},\"Tag:research\":{\"__typename\":\"Tag\",\"id\":\"research\",\"displayTitle\":\"Research\",\"normalizedTagSlug\":\"research\"},\"Tag:scraping\":{\"__typename\":\"Tag\",\"id\":\"scraping\",\"displayTitle\":\"Scraping\",\"normalizedTagSlug\":\"scraping\"},\"Post:93435a97c6c\":{\"__typename\":\"Post\",\"id\":\"93435a97c6c\",\"collection\":{\"__ref\":\"Collection:d0b105d10f0a\"},\"content({\\\\\"postMeteringOptions\\\\\":{}})\":{\"__typename\":\"PostContent\",\"isLockedPreviewOnly\":true,\"bodyModel\":{\"__typename\":\"RichText\",\"sections\":[{\"__typename\":\"Section\",\"name\":null,\"startIndex\":0,\"textLayout\":null,\"imageLayout\":null,\"backgroundImage\":null,\"videoLayout\":null,\"backgroundVideo\":null}],\"paragraphs\":[{\"__ref\":\"Paragraph:c812d5ada58_0\"},{\"__ref\":\"Paragraph:c812d5ada58_1\"},{\"__ref\":\"Paragraph:c812d5ada58_2\"},{\"__ref\":\"Paragraph:c812d5ada58_3\"},{\"__ref\":\"Paragraph:c812d5ada58_4\"},{\"__ref\":\"Paragraph:c812d5ada58_5\"},{\"__ref\":\"Paragraph:c812d5ada58_6\"},{\"__ref\":\"Paragraph:c812d5ada58_7\"},{\"__ref\":\"Paragraph:c812d5ada58_8\"},{\"__ref\":\"Paragraph:c812d5ada58_9\"},{\"__ref\":\"Paragraph:c812d5ada58_10\"},{\"__ref\":\"Paragraph:c812d5ada58_11\"},{\"__ref\":\"Paragraph:c812d5ada58_12\"}]},\"validatedShareKey\":\"\",\"shareKeyCreator\":null},\"creator\":{\"__ref\":\"User:bf912a8da233\"},\"inResponseToEntityType\":null,\"isLocked\":true,\"isMarkedPaywallOnly\":false,\"lockedSource\":\"LOCKED_POST_SOURCE_UGC\",\"mediumUrl\":\"https:\\\\u002F\\\\u002Fbetterprogramming.pub\\\\u002Fhow-i-built-an-autonomous-ai-agent-for-online-research-93435a97c6c\",\"primaryTopic\":null,\"topics\":[{\"__typename\":\"Topic\",\"slug\":\"programming\"}],\"isPublished\":true,\"latestPublishedVersion\":\"c812d5ada58\",\"visibility\":\"LOCKED\",\"postResponses\":{\"__typename\":\"PostResponses\",\"count\":10},\"createdAt\":1690090823837,\"firstPublishedAt\":1690215527263,\"latestPublishedAt\":1690267781061,\"clapCount\":1054,\"allowResponses\":true,\"isLimitedState\":false,\"title\":\"How I Built an Autonomous AI Agent for Online Research\",\"isSeries\":false,\"sequence\":null,\"uniqueSlug\":\"how-i-built-an-autonomous-ai-agent-for-online-research-93435a97c6c\",\"socialTitle\":\"\",\"socialDek\":\"\",\"noIndex\":null,\"canonicalUrl\":\"\",\"metaDescription\":\"\",\"readingTime\":5.278301886792453,\"previewContent\":{\"__typename\":\"PreviewContent\",\"subtitle\":\"GPT Researcher: the future of comprehensive online research\"},\"previewImage\":{\"__ref\":\"ImageMetadata:1*f2XEZvAV7D4OQWlmqGBo9g.png\"},\"isShortform\":false,\"seoTitle\":\"\",\"updatedAt\":1691579876896,\"shortformType\":\"SHORTFORM_TYPE_LINK\",\"seoDescription\":\"\",\"isSuspended\":false,\"license\":\"ALL_RIGHTS_RESERVED\",\"tags\":[{\"__ref\":\"Tag:artificial-intelligence\"},{\"__ref\":\"Tag:software-development\"},{\"__ref\":\"Tag:open-source\"},{\"__ref\":\"Tag:research\"},{\"__ref\":\"Tag:scraping\"}],\"pendingCollection\":null,\"statusForCollection\":\"APPROVED\",\"detectedLanguage\":\"en\",\"wordCount\":1253,\"layerCake\":6}}</script><script src=\"https://cdn-client.medium.com/lite/static/js/manifest.b33fa867.js\"></script><script src=\"https://cdn-client.medium.com/lite/static/js/3057.5e22bbb0.js\"></script><script src=\"https://cdn-client.medium.com/lite/static/js/main.972c2fde.js\"></script><script src=\"https://cdn-client.medium.com/lite/static/js/instrumentation.5e7f2981.chunk.js\"></script>\\n<script src=\"https://cdn-client.medium.com/lite/static/js/reporting.2021fe63.chunk.js\"></script>\\n<script src=\"https://cdn-client.medium.com/lite/static/js/6068.e9093f2e.chunk.js\"></script>\\n<script src=\"https://cdn-client.medium.com/lite/static/js/4398.db4d4378.chunk.js\"></script>\\n<script src=\"https://cdn-client.medium.com/lite/static/js/7883.0e445e04.chunk.js\"></script>\\n<script src=\"https://cdn-client.medium.com/lite/static/js/6733.1d85727b.chunk.js\"></script>\\n<script src=\"https://cdn-client.medium.com/lite/static/js/4711.043615ac.chunk.js\"></script>\\n<script src=\"https://cdn-client.medium.com/lite/static/js/8695.9065ba3d.chunk.js\"></script>\\n<script src=\"https://cdn-client.medium.com/lite/static/js/4341.e697d2a1.chunk.js\"></script>\\n<script src=\"https://cdn-client.medium.com/lite/static/js/5971.c8339d3b.chunk.js\"></script>\\n<script src=\"https://cdn-client.medium.com/lite/static/js/5203.e7a22052.chunk.js\"></script>\\n<script src=\"https://cdn-client.medium.com/lite/static/js/7222.a06e9442.chunk.js\"></script>\\n<script src=\"https://cdn-client.medium.com/lite/static/js/6487.04f5c1f1.chunk.js\"></script>\\n<script src=\"https://cdn-client.medium.com/lite/static/js/5459.80a6ee18.chunk.js\"></script>\\n<script src=\"https://cdn-client.medium.com/lite/static/js/6804.2cda7ee2.chunk.js\"></script>\\n<script src=\"https://cdn-client.medium.com/lite/static/js/1711.b70f1a35.chunk.js\"></script>\\n<script src=\"https://cdn-client.medium.com/lite/static/js/7652.f5b06845.chunk.js\"></script>\\n<script src=\"https://cdn-client.medium.com/lite/static/js/2462.16c628db.chunk.js\"></script>\\n<script src=\"https://cdn-client.medium.com/lite/static/js/9174.24f568ee.chunk.js\"></script>\\n<script src=\"https://cdn-client.medium.com/lite/static/js/1128.4c874358.chunk.js\"></script>\\n<script src=\"https://cdn-client.medium.com/lite/static/js/4129.ee8ae2c8.chunk.js\"></script>\\n<script src=\"https://cdn-client.medium.com/lite/static/js/8580.feeb2549.chunk.js\"></script>\\n<script src=\"https://cdn-client.medium.com/lite/static/js/8883.c8b03d13.chunk.js\"></script>\\n<script src=\"https://cdn-client.medium.com/lite/static/js/4078.da7800a7.chunk.js\"></script>\\n<script src=\"https://cdn-client.medium.com/lite/static/js/9408.3df4db57.chunk.js\"></script>\\n<script src=\"https://cdn-client.medium.com/lite/static/js/9150.42fafb2e.chunk.js\"></script>\\n<script src=\"https://cdn-client.medium.com/lite/static/js/5005.b5d4a37c.chunk.js\"></script>\\n<script src=\"https://cdn-client.medium.com/lite/static/js/6605.4982ed5d.chunk.js\"></script>\\n<script src=\"https://cdn-client.medium.com/lite/static/js/2393.aaa1ee6d.chunk.js\"></script>\\n<script src=\"https://cdn-client.medium.com/lite/static/js/2211.706ab0f5.chunk.js\"></script>\\n<script src=\"https://cdn-client.medium.com/lite/static/js/PostPage.MainContent.0377a67c.chunk.js\"></script><script>window.main();</script><script defer src=\"https://static.cloudflareinsights.com/beacon.min.js/v84a3a4012de94ce1a686ba8c167c359c1696973893317\" integrity=\"sha512-euoFGowhlaLqXsPWQ48qSkBSCFs3DPRyiwVu3FjR96cMPx+Fr+gpWRhIafcHwqwCqWS42RZhIudOvEI+Ckf6MA==\" data-cf-beacon=\\'{\"rayId\":\"867cfac5783f7009\",\"b\":1,\"version\":\"2024.3.0\",\"token\":\"0b5f665943484354a59c39c6833f7078\"}\\' crossorigin=\"anonymous\"></script>\\n</body></html>', metadata={'source': 'https://betterprogramming.pub/how-i-built-an-autonomous-ai-agent-for-online-research-93435a97c6c', 'title': 'How I Built an Autonomous AI Agent for Online Research | by Assaf Elovic | Better Programming', 'description': 'After AutoGPT was published, I immediately took it for a spin. The first use case that came to mind was autonomous online research. Forming objective conclusions for manual research tasks can take…', 'language': 'en'}),\n",
       " Document(page_content='<!doctype html>\\n<html lang=\"en\" class=\"no-js\" data-header-style=\"classic\">\\n\\n<head>\\n    <title>Automating Web Research</title>\\n    <meta charset=\"utf-8\">\\n    <meta name=\"viewport\" content=\"width=device-width, initial-scale=1.0\">\\n    <script>document.documentElement.classList.replace(\\'no-js\\',\\'js\\');</script>\\n    <script>\\n        if (window.localStorage.getItem(\\'kutak-prefers-color-scheme\\') && !document.documentElement.hasAttribute(\\'data-prefers-color-scheme\\')) {\\n            document.documentElement.setAttribute(\\'data-prefers-color-scheme\\', window.localStorage.getItem(\\'kutak-prefers-color-scheme\\'));\\n        }\\n    </script>\\n\\n    <link rel=\"preload\" as=\"font\" type=\"font/woff2\" href=\"https://blog.langchain.dev/assets/fonts/source-sans-pro-v21-latin-ext_latin-regular.woff2?v=ade8c8b401\" crossorigin>\\n<link rel=\"preload\" as=\"font\" type=\"font/woff2\" href=\"https://blog.langchain.dev/assets/fonts/source-sans-pro-v21-latin-ext_latin-600.woff2?v=ade8c8b401\" crossorigin>\\n<link rel=\"preload\" as=\"font\" type=\"font/woff2\" href=\"https://blog.langchain.dev/assets/fonts/source-sans-pro-v21-latin-ext_latin-700.woff2?v=ade8c8b401\" crossorigin>\\n\\n<style>\\n    @font-face {\\n        font-family: \\'Source Sans Pro\\';\\n        font-style: normal;\\n        font-weight: 400;\\n        font-display: swap;\\n        src: url(\\'https://blog.langchain.dev/assets/fonts/source-sans-pro-v21-latin-ext_latin-regular.woff2?v=ade8c8b401\\') format(\\'woff2\\');\\n    }\\n\\n    @font-face {\\n        font-family: \\'Source Sans Pro\\';\\n        font-style: italic;\\n        font-weight: 400;\\n        font-display: swap;\\n        src: url(\\'https://blog.langchain.dev/assets/fonts/source-sans-pro-v21-latin-ext_latin-italic.woff2?v=ade8c8b401\\') format(\\'woff2\\');\\n    }\\n\\n    @font-face {\\n        font-family: \\'Source Sans Pro\\';\\n        font-style: normal;\\n        font-weight: 600;\\n        font-display: swap;\\n        src: url(\\'https://blog.langchain.dev/assets/fonts/source-sans-pro-v21-latin-ext_latin-600.woff2?v=ade8c8b401\\') format(\\'woff2\\');\\n    }\\n\\n    @font-face {\\n        font-family: \\'Source Sans Pro\\';\\n        font-style: italic;\\n        font-weight: 600;\\n        font-display: swap;\\n        src: url(\\'https://blog.langchain.dev/assets/fonts/source-sans-pro-v21-latin-ext_latin-600italic.woff2?v=ade8c8b401\\') format(\\'woff2\\');\\n    }\\n\\n    @font-face {\\n        font-family: \\'Source Sans Pro\\';\\n        font-style: normal;\\n        font-weight: 700;\\n        font-display: swap;\\n        src: url(\\'https://blog.langchain.dev/assets/fonts/source-sans-pro-v21-latin-ext_latin-700.woff2?v=ade8c8b401\\') format(\\'woff2\\');\\n    }\\n\\n    @font-face {\\n        font-family: \\'Source Sans Pro\\';\\n        font-style: italic;\\n        font-weight: 700;\\n        font-display: swap;\\n        src: url(\\'https://blog.langchain.dev/assets/fonts/source-sans-pro-v21-latin-ext_latin-700italic.woff2?v=ade8c8b401\\') format(\\'woff2\\');\\n    }\\n\\n    :root {\\n        --kutak--font-family--base: \\'Source Sans Pro\\', Helvetica, sans-serif;\\n        --kutak--font-family--headings: \\'Source Sans Pro\\', Helvetica, sans-serif;\\n        --kutak--font-family--elements: \\'Source Sans Pro\\', Helvetica, sans-serif;\\n        --kutak--font-weight--base: 400;\\n        --kutak--font-weight--base-bold: 700;\\n        --kutak--font-weight--headings: 700;\\n        --kutak--font-weight--headings-small: 600;\\n        --kutak--font-weight--elements: 600;\\n    }\\n</style>\\n\\n    <link rel=\"stylesheet\" href=\"https://blog.langchain.dev/assets/dist/style.css?v=ade8c8b401\">\\n\\n    \\n\\n    <link rel=\"icon\" href=\"https://blog.langchain.dev/content/images/size/w256h256/2024/03/Twitter_ProfilePicture.png\" type=\"image/png\">\\n    <link rel=\"canonical\" href=\"https://blog.langchain.dev/automating-web-research/\">\\n    <meta name=\"referrer\" content=\"no-referrer-when-downgrade\">\\n    \\n    <meta property=\"og:site_name\" content=\"LangChain Blog\">\\n    <meta property=\"og:type\" content=\"article\">\\n    <meta property=\"og:title\" content=\"Automating Web Research\">\\n    <meta property=\"og:description\" content=\"Key Links\\n\\n * Web Researcher Repo\\n * New LangChain Retriever and Documentation\\n * Hosted Streamlit App\\n\\n\\nMotivation\\n\\nWeb research is one of the killer LLM applications: Greg Kamradt highlighted it as one of his top desired AI tools and OSS repos like gpt-researcher are growing in popularity. We decided to take a stab\">\\n    <meta property=\"og:url\" content=\"https://blog.langchain.dev/automating-web-research/\">\\n    <meta property=\"og:image\" content=\"https://blog.langchain.dev/content/images/size/w1200/2023/08/5-social--17--1.png\">\\n    <meta property=\"article:published_time\" content=\"2023-07-26T14:47:31.000Z\">\\n    <meta property=\"article:modified_time\" content=\"2023-08-18T21:53:43.000Z\">\\n    <meta property=\"article:tag\" content=\"By LangChain\">\\n    \\n    <meta name=\"twitter:card\" content=\"summary_large_image\">\\n    <meta name=\"twitter:title\" content=\"Automating Web Research\">\\n    <meta name=\"twitter:description\" content=\"Key Links\\n\\n * Web Researcher Repo\\n * New LangChain Retriever and Documentation\\n * Hosted Streamlit App\\n\\n\\nMotivation\\n\\nWeb research is one of the killer LLM applications: Greg Kamradt highlighted it as one of his top desired AI tools and OSS repos like gpt-researcher are growing in popularity. We decided to take a stab\">\\n    <meta name=\"twitter:url\" content=\"https://blog.langchain.dev/automating-web-research/\">\\n    <meta name=\"twitter:image\" content=\"https://blog.langchain.dev/content/images/size/w1200/2023/08/5-social--17.png\">\\n    <meta name=\"twitter:label1\" content=\"Written by\">\\n    <meta name=\"twitter:data1\" content=\"LangChain\">\\n    <meta name=\"twitter:label2\" content=\"Filed under\">\\n    <meta name=\"twitter:data2\" content=\"By LangChain\">\\n    <meta name=\"twitter:site\" content=\"@LangChainAI\">\\n    <meta name=\"twitter:creator\" content=\"@LangChainAI\">\\n    <meta property=\"og:image:width\" content=\"1200\">\\n    <meta property=\"og:image:height\" content=\"505\">\\n    \\n    <script type=\"application/ld+json\">\\n{\\n    \"@context\": \"https://schema.org\",\\n    \"@type\": \"Article\",\\n    \"publisher\": {\\n        \"@type\": \"Organization\",\\n        \"name\": \"LangChain Blog\",\\n        \"url\": \"https://blog.langchain.dev/\",\\n        \"logo\": {\\n            \"@type\": \"ImageObject\",\\n            \"url\": \"https://blog.langchain.dev/content/images/2024/03/LangChain-logo.png\"\\n        }\\n    },\\n    \"author\": {\\n        \"@type\": \"Person\",\\n        \"name\": \"LangChain\",\\n        \"image\": {\\n            \"@type\": \"ImageObject\",\\n            \"url\": \"https://blog.langchain.dev/content/images/2023/01/parroticon.png\",\\n            \"width\": 448,\\n            \"height\": 448\\n        },\\n        \"url\": \"https://blog.langchain.dev/author/langchain/\",\\n        \"sameAs\": [\\n            \"https://twitter.com/LangChainAI\"\\n        ]\\n    },\\n    \"headline\": \"Automating Web Research\",\\n    \"url\": \"https://blog.langchain.dev/automating-web-research/\",\\n    \"datePublished\": \"2023-07-26T14:47:31.000Z\",\\n    \"dateModified\": \"2023-08-18T21:53:43.000Z\",\\n    \"keywords\": \"By LangChain\",\\n    \"description\": \"Key Links\\\\n\\\\n * Web Researcher Repo\\\\n * New LangChain Retriever and Documentation\\\\n * Hosted Streamlit App\\\\n\\\\n\\\\nMotivation\\\\n\\\\nWeb research is one of the killer LLM applications: Greg Kamradt highlighted it as one of his top desired AI tools and OSS repos like gpt-researcher are growing in popularity. We decided to take a stab at it, initially setting out like many others to build a web research agent. But, we landed somewhere different: a fairly simple retriever proved to be effective and easily configur\",\\n    \"mainEntityOfPage\": \"https://blog.langchain.dev/automating-web-research/\"\\n}\\n    </script>\\n\\n    <meta name=\"generator\" content=\"Ghost 5.80\">\\n    <link rel=\"alternate\" type=\"application/rss+xml\" title=\"LangChain Blog\" href=\"https://blog.langchain.dev/rss/\">\\n    <script defer src=\"https://cdn.jsdelivr.net/ghost/portal@~2.37/umd/portal.min.js\" data-i18n=\"false\" data-ghost=\"https://blog.langchain.dev/\" data-key=\"e411fdfa6f54398669f416d1f0\" data-api=\"https://langchain-blog.ghost.io/ghost/api/content/\" crossorigin=\"anonymous\"></script><style id=\"gh-members-styles\">.gh-post-upgrade-cta-content,\\n.gh-post-upgrade-cta {\\n    display: flex;\\n    flex-direction: column;\\n    align-items: center;\\n    font-family: -apple-system, BlinkMacSystemFont, \\'Segoe UI\\', Roboto, Oxygen, Ubuntu, Cantarell, \\'Open Sans\\', \\'Helvetica Neue\\', sans-serif;\\n    text-align: center;\\n    width: 100%;\\n    color: #ffffff;\\n    font-size: 16px;\\n}\\n\\n.gh-post-upgrade-cta-content {\\n    border-radius: 8px;\\n    padding: 40px 4vw;\\n}\\n\\n.gh-post-upgrade-cta h2 {\\n    color: #ffffff;\\n    font-size: 28px;\\n    letter-spacing: -0.2px;\\n    margin: 0;\\n    padding: 0;\\n}\\n\\n.gh-post-upgrade-cta p {\\n    margin: 20px 0 0;\\n    padding: 0;\\n}\\n\\n.gh-post-upgrade-cta small {\\n    font-size: 16px;\\n    letter-spacing: -0.2px;\\n}\\n\\n.gh-post-upgrade-cta a {\\n    color: #ffffff;\\n    cursor: pointer;\\n    font-weight: 500;\\n    box-shadow: none;\\n    text-decoration: underline;\\n}\\n\\n.gh-post-upgrade-cta a:hover {\\n    color: #ffffff;\\n    opacity: 0.8;\\n    box-shadow: none;\\n    text-decoration: underline;\\n}\\n\\n.gh-post-upgrade-cta a.gh-btn {\\n    display: block;\\n    background: #ffffff;\\n    text-decoration: none;\\n    margin: 28px 0 0;\\n    padding: 8px 18px;\\n    border-radius: 4px;\\n    font-size: 16px;\\n    font-weight: 600;\\n}\\n\\n.gh-post-upgrade-cta a.gh-btn:hover {\\n    opacity: 0.92;\\n}</style>\\n    <script defer src=\"https://cdn.jsdelivr.net/ghost/sodo-search@~1.1/umd/sodo-search.min.js\" data-key=\"e411fdfa6f54398669f416d1f0\" data-styles=\"https://cdn.jsdelivr.net/ghost/sodo-search@~1.1/umd/main.css\" data-sodo-search=\"https://langchain-blog.ghost.io/\" crossorigin=\"anonymous\"></script>\\n    \\n    <link href=\"https://blog.langchain.dev/webmentions/receive/\" rel=\"webmention\">\\n    <script defer src=\"/public/cards.min.js?v=ade8c8b401\"></script>\\n    <link rel=\"stylesheet\" type=\"text/css\" href=\"/public/cards.min.css?v=ade8c8b401\">\\n    <script defer src=\"/public/member-attribution.min.js?v=ade8c8b401\"></script>\\n    <!-- Google tag (gtag.js) -->\\n<script async src=\"https://www.googletagmanager.com/gtag/js?id=G-Z8XE5ZJE6X\"></script>\\n<script>\\n  window.dataLayer = window.dataLayer || [];\\n  function gtag(){dataLayer.push(arguments);}\\n  gtag(\\'js\\', new Date());\\n\\n  gtag(\\'config\\', \\'G-Z8XE5ZJE6X\\');\\n</script>\\n<script defer data-domain=\"blog.langchain.dev\" src=\"https://plausible.io/js/script.js\"></script>\\n\\n<style>\\n@media (min-width: 62.5em) {\\n    .article-header__figure {\\n        aspect-ratio: 16/9;\\n    }\\n\\n</style><style>:root {--ghost-accent-color: #1c3b3b;}</style>\\n</head>\\n\\n<body class=\"post-template tag-hash-import-2023-08-10-13-47 tag-by-langchain\">\\n\\n    <a class=\"skip-link visually-hidden-focusable\" href=\"#main\">Skip to content</a>\\n\\n    <div class=\"site\">\\n\\n        <header id=\"site-header\" class=\"site-header\">\\n    <span class=\"site-header__bg\"></span>\\n\\n    <div class=\"site-header__container container\">\\n        <button\\n            class=\"site-header__hamburger\"\\n            data-site-action-trigger=\"navigation\"\\n            aria-label=\"Open Menu\"\\n            aria-expanded=\"false\"\\n            aria-controls=\"site-actions-navigation\">\\n            <span></span>\\n        </button>\\n\\n        <a href=\"https://blog.langchain.dev\" rel=\"home\" class=\"site-header__logo\">\\n                <img class=\"site-header__logo-image\" data-logo-color-scheme=\"default\" src=\"https://blog.langchain.dev/content/images/2024/03/LangChain-logo.png\" alt=\"LangChain Blog\">\\n        </a>\\n\\n        <div id=\"site-actions-navigation\" class=\"site-navigation\">\\n            <div class=\"site-navigation__inner\">\\n                        <nav class=\"nav-classic\">\\n            <ul class=\"nav-classic__menu\">\\n                 \\n                    <li class=\"nav-classic__menu-item\">\\n                        <a class=\"nav-classic__menu-link\" href=\"https://blog.langchain.dev/tag/by-langchain/\">\\n                            <span class=\"nav-classic__menu-title\">By LangChain</span>\\n                        </a>\\n                    </li>\\n                 \\n                 \\n                    <li class=\"nav-classic__menu-item\">\\n                        <a class=\"nav-classic__menu-link\" href=\"https://blog.langchain.dev/tag/release-notes/\">\\n                            <span class=\"nav-classic__menu-title\">Release Notes</span>\\n                        </a>\\n                    </li>\\n                 \\n                 \\n                    <li class=\"nav-classic__menu-item\">\\n                        <a class=\"nav-classic__menu-link\" href=\"https://blog.langchain.dev/tag/case-studies/\">\\n                            <span class=\"nav-classic__menu-title\">Case Studies</span>\\n                        </a>\\n                    </li>\\n                 \\n                 \\n                    <li class=\"nav-classic__menu-item\">\\n                        <a class=\"nav-classic__menu-link\" href=\"https://www.langchain.com\">\\n                            <span class=\"nav-classic__menu-title\">LangChain</span>\\n                        </a>\\n                    </li>\\n                 \\n                 \\n                    <li class=\"nav-classic__menu-item\">\\n                        <a class=\"nav-classic__menu-link\" href=\"https://github.com/langchain-ai\">\\n                            <span class=\"nav-classic__menu-title\">GitHub</span>\\n                        </a>\\n                    </li>\\n                 \\n                 \\n                    <li class=\"nav-classic__menu-item\">\\n                        <a class=\"nav-classic__menu-link\" href=\"https://python.langchain.com/docs/get_started/introduction\">\\n                            <span class=\"nav-classic__menu-title\">Docs</span>\\n                        </a>\\n                    </li>\\n                 \\n            </ul>\\n        </nav>\\n\\n                    <div class=\"site-account\">\\n                <a class=\"site-account__link\" href=\"#/portal/signin\" data-portal=\"signin\">Sign in</a>\\n                <a class=\"site-account__button button\" data-btn-size=\"small\" href=\"#/portal/signup\" data-portal=\"signup\">Subscribe</a>\\n    </div>\\n                            </div>\\n        </div>\\n\\n        <button\\n            class=\"site-header__search-trigger\"\\n            aria-label=\"Open Search\"\\n            data-ghost-search>\\n            <span></span>\\n        </button>\\n    </div>\\n\\n    <div class=\"site-actions\">\\n        <span class=\"site-actions__backdrop\" data-close-site-actions></span>\\n        <span class=\"site-actions__bg\"></span>\\n\\n\\n    </div>\\n\\n</header>\\n\\n        <main id=\"main\" class=\"site-main\">\\n            \\n\\n<article class=\"article post tag-hash-import-2023-08-10-13-47 tag-by-langchain no-image\">\\n\\n    <header class=\"article-header section\" data-layout-grid=\"custom\" data-theme=\"highlight\" data-section=\"first\" data-has-featured-image=\"false\">\\n        <div class=\"article-header__content\">\\n            <h1 class=\"article-header__title\">Automating Web Research</h1>\\n            <div class=\"article-header__footer\">\\n                <span class=\"article-header__meta article-header__meta--read-time\">4 min read</span>\\n                <time class=\"article-header__meta article-header__meta--date\" datetime=\"2023-07-26\">Jul 26, 2023</time>\\n            </div>\\n        </div>\\n    </header>\\n\\n    <div class=\"article-main section\" data-canvas-grid=\"content\">\\n        <div class=\"article-content\" data-canvas-grid=\"content\" data-canvas-grid-self=\"full\">\\n            <h2 id=\"key-links\">Key Links</h2><ul><li><a href=\"https://github.com/langchain-ai/web-explorer/tree/main?ref=blog.langchain.dev\">Web Researcher Repo</a></li><li><a href=\"https://github.com/langchain-ai/langchain/pull/8102?ref=blog.langchain.dev\">New LangChain Retriever</a> and <a href=\"https://python.langchain.com/docs/modules/data_connection/retrievers/web_research?ref=blog.langchain.dev\">Documentation</a></li><li><a href=\"https://web-explorer.streamlit.app/?ref=blog.langchain.dev\">Hosted Streamlit App</a></li></ul><h2 id=\"motivation\">Motivation</h2><p>Web research is one of the killer LLM applications: Greg Kamradt <a href=\"https://twitter.com/GregKamradt/status/1679913813297225729?s=20&ref=blog.langchain.dev\">highlighted it as one of his top desired AI tools</a> and OSS repos like <a href=\"https://github.com/assafelovic/gpt-researcher?ref=blog.langchain.dev\">gpt-researcher</a> are growing in popularity. We decided to take a stab at it, initially setting out like many others to build a web research agent. But, we landed somewhere different: a fairly simple retriever proved to be effective and easily configurable (e.g., to run in private mode as popularized by projects like <a href=\"https://github.com/imartinez/privateGPT?ref=blog.langchain.dev\">PrivateGPT</a>) . In this blog we talk about our exploration and thought process, how we built it, and the next steps.</p><h2 id=\"exploration\">Exploration</h2><p>Abovementioned projects like <a href=\"https://github.com/assafelovic/gpt-researcher?ref=blog.langchain.dev\">gpt-researcher</a> and AI search engines (<a href=\"https://www.perplexity.ai/?ref=blog.langchain.dev\">perplexity.ai</a>) offer an early glimpse into how web research may be re-imagined. Like many, we first devised an agent that could be given a prompt, a set of tools, and then would set forth to scour the web <a href=\"https://github.com/Significant-Gravitas/Auto-GPT?ref=blog.langchain.dev\">autonomously</a>! For this, it clearly needed tools to:</p><ul><li>Search and return pages </li><li>Scrape the full content of the pages returned</li><li>Extract relevant information from the pages </li></ul><p>With those tools, the agent could approximate what a human does: search a topic, choose selected links, skim the link for useful pieces of information, and return to the search in an iterative exploration. We made an agent, gave it these tools ... but found it slowly fumbled thought the iterative search process, much like a human!</p><h2 id=\"improvements\">Improvements</h2><p>We noticed a central advantage that AIs can uniquely exploit: kick off many searches in parallel and, in turn, \"read\" many pages in parallel. Of course, this risks inefficiency if the first article in a sequential search has all of the necessary information. But for complex questions that warrant an AI researcher, this risk is somewhat mitigated. We added some <a href=\"https://python.langchain.com/docs/integrations/document_loaders/async_html?ref=blog.langchain.dev\">basic</a> <a href=\"https://python.langchain.com/docs/integrations/document_transformers/html2text?ref=blog.langchain.dev\">tools</a> to support this process. </p><p>With a heap of information collected in parallel from a set of pages, it seemed reasonable to fetch the most relevant chunks from each page and load them into the context window of an LLM for synthesis. Of course, at this point we realized that our agent was morphing into a retriever! (NOTE: we still think that agentic properties can further benefit this retriever, as discussed at the end.)</p><h2 id=\"retrieval\">Retrieval</h2><p>What exactly would this retriever do under the hood? Our thinking was:</p><ul><li>Use an LLM to generate multiple relevant search queries (one LLM call)</li><li>Execute a search for each query</li><li>Choose the top K links per query \\xa0(multiple search calls in parallel) </li><li>Load the information from all chosen links (scrape pages in parallel)</li><li>Index those documents into a vectorstore</li><li>Find the most relevant documents for each original generated search query</li></ul><p>Collectively, these steps fall into <a href=\"https://python.langchain.com/docs/use_cases/question_answering/?ref=blog.langchain.dev\">the flow</a> used for retrieval augmented generation:</p><figure class=\"kg-card kg-image-card\"><img src=\"https://blog.langchain.dev/content/images/2023/07/image-11.png\" class=\"kg-image\" alt loading=\"lazy\" width=\"1722\" height=\"655\" srcset=\"https://blog.langchain.dev/content/images/size/w600/2023/07/image-11.png 600w, https://blog.langchain.dev/content/images/size/w1000/2023/07/image-11.png 1000w, https://blog.langchain.dev/content/images/size/w1600/2023/07/image-11.png 1600w, https://blog.langchain.dev/content/images/2023/07/image-11.png 1722w\" sizes=\"(min-width: 720px) 720px\"></figure><p>And yet the logic is similar to the agentic architecture for <a href=\"https://github.com/assafelovic/gpt-researcher?ref=blog.langchain.dev\">gpt-researcher</a>:</p><figure class=\"kg-card kg-image-card\"><img src=\"https://blog.langchain.dev/content/images/2023/07/68747470733a2f2f636f7772697465722d696d616765732e73332e616d617a6f6e6177732e636f6d2f617263682e706e67.png\" class=\"kg-image\" alt loading=\"lazy\" width=\"1322\" height=\"1220\" srcset=\"https://blog.langchain.dev/content/images/size/w600/2023/07/68747470733a2f2f636f7772697465722d696d616765732e73332e616d617a6f6e6177732e636f6d2f617263682e706e67.png 600w, https://blog.langchain.dev/content/images/size/w1000/2023/07/68747470733a2f2f636f7772697465722d696d616765732e73332e616d617a6f6e6177732e636f6d2f617263682e706e67.png 1000w, https://blog.langchain.dev/content/images/2023/07/68747470733a2f2f636f7772697465722d696d616765732e73332e616d617a6f6e6177732e636f6d2f617263682e706e67.png 1322w\" sizes=\"(min-width: 720px) 720px\"></figure><p>Even though this isn\\'t an agent, the similarity in logic is a useful sanity check on the approach. We created a new LangChain <a href=\"https://github.com/langchain-ai/langchain/pull/8102?ref=blog.langchain.dev\">retriever</a> and provide documentation on <a href=\"https://python.langchain.com/docs/modules/data_connection/retrievers/web_research?ref=blog.langchain.dev\">usage</a> with configurations. For an example question (<em>How do LLM Powered Autonomous Agents work?</em>), we can use <a href=\"https://blog.langchain.dev/announcing-langsmith/\">LangSmith</a> to visualize and validate the process (see trace <a href=\"https://smith.langchain.com/public/a789cbad-648b-4dca-8d65-21edd66dbd58/r?ref=blog.langchain.dev\">here</a>), observing that the retriever loads and retrieves chunks from a reasonable source (Lilian Weng\\'s blog <a href=\"https://lilianweng.github.io/posts/2023-06-23-agent/?ref=blog.langchain.dev\">post on agents</a>):</p><figure class=\"kg-card kg-image-card\"><img src=\"https://blog.langchain.dev/content/images/2023/07/image-13.png\" class=\"kg-image\" alt loading=\"lazy\" width=\"2000\" height=\"1294\" srcset=\"https://blog.langchain.dev/content/images/size/w600/2023/07/image-13.png 600w, https://blog.langchain.dev/content/images/size/w1000/2023/07/image-13.png 1000w, https://blog.langchain.dev/content/images/size/w1600/2023/07/image-13.png 1600w, https://blog.langchain.dev/content/images/2023/07/image-13.png 2001w\" sizes=\"(min-width: 720px) 720px\"></figure><p>As noted in the documentation, the same process can be trivially configured to run it \"private\" mode using, for example, <a href=\"https://python.langchain.com/docs/modules/data_connection/retrievers/web_research?ref=blog.langchain.dev\">LlamaV2 and GPT4all embeddings</a> (below is a <a href=\"https://smith.langchain.com/public/39a1fa89-a7fc-4115-a0ec-67e4c087e492/r?ref=blog.langchain.dev\">trace</a> from a run executed on my Mac M2 Max GPU ~50 tok / sec):</p><figure class=\"kg-card kg-image-card\"><img src=\"https://blog.langchain.dev/content/images/2023/07/image-14.png\" class=\"kg-image\" alt loading=\"lazy\" width=\"2000\" height=\"999\" srcset=\"https://blog.langchain.dev/content/images/size/w600/2023/07/image-14.png 600w, https://blog.langchain.dev/content/images/size/w1000/2023/07/image-14.png 1000w, https://blog.langchain.dev/content/images/size/w1600/2023/07/image-14.png 1600w, https://blog.langchain.dev/content/images/2023/07/image-14.png 2049w\" sizes=\"(min-width: 720px) 720px\"></figure><h2 id=\"application\">Application</h2><p>We wrapped the retriever with a simple <a href=\"https://streamlit.io/?ref=blog.langchain.dev\">Streamlit</a> IU (only ~50 lines of code <a href=\"https://github.com/langchain-ai/web-explorer/blob/main/web_explorer.py?ref=blog.langchain.dev\">here</a>) that can be configured with any LLM, vectorstore, and search tool of choice.</p><figure class=\"kg-card kg-image-card\"><img src=\"https://blog.langchain.dev/content/images/2023/07/image-15.png\" class=\"kg-image\" alt loading=\"lazy\" width=\"1189\" height=\"1050\" srcset=\"https://blog.langchain.dev/content/images/size/w600/2023/07/image-15.png 600w, https://blog.langchain.dev/content/images/size/w1000/2023/07/image-15.png 1000w, https://blog.langchain.dev/content/images/2023/07/image-15.png 1189w\" sizes=\"(min-width: 720px) 720px\"></figure><h2 id=\"conclusion\">Conclusion</h2><p>What started as an attempt to build an autonomous web research agent, evolved into a fairly simple / efficient and customizable retriever. Still, this was just a first step. This project could benefit from adding in many agentic properties, such as:</p><ul><li>Asking an LLM if more information is needed after the initial search</li><li>Using multiple \"write\" and \"revision\" agents to construct the final answer</li></ul><p>If any of those additions sound interesting, please open a PR against the <a href=\"https://github.com/langchain-ai/web-explorer/tree/main?ref=blog.langchain.dev\">base repo</a> and we\\'ll work with you to get them in!</p><p>While hosted AI search from large models like <a href=\"https://bard.google.com/?ref=blog.langchain.dev\">Bard</a> or <a href=\"https://www.perplexity.ai/?ref=blog.langchain.dev\">Perplexity.ai</a> are extremely performant, smaller lightweight tools for web research also have important merits such as privacy (e.g., the ability to run locally on your laptop without sharing any data externally), configurability (e.g., the ability to select the specific open source components to use), and observability (e.g., peer into what is happening \"under the hood\" using tools such as LangSmith). </p>\\n        </div>\\n\\n        <div class=\"article-tags\">\\n            <h3 class=\"article-tags__title meta-title\">Tags</h3>\\n            <div class=\"article-tags__cloud tagcloud\"><a href=\"/tag/by-langchain/\">By LangChain</a></div>\\n        </div>\\n\\n\\n\\n        <div class=\"article-newsletter newsletter-box\" data-theme=\"highlight\">\\n            <h3 class=\"newsletter-box__title meta-title\">Join our newsletter</h3>\\n            <p class=\"newsletter-box__info\">Updates from the LangChain team and community</p>\\n            <form class=\"newsletter-box__form\" data-members-form=\"signup\" data-theme=\"reset\">\\n                <div class=\"newsletter-box__form-field\">\\n                    <label for=\"newsletter-box-email-input\" class=\"visually-hidden\">Enter your email</label>\\n                    <input id=\"newsletter-box-email-input\" class=\"newsletter-box__form-input\" type=\"email\" name=\"email\" placeholder=\"Enter your email\" required data-members-email>\\n                    <button class=\"newsletter-box__form-submit\" type=\"submit\">Subscribe</button>\\n                </div>\\n                <p class=\"newsletter-box__message\" data-message=\"loading\">Processing your application...</p>\\n                <p class=\"newsletter-box__message\" data-message=\"success\">Success! Please check your inbox and click the link to confirm your subscription.</p>\\n                <p class=\"newsletter-box__message\" data-message=\"error\">Sorry, something went wrong. Please try again.</p>\\n            </form>\\n        </div>\\n    </div>\\n\\n    <footer class=\"article-footer\">\\n        \\n<div class=\"related-posts section\" data-canvas-grid=\"container\" data-theme=\"highlight\">\\n    <h3 class=\"related-posts__title section-title\">You might also like</h3>\\n    <div class=\"related-posts__grid grid\">\\n            <article class=\"post-card post tag-agents tag-langgraph tag-by-langchain\" data-layout=\"horizontal\" data-has-featured-image=\"true\">\\n\\n    \\n    <a href=\"/reflection-agents/\" class=\"post-card__media\" tabindex=\"-1\">\\n        <picture class=\"post-card__figure\">\\n            <source\\n                srcset=\"/content/images/size/w360/format/webp/2024/02/Youtube---Reflective-Agents.jpg 360w,/content/images/size/w480/format/webp/2024/02/Youtube---Reflective-Agents.jpg 480w,/content/images/size/w760/format/webp/2024/02/Youtube---Reflective-Agents.jpg 760w,/content/images/size/w990/format/webp/2024/02/Youtube---Reflective-Agents.jpg 990w,/content/images/size/w1248/format/webp/2024/02/Youtube---Reflective-Agents.jpg 1248w,/content/images/size/w1520/format/webp/2024/02/Youtube---Reflective-Agents.jpg 1520w\"\\n                sizes=\"(min-width: 1280px) 145px, (min-width: 1000px) 12vw, (min-width: 600px) 18vw, 30vw\">\\n            <img class=\"post-card__image\"\\n                width=\"16\" height=\"9\"\\n                src=\"/content/images/size/w760/format/webp/2024/02/Youtube---Reflective-Agents.jpg\"\\n                loading=\"lazy\"\\n                alt=\"Reflection Agents\"\\n                onload=\"this.setAttribute(\\'data-loaded\\', true)\">\\n        </picture>\\n    </a>\\n\\n    <div class=\"post-card__content\">\\n        <a href=\"/reflection-agents/\" class=\"post-card__content-link\">\\n            <h2 class=\"post-card__title\">Reflection Agents</h2>\\n            \\n\\n        </a>\\n        <div class=\"post-card__footer\">\\n            <a href=\"/tag/agents/\" class=\"post-card__meta post-card__meta-tag-primary\" rel=\"tag\">agents</a>\\n            <span class=\"post-card__meta post-card__meta--read-time\">6 min read</span>\\n        </div>\\n    </div>\\n\\n</article>\\n            <article class=\"post-card post tag-by-langchain tag-agents tag-langgraph\" data-layout=\"horizontal\" data-has-featured-image=\"true\">\\n\\n    \\n    <a href=\"/planning-agents/\" class=\"post-card__media\" tabindex=\"-1\">\\n        <picture class=\"post-card__figure\">\\n            <source\\n                srcset=\"/content/images/size/w360/format/webp/2024/02/Will---agents---2-1-1.png 360w,/content/images/size/w480/format/webp/2024/02/Will---agents---2-1-1.png 480w,/content/images/size/w760/format/webp/2024/02/Will---agents---2-1-1.png 760w,/content/images/size/w990/format/webp/2024/02/Will---agents---2-1-1.png 990w,/content/images/size/w1248/format/webp/2024/02/Will---agents---2-1-1.png 1248w,/content/images/size/w1520/format/webp/2024/02/Will---agents---2-1-1.png 1520w\"\\n                sizes=\"(min-width: 1280px) 145px, (min-width: 1000px) 12vw, (min-width: 600px) 18vw, 30vw\">\\n            <img class=\"post-card__image\"\\n                width=\"16\" height=\"9\"\\n                src=\"/content/images/size/w760/format/webp/2024/02/Will---agents---2-1-1.png\"\\n                loading=\"lazy\"\\n                alt=\"Plan + Execute Agent Thumbnail\"\\n                onload=\"this.setAttribute(\\'data-loaded\\', true)\">\\n        </picture>\\n    </a>\\n\\n    <div class=\"post-card__content\">\\n        <a href=\"/planning-agents/\" class=\"post-card__content-link\">\\n            <h2 class=\"post-card__title\">Plan-and-Execute Agents</h2>\\n            \\n\\n        </a>\\n        <div class=\"post-card__footer\">\\n            <a href=\"/tag/by-langchain/\" class=\"post-card__meta post-card__meta-tag-primary\" rel=\"tag\">By LangChain</a>\\n            <span class=\"post-card__meta post-card__meta--read-time\">5 min read</span>\\n        </div>\\n    </div>\\n\\n</article>\\n            <article class=\"post-card post tag-by-langchain tag-release-notes\" data-layout=\"horizontal\" data-has-featured-image=\"true\">\\n\\n    \\n    <a href=\"/week-of-2-19-langchain-release-notes/\" class=\"post-card__media\" tabindex=\"-1\">\\n        <picture class=\"post-card__figure\">\\n            <source\\n                srcset=\"/content/images/size/w360/format/webp/2024/02/Release-Notes---3.png 360w,/content/images/size/w480/format/webp/2024/02/Release-Notes---3.png 480w,/content/images/size/w760/format/webp/2024/02/Release-Notes---3.png 760w,/content/images/size/w990/format/webp/2024/02/Release-Notes---3.png 990w,/content/images/size/w1248/format/webp/2024/02/Release-Notes---3.png 1248w,/content/images/size/w1520/format/webp/2024/02/Release-Notes---3.png 1520w\"\\n                sizes=\"(min-width: 1280px) 145px, (min-width: 1000px) 12vw, (min-width: 600px) 18vw, 30vw\">\\n            <img class=\"post-card__image\"\\n                width=\"16\" height=\"9\"\\n                src=\"/content/images/size/w760/format/webp/2024/02/Release-Notes---3.png\"\\n                loading=\"lazy\"\\n                alt=\"[Week of 2/19] LangChain Release Notes\"\\n                onload=\"this.setAttribute(\\'data-loaded\\', true)\">\\n        </picture>\\n    </a>\\n\\n    <div class=\"post-card__content\">\\n        <a href=\"/week-of-2-19-langchain-release-notes/\" class=\"post-card__content-link\">\\n            <h2 class=\"post-card__title\">[Week of 2/19] LangChain Release Notes</h2>\\n            \\n\\n        </a>\\n        <div class=\"post-card__footer\">\\n            <a href=\"/tag/by-langchain/\" class=\"post-card__meta post-card__meta-tag-primary\" rel=\"tag\">By LangChain</a>\\n            <span class=\"post-card__meta post-card__meta--read-time\">1 min read</span>\\n        </div>\\n    </div>\\n\\n</article>\\n            <article class=\"post-card post tag-by-langchain tag-case-studies\" data-layout=\"horizontal\" data-has-featured-image=\"true\">\\n\\n    \\n    <a href=\"/rakuten-group-builds-with-langchain-and-langsmith-to-deliver-premium-products-for-its-business-clients-and-employees/\" class=\"post-card__media\" tabindex=\"-1\">\\n        <picture class=\"post-card__figure\">\\n            <source\\n                srcset=\"/content/images/size/w360/format/webp/2024/02/Twitter-post---25.png 360w,/content/images/size/w480/format/webp/2024/02/Twitter-post---25.png 480w,/content/images/size/w760/format/webp/2024/02/Twitter-post---25.png 760w,/content/images/size/w990/format/webp/2024/02/Twitter-post---25.png 990w,/content/images/size/w1248/format/webp/2024/02/Twitter-post---25.png 1248w,/content/images/size/w1520/format/webp/2024/02/Twitter-post---25.png 1520w\"\\n                sizes=\"(min-width: 1280px) 145px, (min-width: 1000px) 12vw, (min-width: 600px) 18vw, 30vw\">\\n            <img class=\"post-card__image\"\\n                width=\"16\" height=\"9\"\\n                src=\"/content/images/size/w760/format/webp/2024/02/Twitter-post---25.png\"\\n                loading=\"lazy\"\\n                alt=\"Rakuten Group builds with LangChain and LangSmith to deliver premium products for its business clients and employees\"\\n                onload=\"this.setAttribute(\\'data-loaded\\', true)\">\\n        </picture>\\n    </a>\\n\\n    <div class=\"post-card__content\">\\n        <a href=\"/rakuten-group-builds-with-langchain-and-langsmith-to-deliver-premium-products-for-its-business-clients-and-employees/\" class=\"post-card__content-link\">\\n            <h2 class=\"post-card__title\">Rakuten Group builds with LangChain and LangSmith to deliver premium products for its business clients and employees</h2>\\n            \\n\\n        </a>\\n        <div class=\"post-card__footer\">\\n            <a href=\"/tag/by-langchain/\" class=\"post-card__meta post-card__meta-tag-primary\" rel=\"tag\">By LangChain</a>\\n            <span class=\"post-card__meta post-card__meta--read-time\">3 min read</span>\\n        </div>\\n    </div>\\n\\n</article>\\n            <article class=\"post-card post tag-by-langchain tag-release-notes\" data-layout=\"horizontal\" data-has-featured-image=\"true\">\\n\\n    \\n    <a href=\"/week-of-2-5-24-langchain-release-notes/\" class=\"post-card__media\" tabindex=\"-1\">\\n        <picture class=\"post-card__figure\">\\n            <source\\n                srcset=\"/content/images/size/w360/format/webp/2024/02/Blog-post---1.png 360w,/content/images/size/w480/format/webp/2024/02/Blog-post---1.png 480w,/content/images/size/w760/format/webp/2024/02/Blog-post---1.png 760w,/content/images/size/w990/format/webp/2024/02/Blog-post---1.png 990w,/content/images/size/w1248/format/webp/2024/02/Blog-post---1.png 1248w,/content/images/size/w1520/format/webp/2024/02/Blog-post---1.png 1520w\"\\n                sizes=\"(min-width: 1280px) 145px, (min-width: 1000px) 12vw, (min-width: 600px) 18vw, 30vw\">\\n            <img class=\"post-card__image\"\\n                width=\"16\" height=\"9\"\\n                src=\"/content/images/size/w760/format/webp/2024/02/Blog-post---1.png\"\\n                loading=\"lazy\"\\n                alt=\"[Week of 2/5] LangChain Release Notes\"\\n                onload=\"this.setAttribute(\\'data-loaded\\', true)\">\\n        </picture>\\n    </a>\\n\\n    <div class=\"post-card__content\">\\n        <a href=\"/week-of-2-5-24-langchain-release-notes/\" class=\"post-card__content-link\">\\n            <h2 class=\"post-card__title\">[Week of 2/5] LangChain Release Notes</h2>\\n            \\n\\n        </a>\\n        <div class=\"post-card__footer\">\\n            <a href=\"/tag/by-langchain/\" class=\"post-card__meta post-card__meta-tag-primary\" rel=\"tag\">By LangChain</a>\\n            <span class=\"post-card__meta post-card__meta--read-time\">4 min read</span>\\n        </div>\\n    </div>\\n\\n</article>\\n            <article class=\"post-card post tag-by-langchain tag-case-studies\" data-layout=\"horizontal\" data-has-featured-image=\"true\">\\n\\n    \\n    <a href=\"/langchain-partners-with-commandbar-on-their-copilot-user-assistant/\" class=\"post-card__media\" tabindex=\"-1\">\\n        <picture class=\"post-card__figure\">\\n            <source\\n                srcset=\"/content/images/size/w360/format/webp/2024/02/Twitter-post---24.png 360w,/content/images/size/w480/format/webp/2024/02/Twitter-post---24.png 480w,/content/images/size/w760/format/webp/2024/02/Twitter-post---24.png 760w,/content/images/size/w990/format/webp/2024/02/Twitter-post---24.png 990w,/content/images/size/w1248/format/webp/2024/02/Twitter-post---24.png 1248w,/content/images/size/w1520/format/webp/2024/02/Twitter-post---24.png 1520w\"\\n                sizes=\"(min-width: 1280px) 145px, (min-width: 1000px) 12vw, (min-width: 600px) 18vw, 30vw\">\\n            <img class=\"post-card__image\"\\n                width=\"16\" height=\"9\"\\n                src=\"/content/images/size/w760/format/webp/2024/02/Twitter-post---24.png\"\\n                loading=\"lazy\"\\n                alt=\"LangChain Partners with CommandBar on their Copilot User Assistant\"\\n                onload=\"this.setAttribute(\\'data-loaded\\', true)\">\\n        </picture>\\n    </a>\\n\\n    <div class=\"post-card__content\">\\n        <a href=\"/langchain-partners-with-commandbar-on-their-copilot-user-assistant/\" class=\"post-card__content-link\">\\n            <h2 class=\"post-card__title\">LangChain Partners with CommandBar on their Copilot User Assistant</h2>\\n            \\n\\n        </a>\\n        <div class=\"post-card__footer\">\\n            <a href=\"/tag/by-langchain/\" class=\"post-card__meta post-card__meta-tag-primary\" rel=\"tag\">By LangChain</a>\\n            <span class=\"post-card__meta post-card__meta--read-time\">2 min read</span>\\n        </div>\\n    </div>\\n\\n</article>\\n    </div>\\n</div>\\n\\n\\n    </footer>\\n\\n</article>\\n\\n\\n        </main>\\n\\n        <footer id=\"site-footer\" class=\"site-footer\" data-theme=\"highlight\">\\n\\n\\n    <div class=\"site-footer__content\" data-canvas-grid=\"container\">\\n\\n            <nav class=\"nav-secondary\">\\n        <ul class=\"nav-secondary__menu\">\\n            <li class=\"nav-secondary__menu-item\">\\n                <a class=\"nav-secondary__menu-link\" href=\"#/portal/\">\\n                    <span class=\"nav-secondary__menu-title\">Sign up</span>\\n                </a>\\n            </li>\\n        </ul>\\n    </nav>\\n\\n\\n        <p class=\"site-footer__copyright\">\\n            © LangChain Blog 2024\\n        </p>\\n\\n    </div>\\n</footer>\\n\\n    </div><!-- .site -->\\n\\n    <script type=\"module\" src=\"https://blog.langchain.dev/assets/dist/main.js?v=ade8c8b401\"></script>\\n\\n    \\n\\n</body>\\n\\n</html>\\n', metadata={'source': 'https://blog.langchain.dev/automating-web-research/', 'title': 'Automating Web Research', 'language': 'en'}),\n",
       " Document(page_content='<!DOCTYPE html><!-- Last Published: Sun Feb 04 2024 01:07:13 GMT+0000 (Coordinated Universal Time) --><html data-wf-domain=\"www.ai-jason.com\" data-wf-page=\"647a9c825f099afe643b5c64\" data-wf-site=\"647a9c825f099afe643b5c25\"><head><meta charset=\"utf-8\"/><title>Build an Autonomous Researcher</title><meta content=\"Langchain Tutorials, Build your GPT researcher to write tweets for you\" name=\"description\"/><meta content=\"Build an Autonomous Researcher\" property=\"og:title\"/><meta content=\"Langchain Tutorials, Build your GPT researcher to write tweets for you\" property=\"og:description\"/><meta content=\"https://assets-global.website-files.com/647a9c825f099afe643b5c78/6484568c20933248887eadd7_17.png\" property=\"og:image\"/><meta content=\"Build an Autonomous Researcher\" property=\"twitter:title\"/><meta content=\"Langchain Tutorials, Build your GPT researcher to write tweets for you\" property=\"twitter:description\"/><meta content=\"https://assets-global.website-files.com/647a9c825f099afe643b5c78/6484568c20933248887eadd7_17.png\" property=\"twitter:image\"/><meta property=\"og:type\" content=\"website\"/><meta content=\"summary_large_image\" name=\"twitter:card\"/><meta content=\"width=device-width, initial-scale=1\" name=\"viewport\"/><link href=\"https://assets-global.website-files.com/647a9c825f099afe643b5c25/css/ai-jason.webflow.db6bba99a.css\" rel=\"stylesheet\" type=\"text/css\"/><link href=\"https://fonts.googleapis.com\" rel=\"preconnect\"/><link href=\"https://fonts.gstatic.com\" rel=\"preconnect\" crossorigin=\"anonymous\"/><script src=\"https://ajax.googleapis.com/ajax/libs/webfont/1.6.26/webfont.js\" type=\"text/javascript\"></script><script type=\"text/javascript\">WebFont.load({  google: {    families: [\"Manrope:regular,600,700\",\"Poppins:100,100italic,200,200italic,300,300italic,regular,italic,500,500italic,600,600italic,700,700italic,800,800italic,900,900italic\"]  }});</script><script type=\"text/javascript\">!function(o,c){var n=c.documentElement,t=\" w-mod-\";n.className+=t+\"js\",(\"ontouchstart\"in o||o.DocumentTouch&&c instanceof DocumentTouch)&&(n.className+=t+\"touch\")}(window,document);</script><link href=\"https://assets-global.website-files.com/647a9c825f099afe643b5c25/6480060d318551f18066f74f_sm.png\" rel=\"shortcut icon\" type=\"image/x-icon\"/><link href=\"https://assets-global.website-files.com/647a9c825f099afe643b5c25/6480060ea508206fdc515e1e_lg.png\" rel=\"apple-touch-icon\"/><script async=\"\" src=\"https://www.googletagmanager.com/gtag/js?id=G-E045T92W4W\"></script><script type=\"text/javascript\">window.dataLayer = window.dataLayer || [];function gtag(){dataLayer.push(arguments);}gtag(\\'js\\', new Date());gtag(\\'set\\', \\'developer_id.dZGVlNj\\', true);gtag(\\'config\\', \\'G-E045T92W4W\\');</script><script type=\"text/javascript\">window.__WEBFLOW_CURRENCY_SETTINGS = {\"currencyCode\":\"USD\",\"symbol\":\"$\",\"decimal\":\".\",\"fractionDigits\":2,\"group\":\",\",\"template\":\"{{wf {\\\\\"path\\\\\":\\\\\"symbol\\\\\",\\\\\"type\\\\\":\\\\\"PlainText\\\\\"} }} {{wf {\\\\\"path\\\\\":\\\\\"amount\\\\\",\\\\\"type\\\\\":\\\\\"CommercePrice\\\\\"} }} {{wf {\\\\\"path\\\\\":\\\\\"currencyCode\\\\\",\\\\\"type\\\\\":\\\\\"PlainText\\\\\"} }}\",\"hideDecimalForWholeNumbers\":false};</script></head><body><div class=\"page-wrapper\"><div data-animation=\"default\" data-collapse=\"medium\" data-duration=\"400\" data-easing=\"ease\" data-easing2=\"ease\" role=\"banner\" class=\"navbar w-nav\"><div class=\"container w-container\"><a href=\"/\" class=\"brand w-nav-brand\"><div class=\"text-block-2\">AI JASON</div></a><nav role=\"navigation\" class=\"nav-menu w-nav-menu\"><div data-hover=\"true\" data-delay=\"0\" data-w-id=\"5a0a5c0f-015e-af7c-e1cc-6c68d89c346e\" class=\"dropdown-wrapper w-dropdown\"><div class=\"dropdown-toggle w-dropdown-toggle\"><div class=\"text-block-3\">Categories</div><div class=\"line-rounded-icon dropdown-arrow\">\\ue80f</div></div><nav class=\"dropdown-column-wrapper small w-dropdown-list\"><div class=\"dropdown-pd small\"><div class=\"w-dyn-list\"><div role=\"list\" class=\"grid-1-column dropdown-link-column w-dyn-items\"><div role=\"listitem\" class=\"w-dyn-item\"><a href=\"/ai/ai-agent\" class=\"dropdown-link w-dropdown-link\">AI Agent</a></div><div role=\"listitem\" class=\"w-dyn-item\"><a href=\"/ai/ai-automation-tutorials\" class=\"dropdown-link w-dropdown-link\">AI Automation Tutorials</a></div><div role=\"listitem\" class=\"w-dyn-item\"><a href=\"/ai/langchain-tutorial\" class=\"dropdown-link w-dropdown-link\">Langchain Tutorials</a></div><div role=\"listitem\" class=\"w-dyn-item\"><a href=\"/ai/auto-gpt-tutorial\" class=\"dropdown-link w-dropdown-link\">Auto GPT Tutorials</a></div></div></div></div></nav></div><a href=\"/contact\" class=\"w-nav-link\">Contact</a><div class=\"w-layout-grid social-media-grid-top center\"><a href=\"https://www.youtube.com/@AIJason-oc8wb\" class=\"social-icon-square no-bg w-inline-block\"><div class=\"social-icon-font\">\\ue82e</div></a><a href=\"https://twitter.com/jasonzhou1993\" class=\"social-icon-square no-bg w-inline-block\"><div class=\"social-icon-font\">\\ue829</div></a><a href=\"https://www.linkedin.com/in/jasonzhoudesign/\" class=\"social-icon-square no-bg w-inline-block\"><div class=\"social-icon-font\">\\ue819</div></a></div></nav><div class=\"w-nav-button\"><div class=\"w-icon-nav-menu\"></div></div></div></div><div style=\"background-image:url(&quot;https://assets-global.website-files.com/647a9c825f099afe643b5c78/6484568c20933248887eadd7_17.png&quot;)\" class=\"section blog-post-hero\"><div class=\"container-default blog-post w-container\"><div data-w-id=\"66239862-f976-9aa5-4692-104b01ddc9f7\" style=\"-webkit-transform:translate3d(0, 10%, 0) scale3d(1, 1, 1) rotateX(0) rotateY(0) rotateZ(0) skew(0, 0);-moz-transform:translate3d(0, 10%, 0) scale3d(1, 1, 1) rotateX(0) rotateY(0) rotateZ(0) skew(0, 0);-ms-transform:translate3d(0, 10%, 0) scale3d(1, 1, 1) rotateX(0) rotateY(0) rotateZ(0) skew(0, 0);transform:translate3d(0, 10%, 0) scale3d(1, 1, 1) rotateX(0) rotateY(0) rotateZ(0) skew(0, 0);opacity:0\" class=\"inner-container _740px\"><div><div class=\"blog-card-bg-badge-wrapper\"><a href=\"/ai/langchain-tutorial\" class=\"badge-primary bold white link\">Langchain Tutorials</a></div><h1 class=\"display-1 color-neutral-100 mg-bottom-32px\">Build an Autonomous Researcher</h1></div></div></div><div class=\"bg-overlay-gradient blog-post\"></div></div><div class=\"section main-posts post\"><div class=\"container-default w-container\"><div><div data-w-id=\"74944fe2-2ca0-2d4f-bf34-7f2c1b19df89\" style=\"opacity:0\" class=\"rich-text w-richtext\"><p>Are you running out of ideas what to write on your twitter? Or maybe too many ideas but no time to do your research? </p><p>Our focus will be on creating an Autonomous Researcher utilizing the powerful capabilities of the General Purpose Transformer (GPT). We will leverage a tool named Langchain to streamline the process and deliver a no-code solution. Let&#x27;s get started.</p><p>\\u200d</p><figure class=\"w-richtext-figure-type-video w-richtext-align-fullwidth\" style=\"padding-bottom:56.206088992974244%\" class=\"w-richtext-align-fullwidth w-richtext-figure-type-video\"><div><iframe allowfullscreen=\"true\" frameborder=\"0\" scrolling=\"no\" src=\"https://www.youtube.com/embed/zP8JUbyCUk0?start=1\" title=\"I build an autonomous researcher via GPT | Langchain ⛓️ Tutorial\"></iframe></div></figure><h2>Step 1: Conceiving the Idea</h2><p>In our pursuit of designing an AI researcher, the primary objective is to build an agent that can carry out research on any given topic and produce high-quality content based on the research conducted. With this tool, you can write regular Twitter threads about how famous people amassed their fortunes, conduct market or competitor analysis, and even monitor discourse on competitor channels.</p><h2>Step 2: Choosing the Right Tools</h2><p>Our initial plan was to utilize tools like Flowise and Landflow to construct an autonomous research agent. However, due to some limitations in controlling the search results and URLs returned by these tools, we decided to opt for Langchain instead. Langchain allows us to quickly construct a user interface for our autonomous agent.</p><h2>Step 3: Gathering Relevant Articles</h2><p>The first practical step in building our autonomous researcher involves using a service called SERP. SERP allows us to search the internet for relevant articles, which can be later used to extract information about our research topic. We retrieve a list of articles via SERP, feed this list to the large language model, and prompt it to choose the best articles.</p><h2>Step 4: Summarizing Each Article</h2><p>Once we have a list of the best articles, we extract the content of each article and use GPT to generate summaries. To make this process more efficient, we employ a tool from Langchain called DocLoader, which loads HTML docs from a list of URLs. These contents are then divided into smaller chunks using TextSplitter and are passed onto GPT for summarization.</p><h2>Step 5: Generating a Twitter Thread</h2><p>With a comprehensive summary of all the articles at our disposal, the next step is to create engaging Twitter threads from this information. We feed these summary chunks into a large language model and generate viral Twitter threads on the topic of interest.</p><h2>Step 6: Creating the User Interface</h2><p>The final step in creating our autonomous researcher is to construct a user interface for our tool. For this, we use Streamlit, which allows us to create an easy-to-use UI quickly. This UI enables users to input the topic they are interested in, and the AI researcher will provide a comprehensive Twitter thread based on the topic.</p><h2>Alternative No-Code Solution: AI</h2><p>To build a no-code autonomous researcher, consider using AI. It is a flexible platform that enables users to construct complex AI applications quickly. AI provides various building blocks similar to Langchain, offering a UI that is more adaptable than Flowwise. Building an autonomous researcher on AI can be achieved in around ten minutes due to its user-friendly design.</p><h2>Conclusion</h2><p>Creating an Autonomous Researcher using GPT can provide a wide range of possibilities for content generation, market analysis, and competitor insights. Whether you choose to go down the path of coding your solution or opt for a no-code platform like AI, the opportunities are abundant. With Langchain, SERP, GPT, and Streamlit at your disposal, creating an AI-powered researcher has never been easier.</p><p>\\u200d</p></div><div class=\"divider mg-bottom-48px\"></div></div></div></div><div class=\"section\"><div class=\"container-default w-container\"><div data-w-id=\"60bc858c-be07-823b-c8c8-acf93dd62984\" style=\"-webkit-transform:translate3d(0, 10%, 0) scale3d(1, 1, 1) rotateX(0) rotateY(0) rotateZ(0) skew(0, 0);-moz-transform:translate3d(0, 10%, 0) scale3d(1, 1, 1) rotateX(0) rotateY(0) rotateZ(0) skew(0, 0);-ms-transform:translate3d(0, 10%, 0) scale3d(1, 1, 1) rotateX(0) rotateY(0) rotateZ(0) skew(0, 0);transform:translate3d(0, 10%, 0) scale3d(1, 1, 1) rotateX(0) rotateY(0) rotateZ(0) skew(0, 0);opacity:0\" class=\"w-layout-grid grid-2-columns title-and-categories\"><h2 class=\"mg-bottom-0\">Related articles</h2><a id=\"w-node-_2802096f-6bb2-9026-954c-4585aa70a9c8-643b5c64\" href=\"/\" class=\"btn-primary w-button\">Browse all articles</a></div><div class=\"w-dyn-list\"><div data-w-id=\"7c82d348-f271-5012-e28e-daf6f5a2817d\" style=\"-webkit-transform:translate3d(0, 10%, 0) scale3d(1, 1, 1) rotateX(0) rotateY(0) rotateZ(0) skew(0, 0);-moz-transform:translate3d(0, 10%, 0) scale3d(1, 1, 1) rotateX(0) rotateY(0) rotateZ(0) skew(0, 0);-ms-transform:translate3d(0, 10%, 0) scale3d(1, 1, 1) rotateX(0) rotateY(0) rotateZ(0) skew(0, 0);transform:translate3d(0, 10%, 0) scale3d(1, 1, 1) rotateX(0) rotateY(0) rotateZ(0) skew(0, 0);opacity:0\" role=\"list\" class=\"grid-3-columns w-dyn-items\"><div role=\"listitem\" class=\"w-dyn-item\"><a data-w-id=\"7c82d348-f271-5012-e28e-daf6f5a2817f\" href=\"/learning-ai/how-to-reduce-llm-cost\" class=\"blog-card-bg sidebar w-inline-block\"><div class=\"blog-card-bg-container small\"><div class=\"text-uppercase mg-bottom-16px\"><div class=\"text-200 bold color-neutral-100\">AI Agent</div></div><h3 class=\"heading-h4-size color-neutral-100 mg-bottom-0\">How to reduce 78%+ of LLM Cost</h3></div><div class=\"bg-overlay-gradient blog-card-bg-overlay\"></div><img src=\"https://assets-global.website-files.com/647a9c825f099afe643b5c78/65bedbda9969f366afdfad25_tiktok%20(1).jpg\" alt=\"How to reduce 78%+ of LLM Cost\" sizes=\"(max-width: 767px) 75vw, (max-width: 991px) 38vw, (max-width: 1439px) 26vw, (max-width: 1919px) 27vw, 445.3374938964844px\" srcset=\"https://assets-global.website-files.com/647a9c825f099afe643b5c78/65bedbda9969f366afdfad25_tiktok%20(1)-p-500.jpg 500w, https://assets-global.website-files.com/647a9c825f099afe643b5c78/65bedbda9969f366afdfad25_tiktok%20(1)-p-800.jpg 800w, https://assets-global.website-files.com/647a9c825f099afe643b5c78/65bedbda9969f366afdfad25_tiktok%20(1)-p-1080.jpg 1080w, https://assets-global.website-files.com/647a9c825f099afe643b5c78/65bedbda9969f366afdfad25_tiktok%20(1).jpg 1280w\" class=\"blog-card-bg-image\"/></a></div><div role=\"listitem\" class=\"w-dyn-item\"><a data-w-id=\"7c82d348-f271-5012-e28e-daf6f5a2817f\" href=\"/learning-ai/gpt5-llm\" class=\"blog-card-bg sidebar w-inline-block\"><div class=\"blog-card-bg-container small\"><div class=\"text-uppercase mg-bottom-16px\"><div class=\"text-200 bold color-neutral-100\">AI Agent</div></div><h3 class=\"heading-h4-size color-neutral-100 mg-bottom-0\">GPT5 unlocks LLM System 2 Thinking?\\n</h3></div><div class=\"bg-overlay-gradient blog-card-bg-overlay\"></div><img src=\"https://assets-global.website-files.com/647a9c825f099afe643b5c78/65bedd7f060ee7802639f834_tiktok%20(2).jpg\" alt=\"GPT5 unlocks LLM System 2 Thinking?\\n\" sizes=\"(max-width: 767px) 75vw, (max-width: 991px) 38vw, (max-width: 1439px) 26vw, (max-width: 1919px) 27vw, 445.3374938964844px\" srcset=\"https://assets-global.website-files.com/647a9c825f099afe643b5c78/65bedd7f060ee7802639f834_tiktok%20(2)-p-500.jpg 500w, https://assets-global.website-files.com/647a9c825f099afe643b5c78/65bedd7f060ee7802639f834_tiktok%20(2)-p-800.jpg 800w, https://assets-global.website-files.com/647a9c825f099afe643b5c78/65bedd7f060ee7802639f834_tiktok%20(2)-p-1080.jpg 1080w, https://assets-global.website-files.com/647a9c825f099afe643b5c78/65bedd7f060ee7802639f834_tiktok%20(2).jpg 1280w\" class=\"blog-card-bg-image\"/></a></div><div role=\"listitem\" class=\"w-dyn-item\"><a data-w-id=\"7c82d348-f271-5012-e28e-daf6f5a2817f\" href=\"/learning-ai/how-to-build-ai-agent-tutorial-3\" class=\"blog-card-bg sidebar w-inline-block\"><div class=\"blog-card-bg-container small\"><div class=\"text-uppercase mg-bottom-16px\"><div class=\"text-200 bold color-neutral-100\">AI Agent</div></div><h3 class=\"heading-h4-size color-neutral-100 mg-bottom-0\">Research agent 3.0 - Build a group of AI researchers - Step by Step Tutorial</h3></div><div class=\"bg-overlay-gradient blog-card-bg-overlay\"></div><img src=\"https://assets-global.website-files.com/647a9c825f099afe643b5c78/65bedeabdecca18351fc45d0_tiktok%20(3).jpg\" alt=\"Research agent 3.0 - Build a group of AI researchers - Step by Step Tutorial\" sizes=\"(max-width: 767px) 75vw, (max-width: 991px) 38vw, (max-width: 1439px) 26vw, (max-width: 1919px) 27vw, 445.3374938964844px\" srcset=\"https://assets-global.website-files.com/647a9c825f099afe643b5c78/65bedeabdecca18351fc45d0_tiktok%20(3)-p-500.jpg 500w, https://assets-global.website-files.com/647a9c825f099afe643b5c78/65bedeabdecca18351fc45d0_tiktok%20(3)-p-800.jpg 800w, https://assets-global.website-files.com/647a9c825f099afe643b5c78/65bedeabdecca18351fc45d0_tiktok%20(3)-p-1080.jpg 1080w, https://assets-global.website-files.com/647a9c825f099afe643b5c78/65bedeabdecca18351fc45d0_tiktok%20(3).jpg 1280w\" class=\"blog-card-bg-image\"/></a></div></div></div></div></div><footer class=\"footer-wrapper\"><div data-w-id=\"06aad7a3-f803-05db-60f0-47a7ef403b7b\" class=\"container-default w-container\"><div class=\"footer-top pd-72px\"><div class=\"inner-container _574px center\"><div class=\"text-center\"><h3 class=\"mg-bottom-16px h4\">Need help building your AI apps?</h3><p class=\"mg-bottom-24px\">I can help you on building AI apps or give trainings</p><a href=\"mailto:jason.zhou.design@gmail.com\" class=\"btn-primary bottom-margin w-button\">Tell me about your AI app ideas</a><div class=\"w-layout-grid social-media-grid-top center\"><a href=\"https://www.youtube.com/@AIJason-oc8wb\" class=\"social-icon-square no-bg w-inline-block\"><div class=\"social-icon-font\">\\ue82e</div></a><a href=\"https://twitter.com/jasonzhou1993\" class=\"social-icon-square no-bg w-inline-block\"><div class=\"social-icon-font\">\\ue829</div></a><a href=\"https://www.linkedin.com/in/jasonzhoudesign/\" class=\"social-icon-square no-bg w-inline-block\"><div class=\"social-icon-font\">\\ue819</div></a></div></div></div></div></div></footer></div><script src=\"https://d3e54v103j8qbb.cloudfront.net/js/jquery-3.5.1.min.dc5e7f18c8.js?site=647a9c825f099afe643b5c25\" type=\"text/javascript\" integrity=\"sha256-9/aliU8dGd2tb6OSsuzixeV4y/faTqgFtohetphbbj0=\" crossorigin=\"anonymous\"></script><script src=\"https://assets-global.website-files.com/647a9c825f099afe643b5c25/js/webflow.24c39ba6c.js\" type=\"text/javascript\"></script></body></html>', metadata={'source': 'https://www.ai-jason.com/learning-ai/how-to-build-an-autonomous-researcher-using-gpt-a-step-by-step-guide', 'title': 'Build an Autonomous Researcher', 'description': 'Langchain Tutorials, Build your GPT researcher to write tweets for you', 'language': 'No language found.'})]"
      ]
     },
     "execution_count": 19,
     "metadata": {},
     "output_type": "execute_result"
    }
   ],
   "source": [
    "%%time\n",
    "from langchain_community.document_loaders import AsyncHtmlLoader\n",
    "\n",
    "urls = ['https://betterprogramming.pub/how-i-built-an-autonomous-ai-agent-for-online-research-93435a97c6c',\n",
    " 'https://blog.langchain.dev/automating-web-research/',\n",
    " 'https://www.ai-jason.com/learning-ai/how-to-build-an-autonomous-researcher-using-gpt-a-step-by-step-guide']\n",
    "\n",
    "loader = AsyncHtmlLoader(urls)\n",
    "docs = loader.load()\n",
    "\n",
    "docs"
   ]
  },
  {
   "cell_type": "code",
   "execution_count": 12,
   "metadata": {},
   "outputs": [],
   "source": [
    "# %%time\n",
    "# ! pip install playwright --quiet\n",
    "# # getting runtime error - need to fix it\n",
    "\n",
    "# from langchain_community.document_loaders import AsyncChromiumLoader\n",
    "\n",
    "# urls = ['https://betterprogramming.pub/how-i-built-an-autonomous-ai-agent-for-online-research-93435a97c6c',\n",
    "#  'https://blog.langchain.dev/automating-web-research/',\n",
    "#  'https://www.ai-jason.com/learning-ai/how-to-build-an-autonomous-researcher-using-gpt-a-step-by-step-guide']\n",
    "\n",
    "# loader = AsyncChromiumLoader(urls)\n",
    "# docs = loader.load()\n",
    "\n",
    "# docs"
   ]
  },
  {
   "cell_type": "markdown",
   "metadata": {},
   "source": [
    "#### transformer"
   ]
  },
  {
   "cell_type": "code",
   "execution_count": 13,
   "metadata": {},
   "outputs": [
    {
     "name": "stdout",
     "output_type": "stream",
     "text": [
      "Open in app\n",
      "\n",
      "Sign up\n",
      "\n",
      "Sign in\n",
      "\n",
      "Write\n",
      "\n",
      "Sign up\n",
      "\n",
      "Sign in\n",
      "\n",
      "Member-only story\n",
      "\n",
      "# How I Built an Autonomous AI Agent for Online Research\n",
      "\n",
      "## GPT Researcher: the future of comprehensive online research\n",
      "\n",
      "Assaf Elovic\n",
      "\n",
      "·\n",
      "\n",
      "Follow\n",
      "\n",
      "Published in\n",
      "\n",
      "Better Programming\n",
      "\n",
      "·\n",
      "\n",
      "6 min read\n",
      "\n",
      "·\n",
      "\n",
      "Jul 24, 2023\n",
      "\n",
      "\\--\n",
      "\n",
      "10\n",
      "\n",
      "Share\n",
      "\n",
      "After AutoGPT was published, I immediately took it for a spin. The first use\n",
      "case that came to mind was autonomous online research. Forming objective\n",
      "conclusions for manual research tasks can take\n"
     ]
    }
   ],
   "source": [
    "from langchain_community.document_transformers import Html2TextTransformer\n",
    "\n",
    "html2text = Html2TextTransformer()\n",
    "\n",
    "docs_transformed = html2text.transform_documents(docs)\n",
    "print(docs_transformed[0].page_content[:500])"
   ]
  },
  {
   "cell_type": "code",
   "execution_count": 21,
   "metadata": {},
   "outputs": [
    {
     "name": "stdout",
     "output_type": "stream",
     "text": [
      "Sign up (https://medium.com/m/signin?operation=register&redirect=https%3A%2F%2Fbetterprogramming.pub%2Fhow-i-built-an-autonomous-ai-agent-for-online-research-93435a97c6c&source=post_page---two_column_layout_nav-----------------------global_nav-----------) Sign in (https://medium.com/m/signin?operation=login&redirect=https%3A%2F%2Fbetterprogramming.pub%2Fhow-i-built-an-autonomous-ai-agent-for-online-research-93435a97c6c&source=post_page---two_column_layout_nav-----------------------global_nav----\n"
     ]
    }
   ],
   "source": [
    "# from langchain_community.document_transformers import BeautifulSoupTransformer\n",
    "\n",
    "# bstransformer = BeautifulSoupTransformer()\n",
    "\n",
    "# docs_transformed = bstransformer.transform_documents(docs, tags_to_extract=[\"span\"])\n",
    "# print(docs_transformed[0].page_content[:500])"
   ]
  },
  {
   "cell_type": "markdown",
   "metadata": {},
   "source": [
    "#### combining all - simple version"
   ]
  },
  {
   "cell_type": "code",
   "execution_count": 5,
   "metadata": {},
   "outputs": [],
   "source": [
    "import os, json\n",
    "with open(\"/home/ubuntu/config.json\") as f:\n",
    "    config = json.loads(f.read())\n",
    "os.environ[\"SERPER_API_KEY\"] = config[\"serper_api_key\"]"
   ]
  },
  {
   "cell_type": "code",
   "execution_count": 10,
   "metadata": {},
   "outputs": [],
   "source": [
    "from typing import List\n",
    "from langchain_core.documents import Document\n",
    "from langchain_community.utilities import GoogleSerperAPIWrapper\n",
    "from langchain_community.document_loaders import AsyncHtmlLoader\n",
    "from langchain_community.document_transformers import Html2TextTransformer\n",
    "\n",
    "def simple_web_retriever(\n",
    "    query: str, \n",
    "    top_k: int = 3\n",
    ") -> List[Document]:\n",
    "    response = GoogleSerperAPIWrapper(type=\"search\", k=top_k).results(query=query)\n",
    "    urls = [x[\"link\"] for x in response[\"organic\"]]\n",
    "    docs = AsyncHtmlLoader(urls).load()\n",
    "    docs_transformed = Html2TextTransformer().transform_documents(docs)\n",
    "    return docs_transformed"
   ]
  },
  {
   "cell_type": "code",
   "execution_count": 11,
   "metadata": {},
   "outputs": [
    {
     "name": "stderr",
     "output_type": "stream",
     "text": [
      "Fetching pages: 100%|##########| 3/3 [00:00<00:00,  6.04it/s]\n"
     ]
    },
    {
     "name": "stdout",
     "output_type": "stream",
     "text": [
      "CPU times: user 379 ms, sys: 9.18 ms, total: 388 ms\n",
      "Wall time: 2.01 s\n"
     ]
    }
   ],
   "source": [
    "%%time\n",
    "\n",
    "question = \"How to build autonomous web research agent ?\"\n",
    "docs = simple_web_retriever(query=question, top_k=3)"
   ]
  },
  {
   "cell_type": "code",
   "execution_count": 22,
   "metadata": {},
   "outputs": [
    {
     "name": "stdout",
     "output_type": "stream",
     "text": [
      "doc_0\n",
      "#########################\n",
      "page_content: \n",
      "Skip to content\n",
      "\n",
      "  * By LangChain\n",
      "  * Release Notes\n",
      "  * Case Studies\n",
      "  * LangChain\n",
      "  * GitHub\n",
      "  * Docs\n",
      "\n",
      "Sign in Subscribe\n",
      "\n",
      "# Automating Web Research\n",
      "\n",
      "4 min read Jul 26, 2023\n",
      "\n",
      "## Key Links\n",
      "\n",
      "  * Web Researcher Repo\n",
      "  * New LangChain Retriever and Documentation\n",
      "  * Hosted Streamlit App\n",
      "\n",
      "## Motivation\n",
      "\n",
      "Web research is one of the killer LLM applications: Greg Kamradt highlighted\n",
      "it as one of his top desired AI tools and OSS repos like gpt-researcher are\n",
      "growing in popularity. We decided to take a stab at it, initially setting out\n",
      "like many others to build a web research agent. But, we landed somewhere\n",
      "different: a fairly simple retriever proved to be effective and easily\n",
      "configurable (e.g., to run in private mode as popularized by projects like\n",
      "PrivateGPT) . In this blog we talk about our exploration and thought process,\n",
      "how we built it, and the next steps.\n",
      "\n",
      "## Exploration\n",
      "\n",
      "Abovementioned projects like gpt-researcher and AI search engines\n",
      "(perplexity.ai) offer an early glimpse into how web research may be re-\n",
      "imagined. Like many, we first devised an agent that could be given a prompt, a\n",
      "set of tools, and then would set forth to scour the web autonomously! For\n",
      "this, it clearly needed tools to:\n",
      "\n",
      "  * Search and return pages \n",
      "  * Scrape the full content of the pages returned\n",
      "  * Extract relevant information from the pages \n",
      "\n",
      "With those tools, the agent could approximate what a human does: search a\n",
      "topic, choose selected links, skim the link for useful pieces of information,\n",
      "and return to the search in an iterative exploration. We made an agent, gave\n",
      "it these tools ... but found it slowly fumbled thought the iterative search\n",
      "process, much like a human!\n",
      "\n",
      "## Improvements\n",
      "\n",
      "We noticed a central advantage that AIs can uniquely exploit: kick off many\n",
      "searches in parallel and, in turn, \"read\" many pages in parallel. Of course,\n",
      "this risks inefficiency if the first article in a sequential search has all of\n",
      "the necessary information. But for complex questions that warrant an AI\n",
      "researcher, this risk is somewhat mitigated. We added some basic tools to\n",
      "support this process.\n",
      "\n",
      "With a heap of information collected in parallel from a set of pages, it\n",
      "seemed reasonable to fetch the most relevant chunks from each page and load\n",
      "them into the context window of an LLM for synthesis. Of course, at this point\n",
      "we realized that our agent was morphing into a retriever! (NOTE: we still\n",
      "think that agentic properties can further benefit this retriever, as discussed\n",
      "at the end.)\n",
      "\n",
      "## Retrieval\n",
      "\n",
      "What exactly would this retriever do under the hood? Our thinking was:\n",
      "\n",
      "  * Use an LLM to generate multiple relevant search queries (one LLM call)\n",
      "  * Execute a search for each query\n",
      "  * Choose the top K links per query (multiple search calls in parallel) \n",
      "  * Load the information from all chosen links (scrape pages in parallel)\n",
      "  * Index those documents into a vectorstore\n",
      "  * Find the most relevant documents for each original generated search query\n",
      "\n",
      "Collectively, these steps fall into the flow used for retrieval augmented\n",
      "generation:\n",
      "\n",
      "And yet the logic is similar to the agentic architecture for gpt-researcher:\n",
      "\n",
      "Even though this isn't an agent, the similarity in logic is a useful sanity\n",
      "check on the approach. We created a new LangChain retriever and provide\n",
      "documentation on usage with configurations. For an example question (_How do\n",
      "LLM Powered Autonomous Agents work?_), we can use LangSmith to visualize and\n",
      "validate the process (see trace here), observing that the retriever loads and\n",
      "retrieves chunks from a reasonable source (Lilian Weng's blog post on agents):\n",
      "\n",
      "As noted in the documentation, the same process can be trivially configured to\n",
      "run it \"private\" mode using, for example, LlamaV2 and GPT4all embeddings\n",
      "(below is a trace from a run executed on my Mac M2 Max GPU ~50 tok / sec):\n",
      "\n",
      "## Application\n",
      "\n",
      "We wrapped the retriever with a simple Streamlit IU (only ~50 lines of code\n",
      "here) that can be configured with any LLM, vectorstore, and search tool of\n",
      "choice.\n",
      "\n",
      "## Conclusion\n",
      "\n",
      "What started as an attempt to build an autonomous web research agent, evolved\n",
      "into a fairly simple / efficient and customizable retriever. Still, this was\n",
      "just a first step. This project could benefit from adding in many agentic\n",
      "properties, such as:\n",
      "\n",
      "  * Asking an LLM if more information is needed after the initial search\n",
      "  * Using multiple \"write\" and \"revision\" agents to construct the final answer\n",
      "\n",
      "If any of those additions sound interesting, please open a PR against the base\n",
      "repo and we'll work with you to get them in!\n",
      "\n",
      "While hosted AI search from large models like Bard or Perplexity.ai are\n",
      "extremely performant, smaller lightweight tools for web research also have\n",
      "important merits such as privacy (e.g., the ability to run locally on your\n",
      "laptop without sharing any data externally), configurability (e.g., the\n",
      "ability to select the specific open source components to use), and\n",
      "observability (e.g., peer into what is happening \"under the hood\" using tools\n",
      "such as LangSmith).\n",
      "\n",
      "### Tags\n",
      "\n",
      "By LangChain\n",
      "\n",
      "### Join our newsletter\n",
      "\n",
      "Updates from the LangChain team and community\n",
      "\n",
      "Enter your email Subscribe\n",
      "\n",
      "Processing your application...\n",
      "\n",
      "Success! Please check your inbox and click the link to confirm your\n",
      "subscription.\n",
      "\n",
      "Sorry, something went wrong. Please try again.\n",
      "\n",
      "### You might also like\n",
      "\n",
      "## Reflection Agents\n",
      "\n",
      "agents 6 min read\n",
      "\n",
      "## Plan-and-Execute Agents\n",
      "\n",
      "By LangChain 5 min read\n",
      "\n",
      "## [Week of 2/19] LangChain Release Notes\n",
      "\n",
      "By LangChain 1 min read\n",
      "\n",
      "## Rakuten Group builds with LangChain and LangSmith to deliver premium\n",
      "products for its business clients and employees\n",
      "\n",
      "By LangChain 3 min read\n",
      "\n",
      "## [Week of 2/5] LangChain Release Notes\n",
      "\n",
      "By LangChain 4 min read\n",
      "\n",
      "## LangChain Partners with CommandBar on their Copilot User Assistant\n",
      "\n",
      "By LangChain 2 min read\n",
      "\n",
      "  * Sign up\n",
      "\n",
      "© LangChain Blog 2024\n",
      "\n",
      "\n",
      "metadata: \n",
      "{'language': 'en', 'source': 'https://blog.langchain.dev/automating-web-research/', 'title': 'Automating Web Research'}\n",
      "########################################\n",
      "doc_1\n",
      "#########################\n",
      "page_content: \n",
      "Open in app\n",
      "\n",
      "Sign up\n",
      "\n",
      "Sign in\n",
      "\n",
      "Write\n",
      "\n",
      "Sign up\n",
      "\n",
      "Sign in\n",
      "\n",
      "Member-only story\n",
      "\n",
      "# How I Built an Autonomous AI Agent for Online Research\n",
      "\n",
      "## GPT Researcher: the future of comprehensive online research\n",
      "\n",
      "Assaf Elovic\n",
      "\n",
      "·\n",
      "\n",
      "Follow\n",
      "\n",
      "Published in\n",
      "\n",
      "Better Programming\n",
      "\n",
      "·\n",
      "\n",
      "6 min read\n",
      "\n",
      "·\n",
      "\n",
      "Jul 24, 2023\n",
      "\n",
      "\\--\n",
      "\n",
      "10\n",
      "\n",
      "Share\n",
      "\n",
      "After AutoGPT was published, I immediately took it for a spin. The first use\n",
      "case that came to mind was autonomous online research. Forming objective\n",
      "conclusions for manual research tasks can take time, sometimes weeks, to find\n",
      "the right resources and information. Seeing…\n",
      "\n",
      "\\--\n",
      "\n",
      "\\--\n",
      "\n",
      "10\n",
      "\n",
      "Follow\n",
      "\n",
      "## Written by Assaf Elovic\n",
      "\n",
      "1.98K Followers\n",
      "\n",
      "·Writer for\n",
      "\n",
      "Better Programming\n",
      "\n",
      "software engineer | entrepreneur | assafelovic.com\n",
      "\n",
      "Follow\n",
      "\n",
      "Help\n",
      "\n",
      "Status\n",
      "\n",
      "About\n",
      "\n",
      "Careers\n",
      "\n",
      "Blog\n",
      "\n",
      "Privacy\n",
      "\n",
      "Terms\n",
      "\n",
      "Text to speech\n",
      "\n",
      "Teams\n",
      "\n",
      "\n",
      "metadata: \n",
      "{'description': 'After AutoGPT was published, I immediately took it for a spin. The first use case that came to mind was autonomous online research. Forming objective conclusions for manual research tasks can take…', 'language': 'en', 'source': 'https://betterprogramming.pub/how-i-built-an-autonomous-ai-agent-for-online-research-93435a97c6c', 'title': 'How I Built an Autonomous AI Agent for Online Research | by Assaf Elovic | Better Programming'}\n",
      "########################################\n",
      "doc_2\n",
      "#########################\n",
      "page_content: \n",
      "AboutPressCopyrightContact usCreatorsAdvertiseDevelopersTermsPrivacyPolicy &\n",
      "SafetyHow YouTube worksTest new featuresNFL Sunday Ticket\n",
      "\n",
      "(C) 2024 Google LLC\n",
      "\n",
      "\n",
      "metadata: \n",
      "{'description': \"I built a team of AI agents via Autogen + GPTs, they generate high quality research & verify each other's workGet free credits to finetune your own LLM on Gr...\", 'language': 'en', 'source': 'https://www.youtube.com/watch?v=AVInhYBUnKs', 'title': '\"Research agent 3.0 - Build a group of AI researchers\" - Here is how - YouTube'}\n",
      "########################################\n"
     ]
    }
   ],
   "source": [
    "for i, doc in enumerate(docs):\n",
    "    print(f\"doc_{i}\")\n",
    "    print(f\"#\"*25)\n",
    "    print(f\"page_content: \\n{doc.page_content}\")\n",
    "    print(f\"metadata: \\n{doc.metadata}\")\n",
    "    print(f\"#\"*40)"
   ]
  },
  {
   "cell_type": "markdown",
   "metadata": {},
   "source": [
    "#### combining all - better version"
   ]
  },
  {
   "cell_type": "markdown",
   "metadata": {},
   "source": [
    "[steps]\n",
    "1. search\n",
    "2. load\n",
    "3. transform\n",
    "4. split -> store in vectorstores\n",
    "5. search in vectostore for relevant splits\n",
    "6. return unique docs"
   ]
  },
  {
   "cell_type": "code",
   "execution_count": 18,
   "metadata": {},
   "outputs": [],
   "source": [
    "import os, json\n",
    "with open(\"/home/ubuntu/config.json\") as f:\n",
    "    config = json.loads(f.read())\n",
    "os.environ[\"COHERE_API_KEY\"] = config[\"cohere_api_key\"]\n",
    "os.environ[\"SERPER_API_KEY\"] = config[\"serper_api_key\"]"
   ]
  },
  {
   "cell_type": "code",
   "execution_count": 68,
   "metadata": {},
   "outputs": [],
   "source": [
    "from typing import List\n",
    "from langchain_core.documents import Document\n",
    "from langchain_community.utilities import GoogleSerperAPIWrapper\n",
    "from langchain_community.document_loaders import AsyncHtmlLoader\n",
    "from langchain_community.document_transformers import Html2TextTransformer\n",
    "from langchain_community.vectorstores import Chroma\n",
    "from langchain_community.embeddings import CohereEmbeddings\n",
    "from langchain_text_splitters import RecursiveCharacterTextSplitter\n",
    "\n",
    "def better_web_retriever(\n",
    "    query: str, \n",
    "    top_k: int = 3\n",
    ") -> List[Document]:\n",
    "    response = GoogleSerperAPIWrapper(type=\"search\", k=top_k).results(query=query)\n",
    "    \n",
    "    urls = [x[\"link\"] for x in response[\"organic\"]]\n",
    "    docs = AsyncHtmlLoader(urls).load()\n",
    "    \n",
    "    docs_transformed = Html2TextTransformer().transform_documents(docs)\n",
    "   \n",
    "    vectorstore = Chroma(embedding_function=CohereEmbeddings())\n",
    "    text_splitter = RecursiveCharacterTextSplitter(chunk_size=1500, chunk_overlap=50)\n",
    "    docs_splitted = text_splitter.split_documents(docs_transformed)\n",
    "    vectorstore.add_documents(docs_splitted)\n",
    "    \n",
    "    relevant_docs = vectorstore.similarity_search(query)\n",
    "    \n",
    "    unique_relevant_dict = {\n",
    "        (doc.page_content, tuple(sorted(doc.metadata.items()))): doc for doc in relevant_docs\n",
    "    }\n",
    "    unique_relevant_docs = list(unique_relevant_dict.values())\n",
    "    return unique_relevant_docs"
   ]
  },
  {
   "cell_type": "code",
   "execution_count": 69,
   "metadata": {},
   "outputs": [
    {
     "name": "stderr",
     "output_type": "stream",
     "text": [
      "Fetching pages: 100%|##########| 3/3 [00:00<00:00,  4.67it/s]\n"
     ]
    },
    {
     "name": "stdout",
     "output_type": "stream",
     "text": [
      "CPU times: user 366 ms, sys: 9.68 ms, total: 376 ms\n",
      "Wall time: 8.5 s\n"
     ]
    }
   ],
   "source": [
    "%%time\n",
    "\n",
    "question = \"How to build autonomous web research agent ?\"\n",
    "docs = better_web_retriever(query=question, top_k=3)"
   ]
  },
  {
   "cell_type": "code",
   "execution_count": 70,
   "metadata": {},
   "outputs": [
    {
     "name": "stdout",
     "output_type": "stream",
     "text": [
      "doc_0\n",
      "-------------------------\n",
      "page_content: \n",
      "## Conclusion\n",
      "\n",
      "What started as an attempt to build an autonomous web research agent, evolved\n",
      "into a fairly simple / efficient and customizable retriever. Still, this was\n",
      "just a first step. This project could benefit from adding in many agentic\n",
      "properties, such as:\n",
      "\n",
      "  * Asking an LLM if more information is needed after the initial search\n",
      "  * Using multiple \"write\" and \"revision\" agents to construct the final answer\n",
      "\n",
      "If any of those additions sound interesting, please open a PR against the base\n",
      "repo and we'll work with you to get them in!\n",
      "\n",
      "While hosted AI search from large models like Bard or Perplexity.ai are\n",
      "extremely performant, smaller lightweight tools for web research also have\n",
      "important merits such as privacy (e.g., the ability to run locally on your\n",
      "laptop without sharing any data externally), configurability (e.g., the\n",
      "ability to select the specific open source components to use), and\n",
      "observability (e.g., peer into what is happening \"under the hood\" using tools\n",
      "such as LangSmith).\n",
      "\n",
      "### Tags\n",
      "\n",
      "By LangChain\n",
      "\n",
      "### Join our newsletter\n",
      "\n",
      "Updates from the LangChain team and community\n",
      "\n",
      "Enter your email Subscribe\n",
      "\n",
      "Processing your application...\n",
      "\n",
      "Success! Please check your inbox and click the link to confirm your\n",
      "subscription.\n",
      "\n",
      "Sorry, something went wrong. Please try again.\n",
      "\n",
      "### You might also like\n",
      "\n",
      "## Reflection Agents\n",
      "\n",
      "agents 6 min read\n",
      "\n",
      "## Plan-and-Execute Agents\n",
      "\n",
      "By LangChain 5 min read\n",
      "\n",
      "## [Week of 2/19] LangChain Release Notes\n",
      "\n",
      "By LangChain 1 min read\n",
      "metadata: \n",
      "{'language': 'en', 'source': 'https://blog.langchain.dev/automating-web-research/', 'title': 'Automating Web Research'}\n",
      "----------------------------------------\n",
      "doc_1\n",
      "-------------------------\n",
      "page_content: \n",
      "Skip to content\n",
      "\n",
      "  * By LangChain\n",
      "  * Release Notes\n",
      "  * Case Studies\n",
      "  * LangChain\n",
      "  * GitHub\n",
      "  * Docs\n",
      "\n",
      "Sign in Subscribe\n",
      "\n",
      "# Automating Web Research\n",
      "\n",
      "4 min read Jul 26, 2023\n",
      "\n",
      "## Key Links\n",
      "\n",
      "  * Web Researcher Repo\n",
      "  * New LangChain Retriever and Documentation\n",
      "  * Hosted Streamlit App\n",
      "\n",
      "## Motivation\n",
      "\n",
      "Web research is one of the killer LLM applications: Greg Kamradt highlighted\n",
      "it as one of his top desired AI tools and OSS repos like gpt-researcher are\n",
      "growing in popularity. We decided to take a stab at it, initially setting out\n",
      "like many others to build a web research agent. But, we landed somewhere\n",
      "different: a fairly simple retriever proved to be effective and easily\n",
      "configurable (e.g., to run in private mode as popularized by projects like\n",
      "PrivateGPT) . In this blog we talk about our exploration and thought process,\n",
      "how we built it, and the next steps.\n",
      "\n",
      "## Exploration\n",
      "\n",
      "Abovementioned projects like gpt-researcher and AI search engines\n",
      "(perplexity.ai) offer an early glimpse into how web research may be re-\n",
      "imagined. Like many, we first devised an agent that could be given a prompt, a\n",
      "set of tools, and then would set forth to scour the web autonomously! For\n",
      "this, it clearly needed tools to:\n",
      "\n",
      "  * Search and return pages \n",
      "  * Scrape the full content of the pages returned\n",
      "  * Extract relevant information from the pages\n",
      "metadata: \n",
      "{'language': 'en', 'source': 'https://blog.langchain.dev/automating-web-research/', 'title': 'Automating Web Research'}\n",
      "----------------------------------------\n",
      "doc_2\n",
      "-------------------------\n",
      "page_content: \n",
      "Skip to content\n",
      "\n",
      "  * By LangChain\n",
      "  * Release Notes\n",
      "  * Case Studies\n",
      "  * LangChain\n",
      "  * GitHub\n",
      "  * Docs\n",
      "\n",
      "Sign in Subscribe\n",
      "\n",
      "# Automating Web Research\n",
      "\n",
      "4 min read Jul 26, 2023\n",
      "\n",
      "## Key Links\n",
      "\n",
      "  * Web Researcher Repo\n",
      "  * New LangChain Retriever and Documentation\n",
      "  * Hosted Streamlit App\n",
      "\n",
      "## Motivation\n",
      "\n",
      "Web research is one of the killer LLM applications: Greg Kamradt highlighted\n",
      "it as one of his top desired AI tools and OSS repos like gpt-researcher are\n",
      "growing in popularity. We decided to take a stab at it, initially setting out\n",
      "like many others to build a web research agent. But, we landed somewhere\n",
      "different: a fairly simple retriever proved to be effective and easily\n",
      "configurable (e.g., to run in private mode as popularized by projects like\n",
      "PrivateGPT) . In this blog we talk about our exploration and thought process,\n",
      "how we built it, and the next steps.\n",
      "\n",
      "## Exploration\n",
      "\n",
      "Abovementioned projects like gpt-researcher and AI search engines\n",
      "(perplexity.ai) offer an early glimpse into how web research may be re-\n",
      "imagined. Like many, we first devised an agent that could be given a prompt, a\n",
      "set of tools, and then would set forth to scour the web autonomously! For\n",
      "this, it clearly needed tools to:\n",
      "\n",
      "  * Search and return pages \n",
      "  * Scrape the full content of the pages returned\n",
      "  * Extract relevant information from the pages \n",
      "\n",
      "With those tools, the agent could approximate what a human does: search a\n",
      "topic, choose selected links, skim the link for useful pieces of information,\n",
      "and return to the search in an iterative exploration. We made an agent, gave\n",
      "it these tools ... but found it slowly fumbled thought the iterative search\n",
      "process, much like a human!\n",
      "\n",
      "## Improvements\n",
      "\n",
      "We noticed a central advantage that AIs can uniquely exploit: kick off many\n",
      "searches in parallel and, in turn, \"read\" many pages in parallel. Of course,\n",
      "this risks inefficiency if the first article in a sequential search has all of\n",
      "the necessary information. But for complex questions that warrant an AI\n",
      "researcher, this risk is somewhat mitigated. We added some basic tools to\n",
      "support this process.\n",
      "\n",
      "With a heap of information collected in parallel from a set of pages, it\n",
      "seemed reasonable to fetch the most relevant chunks from each page and load\n",
      "them into the context window of an LLM for synthesis. Of course, at this point\n",
      "we realized that our agent was morphing into a retriever! (NOTE: we still\n",
      "think that agentic properties can further benefit this retriever, as discussed\n",
      "at the end.)\n",
      "\n",
      "## Retrieval\n",
      "\n",
      "What exactly would this retriever do under the hood? Our thinking was:\n",
      "\n",
      "  * Use an LLM to generate multiple relevant search queries (one LLM call)\n",
      "  * Execute a search for each query\n",
      "  * Choose the top K links per query (multiple search calls in parallel) \n",
      "  * Load the information from all chosen links (scrape pages in parallel)\n",
      "  * Index those documents into a vectorstore\n",
      "  * Find the most relevant documents for each original generated search query\n",
      "\n",
      "Collectively, these steps fall into the flow used for retrieval augmented\n",
      "generation:\n",
      "\n",
      "And yet the logic is similar to the agentic architecture for gpt-researcher:\n",
      "\n",
      "Even though this isn't an agent, the similarity in logic is a useful sanity\n",
      "check on the approach. We created a new LangChain retriever and provide\n",
      "documentation on usage with configurations. For an example question (_How do\n",
      "LLM Powered Autonomous Agents work?_), we can use LangSmith to visualize and\n",
      "validate the process (see trace here), observing that the retriever loads and\n",
      "retrieves chunks from a reasonable source (Lilian Weng's blog post on agents):\n",
      "\n",
      "As noted in the documentation, the same process can be trivially configured to\n",
      "run it \"private\" mode using, for example, LlamaV2 and GPT4all embeddings\n",
      "(below is a trace from a run executed on my Mac M2 Max GPU ~50 tok / sec):\n",
      "\n",
      "## Application\n",
      "\n",
      "We wrapped the retriever with a simple Streamlit IU (only ~50 lines of code\n",
      "here) that can be configured with any LLM, vectorstore, and search tool of\n",
      "choice.\n",
      "\n",
      "## Conclusion\n",
      "\n",
      "What started as an attempt to build an autonomous web research agent, evolved\n",
      "into a fairly simple / efficient and customizable retriever. Still, this was\n",
      "just a first step. This project could benefit from adding in many agentic\n",
      "properties, such as:\n",
      "\n",
      "  * Asking an LLM if more information is needed after the initial search\n",
      "  * Using multiple \"write\" and \"revision\" agents to construct the final answer\n",
      "\n",
      "If any of those additions sound interesting, please open a PR against the base\n",
      "repo and we'll work with you to get them in!\n",
      "\n",
      "While hosted AI search from large models like Bard or Perplexity.ai are\n",
      "extremely performant, smaller lightweight tools for web research also have\n",
      "important merits such as privacy (e.g., the ability to run locally on your\n",
      "laptop without sharing any data externally), configurability (e.g., the\n",
      "ability to select the specific open source components to use), and\n",
      "observability (e.g., peer into what is happening \"under the hood\" using tools\n",
      "such as LangSmith).\n",
      "\n",
      "### Tags\n",
      "\n",
      "By LangChain\n",
      "\n",
      "### Join our newsletter\n",
      "\n",
      "Updates from the LangChain team and community\n",
      "\n",
      "Enter your email Subscribe\n",
      "\n",
      "Processing your application...\n",
      "\n",
      "Success! Please check your inbox and click the link to confirm your\n",
      "subscription.\n",
      "\n",
      "Sorry, something went wrong. Please try again.\n",
      "\n",
      "### You might also like\n",
      "\n",
      "## Reflection Agents\n",
      "\n",
      "agents 6 min read\n",
      "\n",
      "## Plan-and-Execute Agents\n",
      "\n",
      "By LangChain 5 min read\n",
      "\n",
      "## [Week of 2/19] LangChain Release Notes\n",
      "\n",
      "By LangChain 1 min read\n",
      "\n",
      "## Rakuten Group builds with LangChain and LangSmith to deliver premium\n",
      "products for its business clients and employees\n",
      "\n",
      "By LangChain 3 min read\n",
      "\n",
      "## [Week of 2/5] LangChain Release Notes\n",
      "\n",
      "By LangChain 4 min read\n",
      "\n",
      "## LangChain Partners with CommandBar on their Copilot User Assistant\n",
      "\n",
      "By LangChain 2 min read\n",
      "\n",
      "  * Sign up\n",
      "\n",
      "© LangChain Blog 2024\n",
      "\n",
      "\n",
      "metadata: \n",
      "{'language': 'en', 'source': 'https://blog.langchain.dev/automating-web-research/', 'title': 'Automating Web Research'}\n",
      "----------------------------------------\n"
     ]
    }
   ],
   "source": [
    "for i, doc in enumerate(docs):\n",
    "    print(f\"doc_{i}\")\n",
    "    print(f\"-\"*25)\n",
    "    print(f\"page_content: \\n{doc.page_content}\")\n",
    "    print(f\"metadata: \\n{doc.metadata}\")\n",
    "    print(f\"-\"*40)"
   ]
  },
  {
   "cell_type": "markdown",
   "metadata": {},
   "source": [
    "#### converting above fns to retrievers and apply qa-chain"
   ]
  },
  {
   "cell_type": "code",
   "execution_count": 90,
   "metadata": {},
   "outputs": [],
   "source": [
    "from langchain_core.documents import Document\n",
    "from langchain_core.retrievers import BaseRetriever\n",
    "from langchain_core.callbacks import CallbackManagerForRetrieverRun\n",
    "\n",
    "class SimpleWebRetriever(BaseRetriever):\n",
    "    \"\"\"Simple web retriever\"\"\"\n",
    "    top_k: int=3\n",
    "\n",
    "    def _get_relevant_documents(\n",
    "        self, query: str, *, run_manager: CallbackManagerForRetrieverRun\n",
    "    ) -> List[Document]:\n",
    "        try:\n",
    "            response = GoogleSerperAPIWrapper(type=\"search\", k=self.top_k).results(query=query)\n",
    "            urls = [x[\"link\"] for x in response[\"organic\"]]\n",
    "            docs = AsyncHtmlLoader(urls).load()\n",
    "            docs_transformed = Html2TextTransformer().transform_documents(docs)\n",
    "            return docs_transformed\n",
    "        except Exception as e:\n",
    "            print(f\"Exception received: \\n{e}\")\n",
    "        return None\n",
    "\n",
    "class BetterWebRetriever(BaseRetriever):\n",
    "    \"better web retriever\"\n",
    "    top_k: int=3\n",
    "\n",
    "    def _get_relevant_documents(\n",
    "        self, query: str, *, run_manager: CallbackManagerForRetrieverRun\n",
    "    ) -> List[Document]:\n",
    "        try:\n",
    "            response = GoogleSerperAPIWrapper(type=\"search\", k=self.top_k).results(query=query)\n",
    "    \n",
    "            urls = [x[\"link\"] for x in response[\"organic\"]]\n",
    "            docs = AsyncHtmlLoader(urls).load()\n",
    "            \n",
    "            docs_transformed = Html2TextTransformer().transform_documents(docs)\n",
    "        \n",
    "            vectorstore = Chroma(embedding_function=CohereEmbeddings())\n",
    "            text_splitter = RecursiveCharacterTextSplitter(chunk_size=1500, chunk_overlap=50)\n",
    "            docs_splitted = text_splitter.split_documents(docs_transformed)\n",
    "            vectorstore.add_documents(docs_splitted)\n",
    "            \n",
    "            relevant_docs = vectorstore.similarity_search(query)\n",
    "            \n",
    "            unique_relevant_dict = {\n",
    "                (doc.page_content, tuple(sorted(doc.metadata.items()))): doc for doc in relevant_docs\n",
    "            }\n",
    "            unique_relevant_docs = list(unique_relevant_dict.values())\n",
    "            return unique_relevant_docs\n",
    "        except Exception as e:\n",
    "            print(f\"Exception received: \\n{e}\")\n",
    "        return None"
   ]
  },
  {
   "cell_type": "code",
   "execution_count": 91,
   "metadata": {},
   "outputs": [
    {
     "name": "stderr",
     "output_type": "stream",
     "text": [
      "Fetching pages: 100%|##########| 10/10 [00:01<00:00,  6.96it/s]\n"
     ]
    },
    {
     "name": "stdout",
     "output_type": "stream",
     "text": [
      "10\n"
     ]
    },
    {
     "data": {
      "text/plain": [
       "[Document(page_content='Open in app\\n\\nSign up\\n\\nSign in\\n\\nWrite\\n\\nSign up\\n\\nSign in\\n\\nMember-only story\\n\\n# How I Built an Autonomous AI Agent for Online Research\\n\\n## GPT Researcher: the future of comprehensive online research\\n\\nAssaf Elovic\\n\\n·\\n\\nFollow\\n\\nPublished in\\n\\nBetter Programming\\n\\n·\\n\\n6 min read\\n\\n·\\n\\nJul 24, 2023\\n\\n\\\\--\\n\\n10\\n\\nShare\\n\\nAfter AutoGPT was published, I immediately took it for a spin. The first use\\ncase that came to mind was autonomous online research. Forming objective\\nconclusions for manual research tasks can take time, sometimes weeks, to find\\nthe right resources and information. Seeing how well AutoGPT created tasks and\\nexecuted them got me thinking about the great potential of using AI to conduct\\ncomprehensive research and what it meant for the future of online research.\\n\\nBut the problem with AutoGPT was that it usually ran into never-ending loops,\\nrequired human interference for almost every step, constantly lost track of\\nits progress, and almost never actually completed the task.\\n\\nNonetheless, the information and context gathered during the research task\\nwere lost (such as keeping track of sources), and sometimes hallucinated.\\n\\nThe passion for leveraging AI for online research and the limitations I found\\nput me on a mission to try and solve it while sharing my work with the world.\\nThis is when I created GPT Researcher — an open source autonomous agent for\\nonline comprehensive research.\\n\\nIn this article, I will share the steps that guided me toward the proposed\\nsolution.\\n\\n## Moving from infinite loops to deterministic results\\n\\nThe first step in solving these issues was to seek a more deterministic\\nsolution that could ultimately guarantee completing any research task within a\\nfixed time frame, without human interference.\\n\\nThis is when I stumbled upon the recent paper Plan and Solve. The paper aims\\nto provide a better solution for the challenges stated above. The idea is\\nquite simple and consists of two components: first, devising a plan to divide\\nthe entire task into smaller subtasks and then carrying out the subtasks\\naccording to the plan.\\n\\nExample inputs and outputs of GPT-3 with (a) Zero-shot-CoT prompting, (b)\\nPlan-and-Solve (PS) prompting\\n\\nAs it relates to research, first create an outline of questions to research\\nrelated to the task, and then…\\n\\n\\\\--\\n\\n\\\\--\\n\\n10\\n\\nFollow\\n\\n## Written by Assaf Elovic\\n\\n1.98K Followers\\n\\n·Writer for\\n\\nBetter Programming\\n\\nsoftware engineer | entrepreneur | assafelovic.com\\n\\nFollow\\n\\nHelp\\n\\nStatus\\n\\nAbout\\n\\nCareers\\n\\nBlog\\n\\nPrivacy\\n\\nTerms\\n\\nText to speech\\n\\nTeams\\n\\n', metadata={'source': 'https://betterprogramming.pub/how-i-built-an-autonomous-ai-agent-for-online-research-93435a97c6c', 'title': 'How I Built an Autonomous AI Agent for Online Research | by Assaf Elovic | Better Programming', 'description': 'After AutoGPT was published, I immediately took it for a spin. The first use case that came to mind was autonomous online research. Forming objective conclusions for manual research tasks can take…', 'language': 'en'}), Document(page_content='AboutPressCopyrightContact usCreatorsAdvertiseDevelopersTermsPrivacyPolicy &\\nSafetyHow YouTube worksTest new featuresNFL Sunday Ticket\\n\\n(C) 2024 Google LLC\\n\\n', metadata={'source': 'https://www.youtube.com/watch?v=AVInhYBUnKs', 'title': '\"Research agent 3.0 - Build a group of AI researchers\" - Here is how - YouTube', 'description': \"I built a team of AI agents via Autogen + GPTs, they generate high quality research & verify each other's workGet free credits to finetune your own LLM on Gr...\", 'language': 'en'}), Document(page_content='Skip to content\\n\\n  * By LangChain\\n  * Release Notes\\n  * Case Studies\\n  * LangChain\\n  * GitHub\\n  * Docs\\n\\nSign in Subscribe\\n\\n# Automating Web Research\\n\\n4 min read Jul 26, 2023\\n\\n## Key Links\\n\\n  * Web Researcher Repo\\n  * New LangChain Retriever and Documentation\\n  * Hosted Streamlit App\\n\\n## Motivation\\n\\nWeb research is one of the killer LLM applications: Greg Kamradt highlighted\\nit as one of his top desired AI tools and OSS repos like gpt-researcher are\\ngrowing in popularity. We decided to take a stab at it, initially setting out\\nlike many others to build a web research agent. But, we landed somewhere\\ndifferent: a fairly simple retriever proved to be effective and easily\\nconfigurable (e.g., to run in private mode as popularized by projects like\\nPrivateGPT) . In this blog we talk about our exploration and thought process,\\nhow we built it, and the next steps.\\n\\n## Exploration\\n\\nAbovementioned projects like gpt-researcher and AI search engines\\n(perplexity.ai) offer an early glimpse into how web research may be re-\\nimagined. Like many, we first devised an agent that could be given a prompt, a\\nset of tools, and then would set forth to scour the web autonomously! For\\nthis, it clearly needed tools to:\\n\\n  * Search and return pages \\n  * Scrape the full content of the pages returned\\n  * Extract relevant information from the pages \\n\\nWith those tools, the agent could approximate what a human does: search a\\ntopic, choose selected links, skim the link for useful pieces of information,\\nand return to the search in an iterative exploration. We made an agent, gave\\nit these tools ... but found it slowly fumbled thought the iterative search\\nprocess, much like a human!\\n\\n## Improvements\\n\\nWe noticed a central advantage that AIs can uniquely exploit: kick off many\\nsearches in parallel and, in turn, \"read\" many pages in parallel. Of course,\\nthis risks inefficiency if the first article in a sequential search has all of\\nthe necessary information. But for complex questions that warrant an AI\\nresearcher, this risk is somewhat mitigated. We added some basic tools to\\nsupport this process.\\n\\nWith a heap of information collected in parallel from a set of pages, it\\nseemed reasonable to fetch the most relevant chunks from each page and load\\nthem into the context window of an LLM for synthesis. Of course, at this point\\nwe realized that our agent was morphing into a retriever! (NOTE: we still\\nthink that agentic properties can further benefit this retriever, as discussed\\nat the end.)\\n\\n## Retrieval\\n\\nWhat exactly would this retriever do under the hood? Our thinking was:\\n\\n  * Use an LLM to generate multiple relevant search queries (one LLM call)\\n  * Execute a search for each query\\n  * Choose the top K links per query (multiple search calls in parallel) \\n  * Load the information from all chosen links (scrape pages in parallel)\\n  * Index those documents into a vectorstore\\n  * Find the most relevant documents for each original generated search query\\n\\nCollectively, these steps fall into the flow used for retrieval augmented\\ngeneration:\\n\\nAnd yet the logic is similar to the agentic architecture for gpt-researcher:\\n\\nEven though this isn\\'t an agent, the similarity in logic is a useful sanity\\ncheck on the approach. We created a new LangChain retriever and provide\\ndocumentation on usage with configurations. For an example question (_How do\\nLLM Powered Autonomous Agents work?_), we can use LangSmith to visualize and\\nvalidate the process (see trace here), observing that the retriever loads and\\nretrieves chunks from a reasonable source (Lilian Weng\\'s blog post on agents):\\n\\nAs noted in the documentation, the same process can be trivially configured to\\nrun it \"private\" mode using, for example, LlamaV2 and GPT4all embeddings\\n(below is a trace from a run executed on my Mac M2 Max GPU ~50 tok / sec):\\n\\n## Application\\n\\nWe wrapped the retriever with a simple Streamlit IU (only ~50 lines of code\\nhere) that can be configured with any LLM, vectorstore, and search tool of\\nchoice.\\n\\n## Conclusion\\n\\nWhat started as an attempt to build an autonomous web research agent, evolved\\ninto a fairly simple / efficient and customizable retriever. Still, this was\\njust a first step. This project could benefit from adding in many agentic\\nproperties, such as:\\n\\n  * Asking an LLM if more information is needed after the initial search\\n  * Using multiple \"write\" and \"revision\" agents to construct the final answer\\n\\nIf any of those additions sound interesting, please open a PR against the base\\nrepo and we\\'ll work with you to get them in!\\n\\nWhile hosted AI search from large models like Bard or Perplexity.ai are\\nextremely performant, smaller lightweight tools for web research also have\\nimportant merits such as privacy (e.g., the ability to run locally on your\\nlaptop without sharing any data externally), configurability (e.g., the\\nability to select the specific open source components to use), and\\nobservability (e.g., peer into what is happening \"under the hood\" using tools\\nsuch as LangSmith).\\n\\n### Tags\\n\\nBy LangChain\\n\\n### Join our newsletter\\n\\nUpdates from the LangChain team and community\\n\\nEnter your email Subscribe\\n\\nProcessing your application...\\n\\nSuccess! Please check your inbox and click the link to confirm your\\nsubscription.\\n\\nSorry, something went wrong. Please try again.\\n\\n### You might also like\\n\\n## Reflection Agents\\n\\nagents 6 min read\\n\\n## Plan-and-Execute Agents\\n\\nBy LangChain 5 min read\\n\\n## [Week of 2/19] LangChain Release Notes\\n\\nBy LangChain 1 min read\\n\\n## Rakuten Group builds with LangChain and LangSmith to deliver premium\\nproducts for its business clients and employees\\n\\nBy LangChain 3 min read\\n\\n## [Week of 2/5] LangChain Release Notes\\n\\nBy LangChain 4 min read\\n\\n## LangChain Partners with CommandBar on their Copilot User Assistant\\n\\nBy LangChain 2 min read\\n\\n  * Sign up\\n\\n© LangChain Blog 2024\\n\\n', metadata={'source': 'https://blog.langchain.dev/automating-web-research/', 'title': 'Automating Web Research', 'language': 'en'}), Document(page_content='Copyright (c) 2023, Intercom, Inc. ([email protected]) with Reserved Font Name\\n\"Inter\". This Font Software is licensed under the SIL Open Font License,\\nVersion 1.1.Copyright (c) 2023, Intercom, Inc. ([email protected]) with\\nReserved Font Name \"Inter\". This Font Software is licensed under the SIL Open\\nFont License, Version 1.1.\\n\\nGo to TaskadeDownloadsStatusAPI\\n\\nEnglish;\\n\\nEnglish\\n\\nGo to TaskadeDownloadsStatusAPI\\n\\nEnglish;\\n\\nEnglish\\n\\nTable of contents\\n\\nAll Collections\\n\\n🤖 Taskade AI\\n\\nAI Agents\\n\\nAutonomous AI Agents\\n\\nAutonomous AI Agents\\n\\nUpdated over a week ago\\n\\nTable of contents\\n\\n## **What Are AI Agents?**\\n\\nAI agents are small, specialized tools that tap into the power of large\\nlanguage models (LLMs) like GPT-4 to perform all kinds of tasks, from\\ngenerating content and answering questions to programming and running web\\nsearches without human supervision.\\n\\nYou can use AI agents to:\\n\\n  * Conduct in-depth web research automatically.\\n\\n  * Generate creative writing pieces or articles.\\n\\n  * Answer complex questions on various topics.\\n\\n  * Assist with coding and debugging tasks.\\n\\n  * And much more!\\n\\n💡 **Note** : This article covers default AI agents build into Taskade. If you\\nwant to create your own AI agents in your workspaces, visit Custom AI Agents.\\n\\n## **Use AI Agents in Taskade**\\n\\n  1. Open any of your projects.\\n\\n  2. Define your task or problem.\\n\\n  3. Type one of the available **/commands** and hit **Enter**.\\n\\n  4. Wait for the agent to finish the task.\\n\\n  5. And that\\'s it! 🥳\\n\\n## **The Research Agent**\\n\\nTired of manual searchers? Just type **/research** and let the **Research\\nAgent** do the digging for you, pulling together relevant insights and\\nresources from the around web.\\n\\nThere are many different ways the Research Agent helps you get work done:\\n\\n  * Compile a list of articles, studies, papers, and books.\\n\\n  * Fact-check across multiple trusted sources.\\n\\n  * Pull data from a variety of sources on a particular topic or trend.\\n\\n  * Generate concise summaries of web resources or lengthy articles.\\n\\n  * Gather insights on competitors\\' online content related to your research.\\n\\n💡 **Note:** You can now use the Research Agent Pro to select multiple tasks /\\nnodes for even more accurate results? Visit Bulk AI Commands to learn more.\\n\\n## **The Roundtable Agent**\\n\\nThe Roundtable Agent is a hub of autonomous AI experts assigned a set of\\nskills, working in sync to provide precise insights whenever you need them.\\nUse the **/roundtable** command with your tasks, and Taskade will dynamically\\nassign relevant AI experts.\\n\\nHere are a few examples:\\n\\n  * **👔 CEO** : Guides you in making major decisions, setting your big picture goals.\\n\\n  * **🗂️ Project Manager:** Helps you organize tasks and set clear deadlines.\\n\\n  * **🎨 Designer** : Offers creative suggestions on making your project look good.\\n\\n  * **🔀 Operations Manager** : Advises on how to run things efficiently.\\n\\n  * **⚖️ Legal Advisor** : Alerts you to legal considerations that might affect your project.\\n\\n  * **📤 Marketer** : Shares ideas on how to get the word out about your project.\\n\\n  * **🤝 HR Professional** : Provides tips on team dynamics and resolving conflicts.\\n\\n💡 **Note:** Roundtable agents are assigned dynamically. Taskade AI may\\ngenerate a different panel of AI experts depending on the context of your\\ntask.\\n\\n## **The SEO Agent**\\n\\nSEO research doesn\\'t have to be a chore. Use the SEO Agent to automate keyword\\nresearch and streamline competitive analysis. Type your keywords followed by\\nthe **/SEO** AI command, and the agent will fetch the top 10-20 Google Search\\nresults in an instant.\\n\\n#### 😊 Helpful Links\\n\\n  * Download our apps: taskade.com/downloads\\n\\n  * Leave feedback: taskade.com/feedback\\n\\n  * Changelog: taskade.com/blog/updates\\n\\n  * Watch tutorials: youtube.com/taskade\\n\\n  * Contact us: taskade.com/contact\\n\\n* * *\\n\\nRelated Articles\\n\\nTaskade AI Assistant\\n\\nBulk AI Commands\\n\\nCustom AI Agents\\n\\nTaskade AI Assistant (Mobile)\\n\\nCustom AI Agents for Marketers\\n\\nDid this answer your question?\\n\\n😞😐😃\\n\\n11\\u200c60 Battery St. East, Suite 100 San\\u200c Francisco, CA 94111, USA\\n\\n  * Home\\n  * About\\n  * Pricing\\n  * Features\\n  * Customers\\n  * Security\\n  * Contact\\n\\n  *   *   *   *   *   * \\n\\n', metadata={'source': 'https://help.taskade.com/en/articles/8958458-autonomous-ai-agents', 'title': 'Autonomous AI Agents | Taskade Help Center', 'description': '', 'language': 'en'}), Document(page_content=\"AI JASON\\n\\nCategories\\n\\n\\ue80f\\n\\nAI Agent\\n\\nAI Automation Tutorials\\n\\nLangchain Tutorials\\n\\nAuto GPT Tutorials\\n\\nContact\\n\\n\\ue82e\\n\\n\\ue829\\n\\n\\ue819\\n\\nLangchain Tutorials\\n\\n# Build an Autonomous Researcher\\n\\nAre you running out of ideas what to write on your twitter? Or maybe too many\\nideas but no time to do your research?\\n\\nOur focus will be on creating an Autonomous Researcher utilizing the powerful\\ncapabilities of the General Purpose Transformer (GPT). We will leverage a tool\\nnamed Langchain to streamline the process and deliver a no-code solution.\\nLet's get started.\\n\\n\\u200d\\n\\n## Step 1: Conceiving the Idea\\n\\nIn our pursuit of designing an AI researcher, the primary objective is to\\nbuild an agent that can carry out research on any given topic and produce\\nhigh-quality content based on the research conducted. With this tool, you can\\nwrite regular Twitter threads about how famous people amassed their fortunes,\\nconduct market or competitor analysis, and even monitor discourse on\\ncompetitor channels.\\n\\n## Step 2: Choosing the Right Tools\\n\\nOur initial plan was to utilize tools like Flowise and Landflow to construct\\nan autonomous research agent. However, due to some limitations in controlling\\nthe search results and URLs returned by these tools, we decided to opt for\\nLangchain instead. Langchain allows us to quickly construct a user interface\\nfor our autonomous agent.\\n\\n## Step 3: Gathering Relevant Articles\\n\\nThe first practical step in building our autonomous researcher involves using\\na service called SERP. SERP allows us to search the internet for relevant\\narticles, which can be later used to extract information about our research\\ntopic. We retrieve a list of articles via SERP, feed this list to the large\\nlanguage model, and prompt it to choose the best articles.\\n\\n## Step 4: Summarizing Each Article\\n\\nOnce we have a list of the best articles, we extract the content of each\\narticle and use GPT to generate summaries. To make this process more\\nefficient, we employ a tool from Langchain called DocLoader, which loads HTML\\ndocs from a list of URLs. These contents are then divided into smaller chunks\\nusing TextSplitter and are passed onto GPT for summarization.\\n\\n## Step 5: Generating a Twitter Thread\\n\\nWith a comprehensive summary of all the articles at our disposal, the next\\nstep is to create engaging Twitter threads from this information. We feed\\nthese summary chunks into a large language model and generate viral Twitter\\nthreads on the topic of interest.\\n\\n## Step 6: Creating the User Interface\\n\\nThe final step in creating our autonomous researcher is to construct a user\\ninterface for our tool. For this, we use Streamlit, which allows us to create\\nan easy-to-use UI quickly. This UI enables users to input the topic they are\\ninterested in, and the AI researcher will provide a comprehensive Twitter\\nthread based on the topic.\\n\\n## Alternative No-Code Solution: AI\\n\\nTo build a no-code autonomous researcher, consider using AI. It is a flexible\\nplatform that enables users to construct complex AI applications quickly. AI\\nprovides various building blocks similar to Langchain, offering a UI that is\\nmore adaptable than Flowwise. Building an autonomous researcher on AI can be\\nachieved in around ten minutes due to its user-friendly design.\\n\\n## Conclusion\\n\\nCreating an Autonomous Researcher using GPT can provide a wide range of\\npossibilities for content generation, market analysis, and competitor\\ninsights. Whether you choose to go down the path of coding your solution or\\nopt for a no-code platform like AI, the opportunities are abundant. With\\nLangchain, SERP, GPT, and Streamlit at your disposal, creating an AI-powered\\nresearcher has never been easier.\\n\\n\\u200d\\n\\n## Related articles\\n\\nBrowse all articles\\n\\nAI Agent\\n\\n### How to reduce 78%+ of LLM Cost\\n\\nAI Agent\\n\\n### GPT5 unlocks LLM System 2 Thinking?\\n\\nAI Agent\\n\\n### Research agent 3.0 - Build a group of AI researchers - Step by Step\\nTutorial\\n\\n### Need help building your AI apps?\\n\\nI can help you on building AI apps or give trainings\\n\\nTell me about your AI app ideas\\n\\n\\ue82e\\n\\n\\ue829\\n\\n\\ue819\\n\\n\", metadata={'source': 'https://www.ai-jason.com/learning-ai/how-to-build-an-autonomous-researcher-using-gpt-a-step-by-step-guide', 'title': 'Build an Autonomous Researcher', 'description': 'Langchain Tutorials, Build your GPT researcher to write tweets for you', 'language': 'No language found.'}), Document(page_content='Open in app\\n\\nSign up\\n\\nSign in\\n\\nWrite\\n\\nSign up\\n\\nSign in\\n\\nMember-only story\\n\\n# How Autonomous AI Agent works? Guide for Beginners\\n\\nNoCode AI\\n\\n·\\n\\nFollow\\n\\nPublished in\\n\\n𝐀𝐈 𝐦𝐨𝐧𝐤𝐬.𝐢𝐨\\n\\n·\\n\\n5 min read\\n\\n·\\n\\nAug 20, 2023\\n\\n\\\\--\\n\\nShare\\n\\n> **How does Autonomous Agent works? let’s break it down the mechanics of\\n> Autonomous Agent.**\\n\\nWelcome to the exciting world of Autonomous Agents! If you’ve ever wondered\\nhow these self-governing AI systems work, you’ve come to the right place.\\n\\n# What does Autonomous AI Agent do? Why you should care?\\n\\nAutonomous AI agent is an assistant whose goal is **not only to create plans\\nbut also to execute plans to achieve your goals** without requiring your hard\\nwork. This means that you don’t have to create that fancy dashboard for goals\\nor keep trying with the prompting for ChatGPT..\\n\\nPhoto by Elisa Ventur on Unsplash\\n\\n# Star players in Autonomous AI Agent projects\\n\\nNow, let’s talk about some of the star players in this field. There are four\\nprojects that are making waves.\\n\\n## AutoGPT, BabyAGI, SuperAGI, AgentGPT\\n\\nIt all started with AutoGPT. It started with promise that you could create any\\ngoal you had and auto GPT would figure out how to get it done.\\n\\nInterest in the project really took off at the start of April, with many\\npeople diving into our GitHub repository.\\n\\nsource: https://github.com/Significant-Gravitas/Auto-GPT\\n\\nAround the same time, a similar project, Baby AGI, launched which runs a\\ncontinuous loop to accomplish a series of steps.\\n\\n\\\\--\\n\\n\\\\--\\n\\nFollow\\n\\n## Written by NoCode AI\\n\\n77 Followers\\n\\n·Writer for\\n\\n𝐀𝐈 𝐦𝐨𝐧𝐤𝐬.𝐢𝐨\\n\\nUnderstanding #AI tools with #nocode ⚒️ Instantly, turn your idea to App 🚀\\n\\nFollow\\n\\nHelp\\n\\nStatus\\n\\nAbout\\n\\nCareers\\n\\nBlog\\n\\nPrivacy\\n\\nTerms\\n\\nText to speech\\n\\nTeams\\n\\n', metadata={'source': 'https://medium.com/aimonks/how-autonomous-ai-agent-works-guide-for-beginners-c644750d4500', 'title': 'How Autonomous AI Agent works? Guide for Beginners | by NoCode AI | 𝐀𝐈 𝐦𝐨𝐧𝐤𝐬.𝐢𝐨 | Medium', 'description': 'Welcome to the exciting world of Autonomous Agents! If you’ve ever wondered how these self-governing AI systems work, you’ve come to the right place. Autonomous AI agent is an assistant whose goal is…', 'language': 'en'}), Document(page_content=\"AI JASON\\n\\nCategories\\n\\n\\ue80f\\n\\nAI Agent\\n\\nAI Automation Tutorials\\n\\nLangchain Tutorials\\n\\nAuto GPT Tutorials\\n\\nContact\\n\\n\\ue82e\\n\\n\\ue829\\n\\n\\ue819\\n\\nAI Agent\\n\\n# AI Agent- How to set up research agent\\n\\nAre you tired of spending hours researching and gathering information for your\\nprojects? Do you wish there was a way to automate the research process and\\nsave time? Well, with the advancements in artificial intelligence (AI), you\\ncan now rely on AI agents to do the research for you. In this article, we will\\nexplore the power of AI agents and how they can assist you in conducting\\nresearch 24/7 without any hallucination. Let's dive in!\\n\\n## The Potential of AI Agents in Research\\n\\nAI agents, specifically the GPT (Generative Pre-trained Transformer) model,\\nhave shown remarkable capabilities in generating content. Imagine having an AI\\nagent that can write a Twitter thread about how famous people get rich and\\nautomatically gain 100K followers in just one year. This use case highlights\\nthe potential of AI agents in generating valuable content.\\n\\nIn the initial version, the AI agent followed a linear workflow, where it\\nwould search online for relevant information, scrape websites, and create a\\nTwitter thread. However, the real research process is not linear but\\niterative, with new topics and information emerging as we delve deeper into\\nour research.\\n\\n## The Role of AI Agents in Research\\n\\nAI agents play a crucial role in the research process. They have the ability\\nto plan, execute, and reprioritize tasks to achieve specific goals. A typical\\nAI agent consists of three components: a large language model as the\\ngeneration engine, a memory to store context, and a list of tools to execute\\ntasks.\\n\\nHowever, not all AI agents deliver good results. Two main reasons contribute\\nto this. Firstly, the quality of task execution is essential. AI agents need\\nto be able to complete tasks effectively. Secondly, the ability to\\nreprioritize tasks is crucial. AI agents should be able to make judgment calls\\non when to continue researching or when to consider a task complete.\\n\\n## The Need for Specialized Agents\\n\\nTo overcome the challenges faced by general AI agents, specialized agents are\\nbeing developed for specific tasks. Unlike general agents like ChatGPT or\\nGPT-3, specialized agents focus on executing specific tasks effectively. These\\nagents ensure that the tools used for specific tasks are executed well,\\nleading to better results. Additionally, providing a well-defined system\\nprompt can help agents make the right decisions.\\n\\nResearch is a fundamental use case that goes beyond creating Twitter threads.\\nIt serves as building blocks in various business workflows. For example, a\\nwhole workflow can be triggered from receiving an email. A large language\\nmodel can extract information, which can then be fed into a research agent to\\nunderstand the potential of a company. The leads list can be prioritized in\\nGoogle Sheets or Airtable. Research agents can also integrate with other\\nsystems, such as extracting key information for writing a blog.\\n\\n## Deploying and Testing the Research Agent\\n\\nTo utilize the power of the AI research agent, you can create a web app using\\nStreamlit, a Python library for creating web apps. The app allows you to input\\nyour research goal and query, and the agent will search for relevant\\ninformation and return a list of links and relevant articles.\\n\\nAlternatively, you can deploy the research agent as a web service using\\nplatforms like Make.com. This integration allows you to embed the agent in\\nyour business workflow and integrate it with other systems. The agent can be\\ncalled through an API endpoint and used for lead scoring, background research,\\nand more.\\n\\nTo test the agent, you can run it locally or deploy it to the cloud. FastAPI,\\na Python framework, can be used to turn the app into an API endpoint. You can\\nthen test the API endpoint using a test server and make post requests to get\\nthe desired results.\\n\\n## Integrating the Research Agent into Your Business Workflow\\n\\nOnce the agent is deployed, you can embed it in your business workflow using\\nplatforms like Make.com. You can create a scenario or workflow that triggers\\nthe agent when you receive an inquiry email. The agent can extract core\\ninformation about the company and people mentioned in the email and perform\\nbackground research. The information can then be exported to Google Sheets or\\nAirtable for further analysis.\\n\\n## Conclusion\\n\\nThe AI research agent is a powerful tool for conducting research, extracting\\nkey information, and integrating it into your business workflow. By leveraging\\nAI technology, you can save time and gain valuable insights for various use\\ncases. With specialized agents and well-defined prompts, the research process\\ncan be streamlined and optimized. Embrace the potential of AI agents and let\\nthem do the research for you 24/7 without any hallucination!\\n\\n\\u200d\\n\\n\\\\- Follow me on twitter: https://twitter.com/jasonzhou1993\\n\\n\\\\- Join my AI email list: https://www.ai-jason.com/\\n\\n\\\\- My discord: https://discord.gg/eZXprSaCDE\\n\\n\\u200d\\n\\n## Related articles\\n\\nBrowse all articles\\n\\nAI Agent\\n\\n### How to reduce 78%+ of LLM Cost\\n\\nAI Agent\\n\\n### GPT5 unlocks LLM System 2 Thinking?\\n\\nAI Agent\\n\\n### Research agent 3.0 - Build a group of AI researchers - Step by Step\\nTutorial\\n\\n### Need help building your AI apps?\\n\\nI can help you on building AI apps or give trainings\\n\\nTell me about your AI app ideas\\n\\n\\ue82e\\n\\n\\ue829\\n\\n\\ue819\\n\\n\", metadata={'source': 'https://www.ai-jason.com/learning-ai/ai-research-agent', 'title': 'AI Agent- How to set up research agent', 'description': 'AI Agent,', 'language': 'No language found.'}), Document(page_content='AboutPressCopyrightContact usCreatorsAdvertiseDevelopersTermsPrivacyPolicy &\\nSafetyHow YouTube worksTest new featuresNFL Sunday Ticket\\n\\n(C) 2024 Google LLC\\n\\n', metadata={'source': 'https://www.youtube.com/watch?v=neOTEobgA4c', 'title': 'Building An AI Research Agent - YouTube', 'description': \"🔍 RoboWiz: Your Ultimate Research CompanionIn this video, we'll guide you through crafting your personal research assistant, RoboWiz. With the Serper API, i...\", 'language': 'en'}), Document(page_content='AboutPressCopyrightContact usCreatorsAdvertiseDevelopersTermsPrivacyPolicy &\\nSafetyHow YouTube worksTest new featuresNFL Sunday Ticket\\n\\n(C) 2024 Google LLC\\n\\n', metadata={'source': 'https://www.youtube.com/watch?v=ogQUlS7CkYA', 'title': '\"Wait..this AI Agent does research for you 24hrs without hallucination?!\" - Here is how - YouTube', 'description': 'A step by step tutorial of how to build an AI research agent that can do high quality research autonomously without any hallucination, via Langchain + GPT + ...', 'language': 'en'}), Document(page_content='  * Skip to main content\\n  * Skip to secondary menu\\n  * Skip to primary sidebar\\n  * Skip to footer\\n\\nGeeky Gadgets\\n\\nThe Latest Technology News\\n\\n  * Home\\n  * Apple\\n  * Android\\n  * Deals\\n  * Gadgets\\n  * Technology\\n  * Hardware\\n  * Gaming\\n  * Guides\\n  * Auto News\\n\\n  \\n\\n  \\n\\n# How to build an autonomous AI research agent running 24/7\\n\\n2:35 pm September 22, 2023 By Julian Horsey\\n\\nIf you would like to build your very own **autonomous AI research agent** that\\nis capable of**running 24-hours** a day seven days a week scouring the web for\\nanything you ask it. You might be interested in a new tutorial by Michael\\nBorman who has kindly uploaded the code to GitHub for you to download and\\ntweak to your exact requirements.\\n\\nBuilding a research agent using**LangChain** and integrating it into a product\\nis a complex yet rewarding process. This process involves several steps,\\nincluding building a tool for search and scraping, creating a Lang chain\\nagent, hosting the web app using Streamlit, and using**Fast API to turn the\\ncode into an API.** The API can then be integrated into a product through\\nZapier automation, hosted as an API using Fast API, and connected to Google\\nSheets or a CRM using Zapier.\\n\\nThe first step in building a research agent using Lang chain code is to create\\na tool for search and scraping. This tool uses a web search tool to find links\\nand a web scraper tool to extract data from those pages. The agent iterates\\nthese steps until it has enough research to answer the question, then passes\\nthe output back. The video demonstrates how to build the search and scraping\\ntools, using the SerpApi for web search and the BrowseList API for web\\nscraping.\\n\\n## How to build an autonomous AI research agent running 24/7\\n\\nWatch this video on YouTube.\\n\\nOther articles you may find of interest on the subject of LangChain and\\nautonomous AI agents :\\n\\n  * How to use LangChain with cloud hosted Redis\\n  * How to build a Llama 2 LangChain conversational agent\\n  * How to fine tune ChatGPT 3.5 Turbo for LangChain Agents\\n  * Make a personal AI assistant from scratch using RAG and LangChain\\n  * How to use LangChain to extend ChatGPT search\\n\\nOnce the search and scraping tools are built, the next step is to create a\\nLang chain agent. This agent is instantiated with a list of tools, a language\\nmodel, and a type of agent. The agent is given a general system message that\\ninstructs it on its task and how many iterations to perform. The Python\\nlibrary Beautiful Soup is used to clean the data and extract the text from the\\nHTML page. The agent then uses a summarizer to reduce the data to the\\nnecessary information, using a method called Map Reduce.\\n\\nAfter the Lang chain agent is created, the next step is to host the web app\\nusing Streamlit. A simple front-end that can quickly get the application up\\nand running. The agent can be tested using Streamlit to ensure it is\\nfunctioning correctly. Once the web app is hosted and tested, the next step is\\nto use Fast API to turn the code into an API. This allows the agent to be\\nhosted as an API, which can be queried from anywhere on the web. The API can\\nbe hosted on Render, a platform that allows for easy hosting of applications.\\n\\nThe final step in building a research agent using LangChain code is to\\nintegrate the API into a product through Zapier automation. This allows the\\nAPI to be connected to Google Sheets or a CRM using Zapier. This integration\\nallows for automated research on leads, making the research agent a valuable\\ntool for identifying the best prospects for a product.\\n\\nBuilding a research agent using Lang chain code and integrating it into a\\nproduct involves several steps, but the end result is a powerful tool for\\nautomated research. By following these steps, one can create a research agent\\nthat can scrape the web, provide research on any topic, and be integrated into\\na product for automated lead research.\\n\\n**You might be interested in other automation systems created using AI and\\nZapier :**\\n\\n  * ChatGPT Zapier plugin makes AI automation\\n  * Automate Shopify product creation using ChatGPT and Zapier\\n  * How to use ChatGPT and Zapier to create no-code automation\\n  * Automate tasks with ChatGPT and no-code automation\\n  * Learn how to use ChatGPT AI automation with Zapier\\n\\n  * Share\\n\\n  * Tweet\\n\\n  * Pin\\n\\n  * Email\\n\\nFiled Under: Guides, Top News\\n\\n  \\n**Latest Geeky Gadgets Deals**\\n\\n  \\n**Disclosure:** Some of our articles include affiliate links. If you buy\\nsomething through one of these links, Geeky Gadgets may earn an affiliate\\ncommission. Learn about our  Disclosure Policy.\\n\\n## Primary Sidebar\\n\\n  * Email\\n  * Facebook\\n  * Pinterest\\n  * RSS\\n  * Twitter\\n\\nSearch the site ...\\n\\n### Top News\\n\\n#### Alone in the Dark survival horror launches on PC, PlayStation 5 and Xbox\\n\\n#### Xbox Free-To-Play Frenzy now on until March 25th\\n\\n#### BMW Vision Neue Klasse X EV SUV Concept Unveiled\\n\\n#### Lexar SL500 high-speed portable SSD perfect for extra iPhone storage\\n\\n#### $700 Netgear 18.4Gbps PoE 10G Tri-band WiFi 7 Access Point\\n\\n### Guides\\n\\n#### How to Use Google Gemini Advanced in Workspaces\\n\\n#### How to Create Notion Templates with ChatGPT\\n\\n#### How to Extend Your Android Battery Life: Simple Tweaks for Maximum Power\\n\\n#### How to Optimize iPad Battery Life with iPadOS 17.4\\n\\n#### Midjourney Consistent Characters tips and tricks\\n\\n### Apple News\\n\\n#### M3 MacBook Pro vs M3 MacBook Air: Which One Should You Buy?\\n\\n#### How to Optimize iPad Battery Life with iPadOS 17.4\\n\\n#### When Will the iOS 17.4.1 Bug Fix Update Be Released\\n\\n#### Final Apple M3 iPad Pro Details Revealed\\n\\n#### Another Look At The New M3 MacBook Air (Video)\\n\\n### Technology News\\n\\n#### Polar Grit X2 Pro Smartwatch Gets Reviewed\\n\\n#### Polar Grit X2 Pro Smartwatch Unveiled\\n\\n#### NVIDIA IGX Orin, Holoscan and Magic Leap 2 Developer Platform introduced\\nby PNY\\n\\n#### Arduino Days details and schedule now available\\n\\n#### ASUS AI supercomputing solutions showcased at GTC 2024\\n\\n### Android News\\n\\n#### Samsung Launches Two New Battery Packs\\n\\n#### Will the Nothing Phone 2a Survive a Drop Test (Video)\\n\\n#### Samsung Galaxy A55 and Galaxy A35 Land on Vodafone\\n\\n#### Discover the Amazing Samsung Galaxy S24, S24+ Tips and Tricks\\n\\n#### Samsung Galaxy S24 Accessories Worth Checking Out\\n\\n## Footer\\n\\n### About Us\\n\\n  * About Geeky Gadgets\\n  * Advertise On Geeky Gadgets\\n  * Archives\\n  * Contact Us\\n  * Disclosure Policy\\n  * Free Newsletter\\n  * Geeky Gadgets Logo\\n  * Privacy Policy\\n  * Site Map\\n\\n### Further Reading\\n\\n  * Auto News\\n  * Camera News\\n  * Concepts & Design\\n  * Entertainment News\\n  * Design News\\n  * Geeky Stuff\\n  * Apple iPad\\n  * Apple iPhone\\n  * Mobile Phone News\\n  * Sponsored\\n  * Tablet News\\n  * Guides\\n\\n  \\nCopyright 2007 - 2023 Geeky Gadgets\\n\\n____\\n\\nGeeky Gadgets\\n\\n__\\n\\n  * Home\\n  * Apple\\n  * Android\\n  * Deals\\n  * Gadgets\\n  * Technology\\n  * Hardware\\n  * Gaming\\n  * Guides\\n  * Auto News\\n\\n', metadata={'source': 'https://www.geeky-gadgets.com/build-an-autonomous-ai-research-agent/', 'title': 'How to build an autonomous AI research agent running 24/7 - Geeky Gadgets', 'description': 'Learn how to build an autonomous AI research agent using LangChain allowing you to can doubt research 24-hour is a day seven days a week.', 'language': 'en-US'})]"
      ]
     },
     "execution_count": 91,
     "metadata": {},
     "output_type": "execute_result"
    }
   ],
   "source": [
    "question = 'How to build autonomous web research agent ?'\n",
    "\n",
    "simple_web_retriever = SimpleWebRetriever(top_k=10)\n",
    "\n",
    "docs = simple_web_retriever.get_relevant_documents(question)\n",
    "print(len(docs))\n",
    "docs"
   ]
  },
  {
   "cell_type": "code",
   "execution_count": 92,
   "metadata": {},
   "outputs": [
    {
     "name": "stderr",
     "output_type": "stream",
     "text": [
      "Fetching pages: 100%|##########| 9/9 [00:01<00:00,  5.68it/s]\n"
     ]
    },
    {
     "name": "stdout",
     "output_type": "stream",
     "text": [
      "2\n"
     ]
    },
    {
     "data": {
      "text/plain": [
       "[Document(page_content='* Skip to main content\\n  * Skip to secondary menu\\n  * Skip to primary sidebar\\n  * Skip to footer\\n\\nGeeky Gadgets\\n\\nThe Latest Technology News\\n\\n  * Home\\n  * Apple\\n  * Android\\n  * Deals\\n  * Gadgets\\n  * Technology\\n  * Hardware\\n  * Gaming\\n  * Guides\\n  * Auto News\\n\\n  \\n\\n  \\n\\n# How to build an autonomous AI research agent running 24/7\\n\\n2:35 pm September 22, 2023 By Julian Horsey\\n\\nIf you would like to build your very own **autonomous AI research agent** that\\nis capable of**running 24-hours** a day seven days a week scouring the web for\\nanything you ask it. You might be interested in a new tutorial by Michael\\nBorman who has kindly uploaded the code to GitHub for you to download and\\ntweak to your exact requirements.\\n\\nBuilding a research agent using**LangChain** and integrating it into a product\\nis a complex yet rewarding process. This process involves several steps,\\nincluding building a tool for search and scraping, creating a Lang chain\\nagent, hosting the web app using Streamlit, and using**Fast API to turn the\\ncode into an API.** The API can then be integrated into a product through\\nZapier automation, hosted as an API using Fast API, and connected to Google\\nSheets or a CRM using Zapier.', metadata={'description': 'Learn how to build an autonomous AI research agent using LangChain allowing you to can doubt research 24-hour is a day seven days a week.', 'language': 'en-US', 'source': 'https://www.geeky-gadgets.com/build-an-autonomous-ai-research-agent/', 'title': 'How to build an autonomous AI research agent running 24/7 - Geeky Gadgets'}), Document(page_content='## Conclusion\\n\\nWhat started as an attempt to build an autonomous web research agent, evolved\\ninto a fairly simple / efficient and customizable retriever. Still, this was\\njust a first step. This project could benefit from adding in many agentic\\nproperties, such as:\\n\\n  * Asking an LLM if more information is needed after the initial search\\n  * Using multiple \"write\" and \"revision\" agents to construct the final answer\\n\\nIf any of those additions sound interesting, please open a PR against the base\\nrepo and we\\'ll work with you to get them in!\\n\\nWhile hosted AI search from large models like Bard or Perplexity.ai are\\nextremely performant, smaller lightweight tools for web research also have\\nimportant merits such as privacy (e.g., the ability to run locally on your\\nlaptop without sharing any data externally), configurability (e.g., the\\nability to select the specific open source components to use), and\\nobservability (e.g., peer into what is happening \"under the hood\" using tools\\nsuch as LangSmith).\\n\\n### Tags\\n\\nBy LangChain\\n\\n### Join our newsletter\\n\\nUpdates from the LangChain team and community\\n\\nEnter your email Subscribe\\n\\nProcessing your application...\\n\\nSuccess! Please check your inbox and click the link to confirm your\\nsubscription.\\n\\nSorry, something went wrong. Please try again.\\n\\n### You might also like\\n\\n## Reflection Agents\\n\\nagents 6 min read\\n\\n## Plan-and-Execute Agents\\n\\nBy LangChain 5 min read\\n\\n## [Week of 2/19] LangChain Release Notes\\n\\nBy LangChain 1 min read', metadata={'language': 'en', 'source': 'https://blog.langchain.dev/automating-web-research/', 'title': 'Automating Web Research'})]"
      ]
     },
     "execution_count": 92,
     "metadata": {},
     "output_type": "execute_result"
    }
   ],
   "source": [
    "question = 'How to build autonomous web research agent ?'\n",
    "\n",
    "better_web_retriever = BetterWebRetriever(top_k=10)\n",
    "\n",
    "docs = better_web_retriever.get_relevant_documents(question)\n",
    "print(len(docs))\n",
    "docs"
   ]
  },
  {
   "cell_type": "code",
   "execution_count": 94,
   "metadata": {},
   "outputs": [
    {
     "name": "stdout",
     "output_type": "stream",
     "text": [
      "{'description': 'Learn how to build an autonomous AI research agent using '\n",
      "                'LangChain allowing you to can doubt research 24-hour is a day '\n",
      "                'seven days a week.',\n",
      " 'language': 'en-US',\n",
      " 'source': 'https://www.geeky-gadgets.com/build-an-autonomous-ai-research-agent/',\n",
      " 'title': 'How to build an autonomous AI research agent running 24/7 - Geeky '\n",
      "          'Gadgets'}\n"
     ]
    }
   ],
   "source": [
    "pprint(docs[0].metadata)"
   ]
  },
  {
   "cell_type": "code",
   "execution_count": 98,
   "metadata": {},
   "outputs": [],
   "source": [
    "from langchain.chains import RetrievalQAWithSourcesChain\n",
    "from langchain_community.chat_models import BedrockChat\n",
    "import boto3\n",
    "\n",
    "llm = BedrockChat(\n",
    "    # model_id=\"anthropic.claude-3-haiku-20240307-v1:0\",\n",
    "    model_id=\"anthropic.claude-3-sonnet-20240229-v1:0\",\n",
    "    client=boto3.client(\"bedrock-runtime\"),\n",
    "    model_kwargs={\"temperature\": 0.0, \"max_tokens\":512}\n",
    ")\n",
    "\n",
    "# simple_web_retriever = SimpleWebRetriever(top_k=10)\n",
    "better_web_retriever = BetterWebRetriever(top_k=10)\n",
    "\n",
    "qa_chain = RetrievalQAWithSourcesChain.from_chain_type(llm,\n",
    "    # retriever=simple_web_retriever,\n",
    "    retriever=better_web_retriever,\n",
    ")"
   ]
  },
  {
   "cell_type": "code",
   "execution_count": 99,
   "metadata": {},
   "outputs": [
    {
     "name": "stderr",
     "output_type": "stream",
     "text": [
      "Fetching pages: 100%|##########| 10/10 [00:00<00:00, 10.16it/s]\n"
     ]
    },
    {
     "name": "stdout",
     "output_type": "stream",
     "text": [
      "CPU times: user 2.6 s, sys: 75.9 ms, total: 2.67 s\n",
      "Wall time: 15.5 s\n"
     ]
    }
   ],
   "source": [
    "%%time\n",
    "\n",
    "question = \"How do LLM Powered Autonomous Agents work ?\"\n",
    "response = qa_chain.invoke({\"question\": question})"
   ]
  },
  {
   "cell_type": "code",
   "execution_count": 100,
   "metadata": {},
   "outputs": [
    {
     "name": "stdout",
     "output_type": "stream",
     "text": [
      "{'answer': 'LLM-Powered Autonomous Agents work by using a large language model '\n",
      "           '(LLM) as the core controller or \"brain\" of the agent system, '\n",
      "           'complemented by several key components:\\n'\n",
      "           '\\n'\n",
      "           '1. Planning:\\n'\n",
      "           '   - Task Decomposition: The agent breaks down complex tasks into '\n",
      "           'smaller, manageable subgoals.\\n'\n",
      "           '   - Reflection and Refinement: The agent can self-reflect on past '\n",
      "           'actions, learn from mistakes, and refine its approach for future '\n",
      "           'steps.\\n'\n",
      "           '\\n'\n",
      "           '2. Memory:\\n'\n",
      "           '   - Short-term Memory: Utilizing in-context learning and prompt '\n",
      "           \"engineering to leverage the model's short-term memory.\\n\"\n",
      "           '   - Long-term Memory: Integrating external vector stores or '\n",
      "           'databases to retain and recall information over extended periods.\\n'\n",
      "           '\\n'\n",
      "           '3. Tool Use:\\n'\n",
      "           '   - The agent can call external APIs, execute code, access '\n",
      "           'proprietary information sources, and leverage other tools to '\n",
      "           \"augment its capabilities beyond what is encoded in the LLM's \"\n",
      "           'weights.\\n'\n",
      "           '\\n'\n",
      "           'The LLM acts as the central controller, understanding natural '\n",
      "           'language instructions, decomposing tasks, making decisions, and '\n",
      "           'coordinating the use of various tools and memory components to '\n",
      "           'achieve its goals autonomously.\\n'\n",
      "           '\\n',\n",
      " 'question': 'How do LLM Powered Autonomous Agents work ?',\n",
      " 'sources': ''}\n"
     ]
    }
   ],
   "source": [
    "pprint(response)"
   ]
  },
  {
   "cell_type": "code",
   "execution_count": 101,
   "metadata": {},
   "outputs": [
    {
     "name": "stdout",
     "output_type": "stream",
     "text": [
      "LLM-Powered Autonomous Agents work by using a large language model (LLM) as the core controller or \"brain\" of the agent system, complemented by several key components:\n",
      "\n",
      "1. Planning:\n",
      "   - Task Decomposition: The agent breaks down complex tasks into smaller, manageable subgoals.\n",
      "   - Reflection and Refinement: The agent can self-reflect on past actions, learn from mistakes, and refine its approach for future steps.\n",
      "\n",
      "2. Memory:\n",
      "   - Short-term Memory: Utilizing in-context learning and prompt engineering to leverage the model's short-term memory.\n",
      "   - Long-term Memory: Integrating external vector stores or databases to retain and recall information over extended periods.\n",
      "\n",
      "3. Tool Use:\n",
      "   - The agent can call external APIs, execute code, access proprietary information sources, and leverage other tools to augment its capabilities beyond what is encoded in the LLM's weights.\n",
      "\n",
      "The LLM acts as the central controller, understanding natural language instructions, decomposing tasks, making decisions, and coordinating the use of various tools and memory components to achieve its goals autonomously.\n",
      "\n",
      "\n"
     ]
    }
   ],
   "source": [
    "print(response[\"answer\"])"
   ]
  },
  {
   "cell_type": "code",
   "execution_count": 102,
   "metadata": {},
   "outputs": [
    {
     "name": "stdout",
     "output_type": "stream",
     "text": [
      "\n"
     ]
    }
   ],
   "source": [
    "print(response[\"sources\"])"
   ]
  },
  {
   "cell_type": "code",
   "execution_count": null,
   "metadata": {},
   "outputs": [],
   "source": []
  }
 ],
 "metadata": {
  "kernelspec": {
   "display_name": "pytorch",
   "language": "python",
   "name": "python3"
  },
  "language_info": {
   "codemirror_mode": {
    "name": "ipython",
    "version": 3
   },
   "file_extension": ".py",
   "mimetype": "text/x-python",
   "name": "python",
   "nbconvert_exporter": "python",
   "pygments_lexer": "ipython3",
   "version": "3.10.13"
  }
 },
 "nbformat": 4,
 "nbformat_minor": 2
}
