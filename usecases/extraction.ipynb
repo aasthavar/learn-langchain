{
 "cells": [
  {
   "cell_type": "markdown",
   "metadata": {},
   "source": [
    "**WIP for sections**\n",
    "\n",
    "**What**\n",
    "- Extract structured information from input text.\n",
    "- Note: models that support function/tool calling can be preferred for this purpose as they seem to be more reliable\n",
    "\n",
    "**Usecases**\n",
    "- Extract Data From Calls & Video Transcripts/Interviews - [link](https://github.com/gkamradt/langchain-tutorials/blob/main/data_generation/Working%20With%20Call%20or%20Video%20Transcripts.ipynb)\n",
    "- Generate Synthetic dataset for NER\n",
    "\n",
    "**Approaches**\n",
    "- Write your own prompt + output_parser\n",
    "- (If supported) leverage function_calling feature of models.\n",
    "- Leverage libraries like Kor\n",
    "\n",
    "**Challenges**\n",
    "- Extracting structured output from LLMs. llms being stochastic -> not deterministic for business\n",
    "- Incomplete response due to token count -> therefore parsing error\n",
    "- Long text/files\n",
    "\n",
    "\n",
    "**Going Deeper - Research**\n",
    "\n",
    "**Examples**\n",
    "\n",
    "**Others**\n",
    "- langchain-extract [github](https://github.com/langchain-ai/langchain-extract)\n",
    "- kor library [github](https://github.com/eyurtsev/kor)\n"
   ]
  },
  {
   "cell_type": "code",
   "execution_count": 2,
   "metadata": {},
   "outputs": [
    {
     "data": {
      "text/plain": [
       "True"
      ]
     },
     "execution_count": 2,
     "metadata": {},
     "output_type": "execute_result"
    }
   ],
   "source": [
    "from dotenv import load_dotenv\n",
    "from pathlib import Path\n",
    "\n",
    "dotenv_path = Path(\"/home/ubuntu/config.env\")\n",
    "\n",
    "load_dotenv(dotenv_path=dotenv_path)"
   ]
  },
  {
   "cell_type": "markdown",
   "metadata": {},
   "source": [
    "### simple\n",
    "\n",
    "1. define the schema to extract\n",
    "2. construct extraction_chain\n",
    "3. invoke"
   ]
  },
  {
   "cell_type": "code",
   "execution_count": 35,
   "metadata": {},
   "outputs": [],
   "source": [
    "# 1. define the schema\n",
    "\n",
    "from typing import Optional\n",
    "from langchain_core.pydantic_v1 import BaseModel, Field\n",
    "\n",
    "class Person(BaseModel):\n",
    "    \"\"\"Information about a person.\"\"\"\n",
    "    name: Optional[str] = Field(..., description=\"The name of the person\")\n",
    "    hair_color: Optional[str] = Field(..., description=\"The color of the person's hair if known\")\n",
    "    height_in_meters: Optional[str] = Field(..., description=\"Height measured in meters\")"
   ]
  },
  {
   "cell_type": "code",
   "execution_count": 36,
   "metadata": {},
   "outputs": [
    {
     "name": "stdout",
     "output_type": "stream",
     "text": [
      "================================\u001b[1m System Message \u001b[0m================================\n",
      "\n",
      "You are an expert at extracting relevant information from text. If you do not know the value of an attribute asked to extract, return null for the attribute's value.\n",
      "\u001b[33;1m\u001b[1;3m{format_instructions}\u001b[0m\n",
      "\n",
      "================================\u001b[1m Human Message \u001b[0m=================================\n",
      "\n",
      "\u001b[33;1m\u001b[1;3m{text}\u001b[0m\n"
     ]
    }
   ],
   "source": [
    "# 2. a. construct prompt\n",
    "from langchain_core.prompts import ChatPromptTemplate\n",
    "\n",
    "prompt = ChatPromptTemplate.from_messages([\n",
    "    (\n",
    "        \"system\", \n",
    "        \"You are an expert at extracting relevant information from text. \"\n",
    "        \"If you do not know the value of an attribute asked to extract, \"\n",
    "        \"return null for the attribute's value.\"\n",
    "        \"\\n{format_instructions}\",\n",
    "    ),\n",
    "    (\n",
    "        \"human\",\n",
    "        \"{text}\",\n",
    "    )\n",
    "])\n",
    "\n",
    "prompt.pretty_print()"
   ]
  },
  {
   "cell_type": "code",
   "execution_count": 37,
   "metadata": {},
   "outputs": [],
   "source": [
    "# 2. b. define the model\n",
    "import boto3\n",
    "from langchain_community.chat_models import BedrockChat\n",
    "\n",
    "llm = BedrockChat(\n",
    "    model_id=\"anthropic.claude-3-haiku-20240307-v1:0\",\n",
    "    # model_id=\"anthropic.claude-3-sonnet-20240229-v1:0\",\n",
    "    client=boto3.client(\"bedrock-runtime\"),\n",
    "    model_kwargs={\"temperature\": 0.0, \"max_tokens\":512}\n",
    ")"
   ]
  },
  {
   "cell_type": "code",
   "execution_count": 38,
   "metadata": {},
   "outputs": [
    {
     "name": "stdout",
     "output_type": "stream",
     "text": [
      "The output should be formatted as a JSON instance that conforms to the JSON schema below.\n",
      "\n",
      "As an example, for the schema {\"properties\": {\"foo\": {\"title\": \"Foo\", \"description\": \"a list of strings\", \"type\": \"array\", \"items\": {\"type\": \"string\"}}}, \"required\": [\"foo\"]}\n",
      "the object {\"foo\": [\"bar\", \"baz\"]} is a well-formatted instance of the schema. The object {\"properties\": {\"foo\": [\"bar\", \"baz\"]}} is not well-formatted.\n",
      "\n",
      "Here is the output schema:\n",
      "```\n",
      "{\"description\": \"Information about a person.\", \"properties\": {\"name\": {\"title\": \"Name\", \"description\": \"The name of the person\", \"type\": \"string\"}, \"hair_color\": {\"title\": \"Hair Color\", \"description\": \"The color of the person's hair if known\", \"type\": \"string\"}, \"height_in_meters\": {\"title\": \"Height In Meters\", \"description\": \"Height measured in meters\", \"type\": \"string\"}}, \"required\": [\"name\", \"hair_color\", \"height_in_meters\"]}\n",
      "```\n"
     ]
    }
   ],
   "source": [
    "# 2. c. define the output parser\n",
    "from langchain.output_parsers import PydanticOutputParser\n",
    "\n",
    "output_parser = PydanticOutputParser(pydantic_object=Person)\n",
    "print(output_parser.get_format_instructions())\n",
    "\n",
    "prompt = prompt.partial(format_instructions=output_parser.get_format_instructions())\n",
    "# prompt.pretty_print()"
   ]
  },
  {
   "cell_type": "code",
   "execution_count": 39,
   "metadata": {},
   "outputs": [],
   "source": [
    "# 2. c. construct the extraction chain\n",
    "extract_chain = prompt | llm | output_parser"
   ]
  },
  {
   "cell_type": "code",
   "execution_count": 40,
   "metadata": {},
   "outputs": [
    {
     "data": {
      "text/plain": [
       "Person(name='Alan Smith', hair_color='blond', height_in_meters='1.83')"
      ]
     },
     "execution_count": 40,
     "metadata": {},
     "output_type": "execute_result"
    }
   ],
   "source": [
    "# 3. invoke\n",
    "text = \"Alan Smith is 6 feet tall and has blond hair.\"\n",
    "extract_chain.invoke({\"text\": text})"
   ]
  },
  {
   "cell_type": "code",
   "execution_count": 41,
   "metadata": {},
   "outputs": [
    {
     "data": {
      "text/plain": [
       "Person(name='Alan Smith', hair_color='blond', height_in_meters='1.83')"
      ]
     },
     "execution_count": 41,
     "metadata": {},
     "output_type": "execute_result"
    }
   ],
   "source": [
    "# notice the issue: chain should be able to extract 2 Person entities.\n",
    "text = \"Alan Smith is 6 feet tall and has blond hair. Aastha has beautiful black hair.\"\n",
    "extract_chain.invoke({\"text\": text})"
   ]
  },
  {
   "cell_type": "code",
   "execution_count": 46,
   "metadata": {},
   "outputs": [
    {
     "data": {
      "text/plain": [
       "Persons(people=[Person(name='Alan Smith', hair_color='blond', height_in_meters='1.83'), Person(name='Aastha', hair_color='black', height_in_meters=None)])"
      ]
     },
     "execution_count": 46,
     "metadata": {},
     "output_type": "execute_result"
    }
   ],
   "source": [
    "# we will redefine the schema to get list of Person entities\n",
    "from typing import List\n",
    "class Persons(BaseModel):\n",
    "    \"Extracted data about people\"\n",
    "    people: List[Person]\n",
    "\n",
    "output_parser = PydanticOutputParser(pydantic_object=Persons)\n",
    "prompt = prompt.partial(format_instructions=output_parser.get_format_instructions())\n",
    "extract_chain = prompt | llm | output_parser\n",
    "\n",
    "text = \"Alan Smith is 6 feet tall and has blond hair. Aastha has beautiful black hair.\"\n",
    "extract_chain.invoke({\"text\": text}) # Voila !"
   ]
  },
  {
   "cell_type": "code",
   "execution_count": 48,
   "metadata": {},
   "outputs": [
    {
     "data": {
      "text/plain": [
       "Persons(people=[Person(name='Aastha', hair_color='black', height_in_meters=None), Person(name='Alan Smith', hair_color='blond', height_in_meters=None)])"
      ]
     },
     "execution_count": 48,
     "metadata": {},
     "output_type": "execute_result"
    }
   ],
   "source": [
    "# notice the issue: quality of extractions for complicated inputs\n",
    "text = \"Aastha has beautiful black hair. Alan Smith and has blond hair and used to be 6 feet tall as teenager, but grew 4 more inches after graduating from Princeton.\"\n",
    "\n",
    "extract_chain.invoke({\"text\": text}) # Voila !"
   ]
  },
  {
   "cell_type": "markdown",
   "metadata": {},
   "source": [
    "### **Next steps**\n",
    "1. Add examples - observation: quality of extractions not reliable\n",
    "2. Handle long text\n",
    "3. Handle Files\n",
    "4. Use a better parsing approach - observation: frequest parsing errors\n",
    "5. Guidelines"
   ]
  },
  {
   "cell_type": "markdown",
   "metadata": {},
   "source": [
    "### add examples"
   ]
  },
  {
   "cell_type": "code",
   "execution_count": 83,
   "metadata": {},
   "outputs": [
    {
     "name": "stdout",
     "output_type": "stream",
     "text": [
      "[HumanMessage(content=\"The ocean is vast and blue. It's more than 20,000 feet deep. There are many fish in it.\", role='H'), AIMessage(content='{\"name\": null, \"hair_color\": null, \"height_in_meters\": null}', role='A'), HumanMessage(content='Fiona traveled far from France to Spain.', role='H'), AIMessage(content='{\"name\": \"Fiona\", \"hair_color\": null, \"height_in_meters\": null}', role='A'), HumanMessage(content='Alan Smith was 5 feet tall as teenager, but grew 1 more feet after graduating from Princeton.', role='H'), AIMessage(content='{\"name\": \"Alan Smith\", \"hair_color\": null, \"height_in_meters\": \"1.83\"}', role='A')]\n"
     ]
    }
   ],
   "source": [
    "# one way to improve quality of extraction by providing reference exampls to the llm\n",
    "# 1. a. start by editing the previous prompt\n",
    "# 1. b. create examples -> convert to list of Messages and feed it to prompt\n",
    "\n",
    "from langchain_core.prompts import MessagesPlaceholder\n",
    "from langchain.schema import AIMessage, HumanMessage\n",
    "\n",
    "prompt = ChatPromptTemplate.from_messages([\n",
    "    (\n",
    "        \"system\", \n",
    "        \"You are an expert at extracting relevant information from text. \"\n",
    "        \"If you do not know the value of an attribute asked to extract, \"\n",
    "        \"return null for the attribute's value.\"\n",
    "        \"\\n{format_instructions}\\n\"\n",
    "        \"Below are examples: \"\n",
    "    ),\n",
    "    MessagesPlaceholder(variable_name=\"examples\"),\n",
    "    (\n",
    "        \"human\",\n",
    "        \"{text}\",\n",
    "    )\n",
    "])\n",
    "\n",
    "examples = [\n",
    "    (\n",
    "        \"The ocean is vast and blue. It's more than 20,000 feet deep. There are many fish in it.\",\n",
    "        Person(name=None, height_in_meters=None, hair_color=None),\n",
    "    ),\n",
    "    (\n",
    "        \"Fiona traveled far from France to Spain.\",\n",
    "        Person(name=\"Fiona\", height_in_meters=None, hair_color=None),\n",
    "    ),\n",
    "    (\n",
    "        \"Alan Smith was 5 feet tall as teenager, but grew 1 more feet after graduating from Princeton.\",\n",
    "        Person(name=\"Alan Smith\", height_in_meters=\"1.83\", hair_color=None),\n",
    "    )\n",
    "]\n",
    "\n",
    "examples_messages = []\n",
    "for ex in examples:\n",
    "    examples_messages.append(HumanMessage(content=ex[0], role=\"H\"))\n",
    "    examples_messages.append(AIMessage(content=ex[1].json(), role=\"A\"))\n",
    "\n",
    "print(examples_messages)\n",
    "\n",
    "prompt = prompt.partial(examples=examples_messages)\n",
    "# prompt.pretty_print()"
   ]
  },
  {
   "cell_type": "code",
   "execution_count": 85,
   "metadata": {},
   "outputs": [],
   "source": [
    "# 2. redefine the extract_chain. rest all remains same\n",
    "from typing import List\n",
    "class Persons(BaseModel):\n",
    "    \"Extracted data about people\"\n",
    "    people: List[Person]\n",
    "\n",
    "output_parser = PydanticOutputParser(pydantic_object=Persons)\n",
    "prompt = prompt.partial(format_instructions=output_parser.get_format_instructions())\n",
    "extract_chain = prompt | llm | output_parser"
   ]
  },
  {
   "cell_type": "code",
   "execution_count": 86,
   "metadata": {},
   "outputs": [
    {
     "data": {
      "text/plain": [
       "Persons(people=[Person(name='Aastha', hair_color='black', height_in_meters=None), Person(name='Alan Smith', hair_color='blond', height_in_meters='1.93')])"
      ]
     },
     "execution_count": 86,
     "metadata": {},
     "output_type": "execute_result"
    }
   ],
   "source": [
    "# text = \"Alan Smith is 6 feet tall and has blond hair. Aastha has beautiful black hair.\"\n",
    "text = \"Aastha has beautiful black hair. Alan Smith and has blond hair and used to be 6 feet tall as teenager, but grew 4 more inches after graduating from Princeton.\"\n",
    "extract_chain.invoke({\"text\": text}) # Voila !"
   ]
  },
  {
   "cell_type": "markdown",
   "metadata": {},
   "source": [
    "### handle files"
   ]
  },
  {
   "cell_type": "code",
   "execution_count": 88,
   "metadata": {},
   "outputs": [],
   "source": [
    "# extract from file types - html, pdf, plain text etc\n",
    "# parse content based on file type that user uploads - MimeTypeBasedParser"
   ]
  },
  {
   "cell_type": "code",
   "execution_count": 1,
   "metadata": {},
   "outputs": [
    {
     "name": "stdout",
     "output_type": "stream",
     "text": [
      "\u001b[33mWARNING: Ignoring invalid distribution -ackaging (/opt/conda/envs/pytorch/lib/python3.10/site-packages)\u001b[0m\u001b[33m\n",
      "\u001b[0m\u001b[33mWARNING: Ignoring invalid distribution -ackaging (/opt/conda/envs/pytorch/lib/python3.10/site-packages)\u001b[0m\u001b[33m\n",
      "\u001b[0m\u001b[33mWARNING: Ignoring invalid distribution -ackaging (/opt/conda/envs/pytorch/lib/python3.10/site-packages)\u001b[0m\u001b[33m\n",
      "\u001b[0m\u001b[33mWARNING: Ignoring invalid distribution -ackaging (/opt/conda/envs/pytorch/lib/python3.10/site-packages)\u001b[0m\u001b[33m\n",
      "\u001b[0m"
     ]
    }
   ],
   "source": [
    "! pip install python-magic beautifulsoup4 lxml --quiet\n",
    "! pip install -qU  \"amazon-textract-caller>=0.2.0\"\n",
    "! pip install -qU amazon-textract-textractor"
   ]
  },
  {
   "cell_type": "code",
   "execution_count": 41,
   "metadata": {},
   "outputs": [
    {
     "data": {
      "text/plain": [
       "b'<!DOCTYPE html>\\n<htm'"
      ]
     },
     "execution_count": 41,
     "metadata": {},
     "output_type": "execute_result"
    }
   ],
   "source": [
    "# data - html content\n",
    "import requests\n",
    "\n",
    "response = requests.get(\"https://en.wikipedia.org/wiki/Car\")\n",
    "html_data = response.content\n",
    "html_data[:20]\n"
   ]
  },
  {
   "cell_type": "code",
   "execution_count": 38,
   "metadata": {},
   "outputs": [
    {
     "data": {
      "text/plain": [
       "[Document(page_content='LayoutParser: A Unified Toolkit for Deep\\n\\n\\nLearning Based Document Image Analysis\\n\\n\\nZejiang Shen¹ (X), Ruochen Zhang2, Melissa Dell³ Benjamin Charles Germain\\n\\n\\nLee4, Jacob Carlson3 and Weining Li5\\n\\n\\n1\\n\\n\\nAllen Institute for AI\\n\\n\\nshannons@allenai.org\\n\\n\\n2\\n\\n\\nBrown University\\n\\n\\nruochen_zhang@brown.edu\\n\\n\\n3\\n\\n\\nHarvard University\\n\\n\\n{melissadell,jacobcarlson}@fas.harvard.edu\\n\\n\\n4\\n\\n\\nUniversity of Washington\\n\\n\\nbcgl@cs.washington.edu\\n\\n\\n5\\n\\n\\nUniversity of Waterloo\\n\\n\\nw422li@uwaterloo.ca\\n\\n\\nAbstract. Recent advances in document image analysis (DIA) have been\\n\\n\\nprimarily driven by the application of neural networks. Ideally, research\\n\\n\\noutcomes could be easily deployed in production and extended for further\\n\\n\\ninvestigation. However, various factors like loosely organized codebases\\n\\n\\nand sophisticated model configurations complicate the easy reuse of im-\\n\\n\\nportant innovations by a wide audience. Though there have been on-going\\n\\n\\nefforts to improve reusability and simplify deep learning (DL) model\\n\\n\\ndevelopment in disciplines like natural language processing and computer\\n\\n\\nvision, none of them are optimized for challenges in the domain of DIA.\\n\\n\\nThis represents a major gap in the existing toolkit, as DIA is central to\\n\\n\\nacademic research across a wide range of disciplines in the social sciences\\n\\n\\nand humanities. This paper introduces LayoutParser, an open-source\\n\\n\\nlibrary for streamlining the usage of DL in DIA research and applica-\\n\\n\\ntions. The core LayoutParser library comes with a set of simple and\\n\\n\\nintuitive interfaces for applying and customizing DL models for layout de-\\n\\n\\ntection, character recognition, and many other document processing tasks.\\n\\n\\nTo promote extensibility, LayoutParser also incorporates a community\\n\\n\\nplatform for sharing both pre-trained models and full document digiti-\\n\\n\\nzation pipelines. We demonstrate that LayoutParser is helpful for both\\n\\n\\nlightweight and large-scale digitization pipelines in real-word use cases.\\n\\n\\nThe library is publicly available at https://layout-parser.github.io\\n\\n\\nKeywords: Document Image Analysis . Deep Learning . Layout Analysis\\n\\n\\nCharacter Recognition . Open Source library . Toolkit.\\n\\n\\n1\\n\\n\\nIntroduction\\n\\n\\nDeep Learning(DL)-based approaches are the state-of-the-art for a wide range of\\n\\n\\ndocument image analysis (DIA) tasks including document image classification [11,\\n', metadata={'source': 's3://amazon-textract-public-content/langchain/layout-parser-paper.pdf', 'page': 1}),\n",
       " Document(page_content='2\\n\\n\\nZ. Shen et al.\\n\\n\\n37], layout detection [38, 22], table detection [26], and scene text detection [4].\\n\\n\\nA generalized learning-based framework dramatically reduces the need for the\\n\\n\\nmanual specification of complicated rules, which is the status quo with traditional\\n\\n\\nmethods. DL has the potential to transform DIA pipelines and benefit a broad\\n\\n\\nspectrum of large-scale document digitization projects.\\n\\n\\nHowever, there are several practical difficulties for taking advantages of re-\\n\\n\\ncent advances in DL-based methods: 1) DL models are notoriously convoluted\\n\\n\\nfor reuse and extension. Existing models are developed using distinct frame-\\n\\n\\nworks like TensorFlov [1] or PyTorch [24], and the high-level parameters can\\n\\n\\nbe obfuscated by implementation details [8]. It can be a time-consuming and\\n\\n\\nfrustrating experience to debug, reproduce, and adapt existing models for DIA,\\n\\n\\nand many researchers who would benefit the most from using these methods lack\\n\\n\\nthe technical background to implement them from scratch. 2) Document images\\n\\n\\ncontain diverse and disparate patterns across domains, and customized training\\n\\n\\nis often required to achieve a desirable detection accuracy. Currently there is no\\n\\n\\nfull-fledged infrastructure for easily curating the target document image datasets\\n\\n\\nand fine-tuning or re-training the models. 3) DIA usually requires a sequence of\\n\\n\\nmodels and other processing to obtain the final outputs. Often research teams use\\n\\n\\nDL models and then perform further document analyses in separate processes,\\n\\n\\nand these pipelines are not documented in any central location (and often not\\n\\n\\ndocumented at all). This makes it difficult for research teams to learn about how\\n\\n\\nfull pipelines are implemented and leads them to invest significant resources in\\n\\n\\nreinventing the DIA wheel.\\n\\n\\nLayoutParser provides a unified toolkit to support DL-based document image\\n\\n\\nanalysis and processing. To address the aforementioned challenges, LayoutParser\\n\\n\\nis built with the following components:\\n\\n\\n1. An off-the-shelf toolkit for applying DL models for layout detection, character\\n\\n\\nrecognition, and other DIA tasks (Section 3)\\n\\n\\n2. A rich repository of pre-trained neural network models (Model Zoo) that\\n\\n\\nunderlies the off-the-shelf usage\\n\\n\\n3. Comprehensive tools for efficient document image data annotation and model\\n\\n\\ntuning to support different levels of customization\\n\\n\\n4.\\n\\n\\nA DL model hub and community platform for the easy sharing, distribu-\\n\\n\\ntion, and discussion of DIA models and pipelines, to promote reusability,\\n\\n\\nreproducibility, and extensibility (Section 4)\\n\\n\\nThe library implements simple and intuitive Python APIs without sacrificing\\n\\n\\ngeneralizability and versatility, and can be easily installed via pip. Its convenient\\n\\n\\nfunctions for handling document image data can be seamlessly integrated with\\n\\n\\nexisting DIA pipelines. With detailed documentations and carefully curated\\n\\n\\ntutorials, we hope this tool will benefit a variety of end-users, and will lead to\\n\\n\\nadvances in applications in both industry and academic research.\\n\\n\\nLayoutParser is well aligned with recent efforts for improving DL model\\n\\n\\nreusability in other disciplines like natural language processing [8, 34] and com-\\n\\n\\nputer vision [35], but with a focus on unique challenges in DIA. We show\\n\\n\\nLayoutParser can be applied in sophisticated and large-scale digitization projects\\n', metadata={'source': 's3://amazon-textract-public-content/langchain/layout-parser-paper.pdf', 'page': 2}),\n",
       " Document(page_content=\"LayoutParser: A Unified Toolkit for DL-Based DIA\\n\\n\\n3\\n\\n\\nthat require precision, efficiency, and robustness, as well as simple and light-\\n\\n\\nweight document processing tasks focusing on efficacy and flexibility (Section\\n\\n\\n5).\\n\\n\\nLayoutParser is being actively maintained, and support for more deep learning\\n\\n\\nmodels and novel methods in text-based layout analysis methods [37, 34] is\\n\\n\\nplanned.\\n\\n\\nThe rest of the paper is organized as follows. Section 2 provides an overview\\n\\n\\nof related work. The core LayoutParser library, DL Model Zoo, and customized\\n\\n\\nmodel training are described in Section 3, and the DL model hub and commu-\\n\\n\\nnity platform are detailed in Section 4. Section 5 shows two examples of how\\n\\n\\nLayoutParser can be used in practical DIA projects, and Section 6 concludes.\\n\\n\\n2\\n\\n\\nRelated Work\\n\\n\\nRecently, various DL models and datasets have been developed for layout analysis\\n\\n\\ntasks. The dhSegment [22] utilizes fully convolutional networks [20] for segmen-\\n\\n\\ntation tasks on historical documents. Object detection-based methods like Faster\\n\\n\\nR-CNN [28] and Mask R-CNN [12] are used for identifying document elements [38]\\n\\n\\nand detecting tables [30, 26]. Most recently, Graph Neural Networks [29] have also\\n\\n\\nbeen used in table detection [27]. However, these models are usually implemented\\n\\n\\nindividually and there is no unified framework to load and use such models.\\n\\n\\nThere has been a surge of interest in creating open-source tools for document\\n\\n\\nimage processing: a search of document image analysis in Github leads to 5M\\n\\n\\nrelevant code pieces 6. yet most of them rely on traditional rule-based methods\\n\\n\\nor provide limited functionalities. The closest prior research to our work is the\\n\\n\\nOCR-D project7, which also tries to build a complete toolkit for DIA. However,\\n\\n\\nsimilar to the platform developed by Neudecker et al. [21], it is designed for\\n\\n\\nanalyzing historical documents, and provides no supports for recent DL models.\\n\\n\\nThe DocumentLayoutAnalysis project focuses on processing born-digital PDF\\n\\n\\ndocuments via analyzing the stored PDF data. Repositories like DeepLayout9\\n\\n\\nand\\n\\n\\nDetectron2-PubLayNet1 10 are individual deep learning models trained on\\n\\n\\nlayout analysis datasets without support for the full DIA pipeline. The Document\\n\\n\\nAnalysis and Exploitation (DAE) platform [15] and the DeepDIVA project [2]\\n\\n\\naim to improve the reproducibility of DIA methods (or DL models), yet they\\n\\n\\nare not actively maintained. OCR engines like Tesseract [14], easyOCR and\\n\\n\\npaddleOCR 12 usually do not come with comprehensive functionalities for other\\n\\n\\nDIA tasks like layout analysis.\\n\\n\\nRecent years have also seen numerous efforts to create libraries for promoting\\n\\n\\nreproducibility and reusability in the field of DL. Libraries like Dectectron2 [35],\\n\\n\\n6 The number shown is obtained by specifying the search type as 'code'.\\n\\n\\n7 https://ocr-d.de/en/about\\n\\n\\n8 https://github.com/BobLd/DocumentLayoutAnalysis\\n\\n\\n9 https://github.com/leonlulu/DeepLayout\\n\\n\\n10 https://github.com/hpanwar08/detectron2\\n\\n\\n11 https://github.com/JaidedAI/EasyOCR\\n\\n\\n12 https://github.com/PaddlePaddle/PaddleOCR\\n\", metadata={'source': 's3://amazon-textract-public-content/langchain/layout-parser-paper.pdf', 'page': 3}),\n",
       " Document(page_content='4\\n\\n\\nZ. Shen et al.\\n\\n\\nModel Customization\\n\\n\\nDocument Images\\n\\n\\nCommunity Platform\\n\\n\\nEfficient Data Annotation\\n\\n\\nDIA Model Hub\\n\\n\\nCustomized Model Training\\n\\n\\nLayout Detection Models\\n\\n\\nDIA Pipeline Sharing\\n\\n\\nOCR Module\\n\\n\\nLayout Data Structure\\n\\n\\nStorage & Visualization\\n\\n\\nThe Core LayoutParser Library\\n\\n\\nFig. 1: The overall architecture of LayoutParser For an input document image,\\n\\n\\nthe core LayoutParser library provides a set of off-the-shelf tools for layout\\n\\n\\ndetection, OCR, visualization, and storage, backed by a carefully designed layout\\n\\n\\ndata structure. LayoutParser also supports high level customization via efficient\\n\\n\\nlayout annotation and model training functions. These improve model accuracy\\n\\n\\non the target samples. The community platform enables the easy sharing of DIA\\n\\n\\nmodels and whole digitization pipelines to promote reusability and reproducibility.\\n\\n\\nA collection of detailed documentation, tutorials and exemplar projects make\\n\\n\\nLayoutParser easy to learn and use.\\n\\n\\nAllenNLP [8] and transformers [34] have provided the community with complete\\n\\n\\nDL-based support for developing and deploying models for general computer\\n\\n\\nvision and natural language processing problems. LayoutParser, on the other\\n\\n\\nhand, specializes specifically in DIA tasks. LayoutParser is also equipped with a\\n\\n\\ncommunity platform inspired by established model hubs such as Torch Hub [23]\\n\\n\\nand TensorFlow Hub [1]. It enables the sharing of pretrained models as well as\\n\\n\\nfull document processing pipelines that are unique to DIA tasks.\\n\\n\\nThere have been a variety of document data collections to facilitate the\\n\\n\\ndevelopment of DL models. Some examples include PRImA [3] (magazine layouts),\\n\\n\\nPubLayNet [38] (academic paper layouts), Table Bank [18] (tables in academic\\n\\n\\npapers), Newspaper Navigator Dataset [16, 17] (newspaper figure layouts) and\\n\\n\\nHJDataset [31] (historical Japanese document layouts). A spectrum of models\\n\\n\\ntrained on these datasets are currently available in the LayoutParser model zoo\\n\\n\\nto support different use cases.\\n\\n\\n3\\n\\n\\nThe Core LayoutParser Library\\n\\n\\nAt the core of LayoutParser is an off-the-shelf toolkit that streamlines DL-\\n\\n\\nbased document image analysis. Five components support a simple interface\\n\\n\\nwith comprehensive functionalities: 1) The layout detection models enable using\\n\\n\\npre-trained or self-trained DL models for layout detection with just four lines\\n\\n\\nof code. 2) The detected layout information is stored in carefully engineered\\n', metadata={'source': 's3://amazon-textract-public-content/langchain/layout-parser-paper.pdf', 'page': 4}),\n",
       " Document(page_content='LayoutParser: A Unified Toolkit for DL-Based DIA\\n\\n\\n5\\n\\n\\nTable 1: Current layout detection models in the LayoutParser model ZOO\\n\\n\\nDataset\\n\\n\\nBase Model1\\n\\n\\nLarge Model\\n\\n\\nNotes\\n\\n\\nPubLayNet [38]\\n\\n\\nF M\\n\\n\\nM\\n\\n\\nLayouts of modern scientific documents\\n\\n\\nPRImA [3]\\n\\n\\nM\\n\\n\\n-\\n\\n\\nLayouts of scanned modern magazines and scientific reports\\n\\n\\nNewspaper [17]\\n\\n\\nF\\n\\n\\n-\\n\\n\\nLayouts of scanned US newspapers from the 20th century\\n\\n\\nTableBank [18]\\n\\n\\nF\\n\\n\\nF\\n\\n\\nTable region on modern scientific and business document\\n\\n\\nHJDataset [31]\\n\\n\\nF M\\n\\n\\n-\\n\\n\\nLayouts of history Japanese documents\\n\\n\\n1\\n\\n\\nFor each dataset, we train several models of different sizes for different needs (the trade-off between accuracy\\n\\n\\nVS. computational cost). For \"base model\" and \"large model\", we refer to using the ResNet 50 or ResNet 101\\n\\n\\nbackbones [13], respectively. One can train models of different architectures, like Faster R-CNN [28] (F) and Mask\\n\\n\\nR-CNN [12] (M). For example, an F in the Large Model column indicates it has a Faster R-CNN model trained\\n\\n\\nusing the ResNet 101 backbone. The platform is maintained and a number of additions will be made to the model\\n\\n\\nZOO in coming months.\\n\\n\\nlayout data structures, which are optimized for efficiency and versatility. 3) When\\n\\n\\nnecessary, users can employ existing or customized OCR models via the unified\\n\\n\\nAPI provided in the OCR module. 4) LayoutParser comes with a set of utility\\n\\n\\nfunctions for the visualization and storage of the layout data. 5) LayoutParser\\n\\n\\nis also highly customizable, via its integration with functions for layout data\\n\\n\\nannotation and model training. We now provide detailed descriptions for each\\n\\n\\ncomponent.\\n\\n\\n3.1 Layout Detection Models\\n\\n\\nIn LayoutParser, a layout model takes a document image as an input and\\n\\n\\ngenerates a list of rectangular boxes for the target content regions. Different\\n\\n\\nfrom traditional methods, it relies on deep convolutional neural networks rather\\n\\n\\nthan manually curated rules to identify content regions. It is formulated as an\\n\\n\\nobject detection problem and state-of-the-art models like Faster R-CNN [28] and\\n\\n\\nMask R-CNN [12] are used. This yields prediction results of high accuracy and\\n\\n\\nmakes it possible to build a concise, generalized interface for layout detection.\\n\\n\\nLayoutParser, built upon Detectron2 [35], provides a minimal API that can\\n\\n\\nperform layout detection with only four lines of code in Python:\\n\\n\\n1\\n\\n\\nimport layoutparser as lp\\n\\n\\n2 image = cv2. imread (\"image_file\") # load images\\n\\n\\n3\\n\\n\\nmodel = lp. :Detectron2LayoutModel (\\n\\n\\n4\\n\\n\\n\"lp://PubLayNet/faster_rcnn_R_50_FPN_3x/config\")\\n\\n\\n5\\n\\n\\nlayout = model. detect (image)\\n\\n\\nLayoutParser provides a wealth of pre-trained model weights using various\\n\\n\\ndatasets covering different languages, time periods, and document types. Due to\\n\\n\\ndomain shift [7], the prediction performance can notably drop when models are ap-\\n\\n\\nplied to target samples that are significantly different from the training dataset. As\\n\\n\\ndocument structures and layouts vary greatly in different domains, it is important\\n\\n\\nto select models trained on a dataset similar to the test samples. A semantic syntax\\n\\n\\nis used for initializing the model weights in LayoutParser, using both the dataset\\n\\n\\nname and model name 1p://<dataset-name>/<model-architecture-name>.\\n', metadata={'source': 's3://amazon-textract-public-content/langchain/layout-parser-paper.pdf', 'page': 5}),\n",
       " Document(page_content='6\\n\\n\\nZ. Shen et al.\\n\\n\\n(x1, y1)\\n\\n\\nx-interval\\n\\n\\nRectangle\\n\\n\\nQuadrilateral\\n\\n\\n(x2,y2)\\n\\n\\nCoordinate\\n\\n\\n+\\n\\n\\nExtra features\\n\\n\\nBlock\\n\\n\\nBlock\\n\\n\\nReading\\n\\n\\nText\\n\\n\\nType\\n\\n\\nOrder\\n\\n\\n[ coordinatel\\n\\n\\ntextblock1\\n\\n\\n,\\n\\n\\ntextblock2\\n\\n\\nlayout1 ]\\n\\n\\n,\\n\\n\\n,\\n\\n\\nA list of the layout elements\\n\\n\\nFig. 2: The relationship between the three types of layout data structures.\\n\\n\\nCoordinate supports three kinds of variation; TextBlock consists of the co-\\n\\n\\nordinate information and extra features like block text, types, and reading orders;\\n\\n\\na Layout object is a list of all possible layout elements, including other Layout\\n\\n\\nobjects. They all support the same set of transformation and operation APIs for\\n\\n\\nmaximum flexibility.\\n\\n\\nShown in Table 1, LayoutParser currently hosts 9 pre-trained models trained\\n\\n\\non 5 different datasets. Description of the training dataset is provided alongside\\n\\n\\nwith the trained models such that users can quickly identify the most suitable\\n\\n\\nmodels for their tasks. Additionally, when such a model is not readily available,\\n\\n\\nLayoutParser also supports training customized layout models and community\\n\\n\\nsharing of the models (detailed in Section 3.5).\\n\\n\\n3.2 Layout Data Structures\\n\\n\\nA critical feature of LayoutParser is the implementation of a series of data\\n\\n\\nstructures and operations that can be used to efficiently process and manipulate\\n\\n\\nthe layout elements. In document image analysis pipelines, various post-processing\\n\\n\\non the layout analysis model outputs is usually required to obtain the final\\n\\n\\noutputs. Traditionally, this requires exporting DL model outputs and then loading\\n\\n\\nthe results into other pipelines. All model outputs from LayoutParser will be\\n\\n\\nstored in carefully engineered data types optimized for further processing, which\\n\\n\\nmakes it possible to build an end-to-end document digitization pipeline within\\n\\n\\nLayoutParser. There are three key components in the data structure, namely\\n\\n\\nthe Coordinate system, the TextBlock, and the Layout. They provide different\\n\\n\\nlevels of abstraction for the layout data, and a set of APIs are supported for\\n\\n\\ntransformations or operations on these classes.\\n', metadata={'source': 's3://amazon-textract-public-content/langchain/layout-parser-paper.pdf', 'page': 6}),\n",
       " Document(page_content='LayoutParser: A Unified Toolkit for DL-Based DIA\\n\\n\\n7\\n\\n\\nCoordinates are the cornerstones for storing layout information. Currently,\\n\\n\\nthree types of Coordinate data structures are provided in LayoutParser, shown\\n\\n\\nin Figure 2. Interval and Rectangle are the most common data types and\\n\\n\\nsupport specifying 1D or 2D regions within a document. They are parameterized\\n\\n\\nwith 2 and 4 parameters. A Quadrilateral class is also implemented to support\\n\\n\\na more generalized representation of rectangular regions when the document\\n\\n\\nis skewed or distorted, where the 4 corner points can be specified and a total\\n\\n\\nof 8 degrees of freedom are supported. A wide collection of transformations\\n\\n\\nlike shift, pad, and scale, and operations like intersect, union, and is_in,\\n\\n\\nare supported for these classes. Notably, it is common to separate a segment\\n\\n\\nof the image and analyze it individually. LayoutParser provides full support\\n\\n\\nfor this scenario via image cropping operations crop_image and coordinate\\n\\n\\ntransformations like relative_to and condition_on that transform coordinates\\n\\n\\nto and from their relative representations. We refer readers to Table 2 for a more\\n\\n\\ndetailed description of these operations\\n\\n\\nBased on Coordinates, we implement the TextBlock class that stores both\\n\\n\\nthe positional and extra features of individual layout elements. It also supports\\n\\n\\nspecifying the reading orders via setting the parent field to the index of the parent\\n\\n\\nobject. A Layout class is built that takes in a list of TextBlocks and supports\\n\\n\\nprocessing the elements in batch. Layout can also be nested to support hierarchical\\n\\n\\nlayout structures. They support the same operations and transformations as the\\n\\n\\nCoordinate classes, minimizing both learning and deployment effort.\\n\\n\\n3.3 OCR\\n\\n\\nLayoutParser provides a unified interface for existing OCR tools. Though there\\n\\n\\nare many OCR tools available, they are usually configured differently with distinct\\n\\n\\nAPIs or protocols for using them. It can be inefficient to add new OCR tools into\\n\\n\\nan existing pipeline, and difficult to make direct comparisons among the available\\n\\n\\ntools to find the best option for a particular project. To this end, LayoutParser\\n\\n\\nbuilds a series of wrappers among existing OCR engines, and provides nearly\\n\\n\\nthe same syntax for using them. It supports a plug-and-play style of using OCR\\n\\n\\nengines, making it effortless to switch, evaluate, and compare different OCR\\n\\n\\nmodules:\\n\\n\\nocr_agent = lp TesseractAgent ()\\n\\n\\n2\\n\\n\\n# Can be easily switched to other OCR software\\n\\n\\n3\\n\\n\\ntokens = ocr_agent detect (image)\\n\\n\\nThe OCR outputs will also be stored in the aforementioned layout data\\n\\n\\nstructures and can be seamlessly incorporated into the digitization pipeline.\\n\\n\\nCurrently LayoutParser supports the Tesseract and Google Cloud Vision OCR\\n\\n\\nengines.\\n\\n\\nLayoutParser also comes with a DL-based CNN-RNN OCR model [6] trained\\n\\n\\nwith the Connectionist Temporal Classification (CTC) loss [10]. It can be used\\n\\n\\nlike the other OCR modules, and can be easily trained on customized datasets.\\n\\n\\n13\\n\\n\\nThis is also available in the LayoutParser documentation pages.\\n', metadata={'source': 's3://amazon-textract-public-content/langchain/layout-parser-paper.pdf', 'page': 7}),\n",
       " Document(page_content=\"8\\n\\n\\nZ. Shen et al.\\n\\n\\nTable 2: All operations supported by the layout elements. The same APIs are\\n\\n\\nsupported across different layout element classes including Coordinate types,\\n\\n\\nTextBlock and Layout.\\n\\n\\nOperation Name\\n\\n\\nDescription\\n\\n\\nblock.pad(top, bottom, right, left)\\n\\n\\nEnlarge the current block according to the input\\n\\n\\nScale the current block given the ratio\\n\\n\\nblock.scale (fx, fy)\\n\\n\\nin X and y direction\\n\\n\\nMove the current block with the shift\\n\\n\\nblock.shift(dx, dy)\\n\\n\\ndistances in X and y direction\\n\\n\\nblock1.is_in(block2)\\n\\n\\nWhether block1 is inside of block2\\n\\n\\nReturn the intersection region of block1 and block2.\\n\\n\\nblock1. intersect (block2)\\n\\n\\nCoordinate type to be determined based on the inputs.\\n\\n\\nReturn the union region of block1 and block2.\\n\\n\\nblock1.union(block2)\\n\\n\\nCoordinate type to be determined based on the inputs.\\n\\n\\nConvert the absolute coordinates of block1 to\\n\\n\\nblock1.relative_to(block2)\\n\\n\\nrelative coordinates to block2\\n\\n\\nCalculate the absolute coordinates of block1 given\\n\\n\\nblock1. condition.on (block2)\\n\\n\\nthe canvas block2's absolute coordinates\\n\\n\\nblock. .crop_image (image)\\n\\n\\nObtain the image segments in the block region\\n\\n\\n3.4 Storage and visualization\\n\\n\\nThe end goal of DIA is to transform the image-based document data into a\\n\\n\\nstructured database. LayoutParser supports exporting layout data into different\\n\\n\\nformats like JSON, CSV, and will add the support for the METS/ALTO XML\\n\\n\\nformat 14 . It can also load datasets from layout analysis-specific formats like\\n\\n\\nCOCO [38] and the Page Format [25] for training layout models (Section 3.5).\\n\\n\\nVisualization of the layout detection results is critical for both presentation\\n\\n\\nand debugging. LayoutParser is built with an integrated API for displaying the\\n\\n\\nlayout information along with the original document image. Shown in Figure 3, it\\n\\n\\nenables presenting layout data with rich meta information and features in different\\n\\n\\nmodes. More detailed information can be found in the online LayoutParser\\n\\n\\ndocumentation page.\\n\\n\\n3.5\\n\\n\\nCustomized Model Training\\n\\n\\nBesides the off-the-shelf library, LayoutParser is also highly customizable with\\n\\n\\nsupports for highly unique and challenging document analysis tasks. Target\\n\\n\\ndocument images can be vastly different from the existing datasets for train-\\n\\n\\ning layout models, which leads to low layout detection accuracy. Training data\\n\\n\\n14 https://altoxml.github.io\\n\", metadata={'source': 's3://amazon-textract-public-content/langchain/layout-parser-paper.pdf', 'page': 8}),\n",
       " Document(page_content=\"LayoutParser: A Unified Toolkit for DL-Based DIA\\n\\n\\n9\\n\\n\\nAnonymous\\n\\n\\nText\\n\\n\\nText\\n\\n\\nutParser highly with functions\\n\\n\\nWe detailed descriptions for\\n\\n\\nTitle yout Detection Models\\n\\n\\nText\\n\\n\\nMode I: Showing Layout on the Original Image\\n\\n\\nMode II: Drawing OCR'd Text at the Correspoding Position\\n\\n\\nFig. 3: Layout detection and OCR results visualization generated by the\\n\\n\\nLayoutParser APIs. Mode I directly overlays the layout region bounding boxes\\n\\n\\nand categories over the original image. Mode II recreates the original document\\n\\n\\nvia drawing the OCR'd texts at their corresponding positions on the image\\n\\n\\ncanvas. In this figure, tokens in textual regions are filtered using the API and\\n\\n\\nthen displayed.\\n\\n\\ncan also be highly sensitive and not sharable publicly. To overcome these chal-\\n\\n\\nlenges, LayoutParser is built with rich features for efficient data annotation and\\n\\n\\ncustomized model training.\\n\\n\\nLayoutParser incorporates a toolkit optimized for annotating document lay-\\n\\n\\nouts using object-level active learning [32]. With the help from a layout detection\\n\\n\\nmodel trained along with labeling, only the most important layout objects within\\n\\n\\neach image, rather than the whole image, are required for labeling. The rest of\\n\\n\\nthe regions are automatically annotated with high confidence predictions from\\n\\n\\nthe layout detection model. This allows a layout dataset to be created more\\n\\n\\nefficiently with only around 60% of the labeling budget.\\n\\n\\nAfter the training dataset is curated, LayoutParser supports different modes\\n\\n\\nfor training the layout models. Fine-tuning can be used for training models on a\\n\\n\\nsmall newly-labeled dataset by initializing the model with existing pre-trained\\n\\n\\nweights. Training from scratch can be helpful when the source dataset and\\n\\n\\ntarget are significantly different and a large training set is available. However, as\\n\\n\\nsuggested in Studer et al.'s work[33], loading pre-trained weights on large-scale\\n\\n\\ndatasets like ImageNet [5], even from totally different domains, can still boost\\n\\n\\nmodel performance. Through the integrated API provided by LayoutParser,\\n\\n\\nusers can easily compare model performances on the benchmark datasets.\\n\", metadata={'source': 's3://amazon-textract-public-content/langchain/layout-parser-paper.pdf', 'page': 9}),\n",
       " Document(page_content='10\\n\\n\\nZ. Shen et al.\\n\\n\\nIntra-column reading order\\n\\n\\nToken Categories\\n\\n\\nTitle\\n\\n\\nAddress\\n\\n\\nText\\n\\n\\nNumber\\n\\n\\nVariable\\n\\n\\nCompany Type\\n\\n\\n(a) Illustration of the original Japanese document with detected layout elements highlighted in colored boxes\\n\\n\\nColumn Categories\\n\\n\\nTitle\\n\\n\\nAddress\\n\\n\\nText\\n\\n\\nSection Header\\n\\n\\n(b) Illustration of the recreated document with dense text structure for better OCR performance\\n\\n\\nFig. 4: Illustration of (a) the original historical Japanese document with layout\\n\\n\\ndetection results and (b) a recreated version of the document image that achieves\\n\\n\\nmuch better character recognition recall. The reorganization algorithm rearranges\\n\\n\\nthe tokens based on the their detected bounding boxes given a maximum allowed\\n\\n\\nheight.\\n\\n\\n4\\n\\n\\nLayoutParser Community Platform\\n\\n\\nAnother focus of LayoutParser is promoting the reusability of layout detection\\n\\n\\nmodels and full digitization pipelines. Similar to many existing deep learning\\n\\n\\nlibraries, LayoutParser comes with a community model hub for distributing\\n\\n\\nlayout models. End-users can upload their self-trained models to the model hub,\\n\\n\\nand these models can be loaded into a similar interface as the currently available\\n\\n\\nLayoutParser pre-trained models. For example, the model trained on the News\\n\\n\\nNavigator dataset [17] has been incorporated in the model hub.\\n\\n\\nBeyond DL models, LayoutParser also promotes the sharing of entire doc-\\n\\n\\nument digitization pipelines. For example, sometimes the pipeline requires the\\n\\n\\ncombination of multiple DL models to achieve better accuracy. Currently, pipelines\\n\\n\\nare mainly described in academic papers and implementations are often not pub-\\n\\n\\nlicly available. To this end, the LayoutParser community platform also enables\\n\\n\\nthe sharing of layout pipelines to promote the discussion and reuse of techniques.\\n\\n\\nFor each shared pipeline, it has a dedicated project page, with links to the source\\n\\n\\ncode, documentation, and an outline of the approaches. A discussion panel\\n\\n\\nis\\n\\n\\nprovided for exchanging ideas. Combined with the core LayoutParser library,\\n\\n\\nusers can easily build reusable components based on the shared pipelines and\\n\\n\\napply them to solve their unique problems.\\n\\n\\n5\\n\\n\\nUse Cases\\n\\n\\nThe core objective of LayoutParser is to make it easier to create both large-scale\\n\\n\\nand light-weight document digitization pipelines. Large-scale document processing\\n', metadata={'source': 's3://amazon-textract-public-content/langchain/layout-parser-paper.pdf', 'page': 10}),\n",
       " Document(page_content='LayoutParser: A Unified Toolkit for DL-Based DIA\\n\\n\\n11\\n\\n\\nfocuses on precision, efficiency, and robustness. The target documents may have\\n\\n\\ncomplicated structures, and may require training multiple layout detection models\\n\\n\\nto achieve the optimal accuracy. Light-weight pipelines are built for relatively\\n\\n\\nsimple documents, with an emphasis on development lease, speed and flexibility.\\n\\n\\nIdeally one only needs to use existing resources, and model training should be\\n\\n\\navoided. Through two exemplar projects, we show how practitioners in both\\n\\n\\nacademia and industry can easily build such pipelines using LayoutParser and\\n\\n\\nextract high-quality structured document data for their downstream tasks. The\\n\\n\\nsource code for these projects will be publicly available in the LayoutParser\\n\\n\\ncommunity hub.\\n\\n\\n5.1 A Comprehensive Historical Document Digitization Pipeline\\n\\n\\nThe digitization of historical documents can unlock valuable data that can shed\\n\\n\\nlight on many important social, economic, and historical questions. Yet due to\\n\\n\\nscan noises, page wearing, and the prevalence of complicated layout structures, ob-\\n\\n\\ntaining a structured representation of historical document scans is often extremely\\n\\n\\ncomplicated.\\n\\n\\nIn this example, LayoutParser was\\n\\n\\nused to develop a comprehensive\\n\\n\\npipeline, shown in Figure 5, to gener-\\n\\n\\nate high-quality structured data from\\n\\n\\nActive Learning Layout\\n\\n\\nhistorical Japanese firm financial ta-\\n\\n\\nAnnotate Layout Dataset\\n\\n\\nAnnotation Toolkit\\n\\n\\nbles with complicated layouts. The\\n\\n\\npipeline applies two layout models to\\n\\n\\nDeep Learning Layout\\n\\n\\nLayout Detection\\n\\n\\nidentify different levels of document\\n\\n\\nModel Training & Inference\\n\\n\\nstructures and two customized OCR\\n\\n\\nengines for optimized character recog-\\n\\n\\nHandy Data Structures &\\n\\n\\nPost-processing\\n\\n\\nnition accuracy.\\n\\n\\nAPIs for Layout Data\\n\\n\\nAs shown in Figure 4 (a), the\\n\\n\\ndocument contains columns of text\\n\\n\\nDefault and Customized\\n\\n\\nText Recognition\\n\\n\\nOCR Models\\n\\n\\nwritten vertically 15 , a common style\\n\\n\\nin Japanese. Due to scanning noise\\n\\n\\nLayout Structure\\n\\n\\nand archaic printing technology, the\\n\\n\\nVisualization & Export\\n\\n\\nVisualization & Storage\\n\\n\\ncolumns can be skewed or have vari-\\n\\n\\nable widths, and hence cannot be eas-\\n\\n\\nThe Japanese Document\\n\\n\\nHelpful LayoutParser\\n\\n\\nDigitization Pipeline\\n\\n\\nModules\\n\\n\\nily identified via rule-based methods.\\n\\n\\nWithin each column, words are sepa-\\n\\n\\nrated by white spaces of variable size,\\n\\n\\nFig. 5: Illustration of how LayoutParser\\n\\n\\nand the vertical positions of objects\\n\\n\\nhelps with the historical document digi-\\n\\n\\ncan be an indicator of their layout\\n\\n\\ntization pipeline.\\n\\n\\ntype.\\n\\n\\n15\\n\\n\\nA document page consists of eight rows like this. For simplicity we skip the row\\n\\n\\nsegmentation discussion and refer readers to the source code when available.\\n', metadata={'source': 's3://amazon-textract-public-content/langchain/layout-parser-paper.pdf', 'page': 11}),\n",
       " Document(page_content='12\\n\\n\\nZ. Shen et al.\\n\\n\\nTo decipher the complicated layout\\n\\n\\nstructure, two object detection models have been trained to recognize individual\\n\\n\\ncolumns and tokens, respectively. A small training set (400 images with approxi-\\n\\n\\nmately 100 annotations each) is curated via the active learning based annotation\\n\\n\\ntool [32] in LayoutParser. The models learn to identify both the categories and\\n\\n\\nregions for each token or column via their distinct visual features. The layout\\n\\n\\ndata structure enables easy grouping of the tokens within each column, and\\n\\n\\nrearranging columns to achieve the correct reading orders based on the horizontal\\n\\n\\nposition. Errors are identified and rectified via checking the consistency of the\\n\\n\\nmodel predictions. Therefore, though trained on a small dataset, the pipeline\\n\\n\\nachieves a high level of layout detection accuracy: it achieves a 96.97 AP [19]\\n\\n\\nscore across 5 categories for the column detection model, and a 89.23 AP across\\n\\n\\n4 categories for the token detection model.\\n\\n\\nA combination of character recognition methods is developed to tackle the\\n\\n\\nunique challenges in this document. In our experiments, we found that irregular\\n\\n\\nspacing between the tokens led to a low character recognition recall rate, whereas\\n\\n\\nexisting OCR models tend to perform better on densely-arranged texts. To\\n\\n\\novercome this challenge, we create a document reorganization algorithm that\\n\\n\\nrearranges the text based on the token bounding boxes detected in the layout\\n\\n\\nanalysis step. Figure 4 (b) illustrates the generated image of dense text, which is\\n\\n\\nsent to the OCR APIs as a whole to reduce the transaction costs. The flexible\\n\\n\\ncoordinate system in LayoutParser is used to transform the OCR results relative\\n\\n\\nto their original positions on the page.\\n\\n\\nAdditionally, it is common for historical documents to use unique fonts\\n\\n\\nwith different glyphs, which significantly degrades the accuracy of OCR models\\n\\n\\ntrained on modern texts. In this document, a special flat font is used for printing\\n\\n\\nnumbers and could not be detected by off-the-shelf OCR engines. Using the highly\\n\\n\\nflexible functionalities from LayoutParser, a pipeline approach is constructed\\n\\n\\nthat achieves a high recognition accuracy with minimal effort. As the characters\\n\\n\\nhave unique visual structures and are usually clustered together, we train the\\n\\n\\nlayout model to identify number regions with a dedicated category. Subsequently,\\n\\n\\nLayoutParser crops images within these regions, and identifies characters within\\n\\n\\nthem using a self-trained OCR model based on a CNN-RNN [6]. The model\\n\\n\\ndetects a total of 15 possible categories, and achieves a 0.98 Jaccard score1 16 and\\n\\n\\na 0.17 average Levinstein distances17 for token prediction on the test set.\\n\\n\\nOverall, it is possible to create an intricate and highly accurate digitization\\n\\n\\npipeline for large-scale digitization using LayoutParser. The pipeline avoids\\n\\n\\nspecifying the complicated rules used in traditional methods, is straightforward\\n\\n\\nto develop, and is robust to outliers. The DL models also generate fine-grained\\n\\n\\nresults that enable creative approaches like page reorganization for OCR.\\n\\n\\n16 This measures the overlap between the detected and ground-truth characters, and\\n\\n\\nthe maximum is 1.\\n\\n\\n17\\n\\n\\nThis measures the number of edits from the ground-truth text to the predicted text,\\n\\n\\nand lower is better.\\n', metadata={'source': 's3://amazon-textract-public-content/langchain/layout-parser-paper.pdf', 'page': 12}),\n",
       " Document(page_content='LayoutParser A Unified Toolkit for DL-Based DIA\\n\\n\\n13\\n\\n\\n(a) Partial table at the\\n\\n\\n(b) Full page table\\n\\n\\n(c) Partial table at the top\\n\\n\\n(d) Mis-detected text line\\n\\n\\nFig. 6: This lightweight table detector can identify tables (outlined in red) and\\n\\n\\ncells (shaded in blue) in different locations on a page. In very few cases (d), it\\n\\n\\nmight generate minor error predictions, e.g, failing to capture the top text line of\\n\\n\\na table.\\n\\n\\n5.2 A light-weight Visual Table Extractor\\n\\n\\nDetecting tables and parsing their structures (table extraction) are of central im-\\n\\n\\nportance for many document digitization tasks. Many previous works [26, 30, 27]\\n\\n\\nand\\n\\n\\ntools 18 have been developed to identify and parse table structures. Yet they\\n\\n\\nmight require training complicated models from scratch, or are only applicable\\n\\n\\nfor born-digital PDF documents. In this section, we show how LayoutParser can\\n\\n\\nhelp build a light-weight accurate visual table extractor for legal docket tables\\n\\n\\nusing the existing resources with minimal effort.\\n\\n\\nThe extractor uses a pre-trained layout detection model for identifying the\\n\\n\\ntable regions and some simple rules for pairing the rows and the columns in the\\n\\n\\nPDF image. Mask R-CNN [12] trained on the PubLayNet dataset [38] from the\\n\\n\\nLayoutParser Model Zoo can be used for detecting table regions. By filtering\\n\\n\\nout model predictions of low confidence and removing overlapping predictions,\\n\\n\\nLayoutParser can identify the tabular regions on each page, which significantly\\n\\n\\nsimplifies the subsequent steps. By applying the line detection functions within\\n\\n\\nthe tabular segments, provided in the utility module from LayoutParser, the\\n\\n\\npipeline can identify the three distinct columns in the tables. A row clustering\\n\\n\\nmethod is then applied via analyzing the y coordinates of token bounding boxes in\\n\\n\\nthe left-most column, which are obtained from the OCR engines. A non-maximal\\n\\n\\nsuppression algorithm is used to remove duplicated rows with extremely small\\n\\n\\ngaps. Shown in Figure 6, the built pipeline can detect tables at different positions\\n\\n\\non a page accurately. Continued tables from different pages are concatenated,\\n\\n\\nand a structured table representation has been easily created.\\n\\n\\n18\\n\\n\\nhttps://github.com/atlanhq/camelot, https://github.com/tabulapdf/tabula\\n', metadata={'source': 's3://amazon-textract-public-content/langchain/layout-parser-paper.pdf', 'page': 13}),\n",
       " Document(page_content='14\\n\\n\\nZ. Shen et al.\\n\\n\\n6 Conclusion\\n\\n\\nLayoutParser provides a comprehensive toolkit for deep learning-based document\\n\\n\\nimage analysis. The off-the-shelf library is easy to install, and can be used to\\n\\n\\nbuild flexible and accurate pipelines for processing documents with complicated\\n\\n\\nstructures. It also supports high-level customization and enables easy labeling and\\n\\n\\ntraining of DL models on unique document image datasets. The LayoutParser\\n\\n\\ncommunity platform facilitates sharing DL models and DIA pipelines, inviting\\n\\n\\ndiscussion and promoting code reproducibility and reusability. The LayoutParser\\n\\n\\nteam is committed to keeping the library updated continuously and bringing\\n\\n\\nthe most recent advances in DL-based DIA, such as multi-modal document\\n\\n\\nmodeling [37, 36, 9] (an upcoming priority), to a diverse audience of end-users.\\n\\n\\nAcknowledgements We thank the anonymous reviewers for their comments\\n\\n\\nand suggestions. This project is supported in part by NSF Grant OIA-2033558\\n\\n\\nand funding from the Harvard Data Science Initiative and Harvard Catalyst.\\n\\n\\nZejiang Shen thanks Doug Downey for suggestions.\\n\\n\\nReferences\\n\\n\\n[1] Abadi, M., Agarwal, A., Barham, P., Brevdo, E., Chen, Z., Citro, C., Corrado,\\n\\n\\nG.S., Davis, A., Dean, J., Devin, M., Ghemawat, S., Goodfellow, I., Harp, A.,\\n\\n\\nIrving, G., Isard, M., Jia, Y., Jozefowicz, R., Kaiser, L., Kudlur, M., Levenberg,\\n\\n\\nJ., Mané, D., Monga, R., Moore, S., Murray, D., Olah, C., Schuster, M., Shlens, J.,\\n\\n\\nSteiner, B., Sutskever, I., Talwar, K., Tucker, P., Vanhoucke, V., Vasudevan, V.,\\n\\n\\nViégas, F., Vinyals, O., Warden, P., Wattenberg, M., Wicke, M., Yu, Y., Zheng,\\n\\n\\nX.: TensorFlow: Large-scale machine learning on heterogeneous systems (2015),\\n\\n\\nhttps://www.tensorflow.org/, software available from tensorflow.org\\n\\n\\n[2] Alberti, M., Pondenkandath, V., Würsch, M., Ingold, R., Liwicki, M.: Deepdiva: a\\n\\n\\nhighly-functional python framework for reproducible experiments. In: 2018 16th\\n\\n\\nInternational Conference on Frontiers in Handwriting Recognition (ICFHR). pp.\\n\\n\\n423-428. IEEE (2018)\\n\\n\\n[3]\\n\\n\\nAntonacopoulos, A., Bridson, D., Papadopoulos, C., Pletschacher, S.: A realistic\\n\\n\\ndataset for performance evaluation of document layout analysis. In: 2009 10th\\n\\n\\nInternational Conference on Document Analysis and Recognition. pp. 296-300.\\n\\n\\nIEEE (2009)\\n\\n\\n[4] Baek, Y., Lee, B., Han, D., Yun, S., Lee, H.: Character region awareness for text\\n\\n\\ndetection. In: Proceedings of the IEEE/CVF Conference on Computer Vision and\\n\\n\\nPattern Recognition. pp. 9365-9374 (2019)\\n\\n\\n[5] Deng, J., Dong, W., Socher, R., Li, L.J., Li, K., Fei-Fei, L.: ImageNet: A Large-Scale\\n\\n\\nHierarchical Image Database. In: CVPR09 (2009)\\n\\n\\n[6]\\n\\n\\nDeng, Y., Kanervisto, A., Ling, J., Rush, A.M.: Image-to-markup generation with\\n\\n\\ncoarse-to-fine attention. In: International Conference on Machine Learning. pp.\\n\\n\\n980-989. PMLR (2017)\\n\\n\\n[7] Ganin, Y., Lempitsky, V.: Unsupervised domain adaptation by backpropagation.\\n\\n\\nIn: International conference on machine learning. pp. 1180-1189. PMLR (2015)\\n', metadata={'source': 's3://amazon-textract-public-content/langchain/layout-parser-paper.pdf', 'page': 14}),\n",
       " Document(page_content=\"LayoutParser: A Unified Toolkit for DL-Based DIA\\n\\n\\n15\\n\\n\\n[8] Gardner, M., Grus, J., Neumann, M., Tafjord, O., Dasigi, P., Liu, N., Peters,\\n\\n\\nM., Schmitz, M., Zettlemoyer, L.: Allennlp: A deep semantic natural language\\n\\n\\nprocessing platform. arXiv preprint arXiv:1803.07640 (2018)\\n\\n\\n[9] Lukasz Garncarek, Powalski, R., Stanislawek, T., Topolski, B., Halama, P.,\\n\\n\\nGralinski, F.: Lambert: Layout-aware (language) modeling using bert for in-\\n\\n\\nformation extraction (2020)\\n\\n\\n[10] Graves, A., Fernández, S., Gomez, F., Schmidhuber, J.: Connectionist temporal\\n\\n\\nclassification: labelling unsegmented sequence data with recurrent neural networks.\\n\\n\\nIn: Proceedings of the 23rd international conference on Machine learning. pp.\\n\\n\\n369-376 (2006)\\n\\n\\n[11] Harley, A.W., Ufkes, A., Derpanis, K.G.: Evaluation of deep convolutional nets for\\n\\n\\ndocument image classification and retrieval. In: 2015 13th International Conference\\n\\n\\non Document Analysis and Recognition (ICDAR). pp. 991-995. IEEE (2015)\\n\\n\\n[12] He, K., Gkioxari, G., Dollár, P., Girshick, R.: Mask r-cnn. In: Proceedings of the\\n\\n\\nIEEE international conference on computer vision. pp. 2961-2969 (2017)\\n\\n\\n[13] He, K., Zhang, X., Ren, S., Sun, J.: Deep residual learning for image recognition.\\n\\n\\nIn: Proceedings of the IEEE conference on computer vision and pattern recognition.\\n\\n\\npp. 770-778 (2016)\\n\\n\\n[14] Kay, A.: Tesseract: An open-source optical character recognition engine. Linux J.\\n\\n\\n2007(159), 2 (Jul 2007)\\n\\n\\n[15] Lamiroy, B., Lopresti, D.: An open architecture for end-to-end document analysis\\n\\n\\nbenchmarking. In: 2011 International Conference on Document Analysis and\\n\\n\\nRecognition. pp. 42-47. IEEE (2011)\\n\\n\\n[16] Lee, B.C., Weld, D.S.: Newspaper navigator: Open faceted search for 1.5\\n\\n\\nmillion images. In: Adjunct Publication of the 33rd Annual ACM Sym-\\n\\n\\nposium on User Interface Software and Technology. p. 120-122. UIST\\n\\n\\n'20 Adjunct, Association for Computing Machinery, New York, NY, USA\\n\\n\\n(2020). https://doi.org/10.1145/3379350.3416143 https://doi-org.of campus.\\n\\n\\nlib. washington.edu/10.1145/3379350.3416143\\n\\n\\n[17] Lee, B.C.G., Mears, J., Jakeway, E., Ferriter, M., Adams, C., Yarasavage, N.,\\n\\n\\nThomas, D., Zwaard, K., Weld, D.S.: The Newspaper Navigator Dataset: Extracting\\n\\n\\nHeadlines and Visual Content from 16 Million Historic Newspaper Pages in\\n\\n\\nChronicling America, p. 3055-3062. Association for Computing Machinery, New\\n\\n\\nYork, NY, USA (2020), https://doi.org/10.1145/3340531.3412767\\n\\n\\n[18] Li, M., Cui, L., Huang, S., Wei, F., Zhou, M., Li, Z.: Tablebank: Table benchmark\\n\\n\\nfor image-based table detection and recognition. arXiv preprint arXiv:1903.01949\\n\\n\\n(2019)\\n\\n\\n[19] Lin, T.Y., Maire, M., Belongie, S., Hays, J., Perona, P., Ramanan, D., Dollár, P.,\\n\\n\\nZitnick, C.L.: Microsoft coco: Common objects in context. In: European conference\\n\\n\\non computer vision. pp. 740-755. Springer (2014)\\n\\n\\n[20] Long, J., Shelhamer, E., Darrell, T.: Fully convolutional networks for semantic\\n\\n\\nsegmentation. In: Proceedings of the IEEE conference on computer vision and\\n\\n\\npattern recognition. pp. 3431-3440 (2015)\\n\\n\\n[21] Neudecker, C., Schlarb, S., Dogan, Z.M., Missier, P., Sufi, S., Williams, A., Wolsten-\\n\\n\\ncroft, K.: An experimental workflow development platform for historical document\\n\\n\\ndigitisation and analysis. In: Proceedings of the 2011 workshop on historical\\n\\n\\ndocument imaging and processing. pp. 161-168 (2011)\\n\\n\\n[22] Oliveira, S.A., Seguin, B., Kaplan, F.: dhsegment: A generic deep-learning approach\\n\\n\\nfor document segmentation. In: 2018 16th International Conference on Frontiers\\n\\n\\nin Handwriting Recognition (ICFHR). pp. 7-12. IEEE (2018)\\n\", metadata={'source': 's3://amazon-textract-public-content/langchain/layout-parser-paper.pdf', 'page': 15}),\n",
       " Document(page_content=\"16\\n\\n\\nZ. Shen et al.\\n\\n\\n[23] Paszke, A., Gross, S., Chintala, S., Chanan, G., Yang, E., DeVito, Z., Lin, Z.,\\n\\n\\nDesmaison, A., Antiga, L., Lerer, A.: Automatic differentiation in pytorch (2017)\\n\\n\\n[24] Paszke, A., Gross, S., Massa, F., Lerer, A., Bradbury, J., Chanan, G., Killeen,\\n\\n\\nT., Lin, Z., Gimelshein, N., Antiga, L., et al.: Pytorch: An imperative style,\\n\\n\\nhigh-performance deep learning library. arXiv preprint arXiv:1912.01703 (2019)\\n\\n\\n[25] Pletschacher, S., Antonacopoulos, A.: The page (page analysis and ground-truth\\n\\n\\nelements) format framework. In: 2010 20th International Conference on Pattern\\n\\n\\nRecognition. pp. 257-260. IEEE (2010)\\n\\n\\n[26] Prasad, D., Gadpal, A., Kapadni, K., Visave, M., Sultanpure, K.: Cascadetabnet:\\n\\n\\nAn approach for end to end table detection and structure recognition from image-\\n\\n\\nbased documents. In: Proceedings of the IEEE/CVF Conference on Computer\\n\\n\\nVision and Pattern Recognition Workshops. pp. 572-573 (2020)\\n\\n\\n[27] Qasim, S.R., Mahmood, H., Shafait, F.: Rethinking table recognition using graph\\n\\n\\nneural networks. In: 2019 International Conference on Document Analysis and\\n\\n\\nRecognition (ICDAR). pp. 142-147. IEEE (2019)\\n\\n\\n[28] Ren, S., He, K., Girshick, R., Sun, J.: Faster r-cnn: Towards real-time object\\n\\n\\ndetection with region proposal networks. In: Advances in neural information\\n\\n\\nprocessing systems. pp. 91-99 (2015)\\n\\n\\n[29] Scarselli, F., Gori, M., Tsoi, A.C., Hagenbuchner, M., Monfardini, G.: The graph\\n\\n\\nneural network model. IEEE transactions on neural networks 20(1), 61-80 (2008)\\n\\n\\n[30] Schreiber, S., Agne, S., Wolf, I., Dengel, A., Ahmed, S.: Deepdesrt: Deep learning\\n\\n\\nfor detection and structure recognition of tables in document images. In: 2017 14th\\n\\n\\nIAPR international conference on document analysis and recognition (ICDAR).\\n\\n\\nvol. 1, pp. 1162-1167. IEEE (2017)\\n\\n\\n[31] Shen, Z., Zhang, K., Dell, M.: A large dataset of historical japanese documents\\n\\n\\nwith complex layouts. In: Proceedings of the IEEE/CVF Conference on Computer\\n\\n\\nVision and Pattern Recognition Workshops. pp. 548-549 (2020)\\n\\n\\n[32] Shen, Z., Zhao, J., Dell, M., Yu, Y., Li, W.: Olala: Object-level active learning\\n\\n\\nbased layout annotation. arXiv preprint arXiv:2010.01762 (2020)\\n\\n\\n[33] Studer, L., Alberti, M., Pondenkandath, V., Goktepe, P., Kolonko, T., Fischer,\\n\\n\\nA., Liwicki, M., Ingold, R.: A comprehensive study of imagenet pre-training\\n\\n\\nfor\\n\\n\\nhistorical document image analysis. In: 2019 International Conference on Document\\n\\n\\nAnalysis and Recognition (ICDAR). pp. 720-725. IEEE (2019)\\n\\n\\n[34] Wolf, T., Debut, L., Sanh, V., Chaumond, J., Delangue, C., Moi, A., Cistac, P.,\\n\\n\\nRault, T., Louf, R., Funtowicz, M., et al.: Huggingface's transformers: State-of-\\n\\n\\nthe-art natural language processing. arXiv preprint arXiv:1910.03771 (2019)\\n\\n\\n[35] Wu, Y., Kirillov, A., Massa, F., Lo, W.Y., Girshick, R.: Detectron2. https://\\n\\n\\nthub.com/facebookresearch/detectron2 (2019)\\n\\n\\n[36] Xu, Y., Xu, Y., Lv, T., Cui, L., Wei, F., Wang, G., Lu, Y., Florencio, D., Zhang, C.,\\n\\n\\nChe, W., et al.: Layoutlmv2: Multi-modal pre-training for visually-rich document\\n\\n\\nunderstanding. arXiv preprint arXiv:2012.14740 (2020)\\n\\n\\n[37] Xu, Y., Li, M., Cui, L., Huang, S., Wei, F., Zhou, M.: Layoutlm: Pre-training of\\n\\n\\ntext and layout for document image understanding (2019)\\n\\n\\n[38] Zhong, X., Tang, J., Yepes, A.J.: Publaynet: largest dataset ever for doc-\\n\\n\\nument layout analysis. In: 2019 International Conference on Document\\n\\n\\nAnalysis and Recognition (ICDAR). pp. 1015-1022. IEEE (Sep 2019).\\n\\n\\nhttps://doi.org/10.1109/ICDAR.2019.00166\\n\", metadata={'source': 's3://amazon-textract-public-content/langchain/layout-parser-paper.pdf', 'page': 16})]"
      ]
     },
     "execution_count": 38,
     "metadata": {},
     "output_type": "execute_result"
    }
   ],
   "source": [
    "# data - pdf content\n",
    "import boto3\n",
    "from langchain.document_loaders.parsers.pdf import AmazonTextractPDFParser\n",
    "from textractor.data.text_linearization_config import TextLinearizationConfig\n",
    "\n",
    "pdf_path = \"s3://amazon-textract-public-content/langchain/layout-parser-paper.pdf\"\n",
    "\n",
    "parser = AmazonTextractPDFParser(\n",
    "    # textract_features=[\"TABLES\", \"LAYOUT\"], # some issue with tc.Textract_Features(\"TABLES\")\n",
    "    client = boto3.client(\"textract\", region_name=\"us-east-2\"), # us-east-1 gives InvalidS3Objectexception. learning: s3 object and textract region must match\n",
    "    linearization_config=TextLinearizationConfig(\n",
    "        hide_header_layout=True,\n",
    "        hide_footer_layout=True,\n",
    "        hide_figure_layout=True,\n",
    "    ),\n",
    ")\n",
    "\n",
    "blob = Blob.from_path(path=pdf_path)\n",
    "parser.parse(blob=blob)"
   ]
  },
  {
   "cell_type": "code",
   "execution_count": 39,
   "metadata": {},
   "outputs": [
    {
     "name": "stdout",
     "output_type": "stream",
     "text": [
      "Madam Speaker, Madam\n"
     ]
    }
   ],
   "source": [
    "# data - text\n",
    "\n",
    "with open(\"../data/state_of_the_union.txt\") as file:\n",
    "    text_data = file.read()\n",
    "\n",
    "print(text_data[:20])"
   ]
  },
  {
   "cell_type": "code",
   "execution_count": 43,
   "metadata": {},
   "outputs": [],
   "source": [
    "# mime parser for all 3 types of data\n",
    "\n",
    "import magic\n",
    "from langchain.document_loaders.parsers import (\n",
    "    BS4HTMLParser, PDFMinerParser\n",
    ")\n",
    "from langchain.document_loaders.parsers.txt import TextParser\n",
    "from langchain_community.document_loaders import Blob\n",
    "from langchain.document_loaders.parsers.generic import MimeTypeBasedParser\n",
    "\n",
    "pdf_path = \"s3://amazon-textract-public-content/langchain/layout-parser-paper.pdf\"\n",
    "\n",
    "textract_parser = AmazonTextractPDFParser(\n",
    "    # textract_features=[\"TABLES\", \"LAYOUT\"], # some issue with tc.Textract_Features(\"TABLES\")\n",
    "    client = boto3.client(\"textract\", region_name=\"us-east-2\"), # us-east-1 gives InvalidS3Objectexception. learning: s3 object and textract region must match\n",
    "    linearization_config=TextLinearizationConfig(\n",
    "        hide_header_layout=True,\n",
    "        hide_footer_layout=True,\n",
    "        hide_figure_layout=True,\n",
    "    ),\n",
    ")\n",
    "\n",
    "handlers = {\n",
    "    # \"application/pdf\": PDFMinerParser(),\n",
    "    \"application/pdf\": textract_parser,\n",
    "    \"text/plain\": TextParser(),\n",
    "    \"text/html\": BS4HTMLParser(features=\"html.parser\"),\n",
    "}\n",
    "\n",
    "mime_parser = MimeTypeBasedParser(\n",
    "    handlers=handlers,\n",
    "    fallback_parser=None\n",
    ")\n",
    "\n",
    "mime = magic.Magic(mime=True)\n",
    "\n",
    "\n",
    "def parse_data(data=None, mime_type=None, pdf_path=None):\n",
    "    if pdf_path is None:\n",
    "        blob= Blob.from_data(\n",
    "            data=data,\n",
    "            mime_type=mime_type\n",
    "        )\n",
    "        mime_type=mime.from_buffer(data)\n",
    "    else:\n",
    "        blob = Blob.from_path(path=pdf_path)\n",
    "        mime_type = \"application/pdf\"\n",
    "        \n",
    "    parser = handlers[mime_type]\n",
    "    docs = parser.parse(blob=blob)\n",
    "    return docs"
   ]
  },
  {
   "cell_type": "code",
   "execution_count": 46,
   "metadata": {},
   "outputs": [
    {
     "name": "stdout",
     "output_type": "stream",
     "text": [
      "LayoutParser: A Unified Toolkit for Deep\n",
      "\n",
      "\n",
      "Learning Based Document Image Analysis\n",
      "\n",
      "\n",
      "Zejiang Shen¹ (X), Ruochen Zhang2, Melissa Dell³ Benjamin Charles Germain\n",
      "\n",
      "\n",
      "Lee4, Jacob Carlson3 and Weining Li5\n",
      "\n",
      "\n",
      "1\n",
      "\n",
      "\n",
      "Allen Institute for AI\n",
      "\n",
      "\n",
      "shannons@allenai.org\n",
      "\n",
      "\n",
      "2\n",
      "\n",
      "\n",
      "Brown University\n",
      "\n",
      "\n",
      "ruochen_zhang@brown.edu\n",
      "\n",
      "\n",
      "3\n",
      "\n",
      "\n",
      "Harvard University\n",
      "\n",
      "\n",
      "{melissadell,jacobcarlson}@fas.harvard.edu\n",
      "\n",
      "\n",
      "4\n",
      "\n",
      "\n",
      "University of Washington\n",
      "\n",
      "\n",
      "bcgl@cs.washington.edu\n",
      "\n",
      "\n",
      "5\n",
      "\n",
      "\n",
      "University of Waterloo\n",
      "\n",
      "\n",
      "w422li@uwaterloo.ca\n",
      "\n",
      "\n",
      "Abstract. Recent advances in document image analysis (DIA) have been\n",
      "\n",
      "\n",
      "primarily driven by the application of neural networks. Ideally, research\n",
      "\n",
      "\n",
      "outcomes could be easily deployed in production and extended for further\n",
      "\n",
      "\n",
      "investigation. However, various factors like loosely organized codebases\n",
      "\n",
      "\n",
      "and sophisticated model configurations complicate the easy reuse of im-\n",
      "\n",
      "\n",
      "portant innovations by a wide audience. Though there have been on-going\n",
      "\n",
      "\n",
      "efforts to improve reusability and simplify deep learning (DL) model\n",
      "\n",
      "\n",
      "development in disciplines like natural language processing and computer\n",
      "\n",
      "\n",
      "vision, none of them are optimized for challenges in the domain of DIA.\n",
      "\n",
      "\n",
      "This represents a major gap in the existing toolkit, as DIA is central to\n",
      "\n",
      "\n",
      "academic research across a wide range of disciplines in the social sciences\n",
      "\n",
      "\n",
      "and humanities. This paper introduces LayoutParser, an open-source\n",
      "\n",
      "\n",
      "library for streamlining the usage of DL in DIA research and applica-\n",
      "\n",
      "\n",
      "tions. The core LayoutParser library comes with a set of simple and\n",
      "\n",
      "\n",
      "intuitive interfaces for applying and customizing DL models for layout de-\n",
      "\n",
      "\n",
      "tection, character recognition, and many other document processing tasks.\n",
      "\n",
      "\n",
      "To promote extensibility, LayoutParser also incorporates a community\n",
      "\n",
      "\n",
      "platform for sharing both pre-trained models and full document digiti-\n",
      "\n",
      "\n",
      "zation pipelines. We demonstrate that LayoutParser is helpful for both\n",
      "\n",
      "\n",
      "lightweight and large-scale digitization pipelines in real-word use cases.\n",
      "\n",
      "\n",
      "The library is publicly available at https://layout-parser.github.io\n",
      "\n",
      "\n",
      "Keywords: Document Image Analysis . Deep Learning . Layout Analysis\n",
      "\n",
      "\n",
      "Character Recognition . Open Source library . Toolkit.\n",
      "\n",
      "\n",
      "1\n",
      "\n",
      "\n",
      "Introduction\n",
      "\n",
      "\n",
      "Deep Learning(DL)-based approaches are the state-of-the-art for a wide range of\n",
      "\n",
      "\n",
      "document image analysis (DIA) tasks including document image classification [11,\n",
      "\n"
     ]
    }
   ],
   "source": [
    "# docs = parse_data(data=html_data)\n",
    "# docs = parse_data(data=text_data)\n",
    "docs = parse_data(pdf_path=pdf_path)\n",
    "print(docs[0].page_content)"
   ]
  },
  {
   "cell_type": "markdown",
   "metadata": {},
   "source": [
    "### parsing"
   ]
  },
  {
   "cell_type": "code",
   "execution_count": null,
   "metadata": {},
   "outputs": [],
   "source": [
    "# 1. add this below text before {format_instructions} in the prompt\n",
    "# option1: Wrap the output in `json` tags\n",
    "# option2: \"Make sure to wrap the answer in ```json and ``` tags\",\n",
    "\n",
    "# 2. custom parser\n",
    "def extract_json(message: AIMessage) -> List[dict]:\n",
    "    \"\"\"Extracts JSON content from a string where JSON is embedded between ```json and ``` tags.\n",
    "\n",
    "    Parameters:\n",
    "        text (str): The text containing the JSON content.\n",
    "\n",
    "    Returns:\n",
    "        list: A list of extracted JSON strings.\n",
    "    \"\"\"\n",
    "    text = message.content\n",
    "    # Define the regular expression pattern to match JSON blocks\n",
    "    pattern = r\"```json(.*?)```\"\n",
    "\n",
    "    # Find all non-overlapping matches of the pattern in the string\n",
    "    matches = re.findall(pattern, text, re.DOTALL)\n",
    "\n",
    "    # Return the list of matched JSON strings, stripping any leading or trailing whitespace\n",
    "    try:\n",
    "        return [json.loads(match.strip()) for match in matches]\n",
    "    except Exception:\n",
    "        raise ValueError(f\"Failed to parse: {message}\")\n",
    "\n",
    "# 3. Use Kor library"
   ]
  },
  {
   "cell_type": "markdown",
   "metadata": {},
   "source": [
    "### guidelines"
   ]
  },
  {
   "cell_type": "markdown",
   "metadata": {},
   "source": [
    "- set temperature=0\n",
    "- work on prompting\n",
    "    - schema - if too big, try breaking into multiple smaller schemas -> run separate extractions and merge the results\n",
    "    - reference examples - if too many, semantic search get relevant ones\n",
    "- start eval & benchmark early\n",
    "    - use langsmith\n",
    "    - langchain-benchmarks\n",
    "    - aiming for perfect quality -> plan for human in the loop\n",
    "- add verification/correction steps -> ask llms to correct or verify the results\n",
    "- if extracting info from a single structured source, using llm is probably not a good idea -> traditional web-scraping will be much cheaper and reliable."
   ]
  }
 ],
 "metadata": {
  "kernelspec": {
   "display_name": "pytorch",
   "language": "python",
   "name": "python3"
  },
  "language_info": {
   "codemirror_mode": {
    "name": "ipython",
    "version": 3
   },
   "file_extension": ".py",
   "mimetype": "text/x-python",
   "name": "python",
   "nbconvert_exporter": "python",
   "pygments_lexer": "ipython3",
   "version": "3.10.13"
  }
 },
 "nbformat": 4,
 "nbformat_minor": 2
}
