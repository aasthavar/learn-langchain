{
 "cells": [
  {
   "cell_type": "code",
   "execution_count": null,
   "metadata": {},
   "outputs": [],
   "source": [
    "Anthropic github: https://github.com/anthropics/anthropic-tools\n",
    "Anthropic docs: https://docs.anthropic.com/claude/docs/functions-external-tools\n",
    "\n",
    "Langchain: https://python.langchain.com/docs/integrations/chat/anthropic_functions\n",
    "\n"
   ]
  }
 ],
 "metadata": {
  "language_info": {
   "name": "python"
  }
 },
 "nbformat": 4,
 "nbformat_minor": 2
}
